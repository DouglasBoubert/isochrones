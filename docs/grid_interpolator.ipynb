{
 "cells": [
  {
   "cell_type": "markdown",
   "metadata": {},
   "source": [
    "# ModelGridInterpolator\n",
    "\n",
    "In practice, interaction with the model grid and bolometric correction objects is easiest through a `ModelGridInterpolator` object, which brings the two together.  This object is the replacement of the `Isochrone` object from previous generations of this package, though it has a slightly different API.  It is mostly backward compatible, except for the removal of the `.mag` function dictionary for interpolating apparent magnitudes, this being replaced by the `.interp_mag` method."
   ]
  },
  {
   "cell_type": "markdown",
   "metadata": {},
   "source": [
    "## Isochrones"
   ]
  },
  {
   "cell_type": "code",
   "execution_count": null,
   "metadata": {},
   "outputs": [],
   "source": [
    "from isochrones.mist import MIST_Isochrone\n",
    "\n",
    "mist = MIST_Isochrone()"
   ]
  },
  {
   "cell_type": "code",
   "execution_count": null,
   "metadata": {},
   "outputs": [],
   "source": [
    "pars = [353, 9.78, -1.24]  # eep, log(age), feh\n",
    "mist.interp_value(pars, ['mass', 'radius', 'Teff'])"
   ]
  },
  {
   "cell_type": "code",
   "execution_count": null,
   "metadata": {},
   "outputs": [],
   "source": [
    "mist.interp_mag(pars + [200, 0.11], ['K', 'BP', 'RP'])  # Returns Teff, logg, feh, mags"
   ]
  },
  {
   "cell_type": "markdown",
   "metadata": {},
   "source": [
    "## Evolution tracks\n",
    "\n",
    "Note that you can do the same using an evolution track grid rather than an isochrone grid, though it takes different parameters:"
   ]
  },
  {
   "cell_type": "code",
   "execution_count": null,
   "metadata": {},
   "outputs": [],
   "source": [
    "from isochrones.mist import MIST_EvolutionTrack\n",
    "\n",
    "mist_track = MIST_EvolutionTrack()"
   ]
  },
  {
   "cell_type": "code",
   "execution_count": null,
   "metadata": {},
   "outputs": [],
   "source": [
    "pars = [0.794, 353, -1.24]  # mass, eep, feh [matching above]\n",
    "mist_track.interp_value(pars, ['mass', 'radius', 'Teff', 'age'])"
   ]
  },
  {
   "cell_type": "code",
   "execution_count": null,
   "metadata": {},
   "outputs": [],
   "source": [
    "mist_track.interp_mag(pars + [200, 0.11], ['K', 'BP', 'RP'])"
   ]
  },
  {
   "cell_type": "markdown",
   "metadata": {},
   "source": [
    "There are also convenience methods if you prefer (and for backward compatibility---note that the parameters must be unpacked, unlike the calls to `.interp_value` and `.interp_mag`), though it is slower to call multiple of these than to call `.interp_value` once with several desired outputs:"
   ]
  },
  {
   "cell_type": "code",
   "execution_count": null,
   "metadata": {},
   "outputs": [],
   "source": [
    "mist_track.mass(*pars)"
   ]
  },
  {
   "cell_type": "markdown",
   "metadata": {},
   "source": [
    "You can also get the dataframe of a single isochrone (interpolated to any age or metallicity) as follows:"
   ]
  },
  {
   "cell_type": "code",
   "execution_count": null,
   "metadata": {},
   "outputs": [],
   "source": [
    "mist.isochrone(9.53, 0.1).head()  # just show first few rows"
   ]
  },
  {
   "cell_type": "markdown",
   "metadata": {},
   "source": [
    "## Demo: Visualize\n",
    "\n",
    "Now let's make sure that interpolated isochrones fall nicely between ones that are actually part of the grid.  In order to execute this code, you will need to \n",
    "    \n",
    "    conda install -c pyviz pyviz\n",
    "    \n",
    "and to execute in JupyterLab, you will need to\n",
    "\n",
    "    jupyter labextension install @pyviz/jupyterlab_pyviz\n"
   ]
  },
  {
   "cell_type": "code",
   "execution_count": null,
   "metadata": {},
   "outputs": [],
   "source": [
    "import hvplot.pandas\n",
    "\n",
    "iso1 = mist.model_grid.df.xs((9.5, 0.0), level=(0, 1))   # extract subgrid at log_age=9.5, feh=0.0\n",
    "iso2 = mist.model_grid.df.xs((9.5, 0.25), level=(0, 1))  # extract subgrid at log_age=9.5, feh=0.25\n",
    "iso3 = mist.isochrone(9.5, 0.12)  # should be between the other two\n",
    "\n",
    "plot1 = iso1.hvplot.line('logTeff', 'logL', label='[Fe/H] = 0.0') \n",
    "plot2 = iso2.hvplot.line('logTeff', 'logL', label='[Fe/H] = 0.25') \n",
    "plot3 = iso3.hvplot.line('logTeff', 'logL', label='[Fe/H] = 0.12')\n",
    "\n",
    "(plot1 * plot2 * plot3).options(invert_xaxis=True, legend_position='bottom_left')"
   ]
  },
  {
   "cell_type": "code",
   "execution_count": null,
   "metadata": {},
   "outputs": [],
   "source": []
  }
 ],
 "metadata": {
  "kernelspec": {
   "display_name": "Python 3",
   "language": "python",
   "name": "python3"
  },
  "language_info": {
   "codemirror_mode": {
    "name": "ipython",
    "version": 3
   },
   "file_extension": ".py",
   "mimetype": "text/x-python",
   "name": "python",
   "nbconvert_exporter": "python",
   "pygments_lexer": "ipython3",
   "version": "3.6.8"
  }
 },
 "nbformat": 4,
 "nbformat_minor": 2
}
