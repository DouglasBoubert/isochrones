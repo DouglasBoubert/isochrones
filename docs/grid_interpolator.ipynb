{
 "cells": [
  {
   "cell_type": "markdown",
   "metadata": {},
   "source": [
    "# ModelGridInterpolator\n",
    "\n",
    "In practice, interaction with the model grid and bolometric correction objects is easiest through a `ModelGridInterpolator` object, which brings the two together.  This object is the replacement of the `Isochrone` object from previous generations of this package, though it has a slightly different API.  It is mostly backward compatible, except for the removal of the `.mag` function dictionary for interpolating apparent magnitudes, this being replaced by the `.interp_mag` method."
   ]
  },
  {
   "cell_type": "markdown",
   "metadata": {},
   "source": [
    "## Isochrones"
   ]
  },
  {
   "cell_type": "markdown",
   "metadata": {},
   "source": [
    "An `IsochroneInterpolator` object takes `[EEP, log(age), feh]` as parameters."
   ]
  },
  {
   "cell_type": "code",
   "execution_count": null,
   "metadata": {},
   "outputs": [],
   "source": [
    "from isochrones.mist import MIST_Isochrone\n",
    "\n",
    "mist = MIST_Isochrone()\n",
    "\n",
    "pars = [353, 9.78, -1.24]  # eep, log(age), feh\n",
    "mist.interp_value(pars, ['mass', 'radius', 'Teff'])"
   ]
  },
  {
   "cell_type": "markdown",
   "metadata": {},
   "source": [
    "To interpolate apparent magnitudes, add distance [pc] and $A_V$ extinction as parameters."
   ]
  },
  {
   "cell_type": "code",
   "execution_count": null,
   "metadata": {},
   "outputs": [],
   "source": [
    "mist.interp_mag(pars + [200, 0.11], ['K', 'BP', 'RP'])  # Returns Teff, logg, feh, mags"
   ]
  },
  {
   "cell_type": "markdown",
   "metadata": {},
   "source": [
    "## Evolution tracks\n",
    "\n",
    "Note that you can do the same using an `EvolutionTrackInterpolator` rather than an isochrone grid, using `[mass, EEP, feh]` as parameters:"
   ]
  },
  {
   "cell_type": "code",
   "execution_count": null,
   "metadata": {},
   "outputs": [],
   "source": [
    "from isochrones.mist import MIST_EvolutionTrack\n",
    "\n",
    "mist_track = MIST_EvolutionTrack()\n",
    "\n",
    "pars = [0.794, 353, -1.24]  # mass, eep, feh [matching above]\n",
    "mist_track.interp_value(pars, ['mass', 'radius', 'Teff', 'age'])"
   ]
  },
  {
   "cell_type": "code",
   "execution_count": null,
   "metadata": {},
   "outputs": [],
   "source": [
    "mist_track.interp_mag(pars + [200, 0.11], ['K', 'BP', 'RP'])"
   ]
  },
  {
   "cell_type": "markdown",
   "metadata": {},
   "source": [
    "There are also convenience methods (for both isochrones and tracks) if you prefer (and for backward compatibility---note that the parameters must be unpacked, unlike the calls to `.interp_value` and `.interp_mag`), though it is slower to call multiple of these than to call `.interp_value` once with several desired outputs:"
   ]
  },
  {
   "cell_type": "code",
   "execution_count": null,
   "metadata": {},
   "outputs": [],
   "source": [
    "mist_track.mass(*pars)"
   ]
  },
  {
   "cell_type": "markdown",
   "metadata": {},
   "source": [
    "You can also get the dataframe of a single isochrone (interpolated to any age or metallicity) as follows:"
   ]
  },
  {
   "cell_type": "code",
   "execution_count": null,
   "metadata": {},
   "outputs": [],
   "source": [
    "mist.isochrone(9.53, 0.1).head()  # just show first few rows"
   ]
  },
  {
   "cell_type": "markdown",
   "metadata": {},
   "source": [
    "## Generating synthetic properties\n",
    "\n",
    "Often one wants to use stellar model grids to generate synthetic properties of stars.  This can be done in a couple different ways, depending on what information you are able to provide.  If you happen to have EEP values, you can use the fact that a `ModelGridInterpolator` is callable.  Note that it takes the same parameters as all the other interpolation calls, with `distance` and `AV` as optional keyword parameters."
   ]
  },
  {
   "cell_type": "code",
   "execution_count": null,
   "metadata": {},
   "outputs": [],
   "source": [
    "from isochrones.mist import MIST_EvolutionTrack\n",
    "\n",
    "mist_track = MIST_EvolutionTrack()\n",
    "mist_track([0.8, 0.9, 1.0], 350, 0.0, distance=100, AV=0.1)"
   ]
  },
  {
   "cell_type": "markdown",
   "metadata": {},
   "source": [
    "Often, however, you will not know the EEP values at which you wish to simulate your synthetic population.  In this case, you can use the `.generate()` method.  Note that this only works for `EvolutionTrackInterpolator`, not `IsochroneInterpolator`."
   ]
  },
  {
   "cell_type": "code",
   "execution_count": null,
   "metadata": {},
   "outputs": [],
   "source": [
    "mist_track.generate([0.81, 0.91, 1.01], 9.51, 0.01)"
   ]
  },
  {
   "cell_type": "markdown",
   "metadata": {},
   "source": [
    "Under the hood, `.generate()` uses an interpolation step to approximate the eep value(s) corresponding to the requested value(s) of mass, age, and metallicity:"
   ]
  },
  {
   "cell_type": "code",
   "execution_count": null,
   "metadata": {},
   "outputs": [],
   "source": [
    "mist_track.get_eep(1.01, 9.51, 0.01)"
   ]
  },
  {
   "cell_type": "markdown",
   "metadata": {},
   "source": [
    "Because this is fast, it is pretty inexpensive to generate a population of stars with given properties:"
   ]
  },
  {
   "cell_type": "code",
   "execution_count": null,
   "metadata": {},
   "outputs": [],
   "source": [
    "import numpy as np\n",
    "\n",
    "N = 10000\n",
    "mass = np.ones(N) * 1.01\n",
    "age = np.ones(N) * 9.82\n",
    "feh = np.ones(N) * 0.02\n",
    "%timeit mist_track.generate(mass, age, feh)"
   ]
  },
  {
   "cell_type": "markdown",
   "metadata": {},
   "source": [
    "Note though, that this interpolation doesn't do great for evolved stars (this is the fundamental reason why **isochrones** always fits with EEP as one of the parameters).  However, if you do want to compute more precise EEP values for given physical properties, you can set the `accurate` keyword parameter, which performs a function minimization:"
   ]
  },
  {
   "cell_type": "code",
   "execution_count": null,
   "metadata": {},
   "outputs": [],
   "source": [
    "mist_track.get_eep(1.01, 9.51, 0.01, accurate=True)"
   ]
  },
  {
   "cell_type": "markdown",
   "metadata": {},
   "source": [
    "This is more accurate, but slow because it is actually performing a function minimization:"
   ]
  },
  {
   "cell_type": "code",
   "execution_count": null,
   "metadata": {},
   "outputs": [],
   "source": [
    "%timeit mist_track.get_eep(1.01, 9.51, 0.01, accurate=True)\n",
    "%timeit mist_track.get_eep(1.01, 9.51, 0.01)"
   ]
  },
  {
   "cell_type": "markdown",
   "metadata": {},
   "source": [
    "Here we can see the effect of accuracy by plugging back in the estimated EEP into the interpolation:"
   ]
  },
  {
   "cell_type": "code",
   "execution_count": null,
   "metadata": {},
   "outputs": [],
   "source": [
    "[mist_track.interp_value([1.01, e, 0.01], ['age']) for e in [343.8, 343.1963539123535]]"
   ]
  },
  {
   "cell_type": "markdown",
   "metadata": {},
   "source": [
    "So if accuracy is required, definitely use `accurate=True`, but for most purposes, the default should be fine.  You can request that `.generate()` run in \"accurate\" mode, which uses this more expensive EEP computation (it will be correspondingly slower)."
   ]
  },
  {
   "cell_type": "code",
   "execution_count": null,
   "metadata": {},
   "outputs": [],
   "source": [
    "mist_track.generate([0.81, 0.91, 1.01], 9.51, 0.01, accurate=True)"
   ]
  },
  {
   "cell_type": "markdown",
   "metadata": {},
   "source": [
    "Just for curiosity, let's look at the difference in the predictions:"
   ]
  },
  {
   "cell_type": "code",
   "execution_count": null,
   "metadata": {},
   "outputs": [],
   "source": [
    "df0 = mist_track.generate([0.81, 0.91, 1.01], 9.51, 0.01, accurate=True)\n",
    "df1 = mist_track.generate([0.81, 0.91, 1.01], 9.51, 0.01)\n",
    "((df1 - df0) / df0).mean()"
   ]
  },
  {
   "cell_type": "markdown",
   "metadata": {},
   "source": [
    "Not too bad, for this example!  "
   ]
  },
  {
   "cell_type": "markdown",
   "metadata": {},
   "source": [
    "## Demo: Visualize\n",
    "\n",
    "Now let's make sure that interpolated isochrones fall nicely between ones that are actually part of the grid.  In order to execute this code, you will need to \n",
    "    \n",
    "    conda install -c pyviz pyviz\n",
    "    \n",
    "and to execute in JupyterLab, you will need to\n",
    "\n",
    "    jupyter labextension install @pyviz/jupyterlab_pyviz\n"
   ]
  },
  {
   "cell_type": "code",
   "execution_count": null,
   "metadata": {},
   "outputs": [],
   "source": [
    "import hvplot.pandas\n",
    "\n",
    "iso1 = mist.model_grid.df.xs((9.5, 0.0), level=(0, 1))   # extract subgrid at log_age=9.5, feh=0.0\n",
    "iso2 = mist.model_grid.df.xs((9.5, 0.25), level=(0, 1))  # extract subgrid at log_age=9.5, feh=0.25\n",
    "iso3 = mist.isochrone(9.5, 0.12)  # should be between the other two\n",
    "\n",
    "plot1 = iso1.hvplot.line('logTeff', 'logL', label='[Fe/H] = 0.0') \n",
    "plot2 = iso2.hvplot.line('logTeff', 'logL', label='[Fe/H] = 0.25') \n",
    "plot3 = iso3.hvplot.line('logTeff', 'logL', label='[Fe/H] = 0.12')\n",
    "\n",
    "(plot1 * plot2 * plot3).options(invert_xaxis=True, legend_position='bottom_left', width=600)"
   ]
  },
  {
   "cell_type": "code",
   "execution_count": null,
   "metadata": {},
   "outputs": [],
   "source": []
  }
 ],
 "metadata": {
  "kernelspec": {
   "display_name": "Python 3",
   "language": "python",
   "name": "python3"
  },
  "language_info": {
   "codemirror_mode": {
    "name": "ipython",
    "version": 3
   },
   "file_extension": ".py",
   "mimetype": "text/x-python",
   "name": "python",
   "nbconvert_exporter": "python",
   "pygments_lexer": "ipython3",
   "version": "3.6.8"
  }
 },
 "nbformat": 4,
 "nbformat_minor": 2
}
