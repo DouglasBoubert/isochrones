{
 "cells": [
  {
   "cell_type": "markdown",
   "metadata": {},
   "source": [
    "# Multiple star systems\n",
    "\n",
    "One of the signature capabilities of **isochrones** is the ability to fit multiple star systems to observational data.  This works by providing a `StarModel` with more detailed information about the observational data, and about how many stars you wish to fit.  There are several layers of potential intricacy here, which we will walk through in stages.\n",
    "\n",
    "## Unresolved multiple system\n",
    "\n",
    "Often it is of interest to know what potential binary star configurations are consistent with observations of a star.  For most stars the best available observational data is a combination of broadband magnitudes from various all-sky catalogs and parallax measurements from *Gaia*.  Let's first generate synthetic observations of such a star, and then see what we can recover with a binary star model, and also what inference under a single star model would tell us.\n",
    "\n",
    "First, we will initialize the isochrone interpolator.  Note that we actually *require* the isochrone interpolator here, rather than the evolution track interpolator, because the model requires the primary and secondary components to have the same age, so that age must be a sampling paramter."
   ]
  },
  {
   "cell_type": "code",
   "execution_count": 1,
   "metadata": {},
   "outputs": [],
   "source": [
    "from isochrones import get_ichrone\n",
    "\n",
    "mist = get_ichrone('mist')"
   ]
  },
  {
   "cell_type": "markdown",
   "metadata": {},
   "source": [
    "Now, define the \"true\" system parameters and initialize the `StarModel` accordingly, with two model stars.  Remember that even though we need to use an isochrone interpolator to fit the model, we have to use the evolution tracks to generate synthetic data; this here shows that you can actually do this by using the `.track` complementary attribute.  Note also the use of the utility function `addmags` to combine the magnitudes of the two stars."
   ]
  },
  {
   "cell_type": "code",
   "execution_count": 2,
   "metadata": {},
   "outputs": [],
   "source": [
    "from isochrones import StarModel\n",
    "from isochrones.utils import addmags\n",
    "\n",
    "distance = 500  # pc\n",
    "AV = 0.2\n",
    "mass_A = 1.0\n",
    "mass_B = 0.5\n",
    "age = 9.6\n",
    "feh = 0.0\n",
    "\n",
    "# Synthetic 2MASS and Gaia magnitudes\n",
    "bands = ['J', 'H', 'K', 'BP', 'RP', 'G']\n",
    "props_A = mist.track.generate(mass_A, age, feh, distance=distance, AV=AV, \n",
    "                              bands=bands, return_dict=True, accurate=True)\n",
    "props_B = mist.track.generate(mass_B, age, feh, distance=distance, AV=AV, \n",
    "                              bands=bands, return_dict=True, accurate=True)\n",
    "\n",
    "unc = dict(J=0.02, H=0.02, K=0.02, BP=0.002, RP=0.002, G=0.001)\n",
    "mags_tot = {b: (addmags(props_A[b], props_B[b]), unc[b]) for b in bands}\n",
    "\n",
    "# Gaia parallax in mas for a system at 500 pc\n",
    "parallax = (2, 0.05)\n",
    "\n",
    "mod_binary = StarModel(mist, **mags_tot, parallax=parallax, N=2, name='demo_binary')"
   ]
  },
  {
   "cell_type": "markdown",
   "metadata": {},
   "source": [
    "Note here that the only difference from defining the single `StarModel` in previous examples is passing the `N=2` keyword.  This means that the model now has two stars that is part of the model, and that they both contribute to the likelihood of the observed broadband magnitude data.  The structure of the model can be visualized as follows:"
   ]
  },
  {
   "cell_type": "code",
   "execution_count": 3,
   "metadata": {},
   "outputs": [
    {
     "name": "stdout",
     "output_type": "stream",
     "text": [
      "root\n",
      " ╚═  J=(12.11, 0.02) @(0.00, 0 [99.00])\n",
      "    ╚═  H=(11.74, 0.02) @(0.00, 0 [99.00])\n",
      "       ╚═  K=(11.68, 0.02) @(0.00, 0 [99.00])\n",
      "          ╚═  BP=(13.61, 0.00) @(0.00, 0 [99.00])\n",
      "             ╚═  RP=(12.72, 0.00) @(0.00, 0 [99.00])\n",
      "                ╚═  G=(13.25, 0.00) @(0.00, 0 [99.00])\n",
      "                   ╠═ 0_0, parallax=(2, 0.05)\n",
      "                   ╚═ 0_1, parallax=(2, 0.05)\n"
     ]
    }
   ],
   "source": [
    "mod_binary.print_ascii()"
   ]
  },
  {
   "cell_type": "markdown",
   "metadata": {},
   "source": [
    "Inspecting this tree to make sure it accurately represents the desired model becomes more important if the model is more complicated, but this simple case is a good example to review.  Each node named with a bandpass represents an observation, with some magnitude and uncertainty (at some separatrion and position angle---irrelevant for the unresolved case).  The model nodes here are named `0_0` and `0_1`, with the first index representing the system, and the second index the star number within that system.  All stars in the same system share the same age, metallicity, distance, and extinction.  In the computation of the likelihood, the apparent magnitude in each observed node is compared with a model-based magnitude that is computed from the *sum of the fluxes of all model nodes underneath that observed node in the tree*.  In the unresolved case, this is trivial, but this structure becomes important when a binary is resolved.  This model, because the two model stars share all attributes except mass, has the following parameters:"
   ]
  },
  {
   "cell_type": "code",
   "execution_count": 4,
   "metadata": {},
   "outputs": [
    {
     "data": {
      "text/plain": [
       "['eep_0_0', 'eep_0_1', 'age_0', 'feh_0', 'distance_0', 'AV_0']"
      ]
     },
     "execution_count": 4,
     "metadata": {},
     "output_type": "execute_result"
    }
   ],
   "source": [
    "mod_binary.param_names"
   ]
  },
  {
   "cell_type": "markdown",
   "metadata": {},
   "source": [
    "Let's test out the posterior computation, and then run a fit to see if we can recover the true parameters."
   ]
  },
  {
   "cell_type": "code",
   "execution_count": 5,
   "metadata": {},
   "outputs": [
    {
     "name": "stdout",
     "output_type": "stream",
     "text": [
      "-645762.0097735347\n",
      "1000 loops, best of 3: 440 µs per loop\n"
     ]
    }
   ],
   "source": [
    "pars = [350, 300, 9.7, 0.0, 300, 0.1]\n",
    "print(mod_binary.lnpost(pars))\n",
    "%timeit mod_binary.lnpost(pars)"
   ]
  },
  {
   "cell_type": "code",
   "execution_count": null,
   "metadata": {},
   "outputs": [],
   "source": [
    "mod_binary.fit()"
   ]
  },
  {
   "cell_type": "code",
   "execution_count": null,
   "metadata": {},
   "outputs": [],
   "source": [
    "%matplotlib inline\n",
    "\n",
    "columns = ['mass_0_0', 'mass_0_1', 'age_0', 'feh_0', 'distance_0', 'AV_0']\n",
    "truths = [mass_A, mass_B, age, feh, distance, AV]\n",
    "mod_binary.corner(columns, truths=truths);"
   ]
  },
  {
   "cell_type": "markdown",
   "metadata": {},
   "source": [
    "Looks like this recovers the injected parameters pretty well, though not exactly.  It looks like the flat-linear age prior (which weights the fit significantly to older ages) is biasing the masses somewhat low.  Let's explore what happens if we change the prior and try again."
   ]
  },
  {
   "cell_type": "code",
   "execution_count": null,
   "metadata": {},
   "outputs": [],
   "source": [
    "from isochrones.priors import FlatPrior\n",
    "mod_binary_2 = StarModel(mist, **mags_tot, parallax=parallax, N=2, name='demo_binary_2')\n",
    "mod_binary_2.set_prior(age=FlatPrior((8, 10)))\n",
    "mod_binary_2.fit()"
   ]
  },
  {
   "cell_type": "code",
   "execution_count": null,
   "metadata": {},
   "outputs": [],
   "source": [
    "mod_binary_2.corner(columns, truths=truths);"
   ]
  },
  {
   "cell_type": "markdown",
   "metadata": {},
   "source": [
    "Curious!  It finds a multimodel distribution that seems to straddle the true parameters.  Very curious."
   ]
  },
  {
   "cell_type": "code",
   "execution_count": null,
   "metadata": {},
   "outputs": [],
   "source": [
    "eep_A = mist.track.get_eep(mass_A, age, feh, accurate=True)\n",
    "eep_B = mist.track.get_eep(mass_B, age, feh, accurate=True)\n",
    "true_pars = [eep_A, eep_B, age, feh, distance, AV]\n",
    "mod_binary_2.lnprior(true_pars), mod_binary_2.lnlike(true_pars)"
   ]
  },
  {
   "cell_type": "code",
   "execution_count": null,
   "metadata": {},
   "outputs": [],
   "source": [
    "true_pars"
   ]
  },
  {
   "cell_type": "code",
   "execution_count": null,
   "metadata": {},
   "outputs": [],
   "source": [
    "mod_binary_2.corner_physical();"
   ]
  },
  {
   "cell_type": "markdown",
   "metadata": {},
   "source": [
    "OK, what about a soft prior around the true age?"
   ]
  },
  {
   "cell_type": "code",
   "execution_count": 1,
   "metadata": {},
   "outputs": [
    {
     "ename": "NameError",
     "evalue": "name 'StarModel' is not defined",
     "output_type": "error",
     "traceback": [
      "\u001b[0;31m---------------------------------------------------------------------------\u001b[0m",
      "\u001b[0;31mNameError\u001b[0m                                 Traceback (most recent call last)",
      "\u001b[0;32m<ipython-input-1-793974fc0e0a>\u001b[0m in \u001b[0;36m<module>\u001b[0;34m()\u001b[0m\n\u001b[1;32m      1\u001b[0m \u001b[0;32mfrom\u001b[0m \u001b[0misochrones\u001b[0m\u001b[0;34m.\u001b[0m\u001b[0mpriors\u001b[0m \u001b[0;32mimport\u001b[0m \u001b[0mGaussianPrior\u001b[0m\u001b[0;34m\u001b[0m\u001b[0;34m\u001b[0m\u001b[0m\n\u001b[1;32m      2\u001b[0m \u001b[0;34m\u001b[0m\u001b[0m\n\u001b[0;32m----> 3\u001b[0;31m \u001b[0mmod_binary_3\u001b[0m \u001b[0;34m=\u001b[0m \u001b[0mStarModel\u001b[0m\u001b[0;34m(\u001b[0m\u001b[0mmist\u001b[0m\u001b[0;34m,\u001b[0m \u001b[0;34m**\u001b[0m\u001b[0mmags_tot\u001b[0m\u001b[0;34m,\u001b[0m \u001b[0mparallax\u001b[0m\u001b[0;34m=\u001b[0m\u001b[0mparallax\u001b[0m\u001b[0;34m,\u001b[0m \u001b[0mN\u001b[0m\u001b[0;34m=\u001b[0m\u001b[0;36m2\u001b[0m\u001b[0;34m,\u001b[0m \u001b[0mname\u001b[0m\u001b[0;34m=\u001b[0m\u001b[0;34m'demo_binary_3'\u001b[0m\u001b[0;34m)\u001b[0m\u001b[0;34m\u001b[0m\u001b[0;34m\u001b[0m\u001b[0m\n\u001b[0m\u001b[1;32m      4\u001b[0m \u001b[0mmod_binary_3\u001b[0m\u001b[0;34m.\u001b[0m\u001b[0mset_prior\u001b[0m\u001b[0;34m(\u001b[0m\u001b[0mage\u001b[0m\u001b[0;34m=\u001b[0m\u001b[0mGaussianPrior\u001b[0m\u001b[0;34m(\u001b[0m\u001b[0;36m9.6\u001b[0m\u001b[0;34m,\u001b[0m \u001b[0;36m1\u001b[0m\u001b[0;34m)\u001b[0m\u001b[0;34m)\u001b[0m\u001b[0;34m\u001b[0m\u001b[0;34m\u001b[0m\u001b[0m\n",
      "\u001b[0;31mNameError\u001b[0m: name 'StarModel' is not defined"
     ]
    }
   ],
   "source": [
    "from isochrones.priors import GaussianPrior\n",
    "\n",
    "mod_binary_3 = StarModel(mist, **mags_tot, parallax=parallax, N=2, name='demo_binary_3')\n",
    "mod_binary_3.set_prior(age=GaussianPrior(9.6, 1))"
   ]
  },
  {
   "cell_type": "code",
   "execution_count": null,
   "metadata": {},
   "outputs": [],
   "source": [
    "mod_binary_3.fit()"
   ]
  },
  {
   "cell_type": "code",
   "execution_count": null,
   "metadata": {},
   "outputs": [],
   "source": [
    "trial_pars = [320, 260, 9.0, 0.0, 500, 0.2]"
   ]
  },
  {
   "cell_type": "code",
   "execution_count": null,
   "metadata": {},
   "outputs": [],
   "source": [
    "mod_binary_2.lnprior(true_pars), mod_binary_2.lnlike(true_pars)"
   ]
  },
  {
   "cell_type": "code",
   "execution_count": null,
   "metadata": {},
   "outputs": [],
   "source": [
    "mod_binary_2.lnprior(trial_pars), mod_binary_2.lnlike(trial_pars)"
   ]
  },
  {
   "cell_type": "code",
   "execution_count": null,
   "metadata": {},
   "outputs": [],
   "source": []
  }
 ],
 "metadata": {
  "kernelspec": {
   "display_name": "Python 3",
   "language": "python",
   "name": "python3"
  },
  "language_info": {
   "codemirror_mode": {
    "name": "ipython",
    "version": 3
   },
   "file_extension": ".py",
   "mimetype": "text/x-python",
   "name": "python",
   "nbconvert_exporter": "python",
   "pygments_lexer": "ipython3",
   "version": "3.6.8"
  }
 },
 "nbformat": 4,
 "nbformat_minor": 2
}
