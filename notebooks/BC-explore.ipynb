{
 "cells": [
  {
   "cell_type": "code",
   "execution_count": null,
   "metadata": {},
   "outputs": [],
   "source": [
    "from isochrones import StarModel, get_ichrone"
   ]
  },
  {
   "cell_type": "code",
   "execution_count": null,
   "metadata": {},
   "outputs": [],
   "source": [
    "mist = get_ichrone('mist')\n",
    "\n",
    "props = dict(Teff=(5800, 100), logg=(4.5, 0.1),\n",
    "             J=(3.58,0.05), K=(3.22, 0.05))\n",
    "\n",
    "mod = StarModel(mist, **props)"
   ]
  },
  {
   "cell_type": "code",
   "execution_count": null,
   "metadata": {},
   "outputs": [],
   "source": [
    "mod._bounds"
   ]
  },
  {
   "cell_type": "code",
   "execution_count": null,
   "metadata": {},
   "outputs": [],
   "source": [
    "mod.bounds('age')"
   ]
  },
  {
   "cell_type": "code",
   "execution_count": null,
   "metadata": {},
   "outputs": [],
   "source": [
    "mod.bounds('feh')"
   ]
  },
  {
   "cell_type": "code",
   "execution_count": null,
   "metadata": {},
   "outputs": [],
   "source": [
    "mod._priors['feh'].bounds"
   ]
  },
  {
   "cell_type": "code",
   "execution_count": null,
   "metadata": {},
   "outputs": [],
   "source": [
    "from isochrones.priors import feh_prior"
   ]
  },
  {
   "cell_type": "code",
   "execution_count": null,
   "metadata": {},
   "outputs": [],
   "source": [
    "for i in range(1000):\n",
    "    feh_prior.test_integral()"
   ]
  },
  {
   "cell_type": "code",
   "execution_count": null,
   "metadata": {},
   "outputs": [],
   "source": []
  },
  {
   "cell_type": "code",
   "execution_count": null,
   "metadata": {},
   "outputs": [],
   "source": [
    "from isochrones import get_ichrone\n",
    "\n",
    "mist = get_ichrone('mist')"
   ]
  },
  {
   "cell_type": "code",
   "execution_count": null,
   "metadata": {},
   "outputs": [],
   "source": [
    "mist.initialize()"
   ]
  },
  {
   "cell_type": "code",
   "execution_count": null,
   "metadata": {},
   "outputs": [],
   "source": [
    "mist.get_eep(2.0499395202970088, 5.25942144066161, -2.7254562821409767)"
   ]
  },
  {
   "cell_type": "code",
   "execution_count": null,
   "metadata": {},
   "outputs": [],
   "source": [
    "mist.interp_value([375, 9.55, -2.01], ['mass'])"
   ]
  },
  {
   "cell_type": "code",
   "execution_count": null,
   "metadata": {},
   "outputs": [],
   "source": [
    "mist.interp_value([376, 9.55, -2.01], ['mass'])"
   ]
  },
  {
   "cell_type": "code",
   "execution_count": null,
   "metadata": {},
   "outputs": [],
   "source": [
    "mist.model_grid.df.head()"
   ]
  },
  {
   "cell_type": "code",
   "execution_count": null,
   "metadata": {},
   "outputs": [],
   "source": [
    "mist.model_grid.df.xs(-2.5, level=1).query('374 < eep < 378 and 9.5 <= age <= 9.6')"
   ]
  },
  {
   "cell_type": "code",
   "execution_count": null,
   "metadata": {},
   "outputs": [],
   "source": [
    "mist.model_grid.df.xs((9.55, 376), level=(0, 2))"
   ]
  },
  {
   "cell_type": "code",
   "execution_count": null,
   "metadata": {},
   "outputs": [],
   "source": [
    "mist.ages"
   ]
  },
  {
   "cell_type": "code",
   "execution_count": null,
   "metadata": {},
   "outputs": [],
   "source": [
    "mist.model_grid"
   ]
  },
  {
   "cell_type": "code",
   "execution_count": null,
   "metadata": {},
   "outputs": [],
   "source": [
    "mist.initial_mass(1200.76272583, 9.241634540264647, -2.5023077952677317)"
   ]
  },
  {
   "cell_type": "code",
   "execution_count": null,
   "metadata": {},
   "outputs": [],
   "source": [
    "mist.interp_value([770, 9.1745, -3.55], ['mass'])"
   ]
  },
  {
   "cell_type": "code",
   "execution_count": null,
   "metadata": {},
   "outputs": [],
   "source": [
    "eeps_to_try = (100, 800, 400)"
   ]
  },
  {
   "cell_type": "code",
   "execution_count": null,
   "metadata": {},
   "outputs": [],
   "source": [
    "eeps_to_try.pop()"
   ]
  },
  {
   "cell_type": "code",
   "execution_count": null,
   "metadata": {},
   "outputs": [],
   "source": [
    "eeps_to_try"
   ]
  },
  {
   "cell_type": "code",
   "execution_count": null,
   "metadata": {},
   "outputs": [],
   "source": [
    "from isochrones import StarModel"
   ]
  },
  {
   "cell_type": "code",
   "execution_count": null,
   "metadata": {},
   "outputs": [],
   "source": [
    "mod = StarModel(mist, logg=(4.44, 0.1), feh=(0.0, 0.1))"
   ]
  },
  {
   "cell_type": "code",
   "execution_count": null,
   "metadata": {},
   "outputs": [],
   "source": [
    "mod.bands"
   ]
  },
  {
   "cell_type": "code",
   "execution_count": null,
   "metadata": {},
   "outputs": [],
   "source": [
    "mod.obs.get_obs_nodes()"
   ]
  },
  {
   "cell_type": "code",
   "execution_count": null,
   "metadata": {},
   "outputs": [],
   "source": [
    "mist.logg()"
   ]
  },
  {
   "cell_type": "code",
   "execution_count": null,
   "metadata": {},
   "outputs": [],
   "source": [
    "mist.isochrone(9.6)"
   ]
  },
  {
   "cell_type": "code",
   "execution_count": null,
   "metadata": {},
   "outputs": [],
   "source": [
    "mist.get_eep"
   ]
  },
  {
   "cell_type": "code",
   "execution_count": null,
   "metadata": {},
   "outputs": [],
   "source": [
    "mist.model_grid.bounds"
   ]
  },
  {
   "cell_type": "code",
   "execution_count": null,
   "metadata": {},
   "outputs": [],
   "source": [
    "mist.logg(700, 9.3, -0.03)"
   ]
  },
  {
   "cell_type": "code",
   "execution_count": null,
   "metadata": {},
   "outputs": [],
   "source": [
    "mist.model_grid.df.sample(10)"
   ]
  },
  {
   "cell_type": "code",
   "execution_count": null,
   "metadata": {},
   "outputs": [],
   "source": [
    "mist.model_grid.df.loc[(7.55, -1.75, 632)].logg"
   ]
  },
  {
   "cell_type": "code",
   "execution_count": null,
   "metadata": {},
   "outputs": [],
   "source": [
    "from isochrones.priors import feh_prior"
   ]
  },
  {
   "cell_type": "code",
   "execution_count": null,
   "metadata": {},
   "outputs": [],
   "source": [
    "feh_prior.test_integral()"
   ]
  },
  {
   "cell_type": "code",
   "execution_count": null,
   "metadata": {},
   "outputs": [],
   "source": [
    "feh_prior.test_sampling()"
   ]
  },
  {
   "cell_type": "code",
   "execution_count": null,
   "metadata": {},
   "outputs": [],
   "source": [
    "from isochrones.tests.test_ini import test_ini\n",
    "\n",
    "test_ini()"
   ]
  },
  {
   "cell_type": "code",
   "execution_count": null,
   "metadata": {},
   "outputs": [],
   "source": [
    "from isochrones import get_ichrone, StarModel\n",
    "from isochrones.starmodel import BasicStarModel\n",
    "\n",
    "mist = get_ichrone('mist')"
   ]
  },
  {
   "cell_type": "code",
   "execution_count": null,
   "metadata": {},
   "outputs": [],
   "source": [
    "ls ../isochrones/tests"
   ]
  },
  {
   "cell_type": "code",
   "execution_count": null,
   "metadata": {},
   "outputs": [],
   "source": [
    "from isochrones import BinaryStarModel\n",
    "\n",
    "mod = BinaryStarModel.from_ini(mist, '../isochrones/tests/star2')"
   ]
  },
  {
   "cell_type": "code",
   "execution_count": null,
   "metadata": {},
   "outputs": [],
   "source": [
    "mod.print_ascii()"
   ]
  },
  {
   "cell_type": "code",
   "execution_count": null,
   "metadata": {},
   "outputs": [],
   "source": [
    "import os\n",
    "\n",
    "for d in ['star1', 'star2', 'star3', 'star4']:\n",
    "    print(d)\n",
    "    mod = StarModel.from_ini(mist, os.path.join('..', 'isochrones', 'tests', d))\n",
    "    mod.print_ascii()\n",
    "\n",
    "    import numpy as np\n",
    "    print(np.isnan(mod.emcee_p0(10)).sum())"
   ]
  },
  {
   "cell_type": "code",
   "execution_count": null,
   "metadata": {},
   "outputs": [],
   "source": [
    "from isochrones.mist import MIST_Isochrone\n",
    "from isochrones import StarModel, get_ichrone\n",
    "bands = [\"B\", \"V\", \"J\", \"H\", \"K\"]\n",
    "mist = get_ichrone(\"mist\", bands=bands)"
   ]
  },
  {
   "cell_type": "code",
   "execution_count": null,
   "metadata": {},
   "outputs": [],
   "source": [
    "import pandas as pd\n",
    "\n",
    "iso_params = pd.DataFrame(dict(Teff=(5770, 10), logg=(4.45, 0.05), B=(10, 0.02), V=(9.6, 0.02)))\n",
    "mod = StarModel(mist, **iso_params)\n",
    "\n",
    "pars = [300, 9.7, 0.0, 200, 0.1]\n",
    "mod.lnlike(pars)"
   ]
  },
  {
   "cell_type": "code",
   "execution_count": null,
   "metadata": {},
   "outputs": [],
   "source": [
    "mod.lnprior(pars)"
   ]
  },
  {
   "cell_type": "code",
   "execution_count": null,
   "metadata": {},
   "outputs": [],
   "source": [
    "import holoviews as hv\n",
    "import hvplot.pandas\n",
    "hv.extension('bokeh')"
   ]
  },
  {
   "cell_type": "code",
   "execution_count": null,
   "metadata": {},
   "outputs": [],
   "source": [
    "from isochrones import get_ichrone\n",
    "\n",
    "iso = get_ichrone('mist')\n",
    "track = get_ichrone('mist', tracks=True)"
   ]
  },
  {
   "cell_type": "code",
   "execution_count": null,
   "metadata": {},
   "outputs": [],
   "source": [
    "iso.model_grid.interp_orig.grid.shape"
   ]
  },
  {
   "cell_type": "code",
   "execution_count": null,
   "metadata": {},
   "outputs": [],
   "source": [
    "%timeit iso.model_grid.interp([9.76, 0.0, 320], ['logg'])"
   ]
  },
  {
   "cell_type": "code",
   "execution_count": null,
   "metadata": {},
   "outputs": [],
   "source": [
    "%timeit iso.model_grid.interp_orig([9.76, 0.0, 320], ['max_conv_vel_div_csound'])"
   ]
  },
  {
   "cell_type": "code",
   "execution_count": null,
   "metadata": {},
   "outputs": [],
   "source": [
    "import re\n",
    "[print(c) for c in iso.model_grid.df_orig.columns if re.search('conv', c)]"
   ]
  },
  {
   "cell_type": "code",
   "execution_count": null,
   "metadata": {},
   "outputs": [],
   "source": [
    "store.close()"
   ]
  },
  {
   "cell_type": "code",
   "execution_count": null,
   "metadata": {},
   "outputs": [],
   "source": [
    "iso.model_grid.read_hdf(orig=True)"
   ]
  },
  {
   "cell_type": "code",
   "execution_count": null,
   "metadata": {},
   "outputs": [],
   "source": [
    "import pandas as pd\n",
    "\n",
    "store = pd.HDFStore(iso.model_grid.hdf_filename)\n",
    "store"
   ]
  },
  {
   "cell_type": "code",
   "execution_count": null,
   "metadata": {},
   "outputs": [],
   "source": [
    "store.keys()"
   ]
  },
  {
   "cell_type": "code",
   "execution_count": null,
   "metadata": {},
   "outputs": [],
   "source": [
    "iso.model_grid"
   ]
  },
  {
   "cell_type": "code",
   "execution_count": null,
   "metadata": {},
   "outputs": [],
   "source": []
  },
  {
   "cell_type": "code",
   "execution_count": null,
   "metadata": {},
   "outputs": [],
   "source": [
    "iso.model_grid.interp([300, 9.8, 0.0], ['conv_env_turnover_time_l_g'])"
   ]
  },
  {
   "cell_type": "code",
   "execution_count": null,
   "metadata": {},
   "outputs": [],
   "source": [
    "iso.model_grid.df.head()"
   ]
  },
  {
   "cell_type": "code",
   "execution_count": null,
   "metadata": {},
   "outputs": [],
   "source": [
    "bands = ['J', 'H', 'K', 'G','BP', 'RP', 'W1', 'W2', 'W3', 'IRAC_3.6', 'IRAC_4.5', 'IRAC_5.8', 'IRAC_8.0']\n",
    "track = get_ichrone('mist', tracks=True, bands=bands)"
   ]
  },
  {
   "cell_type": "code",
   "execution_count": null,
   "metadata": {},
   "outputs": [],
   "source": [
    "track.bc_grid.df.head()"
   ]
  },
  {
   "cell_type": "code",
   "execution_count": null,
   "metadata": {},
   "outputs": [],
   "source": [
    "from isochrones.starmodel import BasicStarModel"
   ]
  },
  {
   "cell_type": "code",
   "execution_count": null,
   "metadata": {},
   "outputs": [],
   "source": [
    "# mod = BasicStarModel(iso, Teff=(5700, 50), logg=(4.5, 0.08), J=(10, 0.01), eep_bounds=(200, 800))\n",
    "mod = BasicStarModel(track, Teff=(5700, 50), logg=(4.5, 0.08), J=(10, 0.01), eep_bounds=(200, 800))"
   ]
  },
  {
   "cell_type": "code",
   "execution_count": null,
   "metadata": {},
   "outputs": [],
   "source": [
    "cube = [0.01, 0.2, 0.5, 0.1, 0.1]\n",
    "mod.mnest_prior(cube, 5, 5)\n",
    "cube"
   ]
  },
  {
   "cell_type": "code",
   "execution_count": null,
   "metadata": {},
   "outputs": [],
   "source": [
    "mod.mnest_loglike(cube, 5, 5)"
   ]
  },
  {
   "cell_type": "code",
   "execution_count": null,
   "metadata": {},
   "outputs": [],
   "source": [
    "import intake"
   ]
  },
  {
   "cell_type": "code",
   "execution_count": null,
   "metadata": {},
   "outputs": [],
   "source": [
    "cat = intake.open_fits_table('/Users/tdm/Downloads/spectrophotometric_parallax_HER2018.fits', ext=1)"
   ]
  },
  {
   "cell_type": "code",
   "execution_count": null,
   "metadata": {},
   "outputs": [],
   "source": [
    "rgbs = cat.read()"
   ]
  },
  {
   "cell_type": "code",
   "execution_count": null,
   "metadata": {},
   "outputs": [],
   "source": [
    "from astropy.io import fits\n",
    "import pandas as pd\n",
    "\n",
    "table = fits.getdata('/Users/tdm/Downloads/spectrophotometric_parallax_HER2018.fits')"
   ]
  },
  {
   "cell_type": "code",
   "execution_count": null,
   "metadata": {},
   "outputs": [],
   "source": [
    "type(table)"
   ]
  },
  {
   "cell_type": "code",
   "execution_count": null,
   "metadata": {},
   "outputs": [],
   "source": [
    "from astropy.table import Table"
   ]
  },
  {
   "cell_type": "code",
   "execution_count": null,
   "metadata": {},
   "outputs": [],
   "source": [
    "rgbs = Table(table)"
   ]
  },
  {
   "cell_type": "code",
   "execution_count": null,
   "metadata": {},
   "outputs": [],
   "source": [
    "columns = ['J', 'J_ERR', 'H', 'H_ERR', 'K', 'K_ERR', 'source_id2', 'ref_epoch', 'ra_1', 'ra_error_1', 'dec_1', 'dec_error_1', \n",
    "           'parallax', 'parallax_error', 'duplicated_source', 'phot_g_n_obs', 'phot_g_mean_flux', 'phot_g_mean_flux_error',\n",
    "           'phot_g_mean_flux_over_error', 'phot_g_mean_mag', 'phot_bp_n_obs', 'phot_bp_mean_flux', 'phot_bp_mean_flux_error',\n",
    "           'phot_bp_mean_flux_over_error', 'phot_bp_mean_mag', 'phot_rp_n_obs', 'phot_rp_mean_flux', 'phot_rp_mean_flux_error',\n",
    "           'phot_rp_mean_flux_over_error', 'phot_rp_mean_mag', 'IRAC_3_6', 'IRAC_3_6_ERR', 'IRAC_4_5', 'IRAC_4_5_ERR',\n",
    "           'IRAC_5_8', 'IRAC_5_8_ERR', 'IRAC_8_0', 'IRAC_8_0_ERR', 'w1mpro', 'w1mpro_error', 'w2mpro', 'w2mpro_error',\n",
    "           'w3mpro', 'w3mpro_error', 'w4mpro', 'w4mpro_error',]\n",
    "\n",
    "rgb_df = rgbs[columns].to_pandas()"
   ]
  },
  {
   "cell_type": "code",
   "execution_count": null,
   "metadata": {},
   "outputs": [],
   "source": [
    "ZP_G = 25.6914\n",
    "ZP_BP = 25.3488\n",
    "ZP_RP = 24.7627\n",
    "\n",
    "G_flux = rgb_df['phot_g_mean_flux']\n",
    "G_flux_unc = rgb_df['phot_g_mean_flux_error']\n",
    "\n",
    "BP_flux = rgb_df['phot_bp_mean_flux']\n",
    "BP_flux_unc = rgb_df['phot_bp_mean_flux_error']\n",
    "\n",
    "RP_flux = rgb_df['phot_rp_mean_flux']\n",
    "RP_flux_unc = rgb_df['phot_rp_mean_flux_error']\n",
    "\n",
    "rgb_df['G'] = -2.5 * np.log10(G_flux) + ZP_G\n",
    "rgb_df['BP'] = -2.5 * np.log10(BP_flux) + ZP_BP\n",
    "rgb_df['RP'] = -2.5 * np.log10(RP_flux) + ZP_RP\n"
   ]
  },
  {
   "cell_type": "code",
   "execution_count": null,
   "metadata": {},
   "outputs": [],
   "source": [
    "rgb_df[['parallax', 'parallax_error']].head(20)"
   ]
  },
  {
   "cell_type": "code",
   "execution_count": null,
   "metadata": {},
   "outputs": [],
   "source": [
    "rgb_df.query('IRAC_8_0 > 0')"
   ]
  },
  {
   "cell_type": "code",
   "execution_count": null,
   "metadata": {},
   "outputs": [],
   "source": [
    "rgbs[0]"
   ]
  },
  {
   "cell_type": "code",
   "execution_count": null,
   "metadata": {},
   "outputs": [],
   "source": [
    "from isochrones.likelihood import star_lnlike, gauss_lnprob"
   ]
  },
  {
   "cell_type": "code",
   "execution_count": null,
   "metadata": {},
   "outputs": [],
   "source": [
    "import numpy as np\n",
    "import pandas as pd\n",
    "\n",
    "from isochrones import StarModel\n",
    "from isochrones.priors import (salpeter_prior, feh_prior, q_prior,\n",
    "                               age_prior, distance_prior, AV_prior, \n",
    "                               FlatPrior)\n",
    "\n",
    "class BasicStarModel(StarModel):\n",
    "\n",
    "    use_emcee = False\n",
    "    \n",
    "    def __init__(self, ic, eep_bounds=None, **kwargs):\n",
    "        self._ic = ic\n",
    "        \n",
    "        self.eep_bounds = eep_bounds if eep_bounds is not None else self.ic.eep_bounds\n",
    "        \n",
    "        self.kwargs = kwargs\n",
    "\n",
    "        self._bands = None\n",
    "        self._spec_props = None\n",
    "        self._props = None\n",
    "                \n",
    "        self._param_names = None\n",
    "        \n",
    "        self._priors = {'mass':salpeter_prior,\n",
    "                        'feh':feh_prior,\n",
    "                        'q':q_prior,\n",
    "                        'age':age_prior,\n",
    "                        'distance':distance_prior,\n",
    "                        'AV':AV_prior,\n",
    "                        'eep':FlatPrior(bounds=self.eep_bounds)}\n",
    "\n",
    "        self._bounds = {'mass':None,\n",
    "                        'feh':None,\n",
    "                        'age':None,\n",
    "                        'q':q_prior.bounds,\n",
    "                        'distance':distance_prior.bounds,\n",
    "                        'AV':AV_prior.bounds,\n",
    "                        'eep':self.eep_bounds}\n",
    "\n",
    "        if 'maxAV' in kwargs:\n",
    "            self.set_bounds(AV=(0, kwargs['maxAV']))\n",
    "\n",
    "        if 'max_distance' in kwargs:\n",
    "            self.set_bounds(distance=(0, kwargs['max_distance']))\n",
    "\n",
    "        self._directory = '.'\n",
    "        self._samples = None\n",
    "        self._derived_samples = None\n",
    "            \n",
    "    @property\n",
    "    def param_names(self):\n",
    "        if self._param_names is None:\n",
    "            self._param_names = self.ic.param_names\n",
    "        return self._param_names\n",
    "            \n",
    "    @property\n",
    "    def bands(self):\n",
    "        if self._bands is None:\n",
    "            self._bands = [k for k in self.kwargs if k in self.ic.bc_grid.bands]\n",
    "        return self._bands \n",
    "    \n",
    "    @property\n",
    "    def props(self):\n",
    "        if self._props is None:\n",
    "            self._props = [k for k in self.kwargs if k in self._not_a_band]\n",
    "        return self._props\n",
    "    \n",
    "    @property\n",
    "    def spec_props(self):\n",
    "        if self._spec_props is None:\n",
    "            self._spec_props = [self.kwargs.get(k, (np.nan, np.nan)) for k in ['Teff', 'logg', 'feh']]\n",
    "        return self._spec_props\n",
    "            \n",
    "    def bounds(self, prop):\n",
    "        if self._bounds[prop] is not None:\n",
    "            return self._bounds[prop]\n",
    "        elif prop == 'mass':\n",
    "            lo, hi = self.ic.model_grid.get_limits('mass')\n",
    "            self._bounds['mass'] = (lo, hi)\n",
    "            self._priors['mass'].bounds = (lo, hi)\n",
    "        elif prop == 'feh':\n",
    "            lo, hi = self.ic.model_grid.get_limits('feh')\n",
    "            self._bounds['feh'] = (lo, hi)\n",
    "            self._priors['feh'].bounds = (lo, hi)\n",
    "        elif prop == 'age':\n",
    "            lo, hi = self.ic.model_grid.get_limits('age')\n",
    "            self._bounds['age'] = (lo, hi)\n",
    "            self._priors['age'].bounds = (lo, hi)\n",
    "        else:\n",
    "            raise ValueError('Unknown property {}'.format(prop))\n",
    "        return self._bounds[prop]\n",
    "\n",
    "    def set_bounds(self, **kwargs):\n",
    "        for k,v in kwargs.items():\n",
    "            if len(v) != 2:\n",
    "                raise ValueError('Must provide (min, max)')\n",
    "            self._bounds[k] = v\n",
    "            self._priors[k].bounds = v\n",
    "\n",
    "    @property\n",
    "    def n_params(self):\n",
    "        return 5\n",
    "            \n",
    "    def lnlike(self, pars):\n",
    "        pars = np.array([pars[0], pars[1], pars[2], pars[3], pars[4]], dtype=float)\n",
    "        spec_vals, spec_uncs = zip(*[prop for prop in self.spec_props])\n",
    "        mag_vals, mag_uncs = zip(*[self.kwargs[b] for b in self.bands])\n",
    "        i_mags = [self.ic.bc_grid.interp.column_index[b] for b in self.bands]\n",
    "        lnlike = star_lnlike(pars, self.ic.param_index_order, \n",
    "                             spec_vals, spec_uncs,\n",
    "                             mag_vals, mag_uncs, i_mags, \n",
    "                             self.ic.model_grid.interp.grid,\n",
    "                             self.ic.model_grid.interp.column_index['Teff'],\n",
    "                             self.ic.model_grid.interp.column_index['logg'],\n",
    "                             self.ic.model_grid.interp.column_index['feh'],\n",
    "                             self.ic.model_grid.interp.column_index['Mbol'],\n",
    "                             *self.ic.model_grid.interp.index_columns,\n",
    "                             self.ic.bc_grid.interp.grid, \n",
    "                             *self.ic.bc_grid.interp.index_columns)\n",
    "\n",
    "        if 'parallax' in self.kwargs:\n",
    "            lnlike += gauss_lnprob(*self.kwargs['parallax'], 1000./pars[3])\n",
    "\n",
    "        return lnlike\n",
    "    \n",
    "    def lnprior(self, pars):\n",
    "        lnp = 0\n",
    "        for val, par in zip(pars, self.param_names):\n",
    "            if par == 'eep':\n",
    "                orig_par = self.ic.eep_replaces\n",
    "                if orig_par == 'age':\n",
    "                    deriv_prop = 'dt_deep'\n",
    "                elif orig_par == 'mass':\n",
    "                    deriv_prop = 'dm_deep'\n",
    "                orig_val, dx_deep = self.ic.interp_value(pars, [orig_par, deriv_prop])\n",
    "                lnp += self._priors[orig_par].lnpdf(orig_val)\n",
    "#                 print('{}: {}'.format(orig_par, lnp))\n",
    "                \n",
    "                # Change of variables\n",
    "                lnp += np.log(np.abs(dx_deep))\n",
    "#                 print('change of vars: {}'.format(lnp))\n",
    "            else:\n",
    "                lnp += self._priors[par].lnpdf(val)\n",
    "#                 print('{}: {}'.format(par, lnp))\n",
    "\n",
    "        return lnp\n",
    "\n",
    "    def mnest_prior(self, cube, ndim, nparams):\n",
    "        for i, par in enumerate(self.param_names):\n",
    "            lo, hi = self.bounds(par)\n",
    "            cube[i] = (hi - lo)*cube[i] + lo\n",
    "\n",
    "    def mnest_loglike(self, cube, ndim, nparams):\n",
    "        \"\"\"loglikelihood function for multinest\n",
    "        \"\"\"\n",
    "        return self.lnpost(cube)\n",
    "\n",
    "    @property\n",
    "    def derived_samples(self):\n",
    "        if self._derived_samples is None:\n",
    "            self._make_samples()\n",
    "        return self._derived_samples\n",
    "    \n",
    "    def _make_samples(self):\n",
    "        filename = '{}post_equal_weights.dat'.format(self.mnest_basename)\n",
    "        try:\n",
    "            df = pd.read_csv(filename, names=self.param_names + ('lnprob',), delim_whitespace=True)\n",
    "        except:\n",
    "            logging.error('Error loading chains from {}'.format(filename))\n",
    "            raise\n",
    "\n",
    "        self._samples = df\n",
    "        self._derived_samples = self.ic(*[df[c].values for c in self.param_names])\n",
    "\n",
    "    def sample_from_prior(self, n):\n",
    "        pars = []\n",
    "        for p in self.param_names:\n",
    "            samples = self._priors[p].sample(n)\n",
    "            pars.append(samples)\n",
    "        df = pd.DataFrame(np.array(pars).T, columns=self.param_names)\n",
    "\n",
    "        # Resample EEPs with proper weights\n",
    "        if self.ic.eep_replaces == 'age':\n",
    "            values = mod.ic.interp_value([df['mass'], df['eep'], df['feh']], ['dt_deep', 'age'])\n",
    "            dt_deep, age = [values[:, 0], values[:, 1]]\n",
    "            weights = np.log10(age)/np.log10(np.e) * dt_deep\n",
    "            df['eep'] = df['eep'].sample(n, weights=weights, replace=True).values\n",
    "    \n",
    "        return df"
   ]
  },
  {
   "cell_type": "code",
   "execution_count": null,
   "metadata": {},
   "outputs": [],
   "source": [
    "# mod = BasicStarModel(iso, Teff=(5700, 50), logg=(4.5, 0.08), J=(10, 0.01), eep_bounds=(200, 800))\n",
    "mod = BasicStarModel(track, Teff=(5700, 50), logg=(4.5, 0.08), J=(10, 0.01), eep_bounds=(200, 800))"
   ]
  },
  {
   "cell_type": "code",
   "execution_count": null,
   "metadata": {},
   "outputs": [],
   "source": [
    "from holoviews.operation.datashader import datashade\n",
    "df = mod.sample_from_prior(1000)\n",
    "hvplot.scatter_matrix(df, alpha=0.3)"
   ]
  },
  {
   "cell_type": "code",
   "execution_count": null,
   "metadata": {},
   "outputs": [],
   "source": [
    "mod.fit(basename='test-bolo')"
   ]
  },
  {
   "cell_type": "code",
   "execution_count": null,
   "metadata": {},
   "outputs": [],
   "source": [
    "mod.samples.describe()"
   ]
  },
  {
   "cell_type": "code",
   "execution_count": null,
   "metadata": {},
   "outputs": [],
   "source": [
    "track(*[mod.samples[c].values for c in mod.param_names])"
   ]
  },
  {
   "cell_type": "code",
   "execution_count": null,
   "metadata": {},
   "outputs": [],
   "source": [
    "# pars = np.array([320, 9.7, 0.0, 100, 0])\n",
    "pars = np.array([1.0, 320, 0.0, 190, 0.4])\n",
    "mod.lnlike(pars)"
   ]
  },
  {
   "cell_type": "code",
   "execution_count": null,
   "metadata": {},
   "outputs": [],
   "source": [
    "%timeit mod.lnlike(pars)"
   ]
  },
  {
   "cell_type": "code",
   "execution_count": null,
   "metadata": {},
   "outputs": [],
   "source": [
    "mod.lnprior(pars)"
   ]
  },
  {
   "cell_type": "code",
   "execution_count": null,
   "metadata": {},
   "outputs": [],
   "source": [
    "%timeit mod.lnprior(pars)"
   ]
  },
  {
   "cell_type": "code",
   "execution_count": null,
   "metadata": {},
   "outputs": [],
   "source": [
    "mod.lnpost(pars)"
   ]
  },
  {
   "cell_type": "code",
   "execution_count": null,
   "metadata": {},
   "outputs": [],
   "source": [
    "%timeit mod.lnpost(pars)"
   ]
  },
  {
   "cell_type": "code",
   "execution_count": null,
   "metadata": {},
   "outputs": [],
   "source": [
    "%load_ext line_profiler"
   ]
  },
  {
   "cell_type": "code",
   "execution_count": null,
   "metadata": {},
   "outputs": [],
   "source": [
    "%lprun -f BasicStarModel.lnprior mod.lnprior(pars)"
   ]
  },
  {
   "cell_type": "code",
   "execution_count": null,
   "metadata": {},
   "outputs": [],
   "source": []
  },
  {
   "cell_type": "code",
   "execution_count": null,
   "metadata": {},
   "outputs": [],
   "source": [
    "track.bc_grid.df.head()"
   ]
  },
  {
   "cell_type": "code",
   "execution_count": null,
   "metadata": {},
   "outputs": [],
   "source": [
    "iso.interp_mag([330, 9.8, 0.0, 10, 0], ['G'])"
   ]
  },
  {
   "cell_type": "code",
   "execution_count": null,
   "metadata": {},
   "outputs": [],
   "source": [
    "iso.interp_value([330, 9.8, 0.0], ['logg'])"
   ]
  },
  {
   "cell_type": "code",
   "execution_count": null,
   "metadata": {},
   "outputs": [],
   "source": [
    "iso.model_grid.interp([9.8, 0.0, 325], ['logg'])"
   ]
  },
  {
   "cell_type": "code",
   "execution_count": null,
   "metadata": {},
   "outputs": [],
   "source": [
    "iso.model_grid.interp.grid.shape"
   ]
  },
  {
   "cell_type": "code",
   "execution_count": null,
   "metadata": {},
   "outputs": [],
   "source": [
    "subdf = iso.model_grid.df.xs((9.8, 0.0), level=(0, 1))"
   ]
  },
  {
   "cell_type": "code",
   "execution_count": null,
   "metadata": {},
   "outputs": [],
   "source": [
    "subdf.query('320 < eep < 335')"
   ]
  },
  {
   "cell_type": "code",
   "execution_count": null,
   "metadata": {},
   "outputs": [],
   "source": [
    "from isochrones.mist.models import MISTModelGrid, MISTIsochroneGrid"
   ]
  },
  {
   "cell_type": "code",
   "execution_count": null,
   "metadata": {},
   "outputs": [],
   "source": [
    "df = MISTIsochroneGrid.to_df('/Users/tdm/.isochrones/mist/MIST_v1.2_vvcrit0.4_full_isos/MIST_v1.2_feh_p0.00_afe_p0.0_vvcrit0.4_full.iso')"
   ]
  },
  {
   "cell_type": "code",
   "execution_count": null,
   "metadata": {},
   "outputs": [],
   "source": [
    "df.head()"
   ]
  },
  {
   "cell_type": "code",
   "execution_count": null,
   "metadata": {},
   "outputs": [],
   "source": [
    "subdf = df.query('log10_isochrone_age_yr==9.8 and 325 < EEP < 350')"
   ]
  },
  {
   "cell_type": "code",
   "execution_count": null,
   "metadata": {},
   "outputs": [],
   "source": [
    "subdf"
   ]
  },
  {
   "cell_type": "code",
   "execution_count": null,
   "metadata": {},
   "outputs": [],
   "source": [
    "for e in subdf.EEP:\n",
    "    print(e)"
   ]
  },
  {
   "cell_type": "code",
   "execution_count": null,
   "metadata": {},
   "outputs": [],
   "source": [
    "list(iso.model_grid.df.age.unique()).index(9.8)"
   ]
  },
  {
   "cell_type": "code",
   "execution_count": null,
   "metadata": {},
   "outputs": [],
   "source": [
    "list(iso.model_grid.df.index.levels[0]).index(9.8)"
   ]
  },
  {
   "cell_type": "code",
   "execution_count": null,
   "metadata": {},
   "outputs": [],
   "source": [
    "list(iso.model_grid.df.index.levels[1]).index(0.0)"
   ]
  },
  {
   "cell_type": "code",
   "execution_count": null,
   "metadata": {},
   "outputs": [],
   "source": [
    "list(iso.model_grid.df.index.levels[2]).index(327)"
   ]
  },
  {
   "cell_type": "code",
   "execution_count": null,
   "metadata": {},
   "outputs": [],
   "source": [
    "iso.model_grid.interp.grid.shape"
   ]
  },
  {
   "cell_type": "code",
   "execution_count": null,
   "metadata": {},
   "outputs": [],
   "source": [
    "iso.model_grid.interp.grid[96, 12, 300:400, 9]"
   ]
  },
  {
   "cell_type": "code",
   "execution_count": null,
   "metadata": {},
   "outputs": [],
   "source": [
    "iso.model_grid.df.head()"
   ]
  },
  {
   "cell_type": "code",
   "execution_count": null,
   "metadata": {},
   "outputs": [],
   "source": [
    "list(iso.model_grid.df.initial_feh.unique()).index(0.0)"
   ]
  },
  {
   "cell_type": "code",
   "execution_count": null,
   "metadata": {},
   "outputs": [],
   "source": [
    "iso.model_grid.interp"
   ]
  },
  {
   "cell_type": "code",
   "execution_count": null,
   "metadata": {},
   "outputs": [],
   "source": [
    "%timeit track.interp_mag([0.6, 300, 0.0, 10, 0.12], ['G'])"
   ]
  },
  {
   "cell_type": "code",
   "execution_count": null,
   "metadata": {},
   "outputs": [],
   "source": [
    "%load_ext line_profiler"
   ]
  },
  {
   "cell_type": "code",
   "execution_count": null,
   "metadata": {},
   "outputs": [],
   "source": [
    "%timeit iso([300,350,400,450, 500] , 9.6, 0.0)"
   ]
  },
  {
   "cell_type": "code",
   "execution_count": null,
   "metadata": {},
   "outputs": [],
   "source": [
    "from isochrones.models import ModelGridInterpolator\n",
    "%lprun -f ModelGridInterpolator.__call__ iso([300,350,400,450, 500] , 9.6, 0.0)"
   ]
  },
  {
   "cell_type": "code",
   "execution_count": null,
   "metadata": {},
   "outputs": [],
   "source": [
    "import numpy as np\n",
    "import pandas as pd\n",
    "a = np.arange(10)\n",
    "b = a*10\n",
    "pd.DataFrame(np.concatenate([np.atleast_2d(a), np.atleast_2d(b)], axis=1))"
   ]
  },
  {
   "cell_type": "code",
   "execution_count": null,
   "metadata": {},
   "outputs": [],
   "source": [
    "iso.interp_mag([500, 9.6, 0., 10., 0.], iso.bc_grid.bands)"
   ]
  },
  {
   "cell_type": "code",
   "execution_count": null,
   "metadata": {},
   "outputs": [],
   "source": [
    "iso.bc_grid.bands"
   ]
  },
  {
   "cell_type": "code",
   "execution_count": null,
   "metadata": {},
   "outputs": [],
   "source": [
    "from isochrones.starmodel import StarModel\n",
    "\n",
    "mod = StarModel(iso, Teff=(5700, 50), logg=(4.5, 0.1), feh=(0.01, 0.06), J=(10.3, 0.02), K=(10.0, 0.2), BP=(11, 0.01))"
   ]
  },
  {
   "cell_type": "code",
   "execution_count": null,
   "metadata": {},
   "outputs": [],
   "source": [
    "pars = (300, 9.7, 0.0, 300, 0.1)\n",
    "mod.lnprior(pars)"
   ]
  },
  {
   "cell_type": "code",
   "execution_count": null,
   "metadata": {},
   "outputs": [],
   "source": [
    "mod.lnlike(pars, use_cache=False)"
   ]
  },
  {
   "cell_type": "code",
   "execution_count": null,
   "metadata": {},
   "outputs": [],
   "source": [
    "%timeit mod.lnlike(pars, use_cache=False)"
   ]
  },
  {
   "cell_type": "code",
   "execution_count": null,
   "metadata": {},
   "outputs": [],
   "source": [
    "%load_ext line_profiler"
   ]
  },
  {
   "cell_type": "code",
   "execution_count": null,
   "metadata": {},
   "outputs": [],
   "source": [
    "from isochrones.observation import ObservationTree, ObsNode\n",
    "\n",
    "%lprun -f StarModel.lnlike mod.lnlike(pars, use_cache=False)"
   ]
  },
  {
   "cell_type": "code",
   "execution_count": null,
   "metadata": {},
   "outputs": [],
   "source": [
    "import numpy as np\n",
    "\n",
    "np.array([[1,2,3]]).squeeze()"
   ]
  },
  {
   "cell_type": "code",
   "execution_count": null,
   "metadata": {},
   "outputs": [],
   "source": [
    "n = mod.obs.get_obs_nodes()[0]"
   ]
  },
  {
   "cell_type": "code",
   "execution_count": null,
   "metadata": {},
   "outputs": [],
   "source": [
    "m = n.leaves[0]"
   ]
  },
  {
   "cell_type": "code",
   "execution_count": null,
   "metadata": {},
   "outputs": [],
   "source": [
    "m.label"
   ]
  },
  {
   "cell_type": "code",
   "execution_count": null,
   "metadata": {},
   "outputs": [],
   "source": [
    "m."
   ]
  },
  {
   "cell_type": "code",
   "execution_count": null,
   "metadata": {},
   "outputs": [],
   "source": [
    "mod.obs.p2pardict(pars)"
   ]
  },
  {
   "cell_type": "code",
   "execution_count": null,
   "metadata": {},
   "outputs": [],
   "source": [
    "bands = {n.band for n in mod.obs.get_obs_nodes()}\n",
    "props = {k for v in mod.obs.spectroscopy.values() for k in v.keys()}"
   ]
  },
  {
   "cell_type": "code",
   "execution_count": null,
   "metadata": {},
   "outputs": [],
   "source": [
    "props - {'Teff', 'logg', 'feh'}"
   ]
  },
  {
   "cell_type": "code",
   "execution_count": null,
   "metadata": {},
   "outputs": [],
   "source": [
    "mod.obs.spectroscopy"
   ]
  },
  {
   "cell_type": "code",
   "execution_count": null,
   "metadata": {},
   "outputs": [],
   "source": []
  },
  {
   "cell_type": "code",
   "execution_count": null,
   "metadata": {},
   "outputs": [],
   "source": [
    "iso.fehs"
   ]
  },
  {
   "cell_type": "code",
   "execution_count": null,
   "metadata": {},
   "outputs": [],
   "source": [
    "eeps = [300., 350.]"
   ]
  },
  {
   "cell_type": "code",
   "execution_count": null,
   "metadata": {},
   "outputs": [],
   "source": [
    "masses, dm_deeps = zip(*[iso.interp_value([eep, 9.5, -0.32], ['initial_mass', 'dm_deep']) for eep in eeps])"
   ]
  },
  {
   "cell_type": "code",
   "execution_count": null,
   "metadata": {},
   "outputs": [],
   "source": [
    "masses"
   ]
  },
  {
   "cell_type": "code",
   "execution_count": null,
   "metadata": {},
   "outputs": [],
   "source": [
    "dm_deeps"
   ]
  },
  {
   "cell_type": "code",
   "execution_count": null,
   "metadata": {},
   "outputs": [],
   "source": [
    "x = [(i, i**2) for i in range(5)]"
   ]
  },
  {
   "cell_type": "code",
   "execution_count": null,
   "metadata": {},
   "outputs": [],
   "source": [
    "a, b = zip(*[(i, i**2) for i in range(5)])"
   ]
  },
  {
   "cell_type": "code",
   "execution_count": null,
   "metadata": {},
   "outputs": [],
   "source": [
    "a"
   ]
  },
  {
   "cell_type": "code",
   "execution_count": null,
   "metadata": {},
   "outputs": [],
   "source": [
    "b"
   ]
  },
  {
   "cell_type": "code",
   "execution_count": null,
   "metadata": {},
   "outputs": [],
   "source": [
    "import numpy as np\n",
    "np.vstack(x)"
   ]
  },
  {
   "cell_type": "code",
   "execution_count": null,
   "metadata": {},
   "outputs": [],
   "source": [
    "import numpy as np\n",
    "\n",
    "pars = np.array([300., 9.5, -0.32, 400, 0.2])\n",
    "# pars = [np.arange(250, 260, 0.5), 9.5, -0.32, 400., 0.2]\n",
    "iso.interp_value(pars, ['initial_mass', 'dm_deep'])"
   ]
  },
  {
   "cell_type": "code",
   "execution_count": null,
   "metadata": {},
   "outputs": [],
   "source": [
    "import numpy as np\n",
    "\n",
    "pars = np.array([300., 9.5, -0.32, 400, 0.2])\n",
    "# pars = [np.arange(250, 260, 0.5), 9.5, -0.32, 400., 0.2]\n",
    "iso.interp_value(pars, ['initial_mass', 'dm_deep'])"
   ]
  },
  {
   "cell_type": "code",
   "execution_count": null,
   "metadata": {},
   "outputs": [],
   "source": [
    "dict((('a', 1), ('b', 2)))"
   ]
  },
  {
   "cell_type": "code",
   "execution_count": null,
   "metadata": {},
   "outputs": [],
   "source": [
    "iso.interp_mag(pars, ['G', 'BP', 'RP'])"
   ]
  },
  {
   "cell_type": "code",
   "execution_count": null,
   "metadata": {},
   "outputs": [],
   "source": [
    "%timeit iso.interp_mag(pars, ['G', 'BP', 'RP'])"
   ]
  },
  {
   "cell_type": "code",
   "execution_count": null,
   "metadata": {},
   "outputs": [],
   "source": [
    "%timeit iso.interp_mag(pars, ['G', 'BP', 'RP'])"
   ]
  },
  {
   "cell_type": "code",
   "execution_count": null,
   "metadata": {},
   "outputs": [],
   "source": [
    "263 / len(pars[0])"
   ]
  },
  {
   "cell_type": "code",
   "execution_count": null,
   "metadata": {},
   "outputs": [],
   "source": [
    "%timeit iso.interp_value(pars, ['radius'])\n",
    "%timeit iso.interp_mag(pars, ['G', 'BP', 'RP'])"
   ]
  },
  {
   "cell_type": "code",
   "execution_count": null,
   "metadata": {},
   "outputs": [],
   "source": [
    "pars2 = np.array([0.67, 300, -0.23, 500, 0.6])\n",
    "pars2 = [np.arange(0.5, 1.0, 0.05), 300, -0.23, 500, 0.6]\n",
    "track.interp_value(pars2, ['radius'])"
   ]
  },
  {
   "cell_type": "code",
   "execution_count": null,
   "metadata": {},
   "outputs": [],
   "source": [
    "track.interp_mag(pars2, ['G', 'BP', 'RP'])"
   ]
  },
  {
   "cell_type": "code",
   "execution_count": null,
   "metadata": {},
   "outputs": [],
   "source": []
  },
  {
   "cell_type": "code",
   "execution_count": null,
   "metadata": {},
   "outputs": [],
   "source": [
    "%timeit track.interp_value(pars2, ['radius'])\n",
    "%timeit track.interp_mag(pars2, ['G', 'BP', 'RP'])"
   ]
  },
  {
   "cell_type": "code",
   "execution_count": null,
   "metadata": {},
   "outputs": [],
   "source": [
    "ic = MISTIsochrone()"
   ]
  },
  {
   "cell_type": "code",
   "execution_count": null,
   "metadata": {},
   "outputs": [],
   "source": [
    "pars = np.array([300., 9.5, 0.1, 200, 0.2])\n",
    "bands = ['G', 'BP', 'RP']\n",
    "ic.interp_mag(pars, bands)"
   ]
  },
  {
   "cell_type": "code",
   "execution_count": null,
   "metadata": {},
   "outputs": [],
   "source": [
    "%timeit ic.interp_value(pars, ['logg', 'Teff'])\n",
    "%timeit ic.interp_mag(pars, bands)"
   ]
  },
  {
   "cell_type": "code",
   "execution_count": null,
   "metadata": {},
   "outputs": [],
   "source": [
    "ic2 = MISTIsochrone_Track()"
   ]
  },
  {
   "cell_type": "code",
   "execution_count": null,
   "metadata": {},
   "outputs": [],
   "source": [
    "pars2 = np.array([1.01, 353, 0.11, 200, 0.2])\n",
    "ic2.interp_mag(pars2, bands)"
   ]
  },
  {
   "cell_type": "code",
   "execution_count": null,
   "metadata": {},
   "outputs": [],
   "source": [
    "%timeit ic2.interp_value(pars2, ['logg', 'Teff', 'feh'])\n",
    "%timeit ic2.interp_mag(pars2, bands)"
   ]
  },
  {
   "cell_type": "code",
   "execution_count": null,
   "metadata": {},
   "outputs": [],
   "source": [
    "%load_ext line_profiler"
   ]
  },
  {
   "cell_type": "code",
   "execution_count": null,
   "metadata": {},
   "outputs": [],
   "source": [
    "%lprun -f MISTIsochrone.interp_value ic2.interp_value(pars2, ['logg', 'Teff', 'feh'])"
   ]
  },
  {
   "cell_type": "code",
   "execution_count": null,
   "metadata": {},
   "outputs": [],
   "source": [
    "%timeit ic2.interp_value(pars2, ['logg', 'Teff'])"
   ]
  },
  {
   "cell_type": "code",
   "execution_count": null,
   "metadata": {},
   "outputs": [],
   "source": [
    "mod = BasicStarModel(ic, Teff=(5700., 50.), logg=(4.44, 0.1), feh=(0.0, 0.1), G=(9.71, 0.01), BP=(9.85, 0.01))"
   ]
  },
  {
   "cell_type": "code",
   "execution_count": null,
   "metadata": {},
   "outputs": [],
   "source": [
    "pars = np.array([300, 8.54, -0.4, 200., 0.1])"
   ]
  },
  {
   "cell_type": "code",
   "execution_count": null,
   "metadata": {},
   "outputs": [],
   "source": [
    "mod.lnlike(pars)"
   ]
  },
  {
   "cell_type": "code",
   "execution_count": null,
   "metadata": {},
   "outputs": [],
   "source": [
    "%timeit mod.lnlike(pars)"
   ]
  },
  {
   "cell_type": "code",
   "execution_count": null,
   "metadata": {},
   "outputs": [],
   "source": [
    "mod.lnpost(pars)"
   ]
  },
  {
   "cell_type": "code",
   "execution_count": null,
   "metadata": {},
   "outputs": [],
   "source": [
    "ic.model_grid.interp.column_index"
   ]
  },
  {
   "cell_type": "code",
   "execution_count": null,
   "metadata": {},
   "outputs": [],
   "source": [
    "ic.model_grid.df.columns"
   ]
  },
  {
   "cell_type": "code",
   "execution_count": null,
   "metadata": {},
   "outputs": [],
   "source": [
    "pars = np.array([8.54, -0.4, 300., 200., 0.1])"
   ]
  },
  {
   "cell_type": "code",
   "execution_count": null,
   "metadata": {},
   "outputs": [],
   "source": [
    "%timeit ic.interp_mag(pars, ['G', 'BP', 'RP', 'J', 'H', 'K'])"
   ]
  },
  {
   "cell_type": "code",
   "execution_count": null,
   "metadata": {},
   "outputs": [],
   "source": [
    "ic.bc_grid.bands"
   ]
  },
  {
   "cell_type": "code",
   "execution_count": null,
   "metadata": {},
   "outputs": [],
   "source": [
    "%load_ext line_profiler"
   ]
  },
  {
   "cell_type": "code",
   "execution_count": null,
   "metadata": {},
   "outputs": [],
   "source": [
    "%lprun -f ic.interp_mag ic.interp_mag(np.array([8.54, -0.4, 300., 200., 0.1]), ['G', 'BP'])"
   ]
  },
  {
   "cell_type": "code",
   "execution_count": null,
   "metadata": {},
   "outputs": [],
   "source": [
    "ic.interp_mag(np.array([8.54, -0.4, 300., 200., 0.1]), ['G', 'BP'])"
   ]
  },
  {
   "cell_type": "code",
   "execution_count": null,
   "metadata": {},
   "outputs": [],
   "source": [
    "from isochrones import StarModel as StarModelOld\n",
    "from isochrones import get_ichrone\n",
    "\n",
    "mist = get_ichrone('mist')\n",
    "\n",
    "mod_old = StarModelOld(mist, Teff=(5700, 50), logg=(4.44, 0.1), G=(9.71, 0.01), BP=(9.85, 0.01))"
   ]
  },
  {
   "cell_type": "code",
   "execution_count": null,
   "metadata": {},
   "outputs": [],
   "source": [
    "mod_old.lnlike([400, 9.6, 0.1, 200, 0.1])"
   ]
  },
  {
   "cell_type": "code",
   "execution_count": null,
   "metadata": {},
   "outputs": [],
   "source": [
    "mod.bands"
   ]
  },
  {
   "cell_type": "code",
   "execution_count": null,
   "metadata": {},
   "outputs": [],
   "source": [
    "mod.props"
   ]
  },
  {
   "cell_type": "code",
   "execution_count": null,
   "metadata": {},
   "outputs": [],
   "source": [
    "mod.kwargs"
   ]
  },
  {
   "cell_type": "code",
   "execution_count": null,
   "metadata": {},
   "outputs": [],
   "source": [
    "from isochrones.interp import find_indices_3d, find_indices, find_indices_4d"
   ]
  },
  {
   "cell_type": "code",
   "execution_count": null,
   "metadata": {},
   "outputs": [],
   "source": [
    "col0 = ic.model_grid.interp.index_columns[0]\n",
    "col1 = ic.model_grid.interp.index_columns[1]\n",
    "col2 = ic.model_grid.interp.index_columns[2]\n",
    "i1, d1, oob1 = find_indices([8.11, -1.1, 300.], ic.model_grid.interp.index_columns)\n",
    "i2, d2, oob2 = find_indices_3d(8.11, -1.1, 300., col0, col1, col2)\n",
    "assert (i1 == i2).all()\n",
    "assert (d1 == d2).all()\n",
    "assert oob1 == oob2\n",
    "%timeit find_indices_3d(8.11, -1.1, 300., col0, col1, col2)"
   ]
  },
  {
   "cell_type": "code",
   "execution_count": null,
   "metadata": {},
   "outputs": [],
   "source": [
    "col0 = ic.bc_grid.interp.index_columns[0]\n",
    "col1 = ic.bc_grid.interp.index_columns[1]\n",
    "col2 = ic.bc_grid.interp.index_columns[2]\n",
    "col3 = ic.bc_grid.interp.index_columns[3]\n",
    "i1, d1, oob1 = find_indices([5842., 4.34, 0.03, 0.42], ic.bc_grid.interp.index_columns)\n",
    "i2, d2, oob2 = find_indices_4d(5842., 4.34, 0.03, 0.42, col0, col1, col2, col3)\n",
    "assert (i1 == i2).all()\n",
    "assert (d1 == d2).all()\n",
    "assert oob1 == oob2\n",
    "%timeit find_indices_4d(5842., 4.34, 0.03, 0.42, col0, col1, col2, col3)"
   ]
  },
  {
   "cell_type": "code",
   "execution_count": null,
   "metadata": {},
   "outputs": [],
   "source": [
    "%timeit find_indices(np.array([5842., 4.34, 0.03, 0.42]), ic.bc_grid.interp.index_columns)"
   ]
  },
  {
   "cell_type": "code",
   "execution_count": null,
   "metadata": {},
   "outputs": [],
   "source": [
    "%timeit find_indices(np.array([8.11, -1.1, 300]), ic.model_grid.interp.index_columns)"
   ]
  },
  {
   "cell_type": "code",
   "execution_count": null,
   "metadata": {},
   "outputs": [],
   "source": []
  },
  {
   "cell_type": "code",
   "execution_count": null,
   "metadata": {},
   "outputs": [],
   "source": [
    "%load_ext line_profiler"
   ]
  },
  {
   "cell_type": "code",
   "execution_count": null,
   "metadata": {},
   "outputs": [],
   "source": [
    "pars = np.array([8.11, -1.1, 300, 200, 0.])\n",
    "bands = ['G', 'BP']\n",
    "%timeit ic.interp_mag(pars, bands)"
   ]
  },
  {
   "cell_type": "code",
   "execution_count": null,
   "metadata": {},
   "outputs": [],
   "source": [
    "%timeit ic.interp_value(pars, ['log_g', 'log_Teff', 'log_L'])"
   ]
  },
  {
   "cell_type": "code",
   "execution_count": null,
   "metadata": {},
   "outputs": [],
   "source": [
    "%lprun -f ic.model_grid.interp.__call__ ic.interp_value(pars, ['log_g', 'log_Teff', 'log_L'])"
   ]
  },
  {
   "cell_type": "code",
   "execution_count": null,
   "metadata": {},
   "outputs": [],
   "source": [
    "pars = np.array([8.11, -1.1, 300, 200, 0.])\n",
    "bands = ['G', 'BP']\n",
    "ic.interp_mag(pars, bands)"
   ]
  },
  {
   "cell_type": "code",
   "execution_count": null,
   "metadata": {},
   "outputs": [],
   "source": [
    "%timeit ic.interp_value(pars, ['log_g'])"
   ]
  },
  {
   "cell_type": "code",
   "execution_count": null,
   "metadata": {},
   "outputs": [],
   "source": [
    "pars = np.array([8.11, -1.1, 300, 200, 1.1])\n",
    "ic.interp_mag(pars, bands)"
   ]
  },
  {
   "cell_type": "code",
   "execution_count": null,
   "metadata": {},
   "outputs": [],
   "source": []
  },
  {
   "cell_type": "code",
   "execution_count": null,
   "metadata": {},
   "outputs": [],
   "source": []
  },
  {
   "cell_type": "code",
   "execution_count": null,
   "metadata": {},
   "outputs": [],
   "source": []
  },
  {
   "cell_type": "code",
   "execution_count": null,
   "metadata": {},
   "outputs": [],
   "source": [
    "ic.interp_value()"
   ]
  },
  {
   "cell_type": "code",
   "execution_count": null,
   "metadata": {},
   "outputs": [],
   "source": [
    "mist.mag['G'](300., 8.11, -1.1, 200., 0.)"
   ]
  },
  {
   "cell_type": "code",
   "execution_count": null,
   "metadata": {},
   "outputs": [],
   "source": [
    "mist.mag['G'](300., 8.11, -1.1, 200., 1.1)"
   ]
  },
  {
   "cell_type": "code",
   "execution_count": null,
   "metadata": {},
   "outputs": [],
   "source": [
    "bc.df.columns"
   ]
  },
  {
   "cell_type": "code",
   "execution_count": null,
   "metadata": {},
   "outputs": [],
   "source": [
    "%load_ext line_profiler"
   ]
  },
  {
   "cell_type": "code",
   "execution_count": null,
   "metadata": {},
   "outputs": [],
   "source": [
    "%lprun -f ic.interp_mag ic.interp_mag(pars, bands)"
   ]
  },
  {
   "cell_type": "code",
   "execution_count": null,
   "metadata": {},
   "outputs": [],
   "source": [
    "%timeit grid.interp([8.11, -1.1, 300.], ['log_L', 'initial_mass', 'star_mass', 'log_Teff'])"
   ]
  },
  {
   "cell_type": "code",
   "execution_count": null,
   "metadata": {},
   "outputs": [],
   "source": []
  },
  {
   "cell_type": "code",
   "execution_count": null,
   "metadata": {},
   "outputs": [],
   "source": []
  },
  {
   "cell_type": "code",
   "execution_count": null,
   "metadata": {},
   "outputs": [],
   "source": []
  },
  {
   "cell_type": "code",
   "execution_count": null,
   "metadata": {},
   "outputs": [],
   "source": []
  },
  {
   "cell_type": "code",
   "execution_count": null,
   "metadata": {},
   "outputs": [],
   "source": [
    "grid.df.head()"
   ]
  },
  {
   "cell_type": "code",
   "execution_count": null,
   "metadata": {},
   "outputs": [],
   "source": []
  },
  {
   "cell_type": "code",
   "execution_count": null,
   "metadata": {},
   "outputs": [],
   "source": [
    "len(grid.df)"
   ]
  },
  {
   "cell_type": "code",
   "execution_count": null,
   "metadata": {},
   "outputs": [],
   "source": [
    "df = grid.df_all()"
   ]
  },
  {
   "cell_type": "code",
   "execution_count": null,
   "metadata": {},
   "outputs": [],
   "source": [
    "df.head()"
   ]
  },
  {
   "cell_type": "code",
   "execution_count": null,
   "metadata": {},
   "outputs": [],
   "source": []
  },
  {
   "cell_type": "code",
   "execution_count": null,
   "metadata": {},
   "outputs": [],
   "source": [
    "len(df)"
   ]
  },
  {
   "cell_type": "code",
   "execution_count": null,
   "metadata": {},
   "outputs": [],
   "source": [
    "grid.get_existing_filenames()"
   ]
  },
  {
   "cell_type": "code",
   "execution_count": null,
   "metadata": {},
   "outputs": [],
   "source": []
  },
  {
   "cell_type": "code",
   "execution_count": null,
   "metadata": {},
   "outputs": [],
   "source": []
  },
  {
   "cell_type": "code",
   "execution_count": null,
   "metadata": {},
   "outputs": [],
   "source": [
    "ls /Users/tdm/.isochrones/mist/MIST_v1.2_vvcrit0.0_full_isos/MIST_v1.2_feh_m0.25_afe_p0.0_vvcrit0.0_full.iso"
   ]
  },
  {
   "cell_type": "code",
   "execution_count": null,
   "metadata": {},
   "outputs": [],
   "source": [
    "grid = MISTModelGrid()"
   ]
  },
  {
   "cell_type": "code",
   "execution_count": null,
   "metadata": {},
   "outputs": [],
   "source": [
    "df.to"
   ]
  },
  {
   "cell_type": "code",
   "execution_count": null,
   "metadata": {},
   "outputs": [],
   "source": [
    "df.head()"
   ]
  },
  {
   "cell_type": "code",
   "execution_count": null,
   "metadata": {},
   "outputs": [],
   "source": [
    "grid.get_directory_path('full_isos')"
   ]
  }
 ],
 "metadata": {
  "kernelspec": {
   "display_name": "Python 3",
   "language": "python",
   "name": "python3"
  },
  "language_info": {
   "codemirror_mode": {
    "name": "ipython",
    "version": 3
   },
   "file_extension": ".py",
   "mimetype": "text/x-python",
   "name": "python",
   "nbconvert_exporter": "python",
   "pygments_lexer": "ipython3",
   "version": "3.6.8"
  }
 },
 "nbformat": 4,
 "nbformat_minor": 2
}
