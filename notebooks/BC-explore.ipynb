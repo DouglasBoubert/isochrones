{
 "cells": [
  {
   "cell_type": "code",
   "execution_count": 4,
   "metadata": {},
   "outputs": [],
   "source": [
    "from isochrones import get_ichrone\n",
    "\n",
    "iso = get_ichrone('mist')\n",
    "track = get_ichrone('mist', tracks=True)"
   ]
  },
  {
   "cell_type": "code",
   "execution_count": 5,
   "metadata": {},
   "outputs": [],
   "source": [
    "from isochrones.starmodel import StarModel\n",
    "\n",
    "mod = StarModel(iso, Teff=(5700, 50), logg=(4.5, 0.1), feh=(0.01, 0.06), J=(10.3, 0.02), K=(10.0, 0.2), BP=(11, 0.01))"
   ]
  },
  {
   "cell_type": "code",
   "execution_count": 6,
   "metadata": {},
   "outputs": [
    {
     "data": {
      "text/plain": [
       "-24.213148884646188"
      ]
     },
     "execution_count": 6,
     "metadata": {},
     "output_type": "execute_result"
    }
   ],
   "source": [
    "pars = (300, 9.7, 0.0, 300, 0.1)\n",
    "mod.lnprior(pars)"
   ]
  },
  {
   "cell_type": "code",
   "execution_count": 7,
   "metadata": {},
   "outputs": [
    {
     "data": {
      "text/plain": [
       "-47814.742670380554"
      ]
     },
     "execution_count": 7,
     "metadata": {},
     "output_type": "execute_result"
    }
   ],
   "source": [
    "mod.lnlike(pars, use_cache=False)"
   ]
  },
  {
   "cell_type": "code",
   "execution_count": 9,
   "metadata": {},
   "outputs": [
    {
     "name": "stdout",
     "output_type": "stream",
     "text": [
      "10000 loops, best of 3: 123 µs per loop\n"
     ]
    }
   ],
   "source": [
    "%timeit mod.lnlike(pars, use_cache=False)"
   ]
  },
  {
   "cell_type": "code",
   "execution_count": 7,
   "metadata": {},
   "outputs": [],
   "source": [
    "%load_ext line_profiler"
   ]
  },
  {
   "cell_type": "code",
   "execution_count": 14,
   "metadata": {},
   "outputs": [
    {
     "data": {
      "text/plain": [
       "Timer unit: 1e-06 s\n",
       "\n",
       "Total time: 0.000378 s\n",
       "File: /Users/tdm/repositories/isochrones/isochrones/starmodel.py\n",
       "Function: lnlike at line 507\n",
       "\n",
       "Line #      Hits         Time  Per Hit   % Time  Line Contents\n",
       "==============================================================\n",
       "   507                                               def lnlike(self, p, **kwargs):\n",
       "   508         1         33.0     33.0      8.7          pardict = self.obs.p2pardict(p)\n",
       "   509                                           \n",
       "   510         1          2.0      2.0      0.5          model_values = {}\n",
       "   511         2          3.0      1.5      0.8          for star, pars in pardict.items():\n",
       "   512         1        190.0    190.0     50.3              Teff, logg, feh, mags = self.ic.interp_mag(pars, self.bands)\n",
       "   513         1          1.0      1.0      0.3              vals = {'Teff': Teff,\n",
       "   514         1          1.0      1.0      0.3                      'logg': logg,\n",
       "   515         1          1.0      1.0      0.3                      'feh': feh}\n",
       "   516         1          8.0      8.0      2.1              vals.update({b: m for b, m in zip(self.bands, mags)})\n",
       "   517         1          1.0      1.0      0.3              model_values[star] = vals\n",
       "   518                                           \n",
       "   519         1        137.0    137.0     36.2          lnl = self.obs.lnlike(pardict, model_values, **kwargs)\n",
       "   520         1          1.0      1.0      0.3          return lnl"
      ]
     },
     "metadata": {},
     "output_type": "display_data"
    }
   ],
   "source": [
    "from isochrones.observation import ObservationTree, ObsNode\n",
    "\n",
    "%lprun -f StarModel.lnlike mod.lnlike(pars, use_cache=False)"
   ]
  },
  {
   "cell_type": "code",
   "execution_count": null,
   "metadata": {},
   "outputs": [],
   "source": []
  },
  {
   "cell_type": "code",
   "execution_count": null,
   "metadata": {},
   "outputs": [],
   "source": [
    "n = mod.obs.get_obs_nodes()[0]"
   ]
  },
  {
   "cell_type": "code",
   "execution_count": 33,
   "metadata": {},
   "outputs": [],
   "source": [
    "m = n.leaves[0]"
   ]
  },
  {
   "cell_type": "code",
   "execution_count": 34,
   "metadata": {},
   "outputs": [
    {
     "data": {
      "text/plain": [
       "'0_0'"
      ]
     },
     "execution_count": 34,
     "metadata": {},
     "output_type": "execute_result"
    }
   ],
   "source": [
    "m.label"
   ]
  },
  {
   "cell_type": "code",
   "execution_count": 35,
   "metadata": {},
   "outputs": [
    {
     "ename": "AttributeError",
     "evalue": "'ModelNode' object has no attribute 'band'",
     "output_type": "error",
     "traceback": [
      "\u001b[0;31m---------------------------------------------------------------------------\u001b[0m",
      "\u001b[0;31mAttributeError\u001b[0m                            Traceback (most recent call last)",
      "\u001b[0;32m<ipython-input-35-4bfac4697791>\u001b[0m in \u001b[0;36m<module>\u001b[0;34m()\u001b[0m\n\u001b[0;32m----> 1\u001b[0;31m \u001b[0mm\u001b[0m\u001b[0;34m.\u001b[0m\u001b[0mband\u001b[0m\u001b[0;34m\u001b[0m\u001b[0m\n\u001b[0m",
      "\u001b[0;31mAttributeError\u001b[0m: 'ModelNode' object has no attribute 'band'"
     ]
    }
   ],
   "source": [
    "m."
   ]
  },
  {
   "cell_type": "code",
   "execution_count": 30,
   "metadata": {},
   "outputs": [
    {
     "data": {
      "text/plain": [
       "{'0_0': [300, 9.7, 0.0, 300, 0.1]}"
      ]
     },
     "execution_count": 30,
     "metadata": {},
     "output_type": "execute_result"
    }
   ],
   "source": [
    "mod.obs.p2pardict(pars)"
   ]
  },
  {
   "cell_type": "code",
   "execution_count": 26,
   "metadata": {},
   "outputs": [],
   "source": [
    "bands = {n.band for n in mod.obs.get_obs_nodes()}\n",
    "props = {k for v in mod.obs.spectroscopy.values() for k in v.keys()}"
   ]
  },
  {
   "cell_type": "code",
   "execution_count": 28,
   "metadata": {},
   "outputs": [
    {
     "data": {
      "text/plain": [
       "set()"
      ]
     },
     "execution_count": 28,
     "metadata": {},
     "output_type": "execute_result"
    }
   ],
   "source": [
    "props - {'Teff', 'logg', 'feh'}"
   ]
  },
  {
   "cell_type": "code",
   "execution_count": 23,
   "metadata": {},
   "outputs": [
    {
     "data": {
      "text/plain": [
       "{'0_0': {'Teff': (5700, 50), 'logg': (4.5, 0.1)}}"
      ]
     },
     "execution_count": 23,
     "metadata": {},
     "output_type": "execute_result"
    }
   ],
   "source": [
    "mod.obs.spectroscopy"
   ]
  },
  {
   "cell_type": "code",
   "execution_count": 24,
   "metadata": {},
   "outputs": [
    {
     "data": {
      "text/plain": [
       "{'Teff', 'logg'}"
      ]
     },
     "execution_count": 24,
     "metadata": {},
     "output_type": "execute_result"
    }
   ],
   "source": []
  },
  {
   "cell_type": "code",
   "execution_count": 5,
   "metadata": {},
   "outputs": [
    {
     "ename": "AttributeError",
     "evalue": "'MIST_Isochrone' object has no attribute 'fehs'",
     "output_type": "error",
     "traceback": [
      "\u001b[0;31m---------------------------------------------------------------------------\u001b[0m",
      "\u001b[0;31mAttributeError\u001b[0m                            Traceback (most recent call last)",
      "\u001b[0;32m<ipython-input-5-bd58b90a5fc0>\u001b[0m in \u001b[0;36m<module>\u001b[0;34m()\u001b[0m\n\u001b[0;32m----> 1\u001b[0;31m \u001b[0miso\u001b[0m\u001b[0;34m.\u001b[0m\u001b[0mfehs\u001b[0m\u001b[0;34m\u001b[0m\u001b[0m\n\u001b[0m",
      "\u001b[0;31mAttributeError\u001b[0m: 'MIST_Isochrone' object has no attribute 'fehs'"
     ]
    }
   ],
   "source": [
    "iso.fehs"
   ]
  },
  {
   "cell_type": "code",
   "execution_count": 18,
   "metadata": {},
   "outputs": [],
   "source": [
    "eeps = [300., 350.]"
   ]
  },
  {
   "cell_type": "code",
   "execution_count": 19,
   "metadata": {},
   "outputs": [],
   "source": [
    "masses, dm_deeps = zip(*[iso.interp_value([eep, 9.5, -0.32], ['initial_mass', 'dm_deep']) for eep in eeps])"
   ]
  },
  {
   "cell_type": "code",
   "execution_count": 20,
   "metadata": {},
   "outputs": [
    {
     "data": {
      "text/plain": [
       "(0.6033972313086698, 1.0139212265028263)"
      ]
     },
     "execution_count": 20,
     "metadata": {},
     "output_type": "execute_result"
    }
   ],
   "source": [
    "masses"
   ]
  },
  {
   "cell_type": "code",
   "execution_count": 21,
   "metadata": {},
   "outputs": [
    {
     "data": {
      "text/plain": [
       "(-0.00015603156852549426, 0.0014208742570490662)"
      ]
     },
     "execution_count": 21,
     "metadata": {},
     "output_type": "execute_result"
    }
   ],
   "source": [
    "dm_deeps"
   ]
  },
  {
   "cell_type": "code",
   "execution_count": 5,
   "metadata": {},
   "outputs": [],
   "source": [
    "x = [(i, i**2) for i in range(5)]"
   ]
  },
  {
   "cell_type": "code",
   "execution_count": 15,
   "metadata": {},
   "outputs": [],
   "source": [
    "a, b = zip(*[(i, i**2) for i in range(5)])"
   ]
  },
  {
   "cell_type": "code",
   "execution_count": 16,
   "metadata": {},
   "outputs": [
    {
     "data": {
      "text/plain": [
       "(0, 1, 2, 3, 4)"
      ]
     },
     "execution_count": 16,
     "metadata": {},
     "output_type": "execute_result"
    }
   ],
   "source": [
    "a"
   ]
  },
  {
   "cell_type": "code",
   "execution_count": 17,
   "metadata": {},
   "outputs": [
    {
     "data": {
      "text/plain": [
       "(0, 1, 4, 9, 16)"
      ]
     },
     "execution_count": 17,
     "metadata": {},
     "output_type": "execute_result"
    }
   ],
   "source": [
    "b"
   ]
  },
  {
   "cell_type": "code",
   "execution_count": 9,
   "metadata": {},
   "outputs": [
    {
     "data": {
      "text/plain": [
       "array([[ 0,  0],\n",
       "       [ 1,  1],\n",
       "       [ 2,  4],\n",
       "       [ 3,  9],\n",
       "       [ 4, 16]])"
      ]
     },
     "execution_count": 9,
     "metadata": {},
     "output_type": "execute_result"
    }
   ],
   "source": [
    "import numpy as np\n",
    "np.vstack(x)"
   ]
  },
  {
   "cell_type": "code",
   "execution_count": 2,
   "metadata": {},
   "outputs": [
    {
     "name": "stderr",
     "output_type": "stream",
     "text": [
      "/Users/tdm/repositories/isochrones/isochrones/mist/models.py:42: RuntimeWarning: divide by zero encountered in log10\n",
      "  df['feh'] = df['log_surf_z'] - np.log10(df['surface_h1']) - np.log10(0.0181)  # Aaron Dotter says\n",
      "/Users/tdm/miniconda3/envs/isochrones/lib/python3.6/site-packages/pandas/core/indexing.py:517: SettingWithCopyWarning: \n",
      "A value is trying to be set on a copy of a slice from a DataFrame.\n",
      "Try using .loc[row_indexer,col_indexer] = value instead\n",
      "\n",
      "See the caveats in the documentation: http://pandas.pydata.org/pandas-docs/stable/indexing.html#indexing-view-versus-copy\n",
      "  self.obj[item] = s\n"
     ]
    },
    {
     "data": {
      "text/plain": [
       "array([ 6.03397231e-01, -1.56031569e-04])"
      ]
     },
     "execution_count": 2,
     "metadata": {},
     "output_type": "execute_result"
    }
   ],
   "source": [
    "import numpy as np\n",
    "\n",
    "pars = np.array([300., 9.5, -0.32, 400, 0.2])\n",
    "# pars = [np.arange(250, 260, 0.5), 9.5, -0.32, 400., 0.2]\n",
    "iso.interp_value(pars, ['initial_mass', 'dm_deep'])"
   ]
  },
  {
   "cell_type": "code",
   "execution_count": 2,
   "metadata": {},
   "outputs": [
    {
     "name": "stderr",
     "output_type": "stream",
     "text": [
      "/Users/tdm/repositories/isochrones/isochrones/mist/models.py:42: RuntimeWarning: divide by zero encountered in log10\n",
      "  df['feh'] = df['log_surf_z'] - np.log10(df['surface_h1']) - np.log10(0.0181)  # Aaron Dotter says\n",
      "/Users/tdm/miniconda3/envs/isochrones/lib/python3.6/site-packages/pandas/core/indexing.py:517: SettingWithCopyWarning: \n",
      "A value is trying to be set on a copy of a slice from a DataFrame.\n",
      "Try using .loc[row_indexer,col_indexer] = value instead\n",
      "\n",
      "See the caveats in the documentation: http://pandas.pydata.org/pandas-docs/stable/indexing.html#indexing-view-versus-copy\n",
      "  self.obj[item] = s\n"
     ]
    },
    {
     "data": {
      "text/plain": [
       "array([ 6.03397231e-01, -1.56031569e-04])"
      ]
     },
     "execution_count": 2,
     "metadata": {},
     "output_type": "execute_result"
    }
   ],
   "source": [
    "import numpy as np\n",
    "\n",
    "pars = np.array([300., 9.5, -0.32, 400, 0.2])\n",
    "# pars = [np.arange(250, 260, 0.5), 9.5, -0.32, 400., 0.2]\n",
    "iso.interp_value(pars, ['initial_mass', 'dm_deep'])"
   ]
  },
  {
   "cell_type": "code",
   "execution_count": 29,
   "metadata": {},
   "outputs": [
    {
     "data": {
      "text/plain": [
       "{'a': 1, 'b': 2}"
      ]
     },
     "execution_count": 29,
     "metadata": {},
     "output_type": "execute_result"
    }
   ],
   "source": [
    "dict((('a', 1), ('b', 2)))"
   ]
  },
  {
   "cell_type": "code",
   "execution_count": 10,
   "metadata": {},
   "outputs": [
    {
     "data": {
      "text/plain": [
       "(4327.112330581007,\n",
       " 4.696157851252527,\n",
       " -0.30820097729121776,\n",
       " array([8.09868503, 8.7955046 , 7.30504895]))"
      ]
     },
     "execution_count": 10,
     "metadata": {},
     "output_type": "execute_result"
    }
   ],
   "source": [
    "iso.interp_mag(pars, ['G', 'BP', 'RP'])"
   ]
  },
  {
   "cell_type": "code",
   "execution_count": 11,
   "metadata": {},
   "outputs": [
    {
     "name": "stdout",
     "output_type": "stream",
     "text": [
      "10000 loops, best of 3: 43.7 µs per loop\n"
     ]
    }
   ],
   "source": [
    "%timeit iso.interp_mag(pars, ['G', 'BP', 'RP'])"
   ]
  },
  {
   "cell_type": "code",
   "execution_count": 4,
   "metadata": {},
   "outputs": [
    {
     "name": "stdout",
     "output_type": "stream",
     "text": [
      "The slowest run took 4.94 times longer than the fastest. This could mean that an intermediate result is being cached.\n",
      "1000 loops, best of 3: 263 µs per loop\n"
     ]
    }
   ],
   "source": [
    "%timeit iso.interp_mag(pars, ['G', 'BP', 'RP'])"
   ]
  },
  {
   "cell_type": "code",
   "execution_count": 8,
   "metadata": {},
   "outputs": [
    {
     "data": {
      "text/plain": [
       "13.15"
      ]
     },
     "execution_count": 8,
     "metadata": {},
     "output_type": "execute_result"
    }
   ],
   "source": [
    "263 / len(pars[0])"
   ]
  },
  {
   "cell_type": "code",
   "execution_count": 6,
   "metadata": {},
   "outputs": [
    {
     "name": "stdout",
     "output_type": "stream",
     "text": [
      "The slowest run took 6.26 times longer than the fastest. This could mean that an intermediate result is being cached.\n",
      "100000 loops, best of 3: 10.5 µs per loop\n",
      "10000 loops, best of 3: 40.2 µs per loop\n"
     ]
    }
   ],
   "source": [
    "%timeit iso.interp_value(pars, ['radius'])\n",
    "%timeit iso.interp_mag(pars, ['G', 'BP', 'RP'])"
   ]
  },
  {
   "cell_type": "code",
   "execution_count": 14,
   "metadata": {},
   "outputs": [
    {
     "data": {
      "text/plain": [
       "array([[0.47348708],\n",
       "       [0.52528196],\n",
       "       [0.57510442],\n",
       "       [0.61745853],\n",
       "       [0.65225259],\n",
       "       [0.68787431],\n",
       "       [0.72669778],\n",
       "       [0.76969601],\n",
       "       [0.81714689],\n",
       "       [0.86869549]])"
      ]
     },
     "execution_count": 14,
     "metadata": {},
     "output_type": "execute_result"
    }
   ],
   "source": [
    "pars2 = np.array([0.67, 300, -0.23, 500, 0.6])\n",
    "pars2 = [np.arange(0.5, 1.0, 0.05), 300, -0.23, 500, 0.6]\n",
    "track.interp_value(pars2, ['radius'])"
   ]
  },
  {
   "cell_type": "code",
   "execution_count": 15,
   "metadata": {},
   "outputs": [
    {
     "data": {
      "text/plain": [
       "(array([3893.81844253, 4045.51151663, 4234.92425267, 4472.52351642,\n",
       "        4744.42251718, 5008.6848856 , 5253.91276537, 5479.11070963,\n",
       "        5685.5497841 , 5874.40749956]),\n",
       " array([4.78649349, 4.73771749, 4.69679525, 4.66983547, 4.65440739,\n",
       "        4.63818249, 4.61851914, 4.59491573, 4.56777767, 4.53816517]),\n",
       " array([-0.21686775, -0.21701548, -0.2160241 , -0.21434294, -0.21223029,\n",
       "        -0.21041783, -0.20930838, -0.2089884 , -0.20924481, -0.20993076]),\n",
       " array([[ 9.16135938, 10.16150747,  8.20113619],\n",
       "        [ 9.09469835, 10.01543052,  8.17281349],\n",
       "        [ 9.02165596,  9.85315172,  8.14668682],\n",
       "        [ 8.93453871,  9.6693252 ,  8.11566345],\n",
       "        [ 8.85252538,  9.49952819,  8.08939251],\n",
       "        [ 8.79650373,  9.3769123 ,  8.07967222],\n",
       "        [ 8.76193961,  9.2907239 ,  8.08331592],\n",
       "        [ 8.74352878,  9.23054526,  8.09755396],\n",
       "        [ 8.73515497,  9.18739378,  8.11785487],\n",
       "        [ 8.73240765,  9.15519738,  8.14059441]]))"
      ]
     },
     "execution_count": 15,
     "metadata": {},
     "output_type": "execute_result"
    }
   ],
   "source": [
    "track.interp_mag(pars2, ['G', 'BP', 'RP'])"
   ]
  },
  {
   "cell_type": "code",
   "execution_count": null,
   "metadata": {},
   "outputs": [],
   "source": []
  },
  {
   "cell_type": "code",
   "execution_count": 16,
   "metadata": {},
   "outputs": [
    {
     "name": "stdout",
     "output_type": "stream",
     "text": [
      "10000 loops, best of 3: 71.3 µs per loop\n",
      "10000 loops, best of 3: 192 µs per loop\n"
     ]
    }
   ],
   "source": [
    "%timeit track.interp_value(pars2, ['radius'])\n",
    "%timeit track.interp_mag(pars2, ['G', 'BP', 'RP'])"
   ]
  },
  {
   "cell_type": "code",
   "execution_count": 150,
   "metadata": {},
   "outputs": [],
   "source": [
    "from math import pi, log, sqrt\n",
    "LOG_ONE_OVER_ROOT_2PI = log(1./sqrt(2*pi))\n",
    "\n",
    "@jit(nopython=True)\n",
    "def star_lnlike(pars, index_order,\n",
    "                spec_vals, spec_uncs,\n",
    "                mag_vals, mag_uncs, i_mags,\n",
    "                model_grid, i_Teff, i_logg, i_feh, i_Mbol, \n",
    "                model_ii0, model_ii1, model_ii2, \n",
    "                bc_grid, bc_ii0, bc_ii1, bc_ii2, bc_ii3):\n",
    "\n",
    "    Teff, logg, mags = interp_mag(pars, index_order, model_grid, \n",
    "                                  i_Teff, i_logg, i_feh, i_Mbol, \n",
    "                                  model_ii0, model_ii1, model_ii2, \n",
    "                                  bc_grid, i_mags, bc_ii0, bc_ii1, bc_ii2, bc_ii3)\n",
    "    \n",
    "    lnlike = 0\n",
    "    \n",
    "    # Spec_vals are Teff, logg, feh\n",
    "    val = spec_vals[0]\n",
    "    unc = spec_uncs[0]\n",
    "    model_val = Teff\n",
    "    resid = (val - model_val)\n",
    "    lnlike += LOG_ONE_OVER_ROOT_2PI + log(unc) - 0.5 * resid * resid / (unc * unc)\n",
    "    \n",
    "    # logg\n",
    "    val = spec_vals[1]\n",
    "    unc = spec_uncs[1]\n",
    "    model_val = logg\n",
    "    resid = (val - model_val)\n",
    "    lnlike += LOG_ONE_OVER_ROOT_2PI + log(unc) - 0.5 * resid * resid / (unc * unc)\n",
    "        \n",
    "    # feh\n",
    "    val = spec_vals[2]\n",
    "    unc = spec_uncs[2]\n",
    "    model_val = pars[2]  # feh\n",
    "    resid = (val - model_val)\n",
    "    lnlike += LOG_ONE_OVER_ROOT_2PI + log(unc) - 0.5 * resid * resid / (unc * unc)\n",
    "    \n",
    "    for i in range(len(mag_vals)):\n",
    "        val = mag_vals[i]\n",
    "        unc = mag_uncs[i]\n",
    "        model_val = mags[i]\n",
    "        lnlike += LOG_ONE_OVER_ROOT_2PI + log(unc) - 0.5 * resid * resid / (unc * unc)\n",
    "        \n",
    "    return lnlike\n",
    "\n",
    "\n"
   ]
  },
  {
   "cell_type": "code",
   "execution_count": 151,
   "metadata": {},
   "outputs": [],
   "source": [
    "ic = MISTIsochrone()"
   ]
  },
  {
   "cell_type": "code",
   "execution_count": 152,
   "metadata": {},
   "outputs": [
    {
     "data": {
      "text/plain": [
       "(4185.087791021258,\n",
       " 4.660144730008982,\n",
       " array([7.11836734, 7.89965972, 6.27215866]))"
      ]
     },
     "execution_count": 152,
     "metadata": {},
     "output_type": "execute_result"
    }
   ],
   "source": [
    "pars = np.array([300., 9.5, 0.1, 200, 0.2])\n",
    "bands = ['G', 'BP', 'RP']\n",
    "ic.interp_mag(pars, bands)"
   ]
  },
  {
   "cell_type": "code",
   "execution_count": 153,
   "metadata": {},
   "outputs": [
    {
     "name": "stdout",
     "output_type": "stream",
     "text": [
      "The slowest run took 6.41 times longer than the fastest. This could mean that an intermediate result is being cached.\n",
      "100000 loops, best of 3: 10.8 µs per loop\n",
      "10000 loops, best of 3: 40.6 µs per loop\n"
     ]
    }
   ],
   "source": [
    "%timeit ic.interp_value(pars, ['logg', 'Teff'])\n",
    "%timeit ic.interp_mag(pars, bands)"
   ]
  },
  {
   "cell_type": "code",
   "execution_count": 154,
   "metadata": {},
   "outputs": [],
   "source": [
    "ic2 = MISTIsochrone_Track()"
   ]
  },
  {
   "cell_type": "code",
   "execution_count": 155,
   "metadata": {},
   "outputs": [
    {
     "data": {
      "text/plain": [
       "(5733.612979290512,\n",
       " 4.424850980556096,\n",
       " array([6.69414488, 7.06039213, 6.16097197]))"
      ]
     },
     "execution_count": 155,
     "metadata": {},
     "output_type": "execute_result"
    }
   ],
   "source": [
    "pars2 = np.array([1.01, 353, 0.11, 200, 0.2])\n",
    "ic2.interp_mag(pars2, bands)"
   ]
  },
  {
   "cell_type": "code",
   "execution_count": 156,
   "metadata": {},
   "outputs": [
    {
     "name": "stdout",
     "output_type": "stream",
     "text": [
      "The slowest run took 6.02 times longer than the fastest. This could mean that an intermediate result is being cached.\n",
      "100000 loops, best of 3: 10.8 µs per loop\n",
      "10000 loops, best of 3: 39.6 µs per loop\n"
     ]
    }
   ],
   "source": [
    "%timeit ic2.interp_value(pars2, ['logg', 'Teff', 'feh'])\n",
    "%timeit ic2.interp_mag(pars2, bands)"
   ]
  },
  {
   "cell_type": "code",
   "execution_count": 42,
   "metadata": {},
   "outputs": [],
   "source": [
    "from isochrones import StarModel\n",
    "from isochrones.priors import (salpeter_prior, feh_prior, q_prior,\n",
    "                               age_prior, distance_prior, AV_prior, \n",
    "                               FlatPrior)\n",
    "\n",
    "class BasicStarModel(StarModel):\n",
    "#     _not_a_band = ('RA','dec','ra','Dec','maxAV','parallax','AV',\n",
    "#                   'logg','Teff','feh','density', 'separation',\n",
    "#                   'PA','resolution','relative','N','index', 'id')\n",
    "    \n",
    "    def __init__(self, ic, **kwargs):\n",
    "        self._ic = ic\n",
    "        self.kwargs = kwargs\n",
    "\n",
    "        self.bands = [k for k in kwargs if k in self.ic.bc_grid.bands]\n",
    "        self.props = [k for k in kwargs if k in self._not_a_band]\n",
    "                \n",
    "        self.spec_props = [self.kwargs[k] for k in ['Teff', 'logg', 'feh']]\n",
    "        \n",
    "        self._priors = {'mass':salpeter_prior,\n",
    "                        'feh':feh_prior,\n",
    "                        'q':q_prior,\n",
    "                        'age':age_prior,\n",
    "                        'distance':distance_prior,\n",
    "                        'AV':AV_prior,\n",
    "                        'eep':FlatPrior(bounds=(self.ic.mineep, self.ic.maxeep))}\n",
    "\n",
    "        self._bounds = {'mass':None,\n",
    "                        'feh':None,\n",
    "                        'age':None,\n",
    "                        'q':q_prior.bounds,\n",
    "                        'distance':distance_prior.bounds,\n",
    "                        'AV':AV_prior.bounds,\n",
    "                        'eep':(self.ic.mineep, self.ic.maxeep)}\n",
    "\n",
    "        if 'maxAV' in kwargs:\n",
    "            self.set_bounds(AV=(0, kwargs['maxAV']))\n",
    "\n",
    "        if 'max_distance' in kwargs:\n",
    "            self.set_bounds(distance=(0, kwargs['max_distance']))\n",
    "            \n",
    "    def bounds(self, prop):\n",
    "        if self._bounds[prop] is not None:\n",
    "            return self._bounds[prop]\n",
    "        elif prop=='mass':\n",
    "            lo, hi = (self.ic.minmass, self.ic.maxmass)\n",
    "            self._bounds['mass'] = (lo, hi)\n",
    "            self._priors['mass'].bounds = (lo, hi)\n",
    "        elif prop=='feh':\n",
    "            lo, hi = (self.ic.minfeh, self.ic.maxfeh)\n",
    "            self._bounds['feh'] = (lo, hi)\n",
    "            self._priors['feh'].bounds = (lo, hi)\n",
    "        elif prop=='age':\n",
    "            lo, hi = (self.ic.minage, self.ic.maxage)\n",
    "            self._bounds['age'] = (lo, hi)\n",
    "            self._priors['age'].bounds = (lo, hi)\n",
    "            self._bounds['age'] = (self.ic.minage,\n",
    "                                   self.ic.maxage)\n",
    "        else:\n",
    "            raise ValueError('Unknown property {}'.format(prop))\n",
    "        return self._bounds[prop]\n",
    "\n",
    "    def set_bounds(self, **kwargs):\n",
    "        for k,v in kwargs.items():\n",
    "            if len(v) != 2:\n",
    "                raise ValueError('Must provide (min, max)')\n",
    "            self._bounds[k] = v\n",
    "            self._priors[k].bounds = v\n",
    "\n",
    "    def lnlike(self, pars):\n",
    "        spec_vals = [self.kwargs[prop][0] for prop in ['Teff', 'logg', 'feh']]\n",
    "        spec_uncs = [self.kwargs[prop][1] for prop in ['Teff', 'logg', 'feh']]\n",
    "        mag_vals = [self.kwargs[b][0] for b in self.bands]\n",
    "        mag_uncs = [self.kwargs[b][1] for b in self.bands]\n",
    "        i_mags = [self.ic.bc_grid.interp.column_index[b] for b in self.bands]\n",
    "        \n",
    "        return star_lnlike(pars, spec_vals, spec_uncs,\n",
    "                           mag_vals, mag_uncs, i_mags, \n",
    "                           self.ic.model_grid.interp.grid, 10, 12, 7,\n",
    "                           *self.ic.model_grid.interp.index_columns,\n",
    "                           self.ic.bc_grid.interp.grid, \n",
    "                           *self.ic.bc_grid.interp.index_columns)\n",
    "    \n",
    "    def lnprior(self, pars):\n",
    "        lnp = 0\n",
    "        \n",
    "        # Get prior for EEP:  p(EEP) = p(M) * d(M)/d(EEP)"
   ]
  },
  {
   "cell_type": "code",
   "execution_count": 51,
   "metadata": {},
   "outputs": [],
   "source": [
    "%load_ext line_profiler"
   ]
  },
  {
   "cell_type": "code",
   "execution_count": 56,
   "metadata": {},
   "outputs": [
    {
     "data": {
      "text/plain": [
       "Timer unit: 1e-06 s\n",
       "\n",
       "Total time: 0.001681 s\n",
       "File: <ipython-input-40-3ad5a92c2310>\n",
       "Function: interp_value at line 27\n",
       "\n",
       "Line #      Hits         Time  Per Hit   % Time  Line Contents\n",
       "==============================================================\n",
       "    27                                               def interp_value(self, pars, props):\n",
       "    28                                                   \"\"\"\n",
       "    29                                                   \n",
       "    30                                                   pars : age, feh, eep, [distance, AV]\n",
       "    31                                                   \"\"\"\n",
       "    32         1         86.0     86.0      5.1          pars = np.atleast_1d(pars[self.param_index_order])\n",
       "    33         1       1595.0   1595.0     94.9          return self.model_grid.interp(pars, props)"
      ]
     },
     "metadata": {},
     "output_type": "display_data"
    }
   ],
   "source": [
    "%lprun -f MISTIsochrone.interp_value ic2.interp_value(pars2, ['logg', 'Teff', 'feh'])"
   ]
  },
  {
   "cell_type": "code",
   "execution_count": 47,
   "metadata": {},
   "outputs": [
    {
     "name": "stdout",
     "output_type": "stream",
     "text": [
      "The slowest run took 5.22 times longer than the fastest. This could mean that an intermediate result is being cached.\n",
      "100000 loops, best of 3: 12 µs per loop\n"
     ]
    }
   ],
   "source": [
    "%timeit ic2.interp_value(pars2, ['logg', 'Teff'])"
   ]
  },
  {
   "cell_type": "code",
   "execution_count": 57,
   "metadata": {},
   "outputs": [
    {
     "ename": "AttributeError",
     "evalue": "'MISTIsochrone' object has no attribute 'mineep'",
     "output_type": "error",
     "traceback": [
      "\u001b[0;31m---------------------------------------------------------------------------\u001b[0m",
      "\u001b[0;31mAttributeError\u001b[0m                            Traceback (most recent call last)",
      "\u001b[0;32m<ipython-input-57-9c0ddc22f487>\u001b[0m in \u001b[0;36m<module>\u001b[0;34m()\u001b[0m\n\u001b[0;32m----> 1\u001b[0;31m \u001b[0mmod\u001b[0m \u001b[0;34m=\u001b[0m \u001b[0mBasicStarModel\u001b[0m\u001b[0;34m(\u001b[0m\u001b[0mic\u001b[0m\u001b[0;34m,\u001b[0m \u001b[0mTeff\u001b[0m\u001b[0;34m=\u001b[0m\u001b[0;34m(\u001b[0m\u001b[0;36m5700.\u001b[0m\u001b[0;34m,\u001b[0m \u001b[0;36m50.\u001b[0m\u001b[0;34m)\u001b[0m\u001b[0;34m,\u001b[0m \u001b[0mlogg\u001b[0m\u001b[0;34m=\u001b[0m\u001b[0;34m(\u001b[0m\u001b[0;36m4.44\u001b[0m\u001b[0;34m,\u001b[0m \u001b[0;36m0.1\u001b[0m\u001b[0;34m)\u001b[0m\u001b[0;34m,\u001b[0m \u001b[0mfeh\u001b[0m\u001b[0;34m=\u001b[0m\u001b[0;34m(\u001b[0m\u001b[0;36m0.0\u001b[0m\u001b[0;34m,\u001b[0m \u001b[0;36m0.1\u001b[0m\u001b[0;34m)\u001b[0m\u001b[0;34m,\u001b[0m \u001b[0mG\u001b[0m\u001b[0;34m=\u001b[0m\u001b[0;34m(\u001b[0m\u001b[0;36m9.71\u001b[0m\u001b[0;34m,\u001b[0m \u001b[0;36m0.01\u001b[0m\u001b[0;34m)\u001b[0m\u001b[0;34m,\u001b[0m \u001b[0mBP\u001b[0m\u001b[0;34m=\u001b[0m\u001b[0;34m(\u001b[0m\u001b[0;36m9.85\u001b[0m\u001b[0;34m,\u001b[0m \u001b[0;36m0.01\u001b[0m\u001b[0;34m)\u001b[0m\u001b[0;34m)\u001b[0m\u001b[0;34m\u001b[0m\u001b[0m\n\u001b[0m",
      "\u001b[0;32m<ipython-input-42-c02b4a6296c0>\u001b[0m in \u001b[0;36m__init__\u001b[0;34m(self, ic, **kwargs)\u001b[0m\n\u001b[1;32m     24\u001b[0m                         \u001b[0;34m'distance'\u001b[0m\u001b[0;34m:\u001b[0m\u001b[0mdistance_prior\u001b[0m\u001b[0;34m,\u001b[0m\u001b[0;34m\u001b[0m\u001b[0m\n\u001b[1;32m     25\u001b[0m                         \u001b[0;34m'AV'\u001b[0m\u001b[0;34m:\u001b[0m\u001b[0mAV_prior\u001b[0m\u001b[0;34m,\u001b[0m\u001b[0;34m\u001b[0m\u001b[0m\n\u001b[0;32m---> 26\u001b[0;31m                         'eep':FlatPrior(bounds=(self.ic.mineep, self.ic.maxeep))}\n\u001b[0m\u001b[1;32m     27\u001b[0m \u001b[0;34m\u001b[0m\u001b[0m\n\u001b[1;32m     28\u001b[0m         self._bounds = {'mass':None,\n",
      "\u001b[0;31mAttributeError\u001b[0m: 'MISTIsochrone' object has no attribute 'mineep'"
     ]
    }
   ],
   "source": [
    "mod = BasicStarModel(ic, Teff=(5700., 50.), logg=(4.44, 0.1), feh=(0.0, 0.1), G=(9.71, 0.01), BP=(9.85, 0.01))"
   ]
  },
  {
   "cell_type": "code",
   "execution_count": 97,
   "metadata": {},
   "outputs": [],
   "source": [
    "pars = np.array([300, 8.54, -0.4, 200., 0.1])"
   ]
  },
  {
   "cell_type": "code",
   "execution_count": 98,
   "metadata": {},
   "outputs": [
    {
     "data": {
      "text/plain": [
       "-2250.4050015378325"
      ]
     },
     "execution_count": 98,
     "metadata": {},
     "output_type": "execute_result"
    }
   ],
   "source": [
    "mod.lnlike(pars)"
   ]
  },
  {
   "cell_type": "code",
   "execution_count": 99,
   "metadata": {},
   "outputs": [
    {
     "name": "stdout",
     "output_type": "stream",
     "text": [
      "10000 loops, best of 3: 54.3 µs per loop\n"
     ]
    }
   ],
   "source": [
    "%timeit mod.lnlike(pars)"
   ]
  },
  {
   "cell_type": "code",
   "execution_count": 90,
   "metadata": {},
   "outputs": [
    {
     "ename": "AttributeError",
     "evalue": "'BasicStarModel' object has no attribute 'obs'",
     "output_type": "error",
     "traceback": [
      "\u001b[0;31m---------------------------------------------------------------------------\u001b[0m",
      "\u001b[0;31mAttributeError\u001b[0m                            Traceback (most recent call last)",
      "\u001b[0;32m<ipython-input-90-ebe05746344f>\u001b[0m in \u001b[0;36m<module>\u001b[0;34m()\u001b[0m\n\u001b[0;32m----> 1\u001b[0;31m \u001b[0mmod\u001b[0m\u001b[0;34m.\u001b[0m\u001b[0mlnpost\u001b[0m\u001b[0;34m(\u001b[0m\u001b[0mpars\u001b[0m\u001b[0;34m)\u001b[0m\u001b[0;34m\u001b[0m\u001b[0m\n\u001b[0m",
      "\u001b[0;32m/Users/tdm/repositories/isochrones/isochrones/starmodel.py\u001b[0m in \u001b[0;36mlnpost\u001b[0;34m(self, p, **kwargs)\u001b[0m\n\u001b[1;32m    484\u001b[0m \u001b[0;34m\u001b[0m\u001b[0m\n\u001b[1;32m    485\u001b[0m     \u001b[0;32mdef\u001b[0m \u001b[0mlnpost\u001b[0m\u001b[0;34m(\u001b[0m\u001b[0mself\u001b[0m\u001b[0;34m,\u001b[0m \u001b[0mp\u001b[0m\u001b[0;34m,\u001b[0m \u001b[0;34m**\u001b[0m\u001b[0mkwargs\u001b[0m\u001b[0;34m)\u001b[0m\u001b[0;34m:\u001b[0m\u001b[0;34m\u001b[0m\u001b[0m\n\u001b[0;32m--> 486\u001b[0;31m         \u001b[0mlnpr\u001b[0m \u001b[0;34m=\u001b[0m \u001b[0mself\u001b[0m\u001b[0;34m.\u001b[0m\u001b[0mlnprior\u001b[0m\u001b[0;34m(\u001b[0m\u001b[0mp\u001b[0m\u001b[0;34m)\u001b[0m\u001b[0;34m\u001b[0m\u001b[0m\n\u001b[0m\u001b[1;32m    487\u001b[0m         \u001b[0;32mif\u001b[0m \u001b[0;32mnot\u001b[0m \u001b[0mnp\u001b[0m\u001b[0;34m.\u001b[0m\u001b[0misfinite\u001b[0m\u001b[0;34m(\u001b[0m\u001b[0mlnpr\u001b[0m\u001b[0;34m)\u001b[0m\u001b[0;34m:\u001b[0m\u001b[0;34m\u001b[0m\u001b[0m\n\u001b[1;32m    488\u001b[0m             \u001b[0;32mreturn\u001b[0m \u001b[0mlnpr\u001b[0m\u001b[0;34m\u001b[0m\u001b[0m\n",
      "\u001b[0;32m/Users/tdm/repositories/isochrones/isochrones/starmodel.py\u001b[0m in \u001b[0;36mlnprior\u001b[0;34m(self, p)\u001b[0m\n\u001b[1;32m    494\u001b[0m \u001b[0;34m\u001b[0m\u001b[0m\n\u001b[1;32m    495\u001b[0m     \u001b[0;32mdef\u001b[0m \u001b[0mlnprior\u001b[0m\u001b[0;34m(\u001b[0m\u001b[0mself\u001b[0m\u001b[0;34m,\u001b[0m \u001b[0mp\u001b[0m\u001b[0;34m)\u001b[0m\u001b[0;34m:\u001b[0m\u001b[0;34m\u001b[0m\u001b[0m\n\u001b[0;32m--> 496\u001b[0;31m         \u001b[0mN\u001b[0m \u001b[0;34m=\u001b[0m \u001b[0mself\u001b[0m\u001b[0;34m.\u001b[0m\u001b[0mobs\u001b[0m\u001b[0;34m.\u001b[0m\u001b[0mNstars\u001b[0m\u001b[0;34m\u001b[0m\u001b[0m\n\u001b[0m\u001b[1;32m    497\u001b[0m         \u001b[0mi\u001b[0m \u001b[0;34m=\u001b[0m \u001b[0;36m0\u001b[0m\u001b[0;34m\u001b[0m\u001b[0m\n\u001b[1;32m    498\u001b[0m         \u001b[0mlnp\u001b[0m \u001b[0;34m=\u001b[0m \u001b[0;36m0\u001b[0m\u001b[0;34m\u001b[0m\u001b[0m\n",
      "\u001b[0;31mAttributeError\u001b[0m: 'BasicStarModel' object has no attribute 'obs'"
     ]
    }
   ],
   "source": [
    "mod.lnpost(pars)"
   ]
  },
  {
   "cell_type": "code",
   "execution_count": null,
   "metadata": {},
   "outputs": [],
   "source": [
    "ic.model_grid.interp.column_index"
   ]
  },
  {
   "cell_type": "code",
   "execution_count": 56,
   "metadata": {},
   "outputs": [
    {
     "data": {
      "text/plain": [
       "Index(['EEP', 'log10_isochrone_age_yr', 'initial_mass', 'star_mass',\n",
       "       'star_mdot', 'he_core_mass', 'c_core_mass', 'log_L', 'log_LH',\n",
       "       'log_LHe', 'log_Teff', 'log_R', 'log_g', 'surface_h1', 'surface_he3',\n",
       "       'surface_he4', 'surface_c12', 'surface_o16', 'log_center_T',\n",
       "       'log_center_Rho', 'center_gamma', 'center_h1', 'center_he4',\n",
       "       'center_c12', 'phase', 'feh', 'dm_deep'],\n",
       "      dtype='object')"
      ]
     },
     "execution_count": 56,
     "metadata": {},
     "output_type": "execute_result"
    }
   ],
   "source": [
    "ic.model_grid.df.columns"
   ]
  },
  {
   "cell_type": "code",
   "execution_count": 54,
   "metadata": {},
   "outputs": [],
   "source": [
    "pars = np.array([8.54, -0.4, 300., 200., 0.1])"
   ]
  },
  {
   "cell_type": "code",
   "execution_count": 55,
   "metadata": {},
   "outputs": [
    {
     "name": "stdout",
     "output_type": "stream",
     "text": [
      "The slowest run took 33873.93 times longer than the fastest. This could mean that an intermediate result is being cached.\n",
      "1 loop, best of 3: 33.7 µs per loop\n"
     ]
    }
   ],
   "source": [
    "%timeit ic.interp_mag(pars, ['G', 'BP', 'RP', 'J', 'H', 'K'])"
   ]
  },
  {
   "cell_type": "code",
   "execution_count": 56,
   "metadata": {},
   "outputs": [
    {
     "data": {
      "text/plain": [
       "['J', 'H', 'K', 'G', 'TESS', 'BP']"
      ]
     },
     "execution_count": 56,
     "metadata": {},
     "output_type": "execute_result"
    }
   ],
   "source": [
    "ic.bc_grid.bands"
   ]
  },
  {
   "cell_type": "code",
   "execution_count": 59,
   "metadata": {},
   "outputs": [
    {
     "name": "stdout",
     "output_type": "stream",
     "text": [
      "The line_profiler extension is already loaded. To reload it, use:\n",
      "  %reload_ext line_profiler\n"
     ]
    }
   ],
   "source": [
    "%load_ext line_profiler"
   ]
  },
  {
   "cell_type": "code",
   "execution_count": 61,
   "metadata": {},
   "outputs": [
    {
     "data": {
      "text/plain": [
       "Timer unit: 1e-06 s\n",
       "\n",
       "Total time: 0.00012 s\n",
       "File: <ipython-input-52-2b6bb4589e2b>\n",
       "Function: interp_mag at line 32\n",
       "\n",
       "Line #      Hits         Time  Per Hit   % Time  Line Contents\n",
       "==============================================================\n",
       "    32                                               def interp_mag(self, pars, bands):\n",
       "    33                                                   \"\"\"\n",
       "    34                                                   \n",
       "    35                                                   pars : age, feh, eep, distance, AV\n",
       "    36                                                   \"\"\"\n",
       "    37         1         55.0     55.0     45.8          logTeff, logg, logL = self.model_grid.interp(pars[:3], ['log_Teff', 'log_g', 'log_L'])\n",
       "    38                                           \n",
       "    39         1         11.0     11.0      9.2          bc_pars = np.array([10**logTeff, logg, pars[1], pars[4]])  # pars[0] is feh\n",
       "    40         1         30.0     30.0     25.0          bc = self.bc_grid.interp(bc_pars, bands)        \n",
       "    41                                               \n",
       "    42         1          2.0      2.0      1.7          mBol = 4.74 - 2.5 * logL\n",
       "    43         1         14.0     14.0     11.7          dist_mod = 5 * np.log10(pars[3]/10)\n",
       "    44                                                   \n",
       "    45         1          8.0      8.0      6.7          return logTeff, logg, mBol + dist_mod - bc"
      ]
     },
     "metadata": {},
     "output_type": "display_data"
    }
   ],
   "source": [
    "%lprun -f ic.interp_mag ic.interp_mag(np.array([8.54, -0.4, 300., 200., 0.1]), ['G', 'BP'])"
   ]
  },
  {
   "cell_type": "code",
   "execution_count": 63,
   "metadata": {},
   "outputs": [
    {
     "data": {
      "text/plain": [
       "(3.873409202781381, 4.369675032445283, array([9.71631876, 9.85953556]))"
      ]
     },
     "execution_count": 63,
     "metadata": {},
     "output_type": "execute_result"
    }
   ],
   "source": [
    "ic.interp_mag(np.array([8.54, -0.4, 300., 200., 0.1]), ['G', 'BP'])"
   ]
  },
  {
   "cell_type": "code",
   "execution_count": 66,
   "metadata": {},
   "outputs": [],
   "source": [
    "from isochrones import StarModel as StarModelOld\n",
    "from isochrones import get_ichrone\n",
    "\n",
    "mist = get_ichrone('mist')\n",
    "\n",
    "mod_old = StarModelOld(mist, Teff=(5700, 50), logg=(4.44, 0.1), G=(9.71, 0.01), BP=(9.85, 0.01))"
   ]
  },
  {
   "cell_type": "code",
   "execution_count": 67,
   "metadata": {},
   "outputs": [
    {
     "ename": "KeyError",
     "evalue": "'P'",
     "output_type": "error",
     "traceback": [
      "\u001b[0;31m---------------------------------------------------------------------------\u001b[0m",
      "\u001b[0;31mKeyError\u001b[0m                                  Traceback (most recent call last)",
      "\u001b[0;32m<ipython-input-67-f97906d90587>\u001b[0m in \u001b[0;36m<module>\u001b[0;34m()\u001b[0m\n\u001b[0;32m----> 1\u001b[0;31m \u001b[0mmod_old\u001b[0m\u001b[0;34m.\u001b[0m\u001b[0mlnlike\u001b[0m\u001b[0;34m(\u001b[0m\u001b[0;34m[\u001b[0m\u001b[0;36m400\u001b[0m\u001b[0;34m,\u001b[0m \u001b[0;36m9.6\u001b[0m\u001b[0;34m,\u001b[0m \u001b[0;36m0.1\u001b[0m\u001b[0;34m,\u001b[0m \u001b[0;36m200\u001b[0m\u001b[0;34m,\u001b[0m \u001b[0;36m0.1\u001b[0m\u001b[0;34m]\u001b[0m\u001b[0;34m)\u001b[0m\u001b[0;34m\u001b[0m\u001b[0m\n\u001b[0m",
      "\u001b[0;32m/Users/tdm/repositories/isochrones/isochrones/starmodel.py\u001b[0m in \u001b[0;36mlnlike\u001b[0;34m(self, p, **kwargs)\u001b[0m\n\u001b[1;32m    490\u001b[0m \u001b[0;34m\u001b[0m\u001b[0m\n\u001b[1;32m    491\u001b[0m     \u001b[0;32mdef\u001b[0m \u001b[0mlnlike\u001b[0m\u001b[0;34m(\u001b[0m\u001b[0mself\u001b[0m\u001b[0;34m,\u001b[0m \u001b[0mp\u001b[0m\u001b[0;34m,\u001b[0m \u001b[0;34m**\u001b[0m\u001b[0mkwargs\u001b[0m\u001b[0;34m)\u001b[0m\u001b[0;34m:\u001b[0m\u001b[0;34m\u001b[0m\u001b[0m\n\u001b[0;32m--> 492\u001b[0;31m         \u001b[0mlnl\u001b[0m \u001b[0;34m=\u001b[0m \u001b[0mself\u001b[0m\u001b[0;34m.\u001b[0m\u001b[0mobs\u001b[0m\u001b[0;34m.\u001b[0m\u001b[0mlnlike\u001b[0m\u001b[0;34m(\u001b[0m\u001b[0mp\u001b[0m\u001b[0;34m,\u001b[0m \u001b[0;34m**\u001b[0m\u001b[0mkwargs\u001b[0m\u001b[0;34m)\u001b[0m\u001b[0;34m\u001b[0m\u001b[0m\n\u001b[0m\u001b[1;32m    493\u001b[0m         \u001b[0;32mreturn\u001b[0m \u001b[0mlnl\u001b[0m\u001b[0;34m\u001b[0m\u001b[0m\n\u001b[1;32m    494\u001b[0m \u001b[0;34m\u001b[0m\u001b[0m\n",
      "\u001b[0;32m/Users/tdm/repositories/isochrones/isochrones/observation.py\u001b[0m in \u001b[0;36mlnlike\u001b[0;34m(self, p, use_cache)\u001b[0m\n\u001b[1;32m   1193\u001b[0m         \u001b[0;32mfor\u001b[0m \u001b[0mn\u001b[0m \u001b[0;32min\u001b[0m \u001b[0mself\u001b[0m\u001b[0;34m:\u001b[0m\u001b[0;34m\u001b[0m\u001b[0m\n\u001b[1;32m   1194\u001b[0m             \u001b[0;32mif\u001b[0m \u001b[0mn\u001b[0m \u001b[0;32mis\u001b[0m \u001b[0;32mnot\u001b[0m \u001b[0mself\u001b[0m\u001b[0;34m:\u001b[0m\u001b[0;34m\u001b[0m\u001b[0m\n\u001b[0;32m-> 1195\u001b[0;31m                 \u001b[0mlnl\u001b[0m \u001b[0;34m+=\u001b[0m \u001b[0mn\u001b[0m\u001b[0;34m.\u001b[0m\u001b[0mlnlike\u001b[0m\u001b[0;34m(\u001b[0m\u001b[0mpardict\u001b[0m\u001b[0;34m,\u001b[0m \u001b[0muse_cache\u001b[0m\u001b[0;34m=\u001b[0m\u001b[0muse_cache\u001b[0m\u001b[0;34m)\u001b[0m\u001b[0;34m\u001b[0m\u001b[0m\n\u001b[0m\u001b[1;32m   1196\u001b[0m             \u001b[0;32mif\u001b[0m \u001b[0;32mnot\u001b[0m \u001b[0mnp\u001b[0m\u001b[0;34m.\u001b[0m\u001b[0misfinite\u001b[0m\u001b[0;34m(\u001b[0m\u001b[0mlnl\u001b[0m\u001b[0;34m)\u001b[0m\u001b[0;34m:\u001b[0m\u001b[0;34m\u001b[0m\u001b[0m\n\u001b[1;32m   1197\u001b[0m                 \u001b[0mself\u001b[0m\u001b[0;34m.\u001b[0m\u001b[0m_cache_val\u001b[0m \u001b[0;34m=\u001b[0m \u001b[0;34m-\u001b[0m\u001b[0mnp\u001b[0m\u001b[0;34m.\u001b[0m\u001b[0minf\u001b[0m\u001b[0;34m\u001b[0m\u001b[0m\n",
      "\u001b[0;32m/Users/tdm/repositories/isochrones/isochrones/observation.py\u001b[0m in \u001b[0;36mlnlike\u001b[0;34m(self, pardict, use_cache)\u001b[0m\n\u001b[1;32m    497\u001b[0m             \u001b[0mmag\u001b[0m \u001b[0;34m-=\u001b[0m \u001b[0mself\u001b[0m\u001b[0;34m.\u001b[0m\u001b[0mreference\u001b[0m\u001b[0;34m.\u001b[0m\u001b[0mvalue\u001b[0m\u001b[0;34m[\u001b[0m\u001b[0;36m0\u001b[0m\u001b[0;34m]\u001b[0m\u001b[0;34m\u001b[0m\u001b[0m\n\u001b[1;32m    498\u001b[0m         \u001b[0;32melse\u001b[0m\u001b[0;34m:\u001b[0m\u001b[0;34m\u001b[0m\u001b[0m\n\u001b[0;32m--> 499\u001b[0;31m             \u001b[0mmod\u001b[0m \u001b[0;34m=\u001b[0m \u001b[0mself\u001b[0m\u001b[0;34m.\u001b[0m\u001b[0mmodel_mag\u001b[0m\u001b[0;34m(\u001b[0m\u001b[0mpardict\u001b[0m\u001b[0;34m,\u001b[0m \u001b[0muse_cache\u001b[0m\u001b[0;34m=\u001b[0m\u001b[0muse_cache\u001b[0m\u001b[0;34m)\u001b[0m\u001b[0;34m\u001b[0m\u001b[0m\n\u001b[0m\u001b[1;32m    500\u001b[0m \u001b[0;34m\u001b[0m\u001b[0m\n\u001b[1;32m    501\u001b[0m         \u001b[0mlnl\u001b[0m \u001b[0;34m=\u001b[0m \u001b[0;34m-\u001b[0m\u001b[0;36m0.5\u001b[0m\u001b[0;34m*\u001b[0m\u001b[0;34m(\u001b[0m\u001b[0mmag\u001b[0m \u001b[0;34m-\u001b[0m \u001b[0mmod\u001b[0m\u001b[0;34m)\u001b[0m\u001b[0;34m**\u001b[0m\u001b[0;36m2\u001b[0m \u001b[0;34m/\u001b[0m \u001b[0mdmag\u001b[0m\u001b[0;34m**\u001b[0m\u001b[0;36m2\u001b[0m\u001b[0;34m\u001b[0m\u001b[0m\n",
      "\u001b[0;32m/Users/tdm/repositories/isochrones/isochrones/observation.py\u001b[0m in \u001b[0;36mmodel_mag\u001b[0;34m(self, pardict, use_cache)\u001b[0m\n\u001b[1;32m    470\u001b[0m         \u001b[0;31m#print('Building {} mag for {}:'.format(self.band, self))\u001b[0m\u001b[0;34m\u001b[0m\u001b[0;34m\u001b[0m\u001b[0m\n\u001b[1;32m    471\u001b[0m         \u001b[0;32mfor\u001b[0m \u001b[0mi\u001b[0m\u001b[0;34m,\u001b[0m\u001b[0mm\u001b[0m \u001b[0;32min\u001b[0m \u001b[0menumerate\u001b[0m\u001b[0;34m(\u001b[0m\u001b[0mself\u001b[0m\u001b[0;34m.\u001b[0m\u001b[0mleaves\u001b[0m\u001b[0;34m)\u001b[0m\u001b[0;34m:\u001b[0m\u001b[0;34m\u001b[0m\u001b[0m\n\u001b[0;32m--> 472\u001b[0;31m             \u001b[0mmag\u001b[0m \u001b[0;34m=\u001b[0m \u001b[0mm\u001b[0m\u001b[0;34m.\u001b[0m\u001b[0mevaluate\u001b[0m\u001b[0;34m(\u001b[0m\u001b[0mp\u001b[0m\u001b[0;34m[\u001b[0m\u001b[0mi\u001b[0m\u001b[0;34m*\u001b[0m\u001b[0;36m5\u001b[0m\u001b[0;34m:\u001b[0m\u001b[0;34m(\u001b[0m\u001b[0mi\u001b[0m\u001b[0;34m+\u001b[0m\u001b[0;36m1\u001b[0m\u001b[0;34m)\u001b[0m\u001b[0;34m*\u001b[0m\u001b[0;36m5\u001b[0m\u001b[0;34m]\u001b[0m\u001b[0;34m,\u001b[0m \u001b[0mself\u001b[0m\u001b[0;34m.\u001b[0m\u001b[0mband\u001b[0m\u001b[0;34m)\u001b[0m\u001b[0;34m\u001b[0m\u001b[0m\n\u001b[0m\u001b[1;32m    473\u001b[0m             \u001b[0;31m# logging.debug('{}: mag={}'.format(self,mag))\u001b[0m\u001b[0;34m\u001b[0m\u001b[0;34m\u001b[0m\u001b[0m\n\u001b[1;32m    474\u001b[0m             \u001b[0;31m#print('{}: {}({}) = {}'.format(m,self.band,p[i*5:(i+1)*5],mag))\u001b[0m\u001b[0;34m\u001b[0m\u001b[0;34m\u001b[0m\u001b[0m\n",
      "\u001b[0;32m/Users/tdm/repositories/isochrones/isochrones/observation.py\u001b[0m in \u001b[0;36mevaluate\u001b[0;34m(self, p, prop)\u001b[0m\n\u001b[1;32m    574\u001b[0m     \u001b[0;32mdef\u001b[0m \u001b[0mevaluate\u001b[0m\u001b[0;34m(\u001b[0m\u001b[0mself\u001b[0m\u001b[0;34m,\u001b[0m \u001b[0mp\u001b[0m\u001b[0;34m,\u001b[0m \u001b[0mprop\u001b[0m\u001b[0;34m)\u001b[0m\u001b[0;34m:\u001b[0m\u001b[0;34m\u001b[0m\u001b[0m\n\u001b[1;32m    575\u001b[0m         \u001b[0;32mif\u001b[0m \u001b[0mprop\u001b[0m \u001b[0;32min\u001b[0m \u001b[0mself\u001b[0m\u001b[0;34m.\u001b[0m\u001b[0mic\u001b[0m\u001b[0;34m.\u001b[0m\u001b[0mbands\u001b[0m\u001b[0;34m:\u001b[0m\u001b[0;34m\u001b[0m\u001b[0m\n\u001b[0;32m--> 576\u001b[0;31m             \u001b[0;32mreturn\u001b[0m \u001b[0mself\u001b[0m\u001b[0;34m.\u001b[0m\u001b[0mevaluate_mag\u001b[0m\u001b[0;34m(\u001b[0m\u001b[0mp\u001b[0m\u001b[0;34m,\u001b[0m \u001b[0mprop\u001b[0m\u001b[0;34m)\u001b[0m\u001b[0;34m\u001b[0m\u001b[0m\n\u001b[0m\u001b[1;32m    577\u001b[0m         \u001b[0;32melif\u001b[0m \u001b[0mprop\u001b[0m\u001b[0;34m==\u001b[0m\u001b[0;34m'mass'\u001b[0m\u001b[0;34m:\u001b[0m\u001b[0;34m\u001b[0m\u001b[0m\n\u001b[1;32m    578\u001b[0m             \u001b[0;32mreturn\u001b[0m \u001b[0mp\u001b[0m\u001b[0;34m[\u001b[0m\u001b[0;36m0\u001b[0m\u001b[0;34m]\u001b[0m\u001b[0;34m\u001b[0m\u001b[0m\n",
      "\u001b[0;32m/Users/tdm/repositories/isochrones/isochrones/observation.py\u001b[0m in \u001b[0;36mevaluate_mag\u001b[0;34m(self, p, band)\u001b[0m\n\u001b[1;32m    587\u001b[0m \u001b[0;34m\u001b[0m\u001b[0m\n\u001b[1;32m    588\u001b[0m     \u001b[0;32mdef\u001b[0m \u001b[0mevaluate_mag\u001b[0m\u001b[0;34m(\u001b[0m\u001b[0mself\u001b[0m\u001b[0;34m,\u001b[0m \u001b[0mp\u001b[0m\u001b[0;34m,\u001b[0m \u001b[0mband\u001b[0m\u001b[0;34m)\u001b[0m\u001b[0;34m:\u001b[0m\u001b[0;34m\u001b[0m\u001b[0m\n\u001b[0;32m--> 589\u001b[0;31m         \u001b[0;32mreturn\u001b[0m \u001b[0mself\u001b[0m\u001b[0;34m.\u001b[0m\u001b[0mic\u001b[0m\u001b[0;34m.\u001b[0m\u001b[0mmag\u001b[0m\u001b[0;34m[\u001b[0m\u001b[0mband\u001b[0m\u001b[0;34m]\u001b[0m\u001b[0;34m(\u001b[0m\u001b[0;34m*\u001b[0m\u001b[0mp\u001b[0m\u001b[0;34m)\u001b[0m\u001b[0;34m\u001b[0m\u001b[0m\n\u001b[0m\u001b[1;32m    590\u001b[0m \u001b[0;34m\u001b[0m\u001b[0m\n\u001b[1;32m    591\u001b[0m     \u001b[0;32mdef\u001b[0m \u001b[0mlnlike\u001b[0m\u001b[0;34m(\u001b[0m\u001b[0mself\u001b[0m\u001b[0;34m,\u001b[0m \u001b[0;34m*\u001b[0m\u001b[0margs\u001b[0m\u001b[0;34m,\u001b[0m \u001b[0;34m**\u001b[0m\u001b[0mkwargs\u001b[0m\u001b[0;34m)\u001b[0m\u001b[0;34m:\u001b[0m\u001b[0;34m\u001b[0m\u001b[0m\n",
      "\u001b[0;32m/Users/tdm/repositories/isochrones/isochrones/isochrone.py\u001b[0m in \u001b[0;36m__call__\u001b[0;34m(self, eep, age, feh, distance, AV, x_ext, ext_table)\u001b[0m\n\u001b[1;32m    549\u001b[0m         \u001b[0mA\u001b[0m \u001b[0;34m=\u001b[0m \u001b[0mAV\u001b[0m\u001b[0;34m*\u001b[0m\u001b[0mAAV\u001b[0m\u001b[0;34m\u001b[0m\u001b[0m\n\u001b[1;32m    550\u001b[0m         \u001b[0mdm\u001b[0m \u001b[0;34m=\u001b[0m \u001b[0;36m5\u001b[0m\u001b[0;34m*\u001b[0m\u001b[0mnp\u001b[0m\u001b[0;34m.\u001b[0m\u001b[0mlog10\u001b[0m\u001b[0;34m(\u001b[0m\u001b[0mdistance\u001b[0m\u001b[0;34m)\u001b[0m \u001b[0;34m-\u001b[0m \u001b[0;36m5\u001b[0m\u001b[0;34m\u001b[0m\u001b[0m\n\u001b[0;32m--> 551\u001b[0;31m         \u001b[0mmag\u001b[0m \u001b[0;34m=\u001b[0m \u001b[0mself\u001b[0m\u001b[0;34m.\u001b[0m\u001b[0mic\u001b[0m\u001b[0;34m.\u001b[0m\u001b[0minterp_value\u001b[0m\u001b[0;34m(\u001b[0m\u001b[0meep\u001b[0m\u001b[0;34m,\u001b[0m \u001b[0mage\u001b[0m\u001b[0;34m,\u001b[0m \u001b[0mfeh\u001b[0m\u001b[0;34m,\u001b[0m \u001b[0mself\u001b[0m\u001b[0;34m.\u001b[0m\u001b[0mband\u001b[0m\u001b[0;34m)\u001b[0m\u001b[0;34m\u001b[0m\u001b[0m\n\u001b[0m\u001b[1;32m    552\u001b[0m         \u001b[0;32mreturn\u001b[0m \u001b[0mmag\u001b[0m \u001b[0;34m+\u001b[0m \u001b[0mdm\u001b[0m \u001b[0;34m+\u001b[0m \u001b[0mA\u001b[0m\u001b[0;34m\u001b[0m\u001b[0m\n\u001b[1;32m    553\u001b[0m \u001b[0;34m\u001b[0m\u001b[0m\n",
      "\u001b[0;32m/Users/tdm/repositories/isochrones/isochrones/isochrone.py\u001b[0m in \u001b[0;36minterp_value\u001b[0;34m(self, eep, age, feh, prop)\u001b[0m\n\u001b[1;32m    985\u001b[0m \u001b[0;34m\u001b[0m\u001b[0m\n\u001b[1;32m    986\u001b[0m     \u001b[0;32mdef\u001b[0m \u001b[0minterp_value\u001b[0m\u001b[0;34m(\u001b[0m\u001b[0mself\u001b[0m\u001b[0;34m,\u001b[0m \u001b[0meep\u001b[0m\u001b[0;34m,\u001b[0m \u001b[0mage\u001b[0m\u001b[0;34m,\u001b[0m \u001b[0mfeh\u001b[0m\u001b[0;34m,\u001b[0m \u001b[0mprop\u001b[0m\u001b[0;34m)\u001b[0m\u001b[0;34m:\u001b[0m  \u001b[0;31m# 4 is log_g\u001b[0m\u001b[0;34m\u001b[0m\u001b[0m\n\u001b[0;32m--> 987\u001b[0;31m         \u001b[0;32mreturn\u001b[0m \u001b[0mself\u001b[0m\u001b[0;34m.\u001b[0m\u001b[0minterp\u001b[0m\u001b[0;34m(\u001b[0m\u001b[0;34m[\u001b[0m\u001b[0mfeh\u001b[0m\u001b[0;34m,\u001b[0m \u001b[0mage\u001b[0m\u001b[0;34m,\u001b[0m \u001b[0meep\u001b[0m\u001b[0;34m]\u001b[0m\u001b[0;34m,\u001b[0m \u001b[0mprop\u001b[0m\u001b[0;34m)\u001b[0m\u001b[0;34m\u001b[0m\u001b[0m\n\u001b[0m\u001b[1;32m    988\u001b[0m \u001b[0;34m\u001b[0m\u001b[0m\n\u001b[1;32m    989\u001b[0m     def hr_isochrone(self, b1, b2, age, feh, distance, AV, thin=5, \n",
      "\u001b[0;32m/Users/tdm/repositories/isochrones/isochrones/interp.py\u001b[0m in \u001b[0;36m__call__\u001b[0;34m(self, p, cols)\u001b[0m\n\u001b[1;32m    440\u001b[0m \u001b[0;34m\u001b[0m\u001b[0m\n\u001b[1;32m    441\u001b[0m     \u001b[0;32mdef\u001b[0m \u001b[0m__call__\u001b[0m\u001b[0;34m(\u001b[0m\u001b[0mself\u001b[0m\u001b[0;34m,\u001b[0m \u001b[0mp\u001b[0m\u001b[0;34m,\u001b[0m \u001b[0mcols\u001b[0m\u001b[0;34m)\u001b[0m\u001b[0;34m:\u001b[0m\u001b[0;34m\u001b[0m\u001b[0m\n\u001b[0;32m--> 442\u001b[0;31m         \u001b[0micols\u001b[0m \u001b[0;34m=\u001b[0m \u001b[0mnp\u001b[0m\u001b[0;34m.\u001b[0m\u001b[0marray\u001b[0m\u001b[0;34m(\u001b[0m\u001b[0;34m[\u001b[0m\u001b[0mself\u001b[0m\u001b[0;34m.\u001b[0m\u001b[0mcolumn_index\u001b[0m\u001b[0;34m[\u001b[0m\u001b[0mcol\u001b[0m\u001b[0;34m]\u001b[0m \u001b[0;32mfor\u001b[0m \u001b[0mcol\u001b[0m \u001b[0;32min\u001b[0m \u001b[0mcols\u001b[0m\u001b[0;34m]\u001b[0m\u001b[0;34m)\u001b[0m\u001b[0;34m\u001b[0m\u001b[0m\n\u001b[0m\u001b[1;32m    443\u001b[0m         \u001b[0margs\u001b[0m \u001b[0;34m=\u001b[0m \u001b[0;34m(\u001b[0m\u001b[0mp\u001b[0m\u001b[0;34m,\u001b[0m \u001b[0mself\u001b[0m\u001b[0;34m.\u001b[0m\u001b[0mgrid\u001b[0m\u001b[0;34m,\u001b[0m \u001b[0micols\u001b[0m\u001b[0;34m,\u001b[0m \u001b[0mself\u001b[0m\u001b[0;34m.\u001b[0m\u001b[0mindex_columns\u001b[0m\u001b[0;34m)\u001b[0m\u001b[0;34m\u001b[0m\u001b[0m\n\u001b[1;32m    444\u001b[0m \u001b[0;34m\u001b[0m\u001b[0m\n",
      "\u001b[0;32m/Users/tdm/repositories/isochrones/isochrones/interp.py\u001b[0m in \u001b[0;36m<listcomp>\u001b[0;34m(.0)\u001b[0m\n\u001b[1;32m    440\u001b[0m \u001b[0;34m\u001b[0m\u001b[0m\n\u001b[1;32m    441\u001b[0m     \u001b[0;32mdef\u001b[0m \u001b[0m__call__\u001b[0m\u001b[0;34m(\u001b[0m\u001b[0mself\u001b[0m\u001b[0;34m,\u001b[0m \u001b[0mp\u001b[0m\u001b[0;34m,\u001b[0m \u001b[0mcols\u001b[0m\u001b[0;34m)\u001b[0m\u001b[0;34m:\u001b[0m\u001b[0;34m\u001b[0m\u001b[0m\n\u001b[0;32m--> 442\u001b[0;31m         \u001b[0micols\u001b[0m \u001b[0;34m=\u001b[0m \u001b[0mnp\u001b[0m\u001b[0;34m.\u001b[0m\u001b[0marray\u001b[0m\u001b[0;34m(\u001b[0m\u001b[0;34m[\u001b[0m\u001b[0mself\u001b[0m\u001b[0;34m.\u001b[0m\u001b[0mcolumn_index\u001b[0m\u001b[0;34m[\u001b[0m\u001b[0mcol\u001b[0m\u001b[0;34m]\u001b[0m \u001b[0;32mfor\u001b[0m \u001b[0mcol\u001b[0m \u001b[0;32min\u001b[0m \u001b[0mcols\u001b[0m\u001b[0;34m]\u001b[0m\u001b[0;34m)\u001b[0m\u001b[0;34m\u001b[0m\u001b[0m\n\u001b[0m\u001b[1;32m    443\u001b[0m         \u001b[0margs\u001b[0m \u001b[0;34m=\u001b[0m \u001b[0;34m(\u001b[0m\u001b[0mp\u001b[0m\u001b[0;34m,\u001b[0m \u001b[0mself\u001b[0m\u001b[0;34m.\u001b[0m\u001b[0mgrid\u001b[0m\u001b[0;34m,\u001b[0m \u001b[0micols\u001b[0m\u001b[0;34m,\u001b[0m \u001b[0mself\u001b[0m\u001b[0;34m.\u001b[0m\u001b[0mindex_columns\u001b[0m\u001b[0;34m)\u001b[0m\u001b[0;34m\u001b[0m\u001b[0m\n\u001b[1;32m    444\u001b[0m \u001b[0;34m\u001b[0m\u001b[0m\n",
      "\u001b[0;31mKeyError\u001b[0m: 'P'"
     ]
    }
   ],
   "source": [
    "mod_old.lnlike([400, 9.6, 0.1, 200, 0.1])"
   ]
  },
  {
   "cell_type": "code",
   "execution_count": 49,
   "metadata": {},
   "outputs": [
    {
     "data": {
      "text/plain": [
       "['G']"
      ]
     },
     "execution_count": 49,
     "metadata": {},
     "output_type": "execute_result"
    }
   ],
   "source": [
    "mod.bands"
   ]
  },
  {
   "cell_type": "code",
   "execution_count": 50,
   "metadata": {},
   "outputs": [
    {
     "data": {
      "text/plain": [
       "['Teff', 'logg']"
      ]
     },
     "execution_count": 50,
     "metadata": {},
     "output_type": "execute_result"
    }
   ],
   "source": [
    "mod.props"
   ]
  },
  {
   "cell_type": "code",
   "execution_count": 51,
   "metadata": {},
   "outputs": [
    {
     "data": {
      "text/plain": [
       "{'Teff': (5700, 50), 'logg': (4.44, 0.1), 'G': (8.1, 0.01)}"
      ]
     },
     "execution_count": 51,
     "metadata": {},
     "output_type": "execute_result"
    }
   ],
   "source": [
    "mod.kwargs"
   ]
  },
  {
   "cell_type": "code",
   "execution_count": 5,
   "metadata": {},
   "outputs": [],
   "source": [
    "from isochrones.interp import find_indices_3d, find_indices, find_indices_4d"
   ]
  },
  {
   "cell_type": "code",
   "execution_count": 6,
   "metadata": {},
   "outputs": [
    {
     "name": "stdout",
     "output_type": "stream",
     "text": [
      "The slowest run took 4.48 times longer than the fastest. This could mean that an intermediate result is being cached.\n",
      "1000000 loops, best of 3: 1.62 µs per loop\n"
     ]
    }
   ],
   "source": [
    "col0 = ic.model_grid.interp.index_columns[0]\n",
    "col1 = ic.model_grid.interp.index_columns[1]\n",
    "col2 = ic.model_grid.interp.index_columns[2]\n",
    "i1, d1, oob1 = find_indices([8.11, -1.1, 300.], ic.model_grid.interp.index_columns)\n",
    "i2, d2, oob2 = find_indices_3d(8.11, -1.1, 300., col0, col1, col2)\n",
    "assert (i1 == i2).all()\n",
    "assert (d1 == d2).all()\n",
    "assert oob1 == oob2\n",
    "%timeit find_indices_3d(8.11, -1.1, 300., col0, col1, col2)"
   ]
  },
  {
   "cell_type": "code",
   "execution_count": 7,
   "metadata": {},
   "outputs": [
    {
     "name": "stdout",
     "output_type": "stream",
     "text": [
      "The slowest run took 4.26 times longer than the fastest. This could mean that an intermediate result is being cached.\n",
      "1000000 loops, best of 3: 1.83 µs per loop\n"
     ]
    }
   ],
   "source": [
    "col0 = ic.bc_grid.interp.index_columns[0]\n",
    "col1 = ic.bc_grid.interp.index_columns[1]\n",
    "col2 = ic.bc_grid.interp.index_columns[2]\n",
    "col3 = ic.bc_grid.interp.index_columns[3]\n",
    "i1, d1, oob1 = find_indices([5842., 4.34, 0.03, 0.42], ic.bc_grid.interp.index_columns)\n",
    "i2, d2, oob2 = find_indices_4d(5842., 4.34, 0.03, 0.42, col0, col1, col2, col3)\n",
    "assert (i1 == i2).all()\n",
    "assert (d1 == d2).all()\n",
    "assert oob1 == oob2\n",
    "%timeit find_indices_4d(5842., 4.34, 0.03, 0.42, col0, col1, col2, col3)"
   ]
  },
  {
   "cell_type": "code",
   "execution_count": 8,
   "metadata": {},
   "outputs": [
    {
     "name": "stdout",
     "output_type": "stream",
     "text": [
      "The slowest run took 53366.84 times longer than the fastest. This could mean that an intermediate result is being cached.\n",
      "100000 loops, best of 3: 3.68 µs per loop\n"
     ]
    }
   ],
   "source": [
    "%timeit find_indices(np.array([5842., 4.34, 0.03, 0.42]), ic.bc_grid.interp.index_columns)"
   ]
  },
  {
   "cell_type": "code",
   "execution_count": 9,
   "metadata": {},
   "outputs": [
    {
     "name": "stdout",
     "output_type": "stream",
     "text": [
      "The slowest run took 49952.27 times longer than the fastest. This could mean that an intermediate result is being cached.\n",
      "100000 loops, best of 3: 3.48 µs per loop\n"
     ]
    }
   ],
   "source": [
    "%timeit find_indices(np.array([8.11, -1.1, 300]), ic.model_grid.interp.index_columns)"
   ]
  },
  {
   "cell_type": "code",
   "execution_count": null,
   "metadata": {},
   "outputs": [],
   "source": []
  },
  {
   "cell_type": "code",
   "execution_count": 12,
   "metadata": {},
   "outputs": [],
   "source": [
    "%load_ext line_profiler"
   ]
  },
  {
   "cell_type": "code",
   "execution_count": 17,
   "metadata": {},
   "outputs": [
    {
     "name": "stdout",
     "output_type": "stream",
     "text": [
      "The slowest run took 5.29 times longer than the fastest. This could mean that an intermediate result is being cached.\n",
      "10000 loops, best of 3: 28.1 µs per loop\n"
     ]
    }
   ],
   "source": [
    "pars = np.array([8.11, -1.1, 300, 200, 0.])\n",
    "bands = ['G', 'BP']\n",
    "%timeit ic.interp_mag(pars, bands)"
   ]
  },
  {
   "cell_type": "code",
   "execution_count": 16,
   "metadata": {},
   "outputs": [
    {
     "name": "stdout",
     "output_type": "stream",
     "text": [
      "The slowest run took 6.77 times longer than the fastest. This could mean that an intermediate result is being cached.\n",
      "100000 loops, best of 3: 7.88 µs per loop\n"
     ]
    }
   ],
   "source": [
    "%timeit ic.interp_value(pars, ['log_g', 'log_Teff', 'log_L'])"
   ]
  },
  {
   "cell_type": "code",
   "execution_count": 15,
   "metadata": {},
   "outputs": [
    {
     "data": {
      "text/plain": [
       "Timer unit: 1e-06 s\n",
       "\n",
       "Total time: 5.8e-05 s\n",
       "File: /Users/tdm/repositories/isochrones/isochrones/interp.py\n",
       "Function: __call__ at line 441\n",
       "\n",
       "Line #      Hits         Time  Per Hit   % Time  Line Contents\n",
       "==============================================================\n",
       "   441                                               def __call__(self, p, cols):\n",
       "   442         1         23.0     23.0     39.7          icols = np.array([self.column_index[col] for col in cols])\n",
       "   443         1          3.0      3.0      5.2          args = (p, self.grid, icols, self.index_columns)\n",
       "   444                                           \n",
       "   445         1          2.0      2.0      3.4          if self.ndim == 3:\n",
       "   446         1          3.0      3.0      5.2              args = (p[0], p[1], p[2], self.grid, icols,\n",
       "   447         1          1.0      1.0      1.7                      self.index_columns[0], self.index_columns[1],\n",
       "   448         1          1.0      1.0      1.7                      self.index_columns[2])\n",
       "   449         1          3.0      3.0      5.2              if ((isinstance(p[0], float) or isinstance(p[0], int)) and\n",
       "   450         1          1.0      1.0      1.7                      (isinstance(p[1], float) or isinstance(p[1], int)) and\n",
       "   451         1          1.0      1.0      1.7                      (isinstance(p[2], float) or isinstance(p[2], int))):\n",
       "   452         1         19.0     19.0     32.8                  values = interp_value_3d(*args)\n",
       "   453                                                       else:\n",
       "   454                                                           b = np.broadcast(*p)\n",
       "   455                                                           pp = [np.resize(x, b.shape).astype(float) for x in p]\n",
       "   456                                           \n",
       "   457                                                           values = interp_values_3d(*pp, self.grid, icols, *self.index_columns)\n",
       "   458                                                   elif self.ndim == 4:\n",
       "   459                                                       args = (p[0], p[1], p[2], p[3], self.grid, icols,\n",
       "   460                                                               self.index_columns[0], self.index_columns[1],\n",
       "   461                                                               self.index_columns[2], self.index_columns[3])\n",
       "   462                                                       if ((isinstance(p[0], float) or isinstance(p[0], int)) and\n",
       "   463                                                               (isinstance(p[1], float) or isinstance(p[1], int)) and\n",
       "   464                                                               (isinstance(p[2], float) or isinstance(p[2], int)) and\n",
       "   465                                                               (isinstance(p[3], float) or isinstance(p[3], int))):\n",
       "   466                                                           values = interp_value_4d(*args)\n",
       "   467                                                       else:\n",
       "   468                                                           b = np.broadcast(*p)\n",
       "   469                                                           pp = [np.resize(x, b.shape).astype(float) for x in p]\n",
       "   470                                           \n",
       "   471                                                           values = interp_values_4d(*pp, self.grid, icols, *self.index_columns)\n",
       "   472                                           \n",
       "   473         1          1.0      1.0      1.7          return values"
      ]
     },
     "metadata": {},
     "output_type": "display_data"
    }
   ],
   "source": [
    "%lprun -f ic.model_grid.interp.__call__ ic.interp_value(pars, ['log_g', 'log_Teff', 'log_L'])"
   ]
  },
  {
   "cell_type": "code",
   "execution_count": 90,
   "metadata": {},
   "outputs": [
    {
     "data": {
      "text/plain": [
       "array([8.64000568, 8.60319518])"
      ]
     },
     "execution_count": 90,
     "metadata": {},
     "output_type": "execute_result"
    }
   ],
   "source": [
    "pars = np.array([8.11, -1.1, 300, 200, 0.])\n",
    "bands = ['G', 'BP']\n",
    "ic.interp_mag(pars, bands)"
   ]
  },
  {
   "cell_type": "code",
   "execution_count": 94,
   "metadata": {},
   "outputs": [
    {
     "name": "stdout",
     "output_type": "stream",
     "text": [
      "The slowest run took 5.83 times longer than the fastest. This could mean that an intermediate result is being cached.\n",
      "100000 loops, best of 3: 7.96 µs per loop\n"
     ]
    }
   ],
   "source": [
    "%timeit ic.interp_value(pars, ['log_g'])"
   ]
  },
  {
   "cell_type": "code",
   "execution_count": 85,
   "metadata": {},
   "outputs": [
    {
     "data": {
      "text/plain": [
       "array([9.70095322, 9.85891442])"
      ]
     },
     "execution_count": 85,
     "metadata": {},
     "output_type": "execute_result"
    }
   ],
   "source": [
    "pars = np.array([8.11, -1.1, 300, 200, 1.1])\n",
    "ic.interp_mag(pars, bands)"
   ]
  },
  {
   "cell_type": "code",
   "execution_count": null,
   "metadata": {},
   "outputs": [],
   "source": []
  },
  {
   "cell_type": "code",
   "execution_count": null,
   "metadata": {},
   "outputs": [],
   "source": []
  },
  {
   "cell_type": "code",
   "execution_count": null,
   "metadata": {},
   "outputs": [],
   "source": []
  },
  {
   "cell_type": "code",
   "execution_count": null,
   "metadata": {},
   "outputs": [],
   "source": [
    "ic.interp_value()"
   ]
  },
  {
   "cell_type": "code",
   "execution_count": 21,
   "metadata": {},
   "outputs": [
    {
     "data": {
      "text/plain": [
       "array([8.64305202])"
      ]
     },
     "execution_count": 21,
     "metadata": {},
     "output_type": "execute_result"
    }
   ],
   "source": [
    "mist.mag['G'](300., 8.11, -1.1, 200., 0.)"
   ]
  },
  {
   "cell_type": "code",
   "execution_count": 24,
   "metadata": {},
   "outputs": [
    {
     "data": {
      "text/plain": [
       "array([9.51726849])"
      ]
     },
     "execution_count": 24,
     "metadata": {},
     "output_type": "execute_result"
    }
   ],
   "source": [
    "mist.mag['G'](300., 8.11, -1.1, 200., 1.1)"
   ]
  },
  {
   "cell_type": "code",
   "execution_count": 18,
   "metadata": {},
   "outputs": [
    {
     "data": {
      "text/plain": [
       "Index(['Bessell_U', 'Bessell_B', 'Bessell_V', 'Bessell_R', 'Bessell_I',\n",
       "       '2MASS_J', '2MASS_H', '2MASS_Ks', 'Kepler_Kp', 'Kepler_D51',\n",
       "       'Hipparcos_Hp', 'Tycho_B', 'Tycho_V', 'Gaia_G_DR2Rev', 'Gaia_BP_DR2Rev',\n",
       "       'Gaia_RP_DR2Rev', 'TESS'],\n",
       "      dtype='object')"
      ]
     },
     "execution_count": 18,
     "metadata": {},
     "output_type": "execute_result"
    }
   ],
   "source": [
    "bc.df.columns"
   ]
  },
  {
   "cell_type": "code",
   "execution_count": 40,
   "metadata": {},
   "outputs": [
    {
     "name": "stdout",
     "output_type": "stream",
     "text": [
      "The line_profiler extension is already loaded. To reload it, use:\n",
      "  %reload_ext line_profiler\n"
     ]
    }
   ],
   "source": [
    "%load_ext line_profiler"
   ]
  },
  {
   "cell_type": "code",
   "execution_count": 41,
   "metadata": {},
   "outputs": [
    {
     "data": {
      "text/plain": [
       "Timer unit: 1e-06 s\n",
       "\n",
       "Total time: 0.000136 s\n",
       "File: <ipython-input-26-365158820d11>\n",
       "Function: interp_mag at line 14\n",
       "\n",
       "Line #      Hits         Time  Per Hit   % Time  Line Contents\n",
       "==============================================================\n",
       "    14                                               def interp_mag(self, pars, bands):\n",
       "    15                                                   \"\"\"\n",
       "    16                                                   \n",
       "    17                                                   pars : age, feh, eep, distance, AV\n",
       "    18                                                   \"\"\"\n",
       "    19         1         65.0     65.0     47.8          logTeff, logg, logL = self.models.interp(pars[:3], ['log_Teff', 'log_g', 'log_L'])\n",
       "    20                                           \n",
       "    21         1         13.0     13.0      9.6          bc_pars = np.array([10**logTeff, logg, pars[1], pars[4]])  # pars[0] is feh\n",
       "    22         1         33.0     33.0     24.3          bc = self.bcs.interp(bc_pars, bands)        \n",
       "    23                                               \n",
       "    24         1          2.0      2.0      1.5          mBol = 4.74 - 2.5 * logL\n",
       "    25         1         15.0     15.0     11.0          dist_mod = 5 * np.log10(pars[3]/10)\n",
       "    26                                                   \n",
       "    27         1          8.0      8.0      5.9          return mBol + dist_mod - bc"
      ]
     },
     "metadata": {},
     "output_type": "display_data"
    }
   ],
   "source": [
    "%lprun -f ic.interp_mag ic.interp_mag(pars, bands)"
   ]
  },
  {
   "cell_type": "code",
   "execution_count": 13,
   "metadata": {},
   "outputs": [
    {
     "name": "stdout",
     "output_type": "stream",
     "text": [
      "The slowest run took 4.86 times longer than the fastest. This could mean that an intermediate result is being cached.\n",
      "100000 loops, best of 3: 15.5 µs per loop\n"
     ]
    }
   ],
   "source": [
    "%timeit grid.interp([8.11, -1.1, 300.], ['log_L', 'initial_mass', 'star_mass', 'log_Teff'])"
   ]
  },
  {
   "cell_type": "code",
   "execution_count": null,
   "metadata": {},
   "outputs": [],
   "source": []
  },
  {
   "cell_type": "code",
   "execution_count": null,
   "metadata": {},
   "outputs": [],
   "source": []
  },
  {
   "cell_type": "code",
   "execution_count": null,
   "metadata": {},
   "outputs": [],
   "source": []
  },
  {
   "cell_type": "code",
   "execution_count": null,
   "metadata": {},
   "outputs": [],
   "source": []
  },
  {
   "cell_type": "code",
   "execution_count": 84,
   "metadata": {},
   "outputs": [
    {
     "data": {
      "text/html": [
       "<div>\n",
       "<style>\n",
       "    .dataframe thead tr:only-child th {\n",
       "        text-align: right;\n",
       "    }\n",
       "\n",
       "    .dataframe thead th {\n",
       "        text-align: left;\n",
       "    }\n",
       "\n",
       "    .dataframe tbody tr th {\n",
       "        vertical-align: top;\n",
       "    }\n",
       "</style>\n",
       "<table border=\"1\" class=\"dataframe\">\n",
       "  <thead>\n",
       "    <tr style=\"text-align: right;\">\n",
       "      <th></th>\n",
       "      <th></th>\n",
       "      <th></th>\n",
       "      <th>EEP</th>\n",
       "      <th>log10_isochrone_age_yr</th>\n",
       "      <th>initial_mass</th>\n",
       "      <th>star_mass</th>\n",
       "      <th>star_mdot</th>\n",
       "      <th>he_core_mass</th>\n",
       "      <th>c_core_mass</th>\n",
       "      <th>log_L</th>\n",
       "      <th>log_LH</th>\n",
       "      <th>log_LHe</th>\n",
       "      <th>...</th>\n",
       "      <th>surface_o16</th>\n",
       "      <th>log_center_T</th>\n",
       "      <th>log_center_Rho</th>\n",
       "      <th>center_gamma</th>\n",
       "      <th>center_h1</th>\n",
       "      <th>center_he4</th>\n",
       "      <th>center_c12</th>\n",
       "      <th>phase</th>\n",
       "      <th>feh</th>\n",
       "      <th>dm_deep</th>\n",
       "    </tr>\n",
       "    <tr>\n",
       "      <th>log10_isochrone_age_yr</th>\n",
       "      <th>feh</th>\n",
       "      <th>EEP</th>\n",
       "      <th></th>\n",
       "      <th></th>\n",
       "      <th></th>\n",
       "      <th></th>\n",
       "      <th></th>\n",
       "      <th></th>\n",
       "      <th></th>\n",
       "      <th></th>\n",
       "      <th></th>\n",
       "      <th></th>\n",
       "      <th></th>\n",
       "      <th></th>\n",
       "      <th></th>\n",
       "      <th></th>\n",
       "      <th></th>\n",
       "      <th></th>\n",
       "      <th></th>\n",
       "      <th></th>\n",
       "      <th></th>\n",
       "      <th></th>\n",
       "      <th></th>\n",
       "    </tr>\n",
       "  </thead>\n",
       "  <tbody>\n",
       "    <tr>\n",
       "      <th rowspan=\"5\" valign=\"top\">5.0</th>\n",
       "      <th rowspan=\"5\" valign=\"top\">-4.0</th>\n",
       "      <th>35</th>\n",
       "      <td>35</td>\n",
       "      <td>5.0</td>\n",
       "      <td>0.100000</td>\n",
       "      <td>0.100000</td>\n",
       "      <td>-1.455094e-13</td>\n",
       "      <td>0.0</td>\n",
       "      <td>0.0</td>\n",
       "      <td>-0.489734</td>\n",
       "      <td>-1.922517</td>\n",
       "      <td>-99.0</td>\n",
       "      <td>...</td>\n",
       "      <td>6.108882e-07</td>\n",
       "      <td>5.857643</td>\n",
       "      <td>-0.170338</td>\n",
       "      <td>0.299672</td>\n",
       "      <td>0.750981</td>\n",
       "      <td>0.248961</td>\n",
       "      <td>2.496535e-07</td>\n",
       "      <td>-1.0</td>\n",
       "      <td>-4.0</td>\n",
       "      <td>0.000688</td>\n",
       "    </tr>\n",
       "    <tr>\n",
       "      <th>36</th>\n",
       "      <td>36</td>\n",
       "      <td>5.0</td>\n",
       "      <td>0.102885</td>\n",
       "      <td>0.102885</td>\n",
       "      <td>-1.562027e-13</td>\n",
       "      <td>0.0</td>\n",
       "      <td>0.0</td>\n",
       "      <td>-0.472691</td>\n",
       "      <td>-1.878584</td>\n",
       "      <td>-99.0</td>\n",
       "      <td>...</td>\n",
       "      <td>6.108882e-07</td>\n",
       "      <td>5.861047</td>\n",
       "      <td>-0.179318</td>\n",
       "      <td>0.295785</td>\n",
       "      <td>0.750981</td>\n",
       "      <td>0.248961</td>\n",
       "      <td>2.496535e-07</td>\n",
       "      <td>-1.0</td>\n",
       "      <td>-4.0</td>\n",
       "      <td>0.000681</td>\n",
       "    </tr>\n",
       "    <tr>\n",
       "      <th>37</th>\n",
       "      <td>37</td>\n",
       "      <td>5.0</td>\n",
       "      <td>0.107147</td>\n",
       "      <td>0.107147</td>\n",
       "      <td>-1.707298e-13</td>\n",
       "      <td>0.0</td>\n",
       "      <td>0.0</td>\n",
       "      <td>-0.447471</td>\n",
       "      <td>-1.814151</td>\n",
       "      <td>-99.0</td>\n",
       "      <td>...</td>\n",
       "      <td>6.108882e-07</td>\n",
       "      <td>5.866071</td>\n",
       "      <td>-0.192620</td>\n",
       "      <td>0.290038</td>\n",
       "      <td>0.750981</td>\n",
       "      <td>0.248961</td>\n",
       "      <td>2.496535e-07</td>\n",
       "      <td>-1.0</td>\n",
       "      <td>-4.0</td>\n",
       "      <td>0.000322</td>\n",
       "    </tr>\n",
       "    <tr>\n",
       "      <th>38</th>\n",
       "      <td>38</td>\n",
       "      <td>5.0</td>\n",
       "      <td>0.111379</td>\n",
       "      <td>0.111379</td>\n",
       "      <td>-1.836256e-13</td>\n",
       "      <td>0.0</td>\n",
       "      <td>0.0</td>\n",
       "      <td>-0.422498</td>\n",
       "      <td>-1.749734</td>\n",
       "      <td>-99.0</td>\n",
       "      <td>...</td>\n",
       "      <td>6.108882e-07</td>\n",
       "      <td>5.871107</td>\n",
       "      <td>-0.205703</td>\n",
       "      <td>0.284326</td>\n",
       "      <td>0.750981</td>\n",
       "      <td>0.248961</td>\n",
       "      <td>2.496535e-07</td>\n",
       "      <td>-1.0</td>\n",
       "      <td>-4.0</td>\n",
       "      <td>-0.000029</td>\n",
       "    </tr>\n",
       "    <tr>\n",
       "      <th>39</th>\n",
       "      <td>39</td>\n",
       "      <td>5.0</td>\n",
       "      <td>0.115581</td>\n",
       "      <td>0.115581</td>\n",
       "      <td>-1.949639e-13</td>\n",
       "      <td>0.0</td>\n",
       "      <td>0.0</td>\n",
       "      <td>-0.397776</td>\n",
       "      <td>-1.685330</td>\n",
       "      <td>-99.0</td>\n",
       "      <td>...</td>\n",
       "      <td>6.108882e-07</td>\n",
       "      <td>5.876158</td>\n",
       "      <td>-0.218572</td>\n",
       "      <td>0.278647</td>\n",
       "      <td>0.750981</td>\n",
       "      <td>0.248961</td>\n",
       "      <td>2.496535e-07</td>\n",
       "      <td>-1.0</td>\n",
       "      <td>-4.0</td>\n",
       "      <td>-0.000027</td>\n",
       "    </tr>\n",
       "  </tbody>\n",
       "</table>\n",
       "<p>5 rows × 27 columns</p>\n",
       "</div>"
      ],
      "text/plain": [
       "                                 EEP  log10_isochrone_age_yr  initial_mass  \\\n",
       "log10_isochrone_age_yr feh  EEP                                              \n",
       "5.0                    -4.0 35    35                     5.0      0.100000   \n",
       "                            36    36                     5.0      0.102885   \n",
       "                            37    37                     5.0      0.107147   \n",
       "                            38    38                     5.0      0.111379   \n",
       "                            39    39                     5.0      0.115581   \n",
       "\n",
       "                                 star_mass     star_mdot  he_core_mass  \\\n",
       "log10_isochrone_age_yr feh  EEP                                          \n",
       "5.0                    -4.0 35    0.100000 -1.455094e-13           0.0   \n",
       "                            36    0.102885 -1.562027e-13           0.0   \n",
       "                            37    0.107147 -1.707298e-13           0.0   \n",
       "                            38    0.111379 -1.836256e-13           0.0   \n",
       "                            39    0.115581 -1.949639e-13           0.0   \n",
       "\n",
       "                                 c_core_mass     log_L    log_LH  log_LHe  \\\n",
       "log10_isochrone_age_yr feh  EEP                                             \n",
       "5.0                    -4.0 35           0.0 -0.489734 -1.922517    -99.0   \n",
       "                            36           0.0 -0.472691 -1.878584    -99.0   \n",
       "                            37           0.0 -0.447471 -1.814151    -99.0   \n",
       "                            38           0.0 -0.422498 -1.749734    -99.0   \n",
       "                            39           0.0 -0.397776 -1.685330    -99.0   \n",
       "\n",
       "                                   ...      surface_o16  log_center_T  \\\n",
       "log10_isochrone_age_yr feh  EEP    ...                                  \n",
       "5.0                    -4.0 35     ...     6.108882e-07      5.857643   \n",
       "                            36     ...     6.108882e-07      5.861047   \n",
       "                            37     ...     6.108882e-07      5.866071   \n",
       "                            38     ...     6.108882e-07      5.871107   \n",
       "                            39     ...     6.108882e-07      5.876158   \n",
       "\n",
       "                                 log_center_Rho  center_gamma  center_h1  \\\n",
       "log10_isochrone_age_yr feh  EEP                                            \n",
       "5.0                    -4.0 35        -0.170338      0.299672   0.750981   \n",
       "                            36        -0.179318      0.295785   0.750981   \n",
       "                            37        -0.192620      0.290038   0.750981   \n",
       "                            38        -0.205703      0.284326   0.750981   \n",
       "                            39        -0.218572      0.278647   0.750981   \n",
       "\n",
       "                                 center_he4    center_c12  phase  feh  \\\n",
       "log10_isochrone_age_yr feh  EEP                                         \n",
       "5.0                    -4.0 35     0.248961  2.496535e-07   -1.0 -4.0   \n",
       "                            36     0.248961  2.496535e-07   -1.0 -4.0   \n",
       "                            37     0.248961  2.496535e-07   -1.0 -4.0   \n",
       "                            38     0.248961  2.496535e-07   -1.0 -4.0   \n",
       "                            39     0.248961  2.496535e-07   -1.0 -4.0   \n",
       "\n",
       "                                  dm_deep  \n",
       "log10_isochrone_age_yr feh  EEP            \n",
       "5.0                    -4.0 35   0.000688  \n",
       "                            36   0.000681  \n",
       "                            37   0.000322  \n",
       "                            38  -0.000029  \n",
       "                            39  -0.000027  \n",
       "\n",
       "[5 rows x 27 columns]"
      ]
     },
     "execution_count": 84,
     "metadata": {},
     "output_type": "execute_result"
    }
   ],
   "source": [
    "grid.df.head()"
   ]
  },
  {
   "cell_type": "code",
   "execution_count": null,
   "metadata": {},
   "outputs": [],
   "source": []
  },
  {
   "cell_type": "code",
   "execution_count": 73,
   "metadata": {},
   "outputs": [
    {
     "data": {
      "text/plain": [
       "1328838"
      ]
     },
     "execution_count": 73,
     "metadata": {},
     "output_type": "execute_result"
    }
   ],
   "source": [
    "len(grid.df)"
   ]
  },
  {
   "cell_type": "code",
   "execution_count": 56,
   "metadata": {},
   "outputs": [],
   "source": [
    "df = grid.df_all()"
   ]
  },
  {
   "cell_type": "code",
   "execution_count": 57,
   "metadata": {},
   "outputs": [
    {
     "data": {
      "text/html": [
       "<div>\n",
       "<style>\n",
       "    .dataframe thead tr:only-child th {\n",
       "        text-align: right;\n",
       "    }\n",
       "\n",
       "    .dataframe thead th {\n",
       "        text-align: left;\n",
       "    }\n",
       "\n",
       "    .dataframe tbody tr th {\n",
       "        vertical-align: top;\n",
       "    }\n",
       "</style>\n",
       "<table border=\"1\" class=\"dataframe\">\n",
       "  <thead>\n",
       "    <tr style=\"text-align: right;\">\n",
       "      <th></th>\n",
       "      <th></th>\n",
       "      <th></th>\n",
       "      <th>EEP</th>\n",
       "      <th>log10_isochrone_age_yr</th>\n",
       "      <th>initial_mass</th>\n",
       "      <th>star_mass</th>\n",
       "      <th>star_mdot</th>\n",
       "      <th>he_core_mass</th>\n",
       "      <th>c_core_mass</th>\n",
       "      <th>log_L</th>\n",
       "      <th>log_LH</th>\n",
       "      <th>log_LHe</th>\n",
       "      <th>...</th>\n",
       "      <th>surface_c12</th>\n",
       "      <th>surface_o16</th>\n",
       "      <th>log_center_T</th>\n",
       "      <th>log_center_Rho</th>\n",
       "      <th>center_gamma</th>\n",
       "      <th>center_h1</th>\n",
       "      <th>center_he4</th>\n",
       "      <th>center_c12</th>\n",
       "      <th>phase</th>\n",
       "      <th>feh</th>\n",
       "    </tr>\n",
       "    <tr>\n",
       "      <th>log10_isochrone_age_yr</th>\n",
       "      <th>feh</th>\n",
       "      <th>EEP</th>\n",
       "      <th></th>\n",
       "      <th></th>\n",
       "      <th></th>\n",
       "      <th></th>\n",
       "      <th></th>\n",
       "      <th></th>\n",
       "      <th></th>\n",
       "      <th></th>\n",
       "      <th></th>\n",
       "      <th></th>\n",
       "      <th></th>\n",
       "      <th></th>\n",
       "      <th></th>\n",
       "      <th></th>\n",
       "      <th></th>\n",
       "      <th></th>\n",
       "      <th></th>\n",
       "      <th></th>\n",
       "      <th></th>\n",
       "      <th></th>\n",
       "      <th></th>\n",
       "    </tr>\n",
       "  </thead>\n",
       "  <tbody>\n",
       "    <tr>\n",
       "      <th rowspan=\"5\" valign=\"top\">5.0</th>\n",
       "      <th rowspan=\"5\" valign=\"top\">-4.0</th>\n",
       "      <th>35</th>\n",
       "      <td>35</td>\n",
       "      <td>5.0</td>\n",
       "      <td>0.100000</td>\n",
       "      <td>0.100000</td>\n",
       "      <td>-1.455094e-13</td>\n",
       "      <td>0.0</td>\n",
       "      <td>0.0</td>\n",
       "      <td>-0.489734</td>\n",
       "      <td>-1.922517</td>\n",
       "      <td>-99.0</td>\n",
       "      <td>...</td>\n",
       "      <td>2.496535e-07</td>\n",
       "      <td>6.108882e-07</td>\n",
       "      <td>5.857643</td>\n",
       "      <td>-0.170338</td>\n",
       "      <td>0.299672</td>\n",
       "      <td>0.750981</td>\n",
       "      <td>0.248961</td>\n",
       "      <td>2.496535e-07</td>\n",
       "      <td>-1.0</td>\n",
       "      <td>-4.0</td>\n",
       "    </tr>\n",
       "    <tr>\n",
       "      <th>36</th>\n",
       "      <td>36</td>\n",
       "      <td>5.0</td>\n",
       "      <td>0.102885</td>\n",
       "      <td>0.102885</td>\n",
       "      <td>-1.562027e-13</td>\n",
       "      <td>0.0</td>\n",
       "      <td>0.0</td>\n",
       "      <td>-0.472691</td>\n",
       "      <td>-1.878584</td>\n",
       "      <td>-99.0</td>\n",
       "      <td>...</td>\n",
       "      <td>2.496535e-07</td>\n",
       "      <td>6.108882e-07</td>\n",
       "      <td>5.861047</td>\n",
       "      <td>-0.179318</td>\n",
       "      <td>0.295785</td>\n",
       "      <td>0.750981</td>\n",
       "      <td>0.248961</td>\n",
       "      <td>2.496535e-07</td>\n",
       "      <td>-1.0</td>\n",
       "      <td>-4.0</td>\n",
       "    </tr>\n",
       "    <tr>\n",
       "      <th>37</th>\n",
       "      <td>37</td>\n",
       "      <td>5.0</td>\n",
       "      <td>0.107147</td>\n",
       "      <td>0.107147</td>\n",
       "      <td>-1.707298e-13</td>\n",
       "      <td>0.0</td>\n",
       "      <td>0.0</td>\n",
       "      <td>-0.447471</td>\n",
       "      <td>-1.814151</td>\n",
       "      <td>-99.0</td>\n",
       "      <td>...</td>\n",
       "      <td>2.496535e-07</td>\n",
       "      <td>6.108882e-07</td>\n",
       "      <td>5.866071</td>\n",
       "      <td>-0.192620</td>\n",
       "      <td>0.290038</td>\n",
       "      <td>0.750981</td>\n",
       "      <td>0.248961</td>\n",
       "      <td>2.496535e-07</td>\n",
       "      <td>-1.0</td>\n",
       "      <td>-4.0</td>\n",
       "    </tr>\n",
       "    <tr>\n",
       "      <th>38</th>\n",
       "      <td>38</td>\n",
       "      <td>5.0</td>\n",
       "      <td>0.111379</td>\n",
       "      <td>0.111379</td>\n",
       "      <td>-1.836256e-13</td>\n",
       "      <td>0.0</td>\n",
       "      <td>0.0</td>\n",
       "      <td>-0.422498</td>\n",
       "      <td>-1.749734</td>\n",
       "      <td>-99.0</td>\n",
       "      <td>...</td>\n",
       "      <td>2.496535e-07</td>\n",
       "      <td>6.108882e-07</td>\n",
       "      <td>5.871107</td>\n",
       "      <td>-0.205703</td>\n",
       "      <td>0.284326</td>\n",
       "      <td>0.750981</td>\n",
       "      <td>0.248961</td>\n",
       "      <td>2.496535e-07</td>\n",
       "      <td>-1.0</td>\n",
       "      <td>-4.0</td>\n",
       "    </tr>\n",
       "    <tr>\n",
       "      <th>39</th>\n",
       "      <td>39</td>\n",
       "      <td>5.0</td>\n",
       "      <td>0.115581</td>\n",
       "      <td>0.115581</td>\n",
       "      <td>-1.949639e-13</td>\n",
       "      <td>0.0</td>\n",
       "      <td>0.0</td>\n",
       "      <td>-0.397776</td>\n",
       "      <td>-1.685330</td>\n",
       "      <td>-99.0</td>\n",
       "      <td>...</td>\n",
       "      <td>2.496535e-07</td>\n",
       "      <td>6.108882e-07</td>\n",
       "      <td>5.876158</td>\n",
       "      <td>-0.218572</td>\n",
       "      <td>0.278647</td>\n",
       "      <td>0.750981</td>\n",
       "      <td>0.248961</td>\n",
       "      <td>2.496535e-07</td>\n",
       "      <td>-1.0</td>\n",
       "      <td>-4.0</td>\n",
       "    </tr>\n",
       "  </tbody>\n",
       "</table>\n",
       "<p>5 rows × 26 columns</p>\n",
       "</div>"
      ],
      "text/plain": [
       "                                 EEP  log10_isochrone_age_yr  initial_mass  \\\n",
       "log10_isochrone_age_yr feh  EEP                                              \n",
       "5.0                    -4.0 35    35                     5.0      0.100000   \n",
       "                            36    36                     5.0      0.102885   \n",
       "                            37    37                     5.0      0.107147   \n",
       "                            38    38                     5.0      0.111379   \n",
       "                            39    39                     5.0      0.115581   \n",
       "\n",
       "                                 star_mass     star_mdot  he_core_mass  \\\n",
       "log10_isochrone_age_yr feh  EEP                                          \n",
       "5.0                    -4.0 35    0.100000 -1.455094e-13           0.0   \n",
       "                            36    0.102885 -1.562027e-13           0.0   \n",
       "                            37    0.107147 -1.707298e-13           0.0   \n",
       "                            38    0.111379 -1.836256e-13           0.0   \n",
       "                            39    0.115581 -1.949639e-13           0.0   \n",
       "\n",
       "                                 c_core_mass     log_L    log_LH  log_LHe  \\\n",
       "log10_isochrone_age_yr feh  EEP                                             \n",
       "5.0                    -4.0 35           0.0 -0.489734 -1.922517    -99.0   \n",
       "                            36           0.0 -0.472691 -1.878584    -99.0   \n",
       "                            37           0.0 -0.447471 -1.814151    -99.0   \n",
       "                            38           0.0 -0.422498 -1.749734    -99.0   \n",
       "                            39           0.0 -0.397776 -1.685330    -99.0   \n",
       "\n",
       "                                ...    surface_c12   surface_o16  \\\n",
       "log10_isochrone_age_yr feh  EEP ...                                \n",
       "5.0                    -4.0 35  ...   2.496535e-07  6.108882e-07   \n",
       "                            36  ...   2.496535e-07  6.108882e-07   \n",
       "                            37  ...   2.496535e-07  6.108882e-07   \n",
       "                            38  ...   2.496535e-07  6.108882e-07   \n",
       "                            39  ...   2.496535e-07  6.108882e-07   \n",
       "\n",
       "                                 log_center_T  log_center_Rho  center_gamma  \\\n",
       "log10_isochrone_age_yr feh  EEP                                               \n",
       "5.0                    -4.0 35       5.857643       -0.170338      0.299672   \n",
       "                            36       5.861047       -0.179318      0.295785   \n",
       "                            37       5.866071       -0.192620      0.290038   \n",
       "                            38       5.871107       -0.205703      0.284326   \n",
       "                            39       5.876158       -0.218572      0.278647   \n",
       "\n",
       "                                 center_h1  center_he4    center_c12  phase  \\\n",
       "log10_isochrone_age_yr feh  EEP                                               \n",
       "5.0                    -4.0 35    0.750981    0.248961  2.496535e-07   -1.0   \n",
       "                            36    0.750981    0.248961  2.496535e-07   -1.0   \n",
       "                            37    0.750981    0.248961  2.496535e-07   -1.0   \n",
       "                            38    0.750981    0.248961  2.496535e-07   -1.0   \n",
       "                            39    0.750981    0.248961  2.496535e-07   -1.0   \n",
       "\n",
       "                                 feh  \n",
       "log10_isochrone_age_yr feh  EEP       \n",
       "5.0                    -4.0 35  -4.0  \n",
       "                            36  -4.0  \n",
       "                            37  -4.0  \n",
       "                            38  -4.0  \n",
       "                            39  -4.0  \n",
       "\n",
       "[5 rows x 26 columns]"
      ]
     },
     "execution_count": 57,
     "metadata": {},
     "output_type": "execute_result"
    }
   ],
   "source": [
    "df.head()"
   ]
  },
  {
   "cell_type": "code",
   "execution_count": null,
   "metadata": {},
   "outputs": [],
   "source": []
  },
  {
   "cell_type": "code",
   "execution_count": 25,
   "metadata": {},
   "outputs": [
    {
     "data": {
      "text/plain": [
       "1328838"
      ]
     },
     "execution_count": 25,
     "metadata": {},
     "output_type": "execute_result"
    }
   ],
   "source": [
    "len(df)"
   ]
  },
  {
   "cell_type": "code",
   "execution_count": 18,
   "metadata": {},
   "outputs": [
    {
     "data": {
      "text/plain": [
       "['/Users/tdm/.isochrones/mist/MIST_v1.2_vvcrit0.0_basic_isos/MIST_v1.2_feh_m0.25_afe_p0.0_vvcrit0.0_basic.iso',\n",
       " '/Users/tdm/.isochrones/mist/MIST_v1.2_vvcrit0.0_basic_isos/MIST_v1.2_feh_m0.50_afe_p0.0_vvcrit0.0_basic.iso',\n",
       " '/Users/tdm/.isochrones/mist/MIST_v1.2_vvcrit0.0_basic_isos/MIST_v1.2_feh_m0.75_afe_p0.0_vvcrit0.0_basic.iso',\n",
       " '/Users/tdm/.isochrones/mist/MIST_v1.2_vvcrit0.0_basic_isos/MIST_v1.2_feh_m1.00_afe_p0.0_vvcrit0.0_basic.iso',\n",
       " '/Users/tdm/.isochrones/mist/MIST_v1.2_vvcrit0.0_basic_isos/MIST_v1.2_feh_m1.25_afe_p0.0_vvcrit0.0_basic.iso',\n",
       " '/Users/tdm/.isochrones/mist/MIST_v1.2_vvcrit0.0_basic_isos/MIST_v1.2_feh_m1.50_afe_p0.0_vvcrit0.0_basic.iso',\n",
       " '/Users/tdm/.isochrones/mist/MIST_v1.2_vvcrit0.0_basic_isos/MIST_v1.2_feh_m1.75_afe_p0.0_vvcrit0.0_basic.iso',\n",
       " '/Users/tdm/.isochrones/mist/MIST_v1.2_vvcrit0.0_basic_isos/MIST_v1.2_feh_m2.00_afe_p0.0_vvcrit0.0_basic.iso',\n",
       " '/Users/tdm/.isochrones/mist/MIST_v1.2_vvcrit0.0_basic_isos/MIST_v1.2_feh_m2.50_afe_p0.0_vvcrit0.0_basic.iso',\n",
       " '/Users/tdm/.isochrones/mist/MIST_v1.2_vvcrit0.0_basic_isos/MIST_v1.2_feh_m3.00_afe_p0.0_vvcrit0.0_basic.iso',\n",
       " '/Users/tdm/.isochrones/mist/MIST_v1.2_vvcrit0.0_basic_isos/MIST_v1.2_feh_m3.50_afe_p0.0_vvcrit0.0_basic.iso',\n",
       " '/Users/tdm/.isochrones/mist/MIST_v1.2_vvcrit0.0_basic_isos/MIST_v1.2_feh_m4.00_afe_p0.0_vvcrit0.0_basic.iso',\n",
       " '/Users/tdm/.isochrones/mist/MIST_v1.2_vvcrit0.0_basic_isos/MIST_v1.2_feh_p0.00_afe_p0.0_vvcrit0.0_basic.iso',\n",
       " '/Users/tdm/.isochrones/mist/MIST_v1.2_vvcrit0.0_basic_isos/MIST_v1.2_feh_p0.25_afe_p0.0_vvcrit0.0_basic.iso',\n",
       " '/Users/tdm/.isochrones/mist/MIST_v1.2_vvcrit0.0_basic_isos/MIST_v1.2_feh_p0.50_afe_p0.0_vvcrit0.0_basic.iso']"
      ]
     },
     "execution_count": 18,
     "metadata": {},
     "output_type": "execute_result"
    }
   ],
   "source": [
    "grid.get_existing_filenames()"
   ]
  },
  {
   "cell_type": "code",
   "execution_count": null,
   "metadata": {},
   "outputs": [],
   "source": []
  },
  {
   "cell_type": "code",
   "execution_count": null,
   "metadata": {},
   "outputs": [],
   "source": []
  },
  {
   "cell_type": "code",
   "execution_count": 11,
   "metadata": {},
   "outputs": [
    {
     "name": "stdout",
     "output_type": "stream",
     "text": [
      "/Users/tdm/.isochrones/mist/MIST_v1.2_vvcrit0.0_full_isos/MIST_v1.2_feh_m0.25_afe_p0.0_vvcrit0.0_full.iso\n"
     ]
    }
   ],
   "source": [
    "ls /Users/tdm/.isochrones/mist/MIST_v1.2_vvcrit0.0_full_isos/MIST_v1.2_feh_m0.25_afe_p0.0_vvcrit0.0_full.iso"
   ]
  },
  {
   "cell_type": "code",
   "execution_count": 14,
   "metadata": {},
   "outputs": [],
   "source": [
    "grid = MISTModelGrid()"
   ]
  },
  {
   "cell_type": "code",
   "execution_count": null,
   "metadata": {},
   "outputs": [],
   "source": [
    "df.to"
   ]
  },
  {
   "cell_type": "code",
   "execution_count": 23,
   "metadata": {},
   "outputs": [
    {
     "data": {
      "text/html": [
       "<div>\n",
       "<style>\n",
       "    .dataframe thead tr:only-child th {\n",
       "        text-align: right;\n",
       "    }\n",
       "\n",
       "    .dataframe thead th {\n",
       "        text-align: left;\n",
       "    }\n",
       "\n",
       "    .dataframe tbody tr th {\n",
       "        vertical-align: top;\n",
       "    }\n",
       "</style>\n",
       "<table border=\"1\" class=\"dataframe\">\n",
       "  <thead>\n",
       "    <tr style=\"text-align: right;\">\n",
       "      <th></th>\n",
       "      <th>EEP</th>\n",
       "      <th>log10_isochrone_age_yr</th>\n",
       "      <th>initial_mass</th>\n",
       "      <th>star_mass</th>\n",
       "      <th>star_mdot</th>\n",
       "      <th>he_core_mass</th>\n",
       "      <th>c_core_mass</th>\n",
       "      <th>o_core_mass</th>\n",
       "      <th>log_L</th>\n",
       "      <th>log_L_div_Ledd</th>\n",
       "      <th>...</th>\n",
       "      <th>nu_max</th>\n",
       "      <th>acoustic_cutoff</th>\n",
       "      <th>max_conv_vel_div_csound</th>\n",
       "      <th>max_gradT_div_grada</th>\n",
       "      <th>gradT_excess_alpha</th>\n",
       "      <th>min_Pgas_div_P</th>\n",
       "      <th>max_L_rad_div_Ledd</th>\n",
       "      <th>e_thermal</th>\n",
       "      <th>phase</th>\n",
       "      <th>feh</th>\n",
       "    </tr>\n",
       "  </thead>\n",
       "  <tbody>\n",
       "    <tr>\n",
       "      <th>0</th>\n",
       "      <td>15</td>\n",
       "      <td>5.0</td>\n",
       "      <td>0.100000</td>\n",
       "      <td>0.100000</td>\n",
       "      <td>-9.296476e-14</td>\n",
       "      <td>0.0</td>\n",
       "      <td>0.0</td>\n",
       "      <td>0.0</td>\n",
       "      <td>-0.793690</td>\n",
       "      <td>-4.301081</td>\n",
       "      <td>...</td>\n",
       "      <td>210.053677</td>\n",
       "      <td>1426.188700</td>\n",
       "      <td>0.139220</td>\n",
       "      <td>1.105393</td>\n",
       "      <td>0.0</td>\n",
       "      <td>0.999989</td>\n",
       "      <td>0.000017</td>\n",
       "      <td>2.444569e+46</td>\n",
       "      <td>-1.0</td>\n",
       "      <td>-0.25</td>\n",
       "    </tr>\n",
       "    <tr>\n",
       "      <th>1</th>\n",
       "      <td>16</td>\n",
       "      <td>5.0</td>\n",
       "      <td>0.104585</td>\n",
       "      <td>0.104585</td>\n",
       "      <td>-1.045561e-13</td>\n",
       "      <td>0.0</td>\n",
       "      <td>0.0</td>\n",
       "      <td>0.0</td>\n",
       "      <td>-0.761784</td>\n",
       "      <td>-4.244876</td>\n",
       "      <td>...</td>\n",
       "      <td>207.195212</td>\n",
       "      <td>1404.410306</td>\n",
       "      <td>0.138068</td>\n",
       "      <td>1.110125</td>\n",
       "      <td>0.0</td>\n",
       "      <td>0.999988</td>\n",
       "      <td>0.000019</td>\n",
       "      <td>2.570014e+46</td>\n",
       "      <td>-1.0</td>\n",
       "      <td>-0.25</td>\n",
       "    </tr>\n",
       "    <tr>\n",
       "      <th>2</th>\n",
       "      <td>17</td>\n",
       "      <td>5.0</td>\n",
       "      <td>0.108845</td>\n",
       "      <td>0.108845</td>\n",
       "      <td>-1.146222e-13</td>\n",
       "      <td>0.0</td>\n",
       "      <td>0.0</td>\n",
       "      <td>0.0</td>\n",
       "      <td>-0.732385</td>\n",
       "      <td>-4.193214</td>\n",
       "      <td>...</td>\n",
       "      <td>204.470239</td>\n",
       "      <td>1383.919005</td>\n",
       "      <td>0.136990</td>\n",
       "      <td>1.114414</td>\n",
       "      <td>0.0</td>\n",
       "      <td>0.999986</td>\n",
       "      <td>0.000021</td>\n",
       "      <td>2.688820e+46</td>\n",
       "      <td>-1.0</td>\n",
       "      <td>-0.25</td>\n",
       "    </tr>\n",
       "    <tr>\n",
       "      <th>3</th>\n",
       "      <td>18</td>\n",
       "      <td>5.0</td>\n",
       "      <td>0.113102</td>\n",
       "      <td>0.113102</td>\n",
       "      <td>-1.239873e-13</td>\n",
       "      <td>0.0</td>\n",
       "      <td>0.0</td>\n",
       "      <td>0.0</td>\n",
       "      <td>-0.703268</td>\n",
       "      <td>-4.142182</td>\n",
       "      <td>...</td>\n",
       "      <td>201.678757</td>\n",
       "      <td>1363.203146</td>\n",
       "      <td>0.136310</td>\n",
       "      <td>1.118595</td>\n",
       "      <td>0.0</td>\n",
       "      <td>0.999985</td>\n",
       "      <td>0.000023</td>\n",
       "      <td>2.809798e+46</td>\n",
       "      <td>-1.0</td>\n",
       "      <td>-0.25</td>\n",
       "    </tr>\n",
       "    <tr>\n",
       "      <th>4</th>\n",
       "      <td>19</td>\n",
       "      <td>5.0</td>\n",
       "      <td>0.117363</td>\n",
       "      <td>0.117363</td>\n",
       "      <td>-1.327007e-13</td>\n",
       "      <td>0.0</td>\n",
       "      <td>0.0</td>\n",
       "      <td>0.0</td>\n",
       "      <td>-0.674348</td>\n",
       "      <td>-4.091646</td>\n",
       "      <td>...</td>\n",
       "      <td>198.795191</td>\n",
       "      <td>1342.099109</td>\n",
       "      <td>0.135199</td>\n",
       "      <td>1.122682</td>\n",
       "      <td>0.0</td>\n",
       "      <td>0.999984</td>\n",
       "      <td>0.000024</td>\n",
       "      <td>2.933236e+46</td>\n",
       "      <td>-1.0</td>\n",
       "      <td>-0.25</td>\n",
       "    </tr>\n",
       "  </tbody>\n",
       "</table>\n",
       "<p>5 rows × 80 columns</p>\n",
       "</div>"
      ],
      "text/plain": [
       "   EEP  log10_isochrone_age_yr  initial_mass  star_mass     star_mdot  \\\n",
       "0   15                     5.0      0.100000   0.100000 -9.296476e-14   \n",
       "1   16                     5.0      0.104585   0.104585 -1.045561e-13   \n",
       "2   17                     5.0      0.108845   0.108845 -1.146222e-13   \n",
       "3   18                     5.0      0.113102   0.113102 -1.239873e-13   \n",
       "4   19                     5.0      0.117363   0.117363 -1.327007e-13   \n",
       "\n",
       "   he_core_mass  c_core_mass  o_core_mass     log_L  log_L_div_Ledd  ...   \\\n",
       "0           0.0          0.0          0.0 -0.793690       -4.301081  ...    \n",
       "1           0.0          0.0          0.0 -0.761784       -4.244876  ...    \n",
       "2           0.0          0.0          0.0 -0.732385       -4.193214  ...    \n",
       "3           0.0          0.0          0.0 -0.703268       -4.142182  ...    \n",
       "4           0.0          0.0          0.0 -0.674348       -4.091646  ...    \n",
       "\n",
       "       nu_max  acoustic_cutoff  max_conv_vel_div_csound  max_gradT_div_grada  \\\n",
       "0  210.053677      1426.188700                 0.139220             1.105393   \n",
       "1  207.195212      1404.410306                 0.138068             1.110125   \n",
       "2  204.470239      1383.919005                 0.136990             1.114414   \n",
       "3  201.678757      1363.203146                 0.136310             1.118595   \n",
       "4  198.795191      1342.099109                 0.135199             1.122682   \n",
       "\n",
       "   gradT_excess_alpha  min_Pgas_div_P  max_L_rad_div_Ledd     e_thermal  \\\n",
       "0                 0.0        0.999989            0.000017  2.444569e+46   \n",
       "1                 0.0        0.999988            0.000019  2.570014e+46   \n",
       "2                 0.0        0.999986            0.000021  2.688820e+46   \n",
       "3                 0.0        0.999985            0.000023  2.809798e+46   \n",
       "4                 0.0        0.999984            0.000024  2.933236e+46   \n",
       "\n",
       "   phase   feh  \n",
       "0   -1.0 -0.25  \n",
       "1   -1.0 -0.25  \n",
       "2   -1.0 -0.25  \n",
       "3   -1.0 -0.25  \n",
       "4   -1.0 -0.25  \n",
       "\n",
       "[5 rows x 80 columns]"
      ]
     },
     "execution_count": 23,
     "metadata": {},
     "output_type": "execute_result"
    }
   ],
   "source": [
    "df.head()"
   ]
  },
  {
   "cell_type": "code",
   "execution_count": null,
   "metadata": {},
   "outputs": [],
   "source": [
    "grid.get_directory_path('full_isos')"
   ]
  }
 ],
 "metadata": {
  "kernelspec": {
   "display_name": "Python 3",
   "language": "python",
   "name": "python3"
  },
  "language_info": {
   "codemirror_mode": {
    "name": "ipython",
    "version": 3
   },
   "file_extension": ".py",
   "mimetype": "text/x-python",
   "name": "python",
   "nbconvert_exporter": "python",
   "pygments_lexer": "ipython3",
   "version": "3.6.5"
  }
 },
 "nbformat": 4,
 "nbformat_minor": 2
}
