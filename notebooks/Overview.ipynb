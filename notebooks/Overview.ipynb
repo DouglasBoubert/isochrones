{
 "cells": [
  {
   "cell_type": "markdown",
   "metadata": {
    "slideshow": {
     "slide_type": "slide"
    }
   },
   "source": [
    "# `isochrones`\n",
    "\n",
    "https://github.com/timothydmorton/isochrones\n",
    "\n",
    "Stellar model grid access and model fitting"
   ]
  },
  {
   "cell_type": "markdown",
   "metadata": {
    "slideshow": {
     "slide_type": "slide"
    }
   },
   "source": [
    "## What?\n",
    "\n",
    "Use grids of stellar models to...\n",
    "\n",
    "- Infer physical properties of exoplanet host stars\n",
    "- Model potential transiting planet false positive scenarios\n",
    "- Characterize visual binary systems\n",
    "- Infer properties of star clusters\n",
    "\n",
    "...conditioned on observations (broadband photometry, spectroscopy, asteroseismology, parallax, etc.)"
   ]
  },
  {
   "cell_type": "markdown",
   "metadata": {
    "slideshow": {
     "slide_type": "fragment"
    }
   },
   "source": [
    "## Why?\n",
    "\n",
    "* Fundamental task in observational astronomy (what is this star, given these observations?)\n",
    "* Reinvented probably hundreds of times with ad hoc algorithms\n",
    "* Lack of clarity in the literature"
   ]
  },
  {
   "cell_type": "markdown",
   "metadata": {
    "slideshow": {
     "slide_type": "subslide"
    }
   },
   "source": [
    "### Kepler-22 (Borucki et al. 2012):\n",
    "<img src=overview_images/kep22_describe.png>"
   ]
  },
  {
   "cell_type": "markdown",
   "metadata": {
    "slideshow": {
     "slide_type": "subslide"
    }
   },
   "source": [
    "<img src=overview_images/kep22-corner.png width=600>"
   ]
  },
  {
   "cell_type": "markdown",
   "metadata": {
    "slideshow": {
     "slide_type": "slide"
    }
   },
   "source": [
    "## How?\n",
    "\n",
    "Precomputed model grids (e.g. the MIST models) contain tables of observable and theoretical properties of stars as a function of various gridded parameters.  These grids can be organized in different ways, e.g.\n",
    "\n",
    "- Isochrones: Grids in age and [Fe/H], each isochrone contains a range of masses*\n",
    "- Evolutionary Tracks: Grids in mass and [Fe/H], each track has a range of ages*\n",
    "\n",
    "**The MIST and Dartmouth grids define and use a quantity called EEP (equivalent evolutionary phase), which allows for regular gridding in the third dimension, and thus can serve as a proxy for mass (in isochrone grids) or age (in the evolutionary track grids).*"
   ]
  },
  {
   "cell_type": "markdown",
   "metadata": {
    "slideshow": {
     "slide_type": "subslide"
    }
   },
   "source": [
    "## Inference\n",
    "\n",
    "Observed properties and uncertainties, e.g.: \n",
    "\n",
    "$$ \\mathbf x = \\{\\bar J, \\bar H, \\bar K, \\bar \\pi\\},~ \\mathbf u = \\{\\bar J_{unc}, \\bar H_{unc}, \\bar K_{unc}, \\bar \\pi_{unc}\\}$$\n",
    "\n",
    "Parameters of model (single star):\n",
    "\n",
    "$$\\mathbf \\theta = \\{EEP, T, [Fe/H], d, AV \\} $$\n",
    "\n",
    "Likelihood:\n",
    "\n",
    "$$p(\\mathbf x~|~\\mathbf \\theta) \\propto \\prod ...$$ \n",
    "\n",
    "Computation of likelihood requires prediction of $x_i$ at arbitrary $\\theta$ &rarr; **Requires interpolation**"
   ]
  },
  {
   "cell_type": "markdown",
   "metadata": {
    "slideshow": {
     "slide_type": "slide"
    }
   },
   "source": [
    "## Implementation"
   ]
  },
  {
   "cell_type": "code",
   "execution_count": 1,
   "metadata": {
    "slideshow": {
     "slide_type": "-"
    }
   },
   "outputs": [
    {
     "data": {
      "text/html": [
       "<div>\n",
       "<style>\n",
       "    .dataframe thead tr:only-child th {\n",
       "        text-align: right;\n",
       "    }\n",
       "\n",
       "    .dataframe thead th {\n",
       "        text-align: left;\n",
       "    }\n",
       "\n",
       "    .dataframe tbody tr th {\n",
       "        vertical-align: top;\n",
       "    }\n",
       "</style>\n",
       "<table border=\"1\" class=\"dataframe\">\n",
       "  <thead>\n",
       "    <tr style=\"text-align: right;\">\n",
       "      <th></th>\n",
       "      <th></th>\n",
       "      <th></th>\n",
       "      <th>EEP</th>\n",
       "      <th>log10_isochrone_age_yr</th>\n",
       "      <th>initial_mass</th>\n",
       "      <th>star_mass</th>\n",
       "      <th>log_Teff</th>\n",
       "      <th>log_g</th>\n",
       "      <th>log_L</th>\n",
       "      <th>[Fe/H]_init</th>\n",
       "      <th>[Fe/H]</th>\n",
       "      <th>H</th>\n",
       "      <th>J</th>\n",
       "      <th>K</th>\n",
       "      <th>dm_deep</th>\n",
       "    </tr>\n",
       "    <tr>\n",
       "      <th>feh</th>\n",
       "      <th>log10_isochrone_age_yr</th>\n",
       "      <th>EEP</th>\n",
       "      <th></th>\n",
       "      <th></th>\n",
       "      <th></th>\n",
       "      <th></th>\n",
       "      <th></th>\n",
       "      <th></th>\n",
       "      <th></th>\n",
       "      <th></th>\n",
       "      <th></th>\n",
       "      <th></th>\n",
       "      <th></th>\n",
       "      <th></th>\n",
       "      <th></th>\n",
       "    </tr>\n",
       "  </thead>\n",
       "  <tbody>\n",
       "    <tr>\n",
       "      <th rowspan=\"5\" valign=\"top\">-4.0</th>\n",
       "      <th rowspan=\"5\" valign=\"top\">5.0</th>\n",
       "      <th>35</th>\n",
       "      <td>35</td>\n",
       "      <td>5.0</td>\n",
       "      <td>0.100000</td>\n",
       "      <td>0.100000</td>\n",
       "      <td>3.617011</td>\n",
       "      <td>3.350571</td>\n",
       "      <td>-0.489734</td>\n",
       "      <td>-4.0</td>\n",
       "      <td>-3.90751</td>\n",
       "      <td>3.902331</td>\n",
       "      <td>4.446939</td>\n",
       "      <td>3.718756</td>\n",
       "      <td>0.000688</td>\n",
       "    </tr>\n",
       "    <tr>\n",
       "      <th>36</th>\n",
       "      <td>36</td>\n",
       "      <td>5.0</td>\n",
       "      <td>0.102885</td>\n",
       "      <td>0.102885</td>\n",
       "      <td>3.618039</td>\n",
       "      <td>3.347798</td>\n",
       "      <td>-0.472691</td>\n",
       "      <td>-4.0</td>\n",
       "      <td>-3.90751</td>\n",
       "      <td>3.862969</td>\n",
       "      <td>4.407142</td>\n",
       "      <td>3.680907</td>\n",
       "      <td>0.000681</td>\n",
       "    </tr>\n",
       "    <tr>\n",
       "      <th>37</th>\n",
       "      <td>37</td>\n",
       "      <td>5.0</td>\n",
       "      <td>0.107147</td>\n",
       "      <td>0.107147</td>\n",
       "      <td>3.619556</td>\n",
       "      <td>3.343658</td>\n",
       "      <td>-0.447471</td>\n",
       "      <td>-4.0</td>\n",
       "      <td>-3.90751</td>\n",
       "      <td>3.804645</td>\n",
       "      <td>4.348186</td>\n",
       "      <td>3.624838</td>\n",
       "      <td>0.000322</td>\n",
       "    </tr>\n",
       "    <tr>\n",
       "      <th>38</th>\n",
       "      <td>38</td>\n",
       "      <td>5.0</td>\n",
       "      <td>0.111379</td>\n",
       "      <td>0.111379</td>\n",
       "      <td>3.621062</td>\n",
       "      <td>3.339612</td>\n",
       "      <td>-0.422498</td>\n",
       "      <td>-4.0</td>\n",
       "      <td>-3.90751</td>\n",
       "      <td>3.746857</td>\n",
       "      <td>4.289824</td>\n",
       "      <td>3.569300</td>\n",
       "      <td>-0.000029</td>\n",
       "    </tr>\n",
       "    <tr>\n",
       "      <th>39</th>\n",
       "      <td>39</td>\n",
       "      <td>5.0</td>\n",
       "      <td>0.115581</td>\n",
       "      <td>0.115581</td>\n",
       "      <td>3.622555</td>\n",
       "      <td>3.335660</td>\n",
       "      <td>-0.397776</td>\n",
       "      <td>-4.0</td>\n",
       "      <td>-3.90751</td>\n",
       "      <td>3.689636</td>\n",
       "      <td>4.232103</td>\n",
       "      <td>3.514316</td>\n",
       "      <td>-0.000027</td>\n",
       "    </tr>\n",
       "  </tbody>\n",
       "</table>\n",
       "</div>"
      ],
      "text/plain": [
       "                                 EEP  log10_isochrone_age_yr  initial_mass  \\\n",
       "feh  log10_isochrone_age_yr EEP                                              \n",
       "-4.0 5.0                    35    35                     5.0      0.100000   \n",
       "                            36    36                     5.0      0.102885   \n",
       "                            37    37                     5.0      0.107147   \n",
       "                            38    38                     5.0      0.111379   \n",
       "                            39    39                     5.0      0.115581   \n",
       "\n",
       "                                 star_mass  log_Teff     log_g     log_L  \\\n",
       "feh  log10_isochrone_age_yr EEP                                            \n",
       "-4.0 5.0                    35    0.100000  3.617011  3.350571 -0.489734   \n",
       "                            36    0.102885  3.618039  3.347798 -0.472691   \n",
       "                            37    0.107147  3.619556  3.343658 -0.447471   \n",
       "                            38    0.111379  3.621062  3.339612 -0.422498   \n",
       "                            39    0.115581  3.622555  3.335660 -0.397776   \n",
       "\n",
       "                                 [Fe/H]_init   [Fe/H]         H         J  \\\n",
       "feh  log10_isochrone_age_yr EEP                                             \n",
       "-4.0 5.0                    35          -4.0 -3.90751  3.902331  4.446939   \n",
       "                            36          -4.0 -3.90751  3.862969  4.407142   \n",
       "                            37          -4.0 -3.90751  3.804645  4.348186   \n",
       "                            38          -4.0 -3.90751  3.746857  4.289824   \n",
       "                            39          -4.0 -3.90751  3.689636  4.232103   \n",
       "\n",
       "                                        K   dm_deep  \n",
       "feh  log10_isochrone_age_yr EEP                      \n",
       "-4.0 5.0                    35   3.718756  0.000688  \n",
       "                            36   3.680907  0.000681  \n",
       "                            37   3.624838  0.000322  \n",
       "                            38   3.569300 -0.000029  \n",
       "                            39   3.514316 -0.000027  "
      ]
     },
     "execution_count": 1,
     "metadata": {},
     "output_type": "execute_result"
    }
   ],
   "source": [
    "from isochrones import get_ichrone\n",
    "\n",
    "mist = get_ichrone('mist', bands='JHK') # Downloads & reorganizes appropriate data into ~/.isochrones (or $ISOCHRONES)\n",
    "mist.df.head()"
   ]
  },
  {
   "cell_type": "markdown",
   "metadata": {
    "slideshow": {
     "slide_type": "subslide"
    }
   },
   "source": [
    "## Custom linear interpolation"
   ]
  },
  {
   "cell_type": "code",
   "execution_count": 2,
   "metadata": {
    "slideshow": {
     "slide_type": "-"
    }
   },
   "outputs": [
    {
     "data": {
      "text/plain": [
       "<isochrones.interp.DFInterpolator at 0x110fefac8>"
      ]
     },
     "execution_count": 2,
     "metadata": {},
     "output_type": "execute_result"
    }
   ],
   "source": [
    "mist.interp"
   ]
  },
  {
   "cell_type": "code",
   "execution_count": 3,
   "metadata": {
    "slideshow": {
     "slide_type": "-"
    }
   },
   "outputs": [
    {
     "data": {
      "text/plain": [
       "(15, 107, 1711, 13)"
      ]
     },
     "execution_count": 3,
     "metadata": {},
     "output_type": "execute_result"
    }
   ],
   "source": [
    "mist.interp.grid.shape # filled-in regular grid (nan-padded)"
   ]
  },
  {
   "cell_type": "code",
   "execution_count": 4,
   "metadata": {
    "slideshow": {
     "slide_type": "-"
    }
   },
   "outputs": [
    {
     "data": {
      "text/plain": [
       "(array([-4.  , -3.5 , -3.  , -2.5 , -2.  , -1.75, -1.5 , -1.25, -1.  ,\n",
       "        -0.75, -0.5 , -0.25,  0.  ,  0.25,  0.5 ]),\n",
       " array([ 5.  ,  5.05,  5.1 ,  5.15,  5.2 ,  5.25,  5.3 ,  5.35,  5.4 ,\n",
       "         5.45,  5.5 ,  5.55,  5.6 ,  5.65,  5.7 ,  5.75,  5.8 ,  5.85,\n",
       "         5.9 ,  5.95,  6.  ,  6.05,  6.1 ,  6.15,  6.2 ,  6.25,  6.3 ,\n",
       "         6.35,  6.4 ,  6.45,  6.5 ,  6.55,  6.6 ,  6.65,  6.7 ,  6.75,\n",
       "         6.8 ,  6.85,  6.9 ,  6.95,  7.  ,  7.05,  7.1 ,  7.15,  7.2 ,\n",
       "         7.25,  7.3 ,  7.35,  7.4 ,  7.45,  7.5 ,  7.55,  7.6 ,  7.65,\n",
       "         7.7 ,  7.75,  7.8 ,  7.85,  7.9 ,  7.95,  8.  ,  8.05,  8.1 ,\n",
       "         8.15,  8.2 ,  8.25,  8.3 ,  8.35,  8.4 ,  8.45,  8.5 ,  8.55,\n",
       "         8.6 ,  8.65,  8.7 ,  8.75,  8.8 ,  8.85,  8.9 ,  8.95,  9.  ,\n",
       "         9.05,  9.1 ,  9.15,  9.2 ,  9.25,  9.3 ,  9.35,  9.4 ,  9.45,\n",
       "         9.5 ,  9.55,  9.6 ,  9.65,  9.7 ,  9.75,  9.8 ,  9.85,  9.9 ,\n",
       "         9.95, 10.  , 10.05, 10.1 , 10.15, 10.2 , 10.25, 10.3 ]),\n",
       " array([0.000e+00, 1.000e+00, 2.000e+00, ..., 1.708e+03, 1.709e+03,\n",
       "        1.710e+03]))"
      ]
     },
     "execution_count": 4,
     "metadata": {},
     "output_type": "execute_result"
    }
   ],
   "source": [
    "mist.interp.index_columns  # feh, log(age), eep"
   ]
  },
  {
   "cell_type": "code",
   "execution_count": 5,
   "metadata": {
    "slideshow": {
     "slide_type": "fragment"
    }
   },
   "outputs": [
    {
     "ename": "ValueError",
     "evalue": "'l' is not in list",
     "output_type": "error",
     "traceback": [
      "\u001b[0;31m---------------------------------------------------------------------------\u001b[0m",
      "\u001b[0;31mValueError\u001b[0m                                Traceback (most recent call last)",
      "\u001b[0;32m<ipython-input-5-2adf3dd4bdf8>\u001b[0m in \u001b[0;36m<module>\u001b[0;34m()\u001b[0m\n\u001b[1;32m      1\u001b[0m \u001b[0mpars\u001b[0m \u001b[0;34m=\u001b[0m \u001b[0;34m[\u001b[0m\u001b[0;36m0.01\u001b[0m\u001b[0;34m,\u001b[0m \u001b[0;36m9.54\u001b[0m\u001b[0;34m,\u001b[0m \u001b[0;36m300.3\u001b[0m\u001b[0;34m]\u001b[0m\u001b[0;34m\u001b[0m\u001b[0m\n\u001b[0;32m----> 2\u001b[0;31m \u001b[0mmist\u001b[0m\u001b[0;34m.\u001b[0m\u001b[0minterp\u001b[0m\u001b[0;34m(\u001b[0m\u001b[0mpars\u001b[0m\u001b[0;34m,\u001b[0m \u001b[0;34m'log_g'\u001b[0m\u001b[0;34m)\u001b[0m\u001b[0;34m\u001b[0m\u001b[0m\n\u001b[0m",
      "\u001b[0;32m/Users/tdm/repositories/isochrones/isochrones/interp.py\u001b[0m in \u001b[0;36m__call__\u001b[0;34m(self, p, cols)\u001b[0m\n\u001b[1;32m    585\u001b[0m \u001b[0;34m\u001b[0m\u001b[0m\n\u001b[1;32m    586\u001b[0m     \u001b[0;32mdef\u001b[0m \u001b[0m__call__\u001b[0m\u001b[0;34m(\u001b[0m\u001b[0mself\u001b[0m\u001b[0;34m,\u001b[0m \u001b[0mp\u001b[0m\u001b[0;34m,\u001b[0m \u001b[0mcols\u001b[0m\u001b[0;34m)\u001b[0m\u001b[0;34m:\u001b[0m\u001b[0;34m\u001b[0m\u001b[0m\n\u001b[0;32m--> 587\u001b[0;31m         \u001b[0micols\u001b[0m \u001b[0;34m=\u001b[0m \u001b[0mnp\u001b[0m\u001b[0;34m.\u001b[0m\u001b[0marray\u001b[0m\u001b[0;34m(\u001b[0m\u001b[0;34m[\u001b[0m\u001b[0mself\u001b[0m\u001b[0;34m.\u001b[0m\u001b[0mcolumns\u001b[0m\u001b[0;34m.\u001b[0m\u001b[0mindex\u001b[0m\u001b[0;34m(\u001b[0m\u001b[0mcol\u001b[0m\u001b[0;34m)\u001b[0m \u001b[0;32mfor\u001b[0m \u001b[0mcol\u001b[0m \u001b[0;32min\u001b[0m \u001b[0mcols\u001b[0m\u001b[0;34m]\u001b[0m\u001b[0;34m)\u001b[0m\u001b[0;34m\u001b[0m\u001b[0m\n\u001b[0m\u001b[1;32m    588\u001b[0m         \u001b[0margs\u001b[0m \u001b[0;34m=\u001b[0m \u001b[0;34m(\u001b[0m\u001b[0mp\u001b[0m\u001b[0;34m,\u001b[0m \u001b[0mself\u001b[0m\u001b[0;34m.\u001b[0m\u001b[0mgrid\u001b[0m\u001b[0;34m,\u001b[0m \u001b[0micols\u001b[0m\u001b[0;34m,\u001b[0m \u001b[0mself\u001b[0m\u001b[0;34m.\u001b[0m\u001b[0mindex_columns\u001b[0m\u001b[0;34m)\u001b[0m\u001b[0;34m\u001b[0m\u001b[0m\n\u001b[1;32m    589\u001b[0m \u001b[0;34m\u001b[0m\u001b[0m\n",
      "\u001b[0;32m/Users/tdm/repositories/isochrones/isochrones/interp.py\u001b[0m in \u001b[0;36m<listcomp>\u001b[0;34m(.0)\u001b[0m\n\u001b[1;32m    585\u001b[0m \u001b[0;34m\u001b[0m\u001b[0m\n\u001b[1;32m    586\u001b[0m     \u001b[0;32mdef\u001b[0m \u001b[0m__call__\u001b[0m\u001b[0;34m(\u001b[0m\u001b[0mself\u001b[0m\u001b[0;34m,\u001b[0m \u001b[0mp\u001b[0m\u001b[0;34m,\u001b[0m \u001b[0mcols\u001b[0m\u001b[0;34m)\u001b[0m\u001b[0;34m:\u001b[0m\u001b[0;34m\u001b[0m\u001b[0m\n\u001b[0;32m--> 587\u001b[0;31m         \u001b[0micols\u001b[0m \u001b[0;34m=\u001b[0m \u001b[0mnp\u001b[0m\u001b[0;34m.\u001b[0m\u001b[0marray\u001b[0m\u001b[0;34m(\u001b[0m\u001b[0;34m[\u001b[0m\u001b[0mself\u001b[0m\u001b[0;34m.\u001b[0m\u001b[0mcolumns\u001b[0m\u001b[0;34m.\u001b[0m\u001b[0mindex\u001b[0m\u001b[0;34m(\u001b[0m\u001b[0mcol\u001b[0m\u001b[0;34m)\u001b[0m \u001b[0;32mfor\u001b[0m \u001b[0mcol\u001b[0m \u001b[0;32min\u001b[0m \u001b[0mcols\u001b[0m\u001b[0;34m]\u001b[0m\u001b[0;34m)\u001b[0m\u001b[0;34m\u001b[0m\u001b[0m\n\u001b[0m\u001b[1;32m    588\u001b[0m         \u001b[0margs\u001b[0m \u001b[0;34m=\u001b[0m \u001b[0;34m(\u001b[0m\u001b[0mp\u001b[0m\u001b[0;34m,\u001b[0m \u001b[0mself\u001b[0m\u001b[0;34m.\u001b[0m\u001b[0mgrid\u001b[0m\u001b[0;34m,\u001b[0m \u001b[0micols\u001b[0m\u001b[0;34m,\u001b[0m \u001b[0mself\u001b[0m\u001b[0;34m.\u001b[0m\u001b[0mindex_columns\u001b[0m\u001b[0;34m)\u001b[0m\u001b[0;34m\u001b[0m\u001b[0m\n\u001b[1;32m    589\u001b[0m \u001b[0;34m\u001b[0m\u001b[0m\n",
      "\u001b[0;31mValueError\u001b[0m: 'l' is not in list"
     ]
    }
   ],
   "source": [
    "pars = [0.01, 9.54, 300.3]\n",
    "mist.interp(pars, 'log_g')"
   ]
  },
  {
   "cell_type": "markdown",
   "metadata": {
    "slideshow": {
     "slide_type": "subslide"
    }
   },
   "source": [
    "### Comparison with SciPy"
   ]
  },
  {
   "cell_type": "code",
   "execution_count": null,
   "metadata": {
    "slideshow": {
     "slide_type": "fragment"
    }
   },
   "outputs": [],
   "source": [
    "from scipy.interpolate import RegularGridInterpolator\n",
    "\n",
    "# Construct SciPy regular grid interpolator for logg\n",
    "points = mist.interp.index_columns\n",
    "values = mist.interp.grid[:, :, :, 5]  # logg is column 5\n",
    "fn = RegularGridInterpolator(points, values)"
   ]
  },
  {
   "cell_type": "code",
   "execution_count": null,
   "metadata": {
    "slideshow": {
     "slide_type": "fragment"
    }
   },
   "outputs": [],
   "source": [
    "pars = [0.01, 9.54, 300.3]\n",
    "fn(pars)"
   ]
  },
  {
   "cell_type": "code",
   "execution_count": null,
   "metadata": {
    "slideshow": {
     "slide_type": "fragment"
    }
   },
   "outputs": [],
   "source": [
    "%timeit fn(pars)"
   ]
  },
  {
   "cell_type": "code",
   "execution_count": null,
   "metadata": {
    "slideshow": {
     "slide_type": "fragment"
    }
   },
   "outputs": [],
   "source": [
    "mist.interp(pars, 'log_g')"
   ]
  },
  {
   "cell_type": "code",
   "execution_count": null,
   "metadata": {
    "slideshow": {
     "slide_type": "fragment"
    }
   },
   "outputs": [],
   "source": [
    "# convenience function for mist.interp(pars, 'log_g'), with different args\n",
    "%timeit mist.logg(*pars[::-1]) "
   ]
  },
  {
   "cell_type": "markdown",
   "metadata": {
    "slideshow": {
     "slide_type": "subslide"
    }
   },
   "source": [
    "Slightly slower than SciPy for vectorized calculations, however"
   ]
  },
  {
   "cell_type": "code",
   "execution_count": null,
   "metadata": {
    "slideshow": {
     "slide_type": "-"
    }
   },
   "outputs": [],
   "source": [
    "import numpy as np\n",
    "\n",
    "N = 10000\n",
    "%timeit mist.interp([np.ones(N)*0.01, np.ones(N)*9.54, np.ones(N)*300.3], 'log_g')"
   ]
  },
  {
   "cell_type": "code",
   "execution_count": null,
   "metadata": {
    "slideshow": {
     "slide_type": "-"
    }
   },
   "outputs": [],
   "source": [
    "%timeit fn(np.array([np.ones(N)*0.01, np.ones(N)*9.54, np.ones(N)*300.3]).T)"
   ]
  },
  {
   "cell_type": "markdown",
   "metadata": {
    "slideshow": {
     "slide_type": "slide"
    }
   },
   "source": [
    "## `isochrones` in action"
   ]
  },
  {
   "cell_type": "code",
   "execution_count": null,
   "metadata": {
    "slideshow": {
     "slide_type": "-"
    }
   },
   "outputs": [],
   "source": [
    "from isochrones import StarModel\n",
    "from isochrones import get_ichrone\n",
    "\n",
    "mist = get_ichrone('mist', bands='JHK')\n",
    "\n",
    "props = dict(Teff=(5642, 50.0), feh=(-0.27, 0.08), logg=(4.443, 0.028), \n",
    "             J=(10.523, 0.02), H=(10.211, 0.02), K=(10.152, 0.02))\n",
    "\n",
    "# Single star model\n",
    "mod = StarModel(mist, **props)\n",
    "mod.print_ascii()"
   ]
  },
  {
   "cell_type": "code",
   "execution_count": null,
   "metadata": {},
   "outputs": [],
   "source": [
    "mod.param_names"
   ]
  },
  {
   "cell_type": "code",
   "execution_count": null,
   "metadata": {
    "slideshow": {
     "slide_type": "fragment"
    }
   },
   "outputs": [],
   "source": [
    "p = [300, 9.5, 0.1, 300, 0.1]\n",
    "mod.lnpost(p)"
   ]
  },
  {
   "cell_type": "code",
   "execution_count": null,
   "metadata": {
    "slideshow": {
     "slide_type": "-"
    }
   },
   "outputs": [],
   "source": [
    "%timeit mod.lnpost(p)"
   ]
  },
  {
   "cell_type": "code",
   "execution_count": null,
   "metadata": {
    "slideshow": {
     "slide_type": "subslide"
    }
   },
   "outputs": [],
   "source": [
    "mod.fit(basename='kep22')  # Defaults to using MultiNest if available"
   ]
  },
  {
   "cell_type": "code",
   "execution_count": null,
   "metadata": {
    "slideshow": {
     "slide_type": "-"
    }
   },
   "outputs": [],
   "source": [
    "mod.samples.describe()"
   ]
  },
  {
   "cell_type": "markdown",
   "metadata": {
    "slideshow": {
     "slide_type": "subslide"
    }
   },
   "source": [
    "Generate a corner plot with `mod.corner_physical()`:\n",
    "<img src=\"overview_images/mist_corner_single_physical.png\" width=\"600\">"
   ]
  },
  {
   "cell_type": "markdown",
   "metadata": {
    "slideshow": {
     "slide_type": "subslide"
    }
   },
   "source": [
    "### Binary star model (unresolved)"
   ]
  },
  {
   "cell_type": "code",
   "execution_count": null,
   "metadata": {
    "slideshow": {
     "slide_type": "-"
    }
   },
   "outputs": [],
   "source": [
    "mod2 = StarModel(mist, N=2, **props)\n",
    "mod2.print_ascii()"
   ]
  },
  {
   "cell_type": "code",
   "execution_count": null,
   "metadata": {},
   "outputs": [],
   "source": [
    "mod2.param_names"
   ]
  },
  {
   "cell_type": "markdown",
   "metadata": {
    "slideshow": {
     "slide_type": "subslide"
    }
   },
   "source": [
    "<img src=\"overview_images/mist_corner_binary_physical.png\" width=600>"
   ]
  },
  {
   "cell_type": "markdown",
   "metadata": {
    "slideshow": {
     "slide_type": "subslide"
    }
   },
   "source": [
    "&rarr; Can also do triple systems, resolved binaries, partially resolved binaries, etc."
   ]
  },
  {
   "cell_type": "code",
   "execution_count": null,
   "metadata": {
    "slideshow": {
     "slide_type": "-"
    }
   },
   "outputs": [],
   "source": [
    "%%file demo_star/star.ini\n",
    "\n",
    "Teff = 4135, 98.0\n",
    "feh = -0.46, 0.16\n",
    "logg = 4.711, 0.1\n",
    "\n",
    "[twomass]\n",
    "J = 13.513, 0.02\n",
    "H = 12.845, 0.02\n",
    "K = 12.693, 0.02\n",
    "\n",
    "[NIRC2]\n",
    "resolution = 0.1\n",
    "separation_1 = 0.6\n",
    "PA_1 = 100\n",
    "K_1 = 3.66, 0.05\n",
    "H_1 = 3.77, 0.03\n",
    "J_1 = 3.74, 0.05\n",
    "separation_2 = 1.2\n",
    "PA_2 = 200\n",
    "K_2 = 5.1, 0.1\n",
    "H_2 = 5.2, 0.1\n",
    "J_2 = 5.15, 0.1\n"
   ]
  },
  {
   "cell_type": "code",
   "execution_count": null,
   "metadata": {
    "slideshow": {
     "slide_type": "subslide"
    }
   },
   "outputs": [],
   "source": [
    "mod3 = StarModel.from_ini(mist, 'demo_star')\n",
    "mod3.print_ascii()"
   ]
  },
  {
   "cell_type": "code",
   "execution_count": null,
   "metadata": {
    "slideshow": {
     "slide_type": "-"
    }
   },
   "outputs": [],
   "source": [
    "mod3.param_names"
   ]
  },
  {
   "cell_type": "code",
   "execution_count": null,
   "metadata": {
    "slideshow": {
     "slide_type": "subslide"
    }
   },
   "outputs": [],
   "source": [
    "mod4 = StarModel.from_ini(mist, 'demo_star', N=[2,1,1])\n",
    "mod4.print_ascii()"
   ]
  },
  {
   "cell_type": "code",
   "execution_count": null,
   "metadata": {},
   "outputs": [],
   "source": [
    "mod4.param_names"
   ]
  },
  {
   "cell_type": "code",
   "execution_count": null,
   "metadata": {
    "slideshow": {
     "slide_type": "subslide"
    }
   },
   "outputs": [],
   "source": [
    "mod5 = StarModel.from_ini(mist, 'demo_star', N=[2,1,1], index=[0,1,1])\n",
    "mod5.print_ascii()"
   ]
  },
  {
   "cell_type": "code",
   "execution_count": null,
   "metadata": {},
   "outputs": [],
   "source": [
    "mod5.param_names"
   ]
  },
  {
   "cell_type": "markdown",
   "metadata": {
    "slideshow": {
     "slide_type": "slide"
    }
   },
   "source": [
    "## Fitting Clusters (new/in progress)"
   ]
  },
  {
   "cell_type": "markdown",
   "metadata": {
    "slideshow": {
     "slide_type": "fragment"
    }
   },
   "source": [
    "### Simulate observations of a cluster"
   ]
  },
  {
   "cell_type": "code",
   "execution_count": null,
   "metadata": {},
   "outputs": [],
   "source": [
    "from isochrones import get_ichrone\n",
    "from isochrones.cluster import SimulatedCluster\n",
    "\n",
    "mist = get_ichrone('mist')\n",
    "\n",
    "N = 50\n",
    "cluster_pars = [8.84, -0.2, 500, 0.03, -3, 0.3, 0.3]\n",
    "stars = SimulatedCluster(N, *cluster_pars, bands='gri', mass_range=(1, 2.5), phot_unc=0.01)\n",
    "stars.df.head()"
   ]
  },
  {
   "cell_type": "markdown",
   "metadata": {
    "slideshow": {
     "slide_type": "subslide"
    }
   },
   "source": [
    "### Make a model"
   ]
  },
  {
   "cell_type": "code",
   "execution_count": null,
   "metadata": {
    "slideshow": {
     "slide_type": "-"
    }
   },
   "outputs": [],
   "source": [
    "from isochrones.cluster import StarClusterModel\n",
    "model = StarClusterModel(mist, stars, eep_bounds=(200, 700), minq=0.5)\n",
    "model.param_names"
   ]
  },
  {
   "cell_type": "markdown",
   "metadata": {},
   "source": [
    "$$ p(M_1) \\propto M_1^\\alpha;~~ p(q = M_2/M_1) \\propto q^\\gamma$$"
   ]
  },
  {
   "cell_type": "code",
   "execution_count": null,
   "metadata": {
    "slideshow": {
     "slide_type": "-"
    }
   },
   "outputs": [],
   "source": [
    "isinstance(model, StarModel)"
   ]
  },
  {
   "cell_type": "code",
   "execution_count": null,
   "metadata": {
    "slideshow": {
     "slide_type": "-"
    }
   },
   "outputs": [],
   "source": [
    "model.lnpost(cluster_pars)"
   ]
  },
  {
   "cell_type": "code",
   "execution_count": null,
   "metadata": {
    "slideshow": {
     "slide_type": "fragment"
    }
   },
   "outputs": [],
   "source": [
    "%timeit model.lnpost(cluster_pars)"
   ]
  },
  {
   "cell_type": "markdown",
   "metadata": {
    "slideshow": {
     "slide_type": "fragment"
    }
   },
   "source": [
    "&rarr; Yikes! What's going on here?"
   ]
  },
  {
   "cell_type": "code",
   "execution_count": null,
   "metadata": {
    "slideshow": {
     "slide_type": "subslide"
    }
   },
   "outputs": [],
   "source": [
    "import holoviews as hv\n",
    "hv.extension('bokeh')"
   ]
  },
  {
   "cell_type": "code",
   "execution_count": null,
   "metadata": {},
   "outputs": [],
   "source": [
    "%%opts Points [width=400, height=400, tools=['hover']]\n",
    "from isochrones.cluster import StarCatalog\n",
    "import pandas as pd\n",
    "\n",
    "df = pd.read_hdf('overview/small-test-cluster.h5')\n",
    "test_stars = StarCatalog(df, bands='gri', props=['parallax'])\n",
    "test_stars.hr"
   ]
  },
  {
   "cell_type": "markdown",
   "metadata": {
    "slideshow": {
     "slide_type": "subslide"
    }
   },
   "source": [
    "<img src=\"overview_images/cluster-test.png\" width=600>"
   ]
  },
  {
   "cell_type": "code",
   "execution_count": null,
   "metadata": {
    "slideshow": {
     "slide_type": "subslide"
    }
   },
   "outputs": [],
   "source": [
    "%%opts Points [width=500, height=500, tools=['hover']]\n",
    "data = hv.Points(test_stars.ds, kdims=['g-i', 'g_mag'], \n",
    "                 vdims=['is_binary', 'distance', \n",
    "                        'mass_pri', 'mass_sec', \n",
    "                        'eep_pri', 'eep_sec'], label='Simulated data').options(size=5)\n",
    "model = mist.hr_isochrone('g', 'i', *cluster_pars[:4], mineep=300, maxeep=700, thin=2, label='Model isochrone').options(size=2)\n",
    "data * model"
   ]
  },
  {
   "cell_type": "markdown",
   "metadata": {
    "slideshow": {
     "slide_type": "slide"
    }
   },
   "source": [
    "## In the real world!"
   ]
  },
  {
   "cell_type": "markdown",
   "metadata": {},
   "source": [
    "<img src=\"overview_images/hierarch-results.png\" width=600>\n",
    "Price-Whelan et al., in prep."
   ]
  }
 ],
 "metadata": {
  "celltoolbar": "Slideshow",
  "kernelspec": {
   "display_name": "Python 3",
   "language": "python",
   "name": "python3"
  },
  "language_info": {
   "codemirror_mode": {
    "name": "ipython",
    "version": 3
   },
   "file_extension": ".py",
   "mimetype": "text/x-python",
   "name": "python",
   "nbconvert_exporter": "python",
   "pygments_lexer": "ipython3",
   "version": "3.6.5"
  }
 },
 "nbformat": 4,
 "nbformat_minor": 2
}
