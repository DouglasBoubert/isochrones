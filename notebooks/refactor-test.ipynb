{
 "cells": [
  {
   "cell_type": "code",
   "execution_count": 1,
   "metadata": {
    "collapsed": false
   },
   "outputs": [],
   "source": [
    "from isochrones.starmodel_new import MultipleStarModel\n",
    "from isochrones.dartmouth import Dartmouth_Isochrone"
   ]
  },
  {
   "cell_type": "code",
   "execution_count": 4,
   "metadata": {
    "collapsed": false
   },
   "outputs": [
    {
     "data": {
      "text/plain": [
       "{'2mass': {'H': [(9.8, 0.02), None],\n",
       "  'J': [(10.1, 0.02), None],\n",
       "  'K': [(9.4, 0.02), None],\n",
       "  'relative': {'H': False, 'J': False, 'K': False}},\n",
       " 'NIRC2': {'J': [0, (2.5, 0.03)], 'relative': {'J': True}}}"
      ]
     },
     "execution_count": 4,
     "metadata": {},
     "output_type": "execute_result"
    }
   ],
   "source": [
    "mod = MultipleStarModel(Dartmouth_Isochrone, [0,1])\n",
    "mod.add_photometry('2mass', 'J', [(10.1, 0.02), None])\n",
    "mod.add_photometry('2mass', 'H', [(9.8, 0.02), None])\n",
    "mod.add_photometry('2mass', 'K', [(9.4, 0.02), None])\n",
    "mod.add_photometry('NIRC2', 'J', [0, (2.5, 0.03)], relative=True)\n",
    "mod._photometry"
   ]
  },
  {
   "cell_type": "code",
   "execution_count": 6,
   "metadata": {
    "collapsed": false
   },
   "outputs": [
    {
     "name": "stdout",
     "output_type": "stream",
     "text": [
      "NIRC2\n",
      "({0: (inf, 0), 1: (2.5, 0.030000000000000006)}, {0: inf, 1: 1.3201766515204945})\n",
      "2mass\n",
      "({0: (9.8000000000000007, 0.020000000000000046), 1: (inf, 0)}, {0: 10.300628189468249, 1: 11.620804840988741})\n",
      "({0: (9.4000000000000004, 0.020000000000000046), 1: (inf, 0)}, {0: 10.300628189468249, 1: 11.620804840988741})\n",
      "({0: (10.1, 0.020000000000000046), 1: (inf, 0)}, {0: 10.300628189468249, 1: 11.620804840988741})\n"
     ]
    },
    {
     "data": {
      "text/plain": [
       "nan"
      ]
     },
     "execution_count": 6,
     "metadata": {},
     "output_type": "execute_result"
    }
   ],
   "source": [
    "p = [1, 9.8, 0.0, 150, 0.2, 0.8, 9.8, 0.0, 150, 0.2]\n",
    "#p = [1, 0.8, 9.8, 0.0, 150, 0.2]\n",
    "\n",
    "mod.photometry_lnlike(p)"
   ]
  },
  {
   "cell_type": "code",
   "execution_count": 6,
   "metadata": {
    "collapsed": false
   },
   "outputs": [
    {
     "name": "stdout",
     "output_type": "stream",
     "text": [
      "{'relative': {'J': True}, 'J': [0, 2.5]}\n",
      "{'relative': {'H': False, 'K': False, 'J': False}, 'H': [9.8, None], 'K': [9.4, None], 'J': [10.1, None]}\n"
     ]
    }
   ],
   "source": [
    "for obs in mod._photometry.keys():\n",
    "    print mod._photometry[obs]"
   ]
  },
  {
   "cell_type": "code",
   "execution_count": 4,
   "metadata": {
    "collapsed": false
   },
   "outputs": [
    {
     "data": {
      "text/plain": [
       "0.01825205698001564"
      ]
     },
     "execution_count": 4,
     "metadata": {},
     "output_type": "execute_result"
    }
   ],
   "source": [
    "1 - 10**(-0.4*0.02)"
   ]
  },
  {
   "cell_type": "code",
   "execution_count": 6,
   "metadata": {
    "collapsed": false
   },
   "outputs": [
    {
     "name": "stdout",
     "output_type": "stream",
     "text": [
      "The slowest run took 12.48 times longer than the fastest. This could mean that an intermediate result is being cached \n",
      "1000000 loops, best of 3: 478 ns per loop\n"
     ]
    }
   ],
   "source": [
    "%timeit ['a','b',(0,0)].index((0,0))"
   ]
  },
  {
   "cell_type": "code",
   "execution_count": 6,
   "metadata": {
    "collapsed": false
   },
   "outputs": [
    {
     "data": {
      "text/plain": [
       "3.9810717055349695e-05"
      ]
     },
     "execution_count": 6,
     "metadata": {},
     "output_type": "execute_result"
    }
   ],
   "source": [
    "10**(-0.4*11)"
   ]
  },
  {
   "cell_type": "code",
   "execution_count": 1,
   "metadata": {
    "collapsed": false
   },
   "outputs": [],
   "source": [
    "from isochrones.starmodel_new import addmags"
   ]
  },
  {
   "cell_type": "code",
   "execution_count": 4,
   "metadata": {
    "collapsed": false
   },
   "outputs": [
    {
     "name": "stdout",
     "output_type": "stream",
     "text": [
      "(0.00011836081835612069, 4.5622743291884723e-06, 0.03854547807756474)\n"
     ]
    },
    {
     "data": {
      "text/plain": [
       "(9.8169801018860063, 0.042678134115620089)"
      ]
     },
     "execution_count": 4,
     "metadata": {},
     "output_type": "execute_result"
    }
   ],
   "source": [
    "addmags((10,0.05),(12,0.05), (14,0.1))"
   ]
  },
  {
   "cell_type": "code",
   "execution_count": 43,
   "metadata": {
    "collapsed": false
   },
   "outputs": [
    {
     "data": {
      "text/plain": [
       "0.035087304237822893"
      ]
     },
     "execution_count": 43,
     "metadata": {},
     "output_type": "execute_result"
    }
   ],
   "source": [
    "-2.5*np.log10(1 - 0.0318)"
   ]
  },
  {
   "cell_type": "code",
   "execution_count": 30,
   "metadata": {
    "collapsed": false
   },
   "outputs": [
    {
     "data": {
      "text/plain": [
       "0.9817479430199844"
      ]
     },
     "execution_count": 30,
     "metadata": {},
     "output_type": "execute_result"
    }
   ],
   "source": [
    "10**(-0.4 * 0.02)"
   ]
  },
  {
   "cell_type": "code",
   "execution_count": 12,
   "metadata": {
    "collapsed": false
   },
   "outputs": [
    {
     "data": {
      "text/plain": [
       "(1e-07, 1e-05)"
      ]
     },
     "execution_count": 12,
     "metadata": {},
     "output_type": "execute_result"
    },
    {
     "data": {
      "image/png": "[encoded data removed]",
      "text/plain": [
       "<matplotlib.figure.Figure at 0x7ff92fd4fd10>"
      ]
     },
     "metadata": {},
     "output_type": "display_data"
    }
   ],
   "source": [
    "%matplotlib inline\n",
    "import matplotlib.pyplot as plt\n",
    "import numpy as np\n",
    "\n",
    "lmin, lmax = 1e-7, 1e-4\n",
    "def prior(lam):\n",
    "    #if lam < lmin or lam > lmax:\n",
    "    #    return 0\n",
    "    return 1./lam\n",
    "\n",
    "def like(lam):\n",
    "    return lam*2e5 * np.exp(-lam*2e5)\n",
    "\n",
    "def prob(lam):\n",
    "    return prior(lam)*like(lam)\n",
    "\n",
    "lams = np.logspace(-7, -4, 10000)\n",
    "post = prob(lams)\n",
    "\n",
    "Z = np.trapz(post, lams)\n",
    "\n",
    "plt.plot(lams, post/Z)\n",
    "plt.xlim(1e-7, 1e-5)\n"
   ]
  },
  {
   "cell_type": "code",
   "execution_count": null,
   "metadata": {
    "collapsed": true
   },
   "outputs": [],
   "source": []
  }
 ],
 "metadata": {
  "kernelspec": {
   "display_name": "Python 2",
   "language": "python",
   "name": "python2"
  },
  "language_info": {
   "codemirror_mode": {
    "name": "ipython",
    "version": 2
   },
   "file_extension": ".py",
   "mimetype": "text/x-python",
   "name": "python",
   "nbconvert_exporter": "python",
   "pygments_lexer": "ipython2",
   "version": "2.7.10"
  }
 },
 "nbformat": 4,
 "nbformat_minor": 0
}
