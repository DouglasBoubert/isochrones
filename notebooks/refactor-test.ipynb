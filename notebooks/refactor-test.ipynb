{
 "cells": [
  {
   "cell_type": "code",
   "execution_count": 1,
   "metadata": {
    "collapsed": false
   },
   "outputs": [],
   "source": [
    "from isochrones.dartmouth import Dartmouth_Isochrone\n",
    "from isochrones.starmodel_new import addmags"
   ]
  },
  {
   "cell_type": "code",
   "execution_count": 389,
   "metadata": {
    "collapsed": false
   },
   "outputs": [],
   "source": [
    "import numpy as np\n",
    "import logging\n",
    "\n",
    "def addmags(*mags):\n",
    "    \"\"\"\n",
    "    mags is either list of magnitudes or list of (mag, err) pairs\n",
    "    \"\"\"\n",
    "    tot = 0\n",
    "    uncs = []\n",
    "    for mag in mags:\n",
    "        try:\n",
    "            tot += 10**(-0.4*mag)\n",
    "        except:\n",
    "            m, dm = mag\n",
    "            f = 10**(-0.4*m)\n",
    "            tot += f\n",
    "            unc = f * (1 - 10**(-0.4*dm))\n",
    "            uncs.append(unc)\n",
    "    \n",
    "    totmag = -2.5*np.log10(tot)\n",
    "    if len(uncs) > 0:\n",
    "        f_unc = np.sqrt(np.array([u**2 for u in uncs]).sum())\n",
    "        return totmag, -2.5*np.log10(1 - f_unc/tot)\n",
    "    else:\n",
    "        return totmag \n",
    "    \n",
    "    \n",
    "class Node(object):\n",
    "    def __init__(self, label):\n",
    "\n",
    "        self.label = label\n",
    "        self.parent = None\n",
    "        self.children = []\n",
    "        self._leaves = None\n",
    "\n",
    "    @property\n",
    "    def is_root(self):\n",
    "        return self.parent is None\n",
    "        \n",
    "    @property\n",
    "    def is_leaf(self):\n",
    "        return len(self.children)==0\n",
    "\n",
    "    def _clear_leaves(self):\n",
    "        self._leaves = None\n",
    "    \n",
    "    def _clear_all_leaves(self):\n",
    "        if not self.is_root:\n",
    "            self.parent._clear_all_leaves()\n",
    "        self._clear_leaves()\n",
    "        \n",
    "    def add_child(self, node):\n",
    "        node.parent = self\n",
    "        self.children.append(node)\n",
    "        self._clear_all_leaves()\n",
    "    \n",
    "    def remove_child(self, label):\n",
    "        \"\"\"\n",
    "        Removes node by label\n",
    "        \"\"\"\n",
    "        ind = None\n",
    "        for i,c in enumerate(self.children):\n",
    "            if c.label==label:\n",
    "                ind = i\n",
    "\n",
    "        if ind is None:\n",
    "            logging.warning('No child labeled {}.'.format(label))\n",
    "            return\n",
    "        self.children.pop(ind)\n",
    "        self._clear_all_leaves()\n",
    "    \n",
    "    def attach_to_parent(self, node):\n",
    "        # detach from current parent, if necessary\n",
    "        if self.parent is not None:\n",
    "            self.parent.remove_child(self.label)\n",
    "            \n",
    "        node.children += [self]\n",
    "        self.parent = node\n",
    "        self._clear_all_leaves()\n",
    "    \n",
    "    @property\n",
    "    def leaves(self):\n",
    "        if self._leaves is None:\n",
    "            self._leaves = self._get_leaves()\n",
    "        return self._leaves\n",
    "    \n",
    "    \n",
    "    def _get_leaves(self):\n",
    "        if self.is_leaf:\n",
    "            return [self]\n",
    "        else:\n",
    "            leaves = []\n",
    "            for c in self.children:\n",
    "                leaves += c._get_leaves()\n",
    "            return leaves\n",
    "        \n",
    "    @property\n",
    "    def leaf_labels(self):\n",
    "        return [l.label for l in J.leaves]\n",
    "        \n",
    "    def __str__(self):\n",
    "        return self.label\n",
    "                \n",
    "    def __repr__(self):\n",
    "        if self.is_leaf:\n",
    "            s = \"<{} '{}', parent='{}'>\".format(self.__class__,\n",
    "                                                        self.label,\n",
    "                                                        self.parent)\n",
    "        else:\n",
    "            child_labels = [str(c) for c in self.children]\n",
    "            s = \"<{} '{}', parent='{}', children={}>\".format(self.__class__,\n",
    "                                                        self.label,\n",
    "                                                        self.parent,\n",
    "                                                        child_labels)\n",
    "        return s\n",
    "    \n",
    "class ObsNode(Node):\n",
    "    def __init__(self, instrument, band, value,\n",
    "                 nodetype='absolute',\n",
    "                 reference=None):\n",
    "\n",
    "        self.instrument = instrument\n",
    "        self.band = band\n",
    "        self.value = value\n",
    "        self.nodetype = nodetype\n",
    "        self.reference = reference\n",
    "        \n",
    "        self.children = []\n",
    "        self.parent = None\n",
    "        self._leaves = None\n",
    "        \n",
    "        #indices of underlying models, defining physical systems        \n",
    "        self._inds = None \n",
    "        self._n_params = None\n",
    "        self._Nstars = None\n",
    "        \n",
    "    @property\n",
    "    def n_params(self):\n",
    "        if self._n_params is None:\n",
    "            self._n_params = 5 * len(self.leaves)\n",
    "        return self._n_params\n",
    "        \n",
    "    def _get_inds(self):\n",
    "        inds = [n.index for n in self.leaves]\n",
    "        inds = list(set(inds))\n",
    "        inds.sort()\n",
    "        return inds\n",
    "    \n",
    "    def _clear_leaves(self):\n",
    "        self._leaves = None\n",
    "        self._inds = None\n",
    "        self._n_params = None\n",
    "        self._Nstars = None\n",
    "        \n",
    "    @property\n",
    "    def Nstars(self):\n",
    "        \"\"\"\n",
    "        dictionary of number of stars per system\n",
    "        \"\"\"\n",
    "        if self._Nstars is None:\n",
    "            N = {}\n",
    "            for n in self.leaves:\n",
    "                if n.index not in N:\n",
    "                    N[n.index] = 1\n",
    "                else:\n",
    "                    N[n.index] += 1\n",
    "            self._Nstars = N\n",
    "        return self._Nstars\n",
    "        \n",
    "    @property\n",
    "    def inds(self):\n",
    "        if self._inds is None:\n",
    "            self._inds = self._get_inds()\n",
    "        return self._inds\n",
    "    \n",
    "    @property\n",
    "    def label(self):\n",
    "        return '{} {}={}'.format(self.instrument, self.band,\n",
    "                                self.value)\n",
    "\n",
    "    def get_system(self, ind):\n",
    "        if self.is_leaf:\n",
    "            return []\n",
    "        else:\n",
    "            return [l for l in self.leaves if l.index==ind]\n",
    "    \n",
    "    def add_model(self, ic, N=1, index=0):\n",
    "        \"\"\"\n",
    "        Should only be able to do this to a leaf node.\n",
    "        \"\"\"\n",
    "        existing = self.get_system(index)\n",
    "        initial_tag = 65 + len(existing) #chr(65) is 'A'\n",
    "        \n",
    "        for i in range(N):            \n",
    "            tag = chr(initial_tag+i)\n",
    "            self.add_child(ModelNode(ic, index=index, tag=tag))\n",
    "            \n",
    "    def model_mag(self, p):\n",
    "        tot = np.inf\n",
    "        for i,m in enumerate(self.leaves):\n",
    "            tot = addmags(tot, m.evaluate(p[i*5:(i+1)*5], self.band))\n",
    "        return tot\n",
    "            \n",
    "    def lnlike(self, p):\n",
    "        assert len(p) == self.n_params\n",
    "        \n",
    "        mag, dmag = self.value\n",
    "        if self.nodetype=='absolute':\n",
    "            mod = self.model_mag(p)\n",
    "        elif self.nodetype=='relative':\n",
    "            mod = self.model_mag(p) - self.reference.model_mag(p)\n",
    "\n",
    "        return -0.5*(mag - mod)**2 / dmag**2\n",
    "        \n",
    "class ModelNode(Node):\n",
    "    \"\"\"\n",
    "    These are always leaves; leaves are always these.\n",
    "\n",
    "    Index keeps track of which physical system node is in.\n",
    "    \"\"\"\n",
    "    def __init__(self, ic, index=0, tag='A'):\n",
    "        self._ic = ic\n",
    "        self.index = index\n",
    "        self.tag = tag\n",
    "        \n",
    "        self.children = []\n",
    "        self.parent = None\n",
    "\n",
    "    @property\n",
    "    def label(self):\n",
    "        return '{}_{}'.format(self.index, self.tag)\n",
    "        \n",
    "    @property\n",
    "    def ic(self):\n",
    "        if type(self._ic)==type:\n",
    "            self._ic = self._ic()\n",
    "        return self._ic        \n",
    "\n",
    "    def evaluate(self, p, band):\n",
    "        return self.ic.mag[band](*p)\n",
    "        "
   ]
  },
  {
   "cell_type": "code",
   "execution_count": 136,
   "metadata": {
    "collapsed": true
   },
   "outputs": [],
   "source": [
    "from isochrones.dartmouth import Dartmouth_Isochrone\n",
    "dar = Dartmouth_Isochrone()"
   ]
  },
  {
   "cell_type": "code",
   "execution_count": 390,
   "metadata": {
    "collapsed": false
   },
   "outputs": [],
   "source": [
    "J = ObsNode('2mass', 'J', (10, 0.02))\n",
    "H = ObsNode('2mass', 'H', (9.6, 0.02))\n",
    "K = ObsNode('2mass', 'K', (9.4, 0.02))\n",
    "UKJ = ObsNode('UKIRT', 'J', (11, 0.02), nodetype='relative')\n",
    "UKJ_1 = ObsNode('UKIRT', 'J', (14.5, 0.02), nodetype='relative', \n",
    "                reference=UKJ)"
   ]
  },
  {
   "cell_type": "code",
   "execution_count": 391,
   "metadata": {
    "collapsed": false
   },
   "outputs": [],
   "source": [
    "J.add_child(H)\n",
    "H.add_child(K)\n",
    "K.add_child(UKJ)\n",
    "K.add_child(UKJ_1)\n",
    "UKJ.add_model(dar, 2, index=0)\n",
    "UKJ_1.add_model(dar, 1, index=1)"
   ]
  },
  {
   "cell_type": "code",
   "execution_count": 392,
   "metadata": {
    "collapsed": false
   },
   "outputs": [
    {
     "data": {
      "text/plain": [
       "['0_A', '0_B', '1_A']"
      ]
     },
     "execution_count": 392,
     "metadata": {},
     "output_type": "execute_result"
    }
   ],
   "source": [
    "J.leaf_labels"
   ]
  },
  {
   "cell_type": "code",
   "execution_count": 384,
   "metadata": {
    "collapsed": false
   },
   "outputs": [
    {
     "data": {
      "text/plain": [
       "15"
      ]
     },
     "execution_count": 384,
     "metadata": {},
     "output_type": "execute_result"
    }
   ],
   "source": [
    "J.n_params"
   ]
  },
  {
   "cell_type": "code",
   "execution_count": 387,
   "metadata": {
    "collapsed": false
   },
   "outputs": [
    {
     "data": {
      "text/plain": [
       "10.1370287719259"
      ]
     },
     "execution_count": 387,
     "metadata": {},
     "output_type": "execute_result"
    }
   ],
   "source": [
    "p1 = [1.2, 9.5, 0.0, 200, 0.2]\n",
    "p2 = [0.5, 9.5, 0.0, 200, 0.2]\n",
    "p3 = [0.8, 9.8, -0.1, 500, 0.3]\n",
    "J.model_mag(p1 + p2 + p3)"
   ]
  },
  {
   "cell_type": "code",
   "execution_count": 388,
   "metadata": {
    "collapsed": false
   },
   "outputs": [
    {
     "data": {
      "text/plain": [
       "-23.471105419400402"
      ]
     },
     "execution_count": 388,
     "metadata": {},
     "output_type": "execute_result"
    }
   ],
   "source": [
    "J.lnlike(p1+p2+p3)"
   ]
  },
  {
   "cell_type": "code",
   "execution_count": 386,
   "metadata": {
    "collapsed": false
   },
   "outputs": [
    {
     "data": {
      "text/plain": [
       "(10, 0.02)"
      ]
     },
     "execution_count": 386,
     "metadata": {},
     "output_type": "execute_result"
    }
   ],
   "source": [
    "J.value"
   ]
  },
  {
   "cell_type": "code",
   "execution_count": 378,
   "metadata": {
    "collapsed": false
   },
   "outputs": [
    {
     "name": "stderr",
     "output_type": "stream",
     "text": [
      "WARNING:root:No child labeled 0_B.\n"
     ]
    },
    {
     "data": {
      "text/plain": [
       "['0_A', '1_A']"
      ]
     },
     "execution_count": 378,
     "metadata": {},
     "output_type": "execute_result"
    }
   ],
   "source": [
    "UKJ.remove_child('0_B')\n",
    "J.leaf_labels"
   ]
  },
  {
   "cell_type": "code",
   "execution_count": 380,
   "metadata": {
    "collapsed": false
   },
   "outputs": [
    {
     "data": {
      "text/plain": [
       "11.156594437834924"
      ]
     },
     "execution_count": 380,
     "metadata": {},
     "output_type": "execute_result"
    }
   ],
   "source": [
    "J.model_mag(p1 + p2)"
   ]
  },
  {
   "cell_type": "code",
   "execution_count": 355,
   "metadata": {
    "collapsed": false
   },
   "outputs": [
    {
     "data": {
      "text/plain": [
       "['0_A', '1_A']"
      ]
     },
     "execution_count": 355,
     "metadata": {},
     "output_type": "execute_result"
    }
   ],
   "source": [
    "[l.label for l in J.leaves]"
   ]
  },
  {
   "cell_type": "code",
   "execution_count": 356,
   "metadata": {
    "collapsed": true
   },
   "outputs": [],
   "source": [
    "UKJ_1.add_model(dar, 1, index=1)"
   ]
  },
  {
   "cell_type": "code",
   "execution_count": 357,
   "metadata": {
    "collapsed": false
   },
   "outputs": [
    {
     "data": {
      "text/plain": [
       "['0_A', '1_A', '1_B']"
      ]
     },
     "execution_count": 357,
     "metadata": {},
     "output_type": "execute_result"
    }
   ],
   "source": [
    "[l.label for l in J.leaves]"
   ]
  },
  {
   "cell_type": "code",
   "execution_count": null,
   "metadata": {
    "collapsed": true
   },
   "outputs": [],
   "source": []
  }
 ],
 "metadata": {
  "kernelspec": {
   "display_name": "Python 2",
   "language": "python",
   "name": "python2"
  },
  "language_info": {
   "codemirror_mode": {
    "name": "ipython",
    "version": 2
   },
   "file_extension": ".py",
   "mimetype": "text/x-python",
   "name": "python",
   "nbconvert_exporter": "python",
   "pygments_lexer": "ipython2",
   "version": "2.7.10"
  }
 },
 "nbformat": 4,
 "nbformat_minor": 0
}
