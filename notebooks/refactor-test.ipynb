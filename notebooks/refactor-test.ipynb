{
 "cells": [
  {
   "cell_type": "code",
   "execution_count": 1,
   "metadata": {
    "collapsed": false
   },
   "outputs": [],
   "source": [
    "from isochrones.dartmouth import Dartmouth_Isochrone\n",
    "dar = Dartmouth_Isochrone()"
   ]
  },
  {
   "cell_type": "code",
   "execution_count": 2,
   "metadata": {
    "collapsed": false
   },
   "outputs": [
    {
     "name": "stdout",
     "output_type": "stream",
     "text": [
      "Overwriting example.obs\n"
     ]
    }
   ],
   "source": [
    "%%file example.obs\n",
    "name band resolution mag e_mag separation pa relative\n",
    "twomass J 2.8 10 0.02 0 0 False \n",
    "twomass H 2.9 9.6 0.02 0 0 False \n",
    "twomass K 3.0 9.4 0.02 0 0 False \n",
    "UKIRT J 1.0 11 0.02 0 0 True \n",
    "UKIRT J 1.0 14.5 0.02 2. 280 True \n",
    "nirc2 K 0.1 0 0 0 0 True \n",
    "nirc2 K 0.1 4.0 0.03 2.1 274 True \n",
    "nirc2 K 0.1 1.5 0.03 0.3 123 True\n"
   ]
  },
  {
   "cell_type": "code",
   "execution_count": 3,
   "metadata": {
    "collapsed": false
   },
   "outputs": [
    {
     "data": {
      "text/html": [
       "<div>\n",
       "<table border=\"1\" class=\"dataframe\">\n",
       "  <thead>\n",
       "    <tr style=\"text-align: right;\">\n",
       "      <th></th>\n",
       "      <th>name</th>\n",
       "      <th>band</th>\n",
       "      <th>resolution</th>\n",
       "      <th>mag</th>\n",
       "      <th>e_mag</th>\n",
       "      <th>separation</th>\n",
       "      <th>pa</th>\n",
       "      <th>relative</th>\n",
       "    </tr>\n",
       "  </thead>\n",
       "  <tbody>\n",
       "    <tr>\n",
       "      <th>0</th>\n",
       "      <td>twomass</td>\n",
       "      <td>J</td>\n",
       "      <td>2.8</td>\n",
       "      <td>10.0</td>\n",
       "      <td>0.02</td>\n",
       "      <td>0.0</td>\n",
       "      <td>0</td>\n",
       "      <td>False</td>\n",
       "    </tr>\n",
       "    <tr>\n",
       "      <th>1</th>\n",
       "      <td>twomass</td>\n",
       "      <td>H</td>\n",
       "      <td>2.9</td>\n",
       "      <td>9.6</td>\n",
       "      <td>0.02</td>\n",
       "      <td>0.0</td>\n",
       "      <td>0</td>\n",
       "      <td>False</td>\n",
       "    </tr>\n",
       "    <tr>\n",
       "      <th>2</th>\n",
       "      <td>twomass</td>\n",
       "      <td>K</td>\n",
       "      <td>3.0</td>\n",
       "      <td>9.4</td>\n",
       "      <td>0.02</td>\n",
       "      <td>0.0</td>\n",
       "      <td>0</td>\n",
       "      <td>False</td>\n",
       "    </tr>\n",
       "    <tr>\n",
       "      <th>3</th>\n",
       "      <td>UKIRT</td>\n",
       "      <td>J</td>\n",
       "      <td>1.0</td>\n",
       "      <td>11.0</td>\n",
       "      <td>0.02</td>\n",
       "      <td>0.0</td>\n",
       "      <td>0</td>\n",
       "      <td>True</td>\n",
       "    </tr>\n",
       "    <tr>\n",
       "      <th>4</th>\n",
       "      <td>UKIRT</td>\n",
       "      <td>J</td>\n",
       "      <td>1.0</td>\n",
       "      <td>14.5</td>\n",
       "      <td>0.02</td>\n",
       "      <td>2.0</td>\n",
       "      <td>280</td>\n",
       "      <td>True</td>\n",
       "    </tr>\n",
       "    <tr>\n",
       "      <th>5</th>\n",
       "      <td>nirc2</td>\n",
       "      <td>K</td>\n",
       "      <td>0.1</td>\n",
       "      <td>0.0</td>\n",
       "      <td>0.00</td>\n",
       "      <td>0.0</td>\n",
       "      <td>0</td>\n",
       "      <td>True</td>\n",
       "    </tr>\n",
       "    <tr>\n",
       "      <th>6</th>\n",
       "      <td>nirc2</td>\n",
       "      <td>K</td>\n",
       "      <td>0.1</td>\n",
       "      <td>4.0</td>\n",
       "      <td>0.03</td>\n",
       "      <td>2.1</td>\n",
       "      <td>274</td>\n",
       "      <td>True</td>\n",
       "    </tr>\n",
       "    <tr>\n",
       "      <th>7</th>\n",
       "      <td>nirc2</td>\n",
       "      <td>K</td>\n",
       "      <td>0.1</td>\n",
       "      <td>1.5</td>\n",
       "      <td>0.03</td>\n",
       "      <td>0.3</td>\n",
       "      <td>123</td>\n",
       "      <td>True</td>\n",
       "    </tr>\n",
       "  </tbody>\n",
       "</table>\n",
       "</div>"
      ],
      "text/plain": [
       "      name band  resolution   mag  e_mag  separation   pa relative\n",
       "0  twomass    J         2.8  10.0   0.02         0.0    0    False\n",
       "1  twomass    H         2.9   9.6   0.02         0.0    0    False\n",
       "2  twomass    K         3.0   9.4   0.02         0.0    0    False\n",
       "3    UKIRT    J         1.0  11.0   0.02         0.0    0     True\n",
       "4    UKIRT    J         1.0  14.5   0.02         2.0  280     True\n",
       "5    nirc2    K         0.1   0.0   0.00         0.0    0     True\n",
       "6    nirc2    K         0.1   4.0   0.03         2.1  274     True\n",
       "7    nirc2    K         0.1   1.5   0.03         0.3  123     True"
      ]
     },
     "execution_count": 3,
     "metadata": {},
     "output_type": "execute_result"
    }
   ],
   "source": [
    "import pandas as pd\n",
    "\n",
    "df = pd.read_table('example.obs', delim_whitespace=True)#, index_col=[0,1])\n",
    "df"
   ]
  },
  {
   "cell_type": "code",
   "execution_count": 4,
   "metadata": {
    "collapsed": false
   },
   "outputs": [
    {
     "name": "stdout",
     "output_type": "stream",
     "text": [
      "root\n",
      " ╚═ twomass K=(9.4, 0.02) @(0.00, 0)\n",
      "    ╚═ twomass H=(9.6, 0.02) @(0.00, 0)\n",
      "       ╚═ twomass J=(10.0, 0.02) @(0.00, 0)\n",
      "          ╠═ UKIRT J=(11.0, 0.02) @(0.00, 0)\n",
      "          ║  ╠═ nirc2 K=(0.0, 0.0) @(0.00, 0)\n",
      "          ║  ╚═ nirc2 K=(1.5, 0.03) @(0.30, 123)\n",
      "          ╚═ UKIRT J=(14.5, 0.02) @(2.00, 280)\n",
      "             ╚═ nirc2 K=(4.0, 0.03) @(2.10, 274)\n"
     ]
    }
   ],
   "source": [
    "from isochrones.observation import ObservationTree\n",
    "\n",
    "tree = ObservationTree.from_df(df)\n",
    "tree.print_ascii()"
   ]
  },
  {
   "cell_type": "code",
   "execution_count": 5,
   "metadata": {
    "collapsed": false
   },
   "outputs": [
    {
     "name": "stdout",
     "output_type": "stream",
     "text": [
      "root\n",
      " ╚═ twomass K=(9.4, 0.02) @(0.00, 0)\n",
      "    ╚═ twomass H=(9.6, 0.02) @(0.00, 0)\n",
      "       ╚═ twomass J=(10.0, 0.02) @(0.00, 0)\n",
      "          ╠═ UKIRT J=(11.0, 0.02) @(0.00, 0)\n",
      "          ║  ╠═ nirc2 K=(0.0, 0.0) @(0.00, 0)\n",
      "          ║  ║  ╠═ 0_0\n",
      "          ║  ║  ╚═ 0_1\n",
      "          ║  ╚═ nirc2 K=(1.5, 0.03) @(0.30, 123)\n",
      "          ║     ╚═ 0_2\n",
      "          ╚═ UKIRT J=(14.5, 0.02) @(2.00, 280)\n",
      "             ╚═ nirc2 K=(4.0, 0.03) @(2.10, 274)\n",
      "                ╚═ 1_0\n"
     ]
    }
   ],
   "source": [
    "tree.define_models(dar, N=(2,1,1), index=(0,0,1))\n",
    "tree.print_ascii()"
   ]
  },
  {
   "cell_type": "code",
   "execution_count": 6,
   "metadata": {
    "collapsed": false
   },
   "outputs": [],
   "source": [
    "pars = [1.0,0.9,0.8,9.5,0.0,200,0.1,1.5,9.3,0.1,500,0.2]\n",
    "pdict = tree.p2pardict(pars)"
   ]
  },
  {
   "cell_type": "code",
   "execution_count": 7,
   "metadata": {
    "collapsed": false,
    "scrolled": true
   },
   "outputs": [
    {
     "name": "stdout",
     "output_type": "stream",
     "text": [
      "The slowest run took 26019.48 times longer than the fastest. This could mean that an intermediate result is being cached \n",
      "1 loops, best of 3: 61 µs per loop\n"
     ]
    }
   ],
   "source": [
    "%timeit tree.lnlike(pars)"
   ]
  },
  {
   "cell_type": "code",
   "execution_count": 9,
   "metadata": {
    "collapsed": false
   },
   "outputs": [
    {
     "name": "stdout",
     "output_type": "stream",
     "text": [
      "10000 loops, best of 3: 84.7 µs per loop\n"
     ]
    }
   ],
   "source": [
    "%timeit dar.mag['K'](1,9.5,0.0,200,0.2)"
   ]
  },
  {
   "cell_type": "code",
   "execution_count": 10,
   "metadata": {
    "collapsed": false,
    "scrolled": false
   },
   "outputs": [
    {
     "name": "stdout",
     "output_type": "stream",
     "text": [
      "nirc2 K=(0.0, 0.0) @(0.00, 0): ['0_0', '0_1'] (4513588368)\n",
      "0\n",
      "reference: None 4296531008\n",
      "child n_leaves: [1, 1]\n",
      "Nstars: {0: 2}\n",
      "nirc2 K=(1.5, 0.03) @(0.30, 123): ['0_2'] (4513588432)\n",
      "-19.5741913031\n",
      "reference: nirc2 K=(0.0, 0.0) @(0.00, 0) 4513588368\n",
      "child n_leaves: [1]\n",
      "Nstars: {0: 1}\n",
      "UKIRT J=(11.0, 0.02) @(0.00, 0): ['0_0', '0_1', '0_2'] (4513588240)\n",
      "0\n",
      "reference: None 4296531008\n",
      "child n_leaves: [2, 1]\n",
      "Nstars: {0: 3}\n",
      "nirc2 K=(4.0, 0.03) @(2.10, 274): ['1_0'] (4513588496)\n",
      "-6546.33795396\n",
      "reference: nirc2 K=(0.0, 0.0) @(0.00, 0) 4513588368\n",
      "child n_leaves: [1]\n",
      "Nstars: {1: 1}\n",
      "UKIRT J=(14.5, 0.02) @(2.00, 280): ['1_0'] (4513588304)\n",
      "-235454.425692\n",
      "reference: UKIRT J=(11.0, 0.02) @(0.00, 0) 4513588240\n",
      "child n_leaves: [1]\n",
      "Nstars: {1: 1}\n",
      "twomass J=(10.0, 0.02) @(0.00, 0): ['0_0', '0_1', '0_2', '1_0'] (4513588176)\n",
      "-0.0794868533028\n",
      "reference: None 4296531008\n",
      "child n_leaves: [3, 1]\n",
      "Nstars: {0: 3, 1: 1}\n",
      "twomass H=(9.6, 0.02) @(0.00, 0): ['0_0', '0_1', '0_2', '1_0'] (4513588112)\n",
      "-208.053788242\n",
      "reference: None 4296531008\n",
      "child n_leaves: [4]\n",
      "Nstars: {0: 3, 1: 1}\n",
      "twomass K=(9.4, 0.02) @(0.00, 0): ['0_0', '0_1', '0_2', '1_0'] (4513588048)\n",
      "-462.040938937\n",
      "reference: None 4296531008\n",
      "child n_leaves: [4]\n",
      "Nstars: {0: 3, 1: 1}\n",
      "root: ['0_0', '0_1', '0_2', '1_0'] (4505451920)\n",
      "None\n"
     ]
    },
    {
     "ename": "AttributeError",
     "evalue": "'ObservationTree' object has no attribute 'reference'",
     "output_type": "error",
     "traceback": [
      "\u001b[0;31m---------------------------------------------------------------------------\u001b[0m",
      "\u001b[0;31mAttributeError\u001b[0m                            Traceback (most recent call last)",
      "\u001b[0;32m<ipython-input-10-c18ce2fbf6d6>\u001b[0m in \u001b[0;36m<module>\u001b[0;34m()\u001b[0m\n\u001b[1;32m      3\u001b[0m         \u001b[0;32mprint\u001b[0m \u001b[0;34m'{}: {} ({})'\u001b[0m\u001b[0;34m.\u001b[0m\u001b[0mformat\u001b[0m\u001b[0;34m(\u001b[0m\u001b[0mn\u001b[0m\u001b[0;34m.\u001b[0m\u001b[0mlabel\u001b[0m\u001b[0;34m,\u001b[0m\u001b[0;34m[\u001b[0m\u001b[0ml\u001b[0m\u001b[0;34m.\u001b[0m\u001b[0mlabel\u001b[0m \u001b[0;32mfor\u001b[0m \u001b[0ml\u001b[0m \u001b[0;32min\u001b[0m \u001b[0mn\u001b[0m\u001b[0;34m.\u001b[0m\u001b[0mleaves\u001b[0m\u001b[0;34m]\u001b[0m\u001b[0;34m,\u001b[0m\u001b[0mid\u001b[0m\u001b[0;34m(\u001b[0m\u001b[0mn\u001b[0m\u001b[0;34m)\u001b[0m\u001b[0;34m)\u001b[0m\u001b[0;34m\u001b[0m\u001b[0m\n\u001b[1;32m      4\u001b[0m         \u001b[0;32mprint\u001b[0m \u001b[0mn\u001b[0m\u001b[0;34m.\u001b[0m\u001b[0mlnlike\u001b[0m\u001b[0;34m(\u001b[0m\u001b[0mpdict\u001b[0m\u001b[0;34m)\u001b[0m\u001b[0;34m\u001b[0m\u001b[0m\n\u001b[0;32m----> 5\u001b[0;31m         \u001b[0;32mprint\u001b[0m \u001b[0;34m'reference: {} {}'\u001b[0m\u001b[0;34m.\u001b[0m\u001b[0mformat\u001b[0m\u001b[0;34m(\u001b[0m\u001b[0mn\u001b[0m\u001b[0;34m.\u001b[0m\u001b[0mreference\u001b[0m\u001b[0;34m,\u001b[0m\u001b[0mid\u001b[0m\u001b[0;34m(\u001b[0m\u001b[0mn\u001b[0m\u001b[0;34m.\u001b[0m\u001b[0mreference\u001b[0m\u001b[0;34m)\u001b[0m\u001b[0;34m)\u001b[0m\u001b[0;34m\u001b[0m\u001b[0m\n\u001b[0m\u001b[1;32m      6\u001b[0m         \u001b[0;32mprint\u001b[0m \u001b[0;34m'child n_leaves: {}'\u001b[0m\u001b[0;34m.\u001b[0m\u001b[0mformat\u001b[0m\u001b[0;34m(\u001b[0m\u001b[0;34m[\u001b[0m\u001b[0mlen\u001b[0m\u001b[0;34m(\u001b[0m\u001b[0mm\u001b[0m\u001b[0;34m.\u001b[0m\u001b[0mleaves\u001b[0m\u001b[0;34m)\u001b[0m \u001b[0;32mfor\u001b[0m \u001b[0mm\u001b[0m \u001b[0;32min\u001b[0m \u001b[0mn\u001b[0m\u001b[0;34m.\u001b[0m\u001b[0mchildren\u001b[0m\u001b[0;34m]\u001b[0m\u001b[0;34m)\u001b[0m\u001b[0;34m\u001b[0m\u001b[0m\n\u001b[1;32m      7\u001b[0m         \u001b[0;32mprint\u001b[0m \u001b[0;34m'Nstars: {}'\u001b[0m\u001b[0;34m.\u001b[0m\u001b[0mformat\u001b[0m\u001b[0;34m(\u001b[0m\u001b[0mn\u001b[0m\u001b[0;34m.\u001b[0m\u001b[0mNstars\u001b[0m\u001b[0;34m)\u001b[0m\u001b[0;34m\u001b[0m\u001b[0m\n",
      "\u001b[0;31mAttributeError\u001b[0m: 'ObservationTree' object has no attribute 'reference'"
     ]
    }
   ],
   "source": [
    "for n in tree:\n",
    "    if not n.is_leaf:\n",
    "        print '{}: {} ({})'.format(n.label,[l.label for l in n.leaves],id(n))\n",
    "        print n.lnlike(pdict)\n",
    "        print 'reference: {} {}'.format(n.reference,id(n.reference))\n",
    "        print 'child n_leaves: {}'.format([len(m.leaves) for m in n.children])\n",
    "        print 'Nstars: {}'.format(n.Nstars)"
   ]
  },
  {
   "cell_type": "code",
   "execution_count": 8,
   "metadata": {
    "collapsed": false
   },
   "outputs": [
    {
     "ename": "ValueError",
     "evalue": "10 is not in list",
     "output_type": "error",
     "traceback": [
      "\u001b[0;31m---------------------------------------------------------------------------\u001b[0m",
      "\u001b[0;31mValueError\u001b[0m                                Traceback (most recent call last)",
      "\u001b[0;32m<ipython-input-8-0a42ad28d454>\u001b[0m in \u001b[0;36m<module>\u001b[0;34m()\u001b[0m\n\u001b[1;32m      1\u001b[0m \u001b[0ml\u001b[0m \u001b[0;34m=\u001b[0m \u001b[0;34m[\u001b[0m\u001b[0;36m1\u001b[0m\u001b[0;34m,\u001b[0m\u001b[0;36m2\u001b[0m\u001b[0;34m,\u001b[0m\u001b[0;36m3\u001b[0m\u001b[0;34m,\u001b[0m\u001b[0;36m4\u001b[0m\u001b[0;34m,\u001b[0m\u001b[0;36m5\u001b[0m\u001b[0;34m]\u001b[0m\u001b[0;34m\u001b[0m\u001b[0m\n\u001b[0;32m----> 2\u001b[0;31m \u001b[0ml\u001b[0m\u001b[0;34m.\u001b[0m\u001b[0mindex\u001b[0m\u001b[0;34m(\u001b[0m\u001b[0;36m10\u001b[0m\u001b[0;34m)\u001b[0m\u001b[0;34m\u001b[0m\u001b[0m\n\u001b[0m",
      "\u001b[0;31mValueError\u001b[0m: 10 is not in list"
     ]
    }
   ],
   "source": [
    "l = [1,2,3,4,5]\n",
    "l.index(10)"
   ]
  },
  {
   "cell_type": "code",
   "execution_count": null,
   "metadata": {
    "collapsed": true
   },
   "outputs": [],
   "source": []
  }
 ],
 "metadata": {
  "kernelspec": {
   "display_name": "Python 2",
   "language": "python",
   "name": "python2"
  },
  "language_info": {
   "codemirror_mode": {
    "name": "ipython",
    "version": 2
   },
   "file_extension": ".py",
   "mimetype": "text/x-python",
   "name": "python",
   "nbconvert_exporter": "python",
   "pygments_lexer": "ipython2",
   "version": "2.7.10"
  }
 },
 "nbformat": 4,
 "nbformat_minor": 0
}
