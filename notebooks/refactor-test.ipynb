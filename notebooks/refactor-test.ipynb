{
 "cells": [
  {
   "cell_type": "code",
   "execution_count": 1,
   "metadata": {
    "collapsed": false
   },
   "outputs": [],
   "source": [
    "from isochrones.dartmouth import Dartmouth_Isochrone\n",
    "dar = Dartmouth_Isochrone()"
   ]
  },
  {
   "cell_type": "code",
   "execution_count": 2,
   "metadata": {
    "collapsed": false
   },
   "outputs": [
    {
     "name": "stdout",
     "output_type": "stream",
     "text": [
      "Overwriting example.obs\n"
     ]
    }
   ],
   "source": [
    "%%file example.obs\n",
    "name band resolution mag e_mag separation pa relative\n",
    "twomass J 2.8 10 0.02 0 0 False \n",
    "twomass H 2.9 9.6 0.02 0 0 False \n",
    "twomass K 3.0 9.4 0.02 0 0 False \n",
    "UKIRT J 1.0 11 0.02 0 0 True \n",
    "UKIRT J 1.0 14.5 0.02 2. 280 True \n",
    "nirc2 K 0.1 0 0 0 0 True \n",
    "nirc2 K 0.1 4.0 0.03 2.1 274 True \n",
    "nirc2 K 0.1 1.5 0.03 0.3 123 True\n"
   ]
  },
  {
   "cell_type": "code",
   "execution_count": 3,
   "metadata": {
    "collapsed": false
   },
   "outputs": [
    {
     "data": {
      "text/html": [
       "<div>\n",
       "<table border=\"1\" class=\"dataframe\">\n",
       "  <thead>\n",
       "    <tr style=\"text-align: right;\">\n",
       "      <th></th>\n",
       "      <th>name</th>\n",
       "      <th>band</th>\n",
       "      <th>resolution</th>\n",
       "      <th>mag</th>\n",
       "      <th>e_mag</th>\n",
       "      <th>separation</th>\n",
       "      <th>pa</th>\n",
       "      <th>relative</th>\n",
       "    </tr>\n",
       "  </thead>\n",
       "  <tbody>\n",
       "    <tr>\n",
       "      <th>0</th>\n",
       "      <td>twomass</td>\n",
       "      <td>J</td>\n",
       "      <td>2.8</td>\n",
       "      <td>10.0</td>\n",
       "      <td>0.02</td>\n",
       "      <td>0.0</td>\n",
       "      <td>0</td>\n",
       "      <td>False</td>\n",
       "    </tr>\n",
       "    <tr>\n",
       "      <th>1</th>\n",
       "      <td>twomass</td>\n",
       "      <td>H</td>\n",
       "      <td>2.9</td>\n",
       "      <td>9.6</td>\n",
       "      <td>0.02</td>\n",
       "      <td>0.0</td>\n",
       "      <td>0</td>\n",
       "      <td>False</td>\n",
       "    </tr>\n",
       "    <tr>\n",
       "      <th>2</th>\n",
       "      <td>twomass</td>\n",
       "      <td>K</td>\n",
       "      <td>3.0</td>\n",
       "      <td>9.4</td>\n",
       "      <td>0.02</td>\n",
       "      <td>0.0</td>\n",
       "      <td>0</td>\n",
       "      <td>False</td>\n",
       "    </tr>\n",
       "    <tr>\n",
       "      <th>3</th>\n",
       "      <td>UKIRT</td>\n",
       "      <td>J</td>\n",
       "      <td>1.0</td>\n",
       "      <td>11.0</td>\n",
       "      <td>0.02</td>\n",
       "      <td>0.0</td>\n",
       "      <td>0</td>\n",
       "      <td>True</td>\n",
       "    </tr>\n",
       "    <tr>\n",
       "      <th>4</th>\n",
       "      <td>UKIRT</td>\n",
       "      <td>J</td>\n",
       "      <td>1.0</td>\n",
       "      <td>14.5</td>\n",
       "      <td>0.02</td>\n",
       "      <td>2.0</td>\n",
       "      <td>280</td>\n",
       "      <td>True</td>\n",
       "    </tr>\n",
       "    <tr>\n",
       "      <th>5</th>\n",
       "      <td>nirc2</td>\n",
       "      <td>K</td>\n",
       "      <td>0.1</td>\n",
       "      <td>0.0</td>\n",
       "      <td>0.00</td>\n",
       "      <td>0.0</td>\n",
       "      <td>0</td>\n",
       "      <td>True</td>\n",
       "    </tr>\n",
       "    <tr>\n",
       "      <th>6</th>\n",
       "      <td>nirc2</td>\n",
       "      <td>K</td>\n",
       "      <td>0.1</td>\n",
       "      <td>4.0</td>\n",
       "      <td>0.03</td>\n",
       "      <td>2.1</td>\n",
       "      <td>274</td>\n",
       "      <td>True</td>\n",
       "    </tr>\n",
       "    <tr>\n",
       "      <th>7</th>\n",
       "      <td>nirc2</td>\n",
       "      <td>K</td>\n",
       "      <td>0.1</td>\n",
       "      <td>1.5</td>\n",
       "      <td>0.03</td>\n",
       "      <td>0.3</td>\n",
       "      <td>123</td>\n",
       "      <td>True</td>\n",
       "    </tr>\n",
       "  </tbody>\n",
       "</table>\n",
       "</div>"
      ],
      "text/plain": [
       "      name band  resolution   mag  e_mag  separation   pa relative\n",
       "0  twomass    J         2.8  10.0   0.02         0.0    0    False\n",
       "1  twomass    H         2.9   9.6   0.02         0.0    0    False\n",
       "2  twomass    K         3.0   9.4   0.02         0.0    0    False\n",
       "3    UKIRT    J         1.0  11.0   0.02         0.0    0     True\n",
       "4    UKIRT    J         1.0  14.5   0.02         2.0  280     True\n",
       "5    nirc2    K         0.1   0.0   0.00         0.0    0     True\n",
       "6    nirc2    K         0.1   4.0   0.03         2.1  274     True\n",
       "7    nirc2    K         0.1   1.5   0.03         0.3  123     True"
      ]
     },
     "execution_count": 3,
     "metadata": {},
     "output_type": "execute_result"
    }
   ],
   "source": [
    "import pandas as pd\n",
    "\n",
    "df = pd.read_table('example.obs', delim_whitespace=True)#, index_col=[0,1])\n",
    "df"
   ]
  },
  {
   "cell_type": "code",
   "execution_count": 4,
   "metadata": {
    "collapsed": false
   },
   "outputs": [
    {
     "name": "stdout",
     "output_type": "stream",
     "text": [
      "root\n",
      " ╚═ twomass K=(9.4, 0.02) @(0.00, 0)\n",
      "    ╚═ twomass H=(9.6, 0.02) @(0.00, 0)\n",
      "       ╚═ twomass J=(10.0, 0.02) @(0.00, 0)\n",
      "          ╠═ UKIRT J=(11.0, 0.02) @(0.00, 0)\n",
      "          ║  ╠═ nirc2 K=(0.0, 0.0) @(0.00, 0)\n",
      "          ║  ╚═ nirc2 K=(1.5, 0.03) @(0.30, 123)\n",
      "          ╚═ UKIRT J=(14.5, 0.02) @(2.00, 280)\n",
      "             ╚═ nirc2 K=(4.0, 0.03) @(2.10, 274)\n"
     ]
    }
   ],
   "source": [
    "from isochrones.observation import ObservationTree\n",
    "\n",
    "tree = ObservationTree.from_df(df)\n",
    "tree.print_ascii()"
   ]
  },
  {
   "cell_type": "code",
   "execution_count": 5,
   "metadata": {
    "collapsed": false,
    "scrolled": false
   },
   "outputs": [
    {
     "name": "stdout",
     "output_type": "stream",
     "text": [
      "root\n",
      " ╚═ twomass K=(9.4, 0.02) @(0.00, 0)\n",
      "    ╚═ twomass H=(9.6, 0.02) @(0.00, 0)\n",
      "       ╚═ twomass J=(10.0, 0.02) @(0.00, 0)\n",
      "          ╠═ UKIRT J=(11.0, 0.02) @(0.00, 0)\n",
      "          ║  ╠═ nirc2 K=(0.0, 0.0) @(0.00, 0)\n",
      "          ║  ║  ╠═ 0_0\n",
      "          ║  ║  ╚═ 0_1\n",
      "          ║  ╚═ nirc2 K=(1.5, 0.03) @(0.30, 123)\n",
      "          ║     ╚═ 0_2\n",
      "          ╚═ UKIRT J=(14.5, 0.02) @(2.00, 280)\n",
      "             ╚═ nirc2 K=(4.0, 0.03) @(2.10, 274)\n",
      "                ╚═ 1_0\n"
     ]
    }
   ],
   "source": [
    "tree.define_models(dar, N=(2,1,1), index=(0,0,1))\n",
    "tree.print_ascii()"
   ]
  },
  {
   "cell_type": "code",
   "execution_count": 6,
   "metadata": {
    "collapsed": false
   },
   "outputs": [],
   "source": [
    "pars = [1.0,0.9,0.8,9.5,0.0,200,0.1,0.6,9.3,0.1,300,0.2]\n",
    "pdict = tree.p2pardict(pars)"
   ]
  },
  {
   "cell_type": "code",
   "execution_count": 7,
   "metadata": {
    "collapsed": false,
    "scrolled": false
   },
   "outputs": [
    {
     "name": "stdout",
     "output_type": "stream",
     "text": [
      "root\n",
      " ╚═ twomass K=(9.4, 0.02) @(0.00, 0); model=9.02 (-179.188803283)\n",
      "    ╚═ twomass H=(9.6, 0.02) @(0.00, 0); model=9.08 (-336.430840387)\n",
      "       ╚═ twomass J=(10.0, 0.02) @(0.00, 0); model=9.49 (-329.553904114)\n",
      "          ╠═ UKIRT J=(11.0, 0.02) @(0.00, 0); model=9.52 (0)\n",
      "          ║  ╠═ nirc2 K=(0.0, 0.0) @(0.00, 0); model=9.34 (0)\n",
      "          ║  ║  ╠═ 0_0: [1.0, 9.5, 0.0, 200, 0.1]\n",
      "          ║  ║  ╚═ 0_1: [0.9, 9.5, 0.0, 200, 0.1]\n",
      "          ║  ╚═ nirc2 K=(1.5, 0.03) @(0.30, 123); model=10.69 (-13.2765501172)\n",
      "          ║     ╚═ 0_2: [0.8, 9.5, 0.0, 200, 0.1]\n",
      "          ╚═ UKIRT J=(14.5, 0.02) @(2.00, 280); model=13.44 (-139788.93486)\n",
      "             ╚═ nirc2 K=(4.0, 0.03) @(2.10, 274); model=12.57 (-327.263733329)\n",
      "                ╚═ 1_0: [0.6, 9.3, 0.1, 300, 0.2]\n"
     ]
    }
   ],
   "source": [
    "tree.print_ascii(pars)"
   ]
  },
  {
   "cell_type": "code",
   "execution_count": 8,
   "metadata": {
    "collapsed": true
   },
   "outputs": [],
   "source": [
    "tree.add_spectroscopy(Teff=(5700,50), logg=(4.4,0.2))"
   ]
  },
  {
   "cell_type": "code",
   "execution_count": 9,
   "metadata": {
    "collapsed": false,
    "scrolled": false
   },
   "outputs": [
    {
     "name": "stdout",
     "output_type": "stream",
     "text": [
      "root\n",
      " ╚═ twomass K=(9.4, 0.02) @(0.00, 0); model=9.02 (-179.188803283)\n",
      "    ╚═ twomass H=(9.6, 0.02) @(0.00, 0); model=9.08 (-336.430840387)\n",
      "       ╚═ twomass J=(10.0, 0.02) @(0.00, 0); model=9.49 (-329.553904114)\n",
      "          ╠═ UKIRT J=(11.0, 0.02) @(0.00, 0); model=9.52 (0)\n",
      "          ║  ╠═ nirc2 K=(0.0, 0.0) @(0.00, 0); model=9.34 (0)\n",
      "          ║  ║  ╠═ 0_0: [1.0, 9.5, 0.0, 200, 0.1]\n",
      "  logg=(4.4, 0.2) (model=4.47888353663)\n",
      "  Teff=(5700, 50) (model=5751.54872879)\n",
      "          ║  ║  ╚═ 0_1: [0.9, 9.5, 0.0, 200, 0.1]\n",
      "          ║  ╚═ nirc2 K=(1.5, 0.03) @(0.30, 123); model=10.69 (-13.2765501172)\n",
      "          ║     ╚═ 0_2: [0.8, 9.5, 0.0, 200, 0.1]\n",
      "          ╚═ UKIRT J=(14.5, 0.02) @(2.00, 280); model=13.44 (-139788.93486)\n",
      "             ╚═ nirc2 K=(4.0, 0.03) @(2.10, 274); model=12.57 (-327.263733329)\n",
      "                ╚═ 1_0: [0.6, 9.3, 0.1, 300, 0.2]\n"
     ]
    }
   ],
   "source": [
    "tree.print_ascii(pars)"
   ]
  },
  {
   "cell_type": "code",
   "execution_count": 25,
   "metadata": {
    "collapsed": false
   },
   "outputs": [
    {
     "data": {
      "text/plain": [
       "-140975.25792778895"
      ]
     },
     "execution_count": 25,
     "metadata": {},
     "output_type": "execute_result"
    }
   ],
   "source": [
    "tree.lnlike(pars)"
   ]
  },
  {
   "cell_type": "code",
   "execution_count": 26,
   "metadata": {
    "collapsed": true
   },
   "outputs": [],
   "source": [
    "tree.add_spectroscopy(Teff=(5700,50), logg=(4.5,0.2))"
   ]
  },
  {
   "cell_type": "code",
   "execution_count": 27,
   "metadata": {
    "collapsed": false
   },
   "outputs": [
    {
     "data": {
      "text/plain": [
       "-140975.18571894738"
      ]
     },
     "execution_count": 27,
     "metadata": {},
     "output_type": "execute_result"
    }
   ],
   "source": [
    "tree.lnlike(pars)"
   ]
  },
  {
   "cell_type": "code",
   "execution_count": 32,
   "metadata": {
    "collapsed": true
   },
   "outputs": [],
   "source": [
    "tree.add_parallax((4.8,0.5))"
   ]
  },
  {
   "cell_type": "code",
   "execution_count": 33,
   "metadata": {
    "collapsed": false
   },
   "outputs": [
    {
     "data": {
      "text/plain": [
       "-140975.26571894737"
      ]
     },
     "execution_count": 33,
     "metadata": {},
     "output_type": "execute_result"
    }
   ],
   "source": [
    "tree.lnlike(pars)"
   ]
  },
  {
   "cell_type": "code",
   "execution_count": 16,
   "metadata": {
    "collapsed": false
   },
   "outputs": [
    {
     "data": {
      "text/plain": [
       "{0: (5.0, 0.5)}"
      ]
     },
     "execution_count": 16,
     "metadata": {},
     "output_type": "execute_result"
    }
   ],
   "source": [
    "tree.parallax"
   ]
  },
  {
   "cell_type": "code",
   "execution_count": 15,
   "metadata": {
    "collapsed": false
   },
   "outputs": [
    {
     "name": "stdout",
     "output_type": "stream",
     "text": [
      "0 (5.0, 0.5)\n"
     ]
    }
   ],
   "source": [
    "for s,(val,err) in tree.parallax.items():\n",
    "    print s,(val,err)"
   ]
  },
  {
   "cell_type": "code",
   "execution_count": 8,
   "metadata": {
    "collapsed": false,
    "scrolled": true
   },
   "outputs": [
    {
     "name": "stdout",
     "output_type": "stream",
     "text": [
      "The slowest run took 35.24 times longer than the fastest. This could mean that an intermediate result is being cached \n",
      "1000000 loops, best of 3: 1.56 µs per loop\n"
     ]
    }
   ],
   "source": [
    "%timeit tree.get_leaf('0_0')"
   ]
  },
  {
   "cell_type": "code",
   "execution_count": 16,
   "metadata": {
    "collapsed": false,
    "scrolled": false
   },
   "outputs": [
    {
     "name": "stdout",
     "output_type": "stream",
     "text": [
      "The slowest run took 7.83 times longer than the fastest. This could mean that an intermediate result is being cached \n",
      "10000 loops, best of 3: 90.5 µs per loop\n"
     ]
    }
   ],
   "source": [
    "%timeit tree.get_leaf('0_0').evaluate([1.,9.8,0.0,200,0.3], 'Teff')"
   ]
  },
  {
   "cell_type": "code",
   "execution_count": 15,
   "metadata": {
    "collapsed": false
   },
   "outputs": [
    {
     "name": "stdout",
     "output_type": "stream",
     "text": [
      "10000 loops, best of 3: 85.2 µs per loop\n"
     ]
    }
   ],
   "source": [
    "%timeit dar.Teff(1,9.8,0.0)"
   ]
  },
  {
   "cell_type": "code",
   "execution_count": 13,
   "metadata": {
    "collapsed": false
   },
   "outputs": [
    {
     "data": {
      "text/plain": [
       "['0_0', '0_1', '0_2', '1_0']"
      ]
     },
     "execution_count": 13,
     "metadata": {},
     "output_type": "execute_result"
    }
   ],
   "source": [
    "tree.leaf_labels"
   ]
  },
  {
   "cell_type": "code",
   "execution_count": 17,
   "metadata": {
    "collapsed": false
   },
   "outputs": [
    {
     "data": {
      "text/plain": [
       "[0, 1]"
      ]
     },
     "execution_count": 17,
     "metadata": {},
     "output_type": "execute_result"
    }
   ],
   "source": [
    "tree.systems"
   ]
  },
  {
   "cell_type": "code",
   "execution_count": 7,
   "metadata": {
    "collapsed": false,
    "scrolled": true
   },
   "outputs": [
    {
     "name": "stdout",
     "output_type": "stream",
     "text": [
      "The slowest run took 26019.48 times longer than the fastest. This could mean that an intermediate result is being cached \n",
      "1 loops, best of 3: 61 µs per loop\n"
     ]
    }
   ],
   "source": [
    "%timeit tree.lnlike(pars)"
   ]
  },
  {
   "cell_type": "code",
   "execution_count": 9,
   "metadata": {
    "collapsed": false
   },
   "outputs": [
    {
     "name": "stdout",
     "output_type": "stream",
     "text": [
      "10000 loops, best of 3: 84.7 µs per loop\n"
     ]
    }
   ],
   "source": [
    "%timeit dar.mag['K'](1,9.5,0.0,200,0.2)"
   ]
  },
  {
   "cell_type": "code",
   "execution_count": 10,
   "metadata": {
    "collapsed": true
   },
   "outputs": [],
   "source": [
    "from configobj import ConfigObj"
   ]
  },
  {
   "cell_type": "code",
   "execution_count": 1,
   "metadata": {
    "collapsed": false
   },
   "outputs": [],
   "source": [
    "from isochrones.dartmouth import Dartmouth_Isochrone\n",
    "from isochrones.starmodel_new import StarModel\n",
    "import logging\n",
    "import os\n",
    "rootLogger = logging.getLogger()\n",
    "rootLogger.setLevel(logging.INFO)"
   ]
  },
  {
   "cell_type": "code",
   "execution_count": 2,
   "metadata": {
    "collapsed": false,
    "scrolled": true
   },
   "outputs": [
    {
     "name": "stderr",
     "output_type": "stream",
     "text": [
      "WARNING:root:Kepler=11.664 ignored.\n"
     ]
    }
   ],
   "source": [
    "kep22_props = dict(maxAV = 0.187,\n",
    "                    g = (12.0428791, 0.05),\n",
    "                    r = (11.5968652, 0.05),\n",
    "                    i = (11.4300704, 0.05),\n",
    "                    z = (11.393061, 0.05),\n",
    "                    J = (10.523, 0.02),\n",
    "                    H = (10.211, 0.02),\n",
    "                    K = (10.152, 0.02),\n",
    "                    Kepler = 11.664,\n",
    "                    Teff = (5642, 50.0),\n",
    "                    feh = (-0.27, 0.08),\n",
    "                    logg = (4.443, 0.028))\n",
    "mod = StarModel(Dartmouth_Isochrone, N=2, **kep22_props)"
   ]
  },
  {
   "cell_type": "code",
   "execution_count": 3,
   "metadata": {
    "collapsed": false
   },
   "outputs": [
    {
     "name": "stderr",
     "output_type": "stream",
     "text": [
      "/Users/tdm/repositories/isochrones/isochrones/observation.py:699: FutureWarning: comparison to `None` will result in an elementwise object comparison in the future.\n",
      "  if np.all(p==self._cache_key):\n"
     ]
    },
    {
     "data": {
      "text/plain": [
       "0"
      ]
     },
     "execution_count": 3,
     "metadata": {},
     "output_type": "execute_result"
    }
   ],
   "source": [
    "mod.fit_mcmc()\n",
    "os.system('say \"MCMC is complete\"')"
   ]
  },
  {
   "cell_type": "code",
   "execution_count": 4,
   "metadata": {
    "collapsed": false
   },
   "outputs": [],
   "source": [
    "mod._make_samples()"
   ]
  },
  {
   "cell_type": "code",
   "execution_count": 5,
   "metadata": {
    "collapsed": false
   },
   "outputs": [
    {
     "data": {
      "text/plain": [
       "Index([u'B_mag_0_0', u'D51_mag_0_0', u'H_mag_0_0', u'I_mag_0_0', u'J_mag_0_0',\n",
       "       u'K_mag_0_0', u'Kepler_mag_0_0', u'R_mag_0_0', u'Teff_0_0',\n",
       "       u'U_mag_0_0', u'V_mag_0_0', u'W1_mag_0_0', u'W2_mag_0_0', u'W3_mag_0_0',\n",
       "       u'age_0_0', u'g_mag_0_0', u'i_mag_0_0', u'logL_0_0', u'logg_0_0',\n",
       "       u'mass_0_0', u'r_mag_0_0', u'radius_0_0', u'z_mag_0_0', u'B_mag_0_1',\n",
       "       u'D51_mag_0_1', u'H_mag_0_1', u'I_mag_0_1', u'J_mag_0_1', u'K_mag_0_1',\n",
       "       u'Kepler_mag_0_1', u'R_mag_0_1', u'Teff_0_1', u'U_mag_0_1',\n",
       "       u'V_mag_0_1', u'W1_mag_0_1', u'W2_mag_0_1', u'W3_mag_0_1', u'age_0_1',\n",
       "       u'g_mag_0_1', u'i_mag_0_1', u'logL_0_1', u'logg_0_1', u'mass_0_1',\n",
       "       u'r_mag_0_1', u'radius_0_1', u'z_mag_0_1', u'age_0', u'feh_0',\n",
       "       u'distance_0', u'AV_0', u'lnprob'],\n",
       "      dtype='object')"
      ]
     },
     "execution_count": 5,
     "metadata": {},
     "output_type": "execute_result"
    }
   ],
   "source": [
    "mod.samples.columns"
   ]
  },
  {
   "cell_type": "code",
   "execution_count": 6,
   "metadata": {
    "collapsed": true
   },
   "outputs": [],
   "source": [
    "%matplotlib inline\n",
    "import matplotlib.pyplot as plt"
   ]
  },
  {
   "cell_type": "code",
   "execution_count": 10,
   "metadata": {
    "collapsed": false
   },
   "outputs": [
    {
     "data": {
      "image/png": "[encoded data removed]",
      "text/plain": [
       "<matplotlib.figure.Figure at 0x112fb5d10>"
      ]
     },
     "metadata": {},
     "output_type": "display_data"
    }
   ],
   "source": [
    "plt.hist(mod.sampler.flatchain[:,0], bins=50);"
   ]
  },
  {
   "cell_type": "code",
   "execution_count": 11,
   "metadata": {
    "collapsed": false
   },
   "outputs": [
    {
     "data": {
      "image/png": "[encoded data removed]",
      "text/plain": [
       "<matplotlib.figure.Figure at 0x1140f2490>"
      ]
     },
     "metadata": {},
     "output_type": "display_data"
    }
   ],
   "source": [
    "plt.hist(mod.sampler.flatchain[:,1], bins=50);"
   ]
  },
  {
   "cell_type": "code",
   "execution_count": 9,
   "metadata": {
    "collapsed": false
   },
   "outputs": [
    {
     "data": {
      "text/plain": [
       "(30000, 6)"
      ]
     },
     "execution_count": 9,
     "metadata": {},
     "output_type": "execute_result"
    }
   ],
   "source": [
    "mod.sampler.flatchain.shape"
   ]
  },
  {
   "cell_type": "code",
   "execution_count": null,
   "metadata": {
    "collapsed": true
   },
   "outputs": [],
   "source": []
  },
  {
   "cell_type": "code",
   "execution_count": 22,
   "metadata": {
    "collapsed": true
   },
   "outputs": [],
   "source": [
    "ok = mod.sampler.acceptance_fraction > 0.15"
   ]
  },
  {
   "cell_type": "code",
   "execution_count": 24,
   "metadata": {
    "collapsed": false
   },
   "outputs": [],
   "source": [
    "chains = mod.sampler.chain[ok,:,:]\n",
    "flatchain = chains.reshape((chains.shape[0]*chains.shape[1], chains.shape[2]))"
   ]
  },
  {
   "cell_type": "code",
   "execution_count": 30,
   "metadata": {
    "collapsed": false
   },
   "outputs": [
    {
     "data": {
      "text/plain": [
       "(25900, 5)"
      ]
     },
     "execution_count": 30,
     "metadata": {},
     "output_type": "execute_result"
    }
   ],
   "source": [
    "flatchain.shape"
   ]
  },
  {
   "cell_type": "code",
   "execution_count": 25,
   "metadata": {
    "collapsed": true
   },
   "outputs": [],
   "source": [
    "from corner import corner"
   ]
  },
  {
   "cell_type": "code",
   "execution_count": 29,
   "metadata": {
    "collapsed": false
   },
   "outputs": [
    {
     "data": {
      "image/png": "[encoded data removed]",
      "text/plain": [
       "<matplotlib.figure.Figure at 0x1161bd250>"
      ]
     },
     "metadata": {},
     "output_type": "display_data"
    }
   ],
   "source": [
    "corner(flatchain, labels=['mass','age','feh','dist','AV'],\n",
    "      range=[0.99]*5);"
   ]
  },
  {
   "cell_type": "code",
   "execution_count": 27,
   "metadata": {
    "collapsed": true
   },
   "outputs": [],
   "source": [
    "corner?"
   ]
  },
  {
   "cell_type": "code",
   "execution_count": 11,
   "metadata": {
    "collapsed": false
   },
   "outputs": [],
   "source": [
    "import numpy as np\n",
    "w = np.where(mod.sampler.acceptance_fraction < 0.02)[0]"
   ]
  },
  {
   "cell_type": "code",
   "execution_count": 14,
   "metadata": {
    "collapsed": false
   },
   "outputs": [
    {
     "data": {
      "text/plain": [
       "array([ 31,  52, 126, 135, 138, 158, 189, 203, 227, 234, 238, 260, 286])"
      ]
     },
     "execution_count": 14,
     "metadata": {},
     "output_type": "execute_result"
    }
   ],
   "source": [
    "w"
   ]
  },
  {
   "cell_type": "code",
   "execution_count": 13,
   "metadata": {
    "collapsed": false
   },
   "outputs": [
    {
     "data": {
      "text/plain": [
       "array([[-1992.77309527, -1992.77309527, -1992.77309527, ...,\n",
       "        -1982.88000477, -1982.88000477, -1982.88000477],\n",
       "       [ -435.98091428,  -435.98091428,  -435.98091428, ...,\n",
       "         -435.98091428,  -435.98091428,  -435.98091428],\n",
       "       [-2021.77541384, -2021.77541384, -2021.77541384, ...,\n",
       "        -2021.77541384, -2021.77541384, -2021.77541384],\n",
       "       ..., \n",
       "       [-1597.43446916, -1597.43446916, -1597.43446916, ...,\n",
       "        -1597.43446916, -1597.43446916, -1597.43446916],\n",
       "       [-9811.28772754, -9811.28772754, -9811.28772754, ...,\n",
       "        -9811.28772754, -9811.28772754, -9811.28772754],\n",
       "       [ -623.57743604,  -623.57743604,  -623.57743604, ...,\n",
       "         -623.57743604,  -623.57743604,  -623.57743604]])"
      ]
     },
     "execution_count": 13,
     "metadata": {},
     "output_type": "execute_result"
    }
   ],
   "source": [
    "mod.sampler.lnprobability[w,:]"
   ]
  },
  {
   "cell_type": "code",
   "execution_count": 32,
   "metadata": {
    "collapsed": false
   },
   "outputs": [
    {
     "name": "stdout",
     "output_type": "stream",
     "text": [
      "root\n",
      " ╚═  g=(12.0428791, 0.05) @(0.00, 0); model=13.84 (-648.684793896)\n",
      "    ╚═  i=(11.4300704, 0.05) @(0.00, 0); model=12.11 (-93.0863262807)\n",
      "       ╚═  H=(10.211, 0.02) @(0.00, 0); model=10.01 (-50.1804271819)\n",
      "          ╚═  K=(10.152, 0.02) @(0.00, 0); model=9.86 (-105.531685863)\n",
      "             ╚═  J=(10.523, 0.02) @(0.00, 0); model=10.64 (-17.3762979042)\n",
      "                ╚═  r=(11.5968652, 0.05) @(0.00, 0); model=12.60 (-202.762588846)\n",
      "                   ╚═  z=(11.393061, 0.05) @(0.00, 0); model=11.83 (-38.9604032731)\n",
      "                      ╚═ 0_0, logg=(4.443, 0.028); model=0.362635365816 (-10618.2242015), Teff=(5642, 50.0); model=4132.02445185 (-456.0052312), feh=(-0.27, 0.08); model=-1.64027746 (-146.692212296): [1.92184216, 9.33893417, -1.64027746, 795.152588, 0.0349565065]\n"
     ]
    }
   ],
   "source": [
    "mod.obs.print_ascii(p=[  1.92184216e+00,   9.33893417e+00,  -1.64027746e+00,\n",
    "           7.95152588e+02,   3.49565065e-02])"
   ]
  },
  {
   "cell_type": "code",
   "execution_count": 31,
   "metadata": {
    "collapsed": false
   },
   "outputs": [
    {
     "data": {
      "text/plain": [
       "array([[[  1.92184216e+00,   9.33893417e+00,  -1.64027746e+00,\n",
       "           7.95152588e+02,   3.49565065e-02],\n",
       "        [  1.92184216e+00,   9.33893417e+00,  -1.64027746e+00,\n",
       "           7.95152588e+02,   3.49565065e-02],\n",
       "        [  1.92184216e+00,   9.33893417e+00,  -1.64027746e+00,\n",
       "           7.95152588e+02,   3.49565065e-02],\n",
       "        ..., \n",
       "        [  1.92241484e+00,   9.33868504e+00,  -1.64112972e+00,\n",
       "           7.95481870e+02,   3.49549428e-02],\n",
       "        [  1.92241484e+00,   9.33868504e+00,  -1.64112972e+00,\n",
       "           7.95481870e+02,   3.49549428e-02],\n",
       "        [  1.92241484e+00,   9.33868504e+00,  -1.64112972e+00,\n",
       "           7.95481870e+02,   3.49549428e-02]],\n",
       "\n",
       "       [[  1.28249943e+00,   9.55082459e+00,  -1.69793865e-01,\n",
       "           1.41976964e+03,   1.13836291e-01],\n",
       "        [  1.28249943e+00,   9.55082459e+00,  -1.69793865e-01,\n",
       "           1.41976964e+03,   1.13836291e-01],\n",
       "        [  1.28249943e+00,   9.55082459e+00,  -1.69793865e-01,\n",
       "           1.41976964e+03,   1.13836291e-01],\n",
       "        ..., \n",
       "        [  1.25712935e+00,   9.56227075e+00,  -1.72781760e-01,\n",
       "           1.33461342e+03,   1.08638103e-01],\n",
       "        [  1.25712935e+00,   9.56227075e+00,  -1.72781760e-01,\n",
       "           1.33461342e+03,   1.08638103e-01],\n",
       "        [  1.25712935e+00,   9.56227075e+00,  -1.72781760e-01,\n",
       "           1.33461342e+03,   1.08638103e-01]],\n",
       "\n",
       "       [[  2.13012761e+00,   9.09928854e+00,  -1.39941526e+00,\n",
       "           5.47040317e+02,   4.90602490e-02],\n",
       "        [  2.13012761e+00,   9.09928854e+00,  -1.39941526e+00,\n",
       "           5.47040317e+02,   4.90602490e-02],\n",
       "        [  2.13012761e+00,   9.09928854e+00,  -1.39941526e+00,\n",
       "           5.47040317e+02,   4.90602490e-02],\n",
       "        ..., \n",
       "        [  2.11890859e+00,   9.10384788e+00,  -1.38839777e+00,\n",
       "           5.43864082e+02,   4.87872971e-02],\n",
       "        [  2.11890859e+00,   9.10384788e+00,  -1.38839777e+00,\n",
       "           5.43864082e+02,   4.87872971e-02],\n",
       "        [  2.11890859e+00,   9.10384788e+00,  -1.38839777e+00,\n",
       "           5.43864082e+02,   4.87872971e-02]],\n",
       "\n",
       "       ..., \n",
       "       [[  1.05780621e+00,   9.71234729e+00,  -9.45124737e-01,\n",
       "           1.04854998e+03,   9.30954406e-02],\n",
       "        [  1.05780621e+00,   9.71234729e+00,  -9.45124737e-01,\n",
       "           1.04854998e+03,   9.30954406e-02],\n",
       "        [  1.05780621e+00,   9.71234729e+00,  -9.45124737e-01,\n",
       "           1.04854998e+03,   9.30954406e-02],\n",
       "        ..., \n",
       "        [  1.05760222e+00,   9.71262704e+00,  -9.44475614e-01,\n",
       "           1.04772186e+03,   9.30720416e-02],\n",
       "        [  1.05760222e+00,   9.71262704e+00,  -9.44475614e-01,\n",
       "           1.04772186e+03,   9.30720416e-02],\n",
       "        [  1.05760222e+00,   9.71262704e+00,  -9.44475614e-01,\n",
       "           1.04772186e+03,   9.30720416e-02]],\n",
       "\n",
       "       [[  1.12655280e+00,   9.61526518e+00,  -6.70251438e-01,\n",
       "           5.47066210e+02,   6.63936678e-02],\n",
       "        [  1.12655280e+00,   9.61526518e+00,  -6.70251438e-01,\n",
       "           5.47066210e+02,   6.63936678e-02],\n",
       "        [  1.12655280e+00,   9.61526518e+00,  -6.70251438e-01,\n",
       "           5.47066210e+02,   6.63936678e-02],\n",
       "        ..., \n",
       "        [  1.12655280e+00,   9.61526518e+00,  -6.70251438e-01,\n",
       "           5.47066210e+02,   6.63936678e-02],\n",
       "        [  1.12655280e+00,   9.61526518e+00,  -6.70251438e-01,\n",
       "           5.47066210e+02,   6.63936678e-02],\n",
       "        [  1.12655280e+00,   9.61526518e+00,  -6.70251438e-01,\n",
       "           5.47066210e+02,   6.63936678e-02]],\n",
       "\n",
       "       [[  1.17719569e+00,   9.55235741e+00,  -9.39673467e-01,\n",
       "           8.81054060e+02,   9.36989901e-02],\n",
       "        [  1.17719569e+00,   9.55235741e+00,  -9.39673467e-01,\n",
       "           8.81054060e+02,   9.36989901e-02],\n",
       "        [  1.17719569e+00,   9.55235741e+00,  -9.39673467e-01,\n",
       "           8.81054060e+02,   9.36989901e-02],\n",
       "        ..., \n",
       "        [  1.21987722e+00,   9.52018460e+00,  -8.52214362e-01,\n",
       "           9.02213749e+02,   8.27471332e-02],\n",
       "        [  1.21987722e+00,   9.52018460e+00,  -8.52214362e-01,\n",
       "           9.02213749e+02,   8.27471332e-02],\n",
       "        [  1.21987722e+00,   9.52018460e+00,  -8.52214362e-01,\n",
       "           9.02213749e+02,   8.27471332e-02]]])"
      ]
     },
     "execution_count": 31,
     "metadata": {},
     "output_type": "execute_result"
    }
   ],
   "source": [
    "mod._sampler.chain[w,:,:]"
   ]
  },
  {
   "cell_type": "code",
   "execution_count": 9,
   "metadata": {
    "collapsed": false
   },
   "outputs": [
    {
     "name": "stdout",
     "output_type": "stream",
     "text": [
      "root\n",
      " ╚═  g=(12.0428791, 0.05) @(0.00, 0)\n",
      "    ╚═  i=(11.4300704, 0.05) @(0.00, 0)\n",
      "       ╚═  H=(10.211, 0.02) @(0.00, 0)\n",
      "          ╚═  K=(10.152, 0.02) @(0.00, 0)\n",
      "             ╚═  J=(10.523, 0.02) @(0.00, 0)\n",
      "                ╚═  r=(11.5968652, 0.05) @(0.00, 0)\n",
      "                   ╚═  z=(11.393061, 0.05) @(0.00, 0)\n",
      "                      ╚═ 0_0, logg=(4.443, 0.028), Teff=(5642, 50.0), feh=(-0.27, 0.08)\n"
     ]
    }
   ],
   "source": [
    "mod.obs.print_ascii()"
   ]
  },
  {
   "cell_type": "code",
   "execution_count": 10,
   "metadata": {
    "collapsed": false
   },
   "outputs": [
    {
     "data": {
      "text/plain": [
       "-5679.9940594470645"
      ]
     },
     "execution_count": 10,
     "metadata": {},
     "output_type": "execute_result"
    }
   ],
   "source": [
    "p = [1.0,9.7,0.0,400,0.1]\n",
    "#p = [1.0,0.5,9.7,0.0,400,0.1]\n",
    "#p = [1.0,9.7,0.0,400,0.1,0.5,9.5,0.1,200,0.05]\n",
    "mod.lnpost(p)"
   ]
  },
  {
   "cell_type": "code",
   "execution_count": 12,
   "metadata": {
    "collapsed": false
   },
   "outputs": [
    {
     "name": "stdout",
     "output_type": "stream",
     "text": [
      "root\n",
      " ╚═  g=(12.0428791, 0.05) @(0.00, 0); model=13.19 (-264.626669315)\n",
      "    ╚═  i=(11.4300704, 0.05) @(0.00, 0); model=12.54 (-244.203922072)\n",
      "       ╚═  H=(10.211, 0.02) @(0.00, 0); model=11.32 (-1528.74681339)\n",
      "          ╚═  K=(10.152, 0.02) @(0.00, 0); model=11.27 (-1573.93516209)\n",
      "             ╚═  J=(10.523, 0.02) @(0.00, 0); model=11.64 (-1570.77382855)\n",
      "                ╚═  r=(11.5968652, 0.05) @(0.00, 0); model=12.67 (-228.202854372)\n",
      "                   ╚═  z=(11.393061, 0.05) @(0.00, 0); model=12.51 (-248.905354969)\n",
      "                      ╚═ 0_0, logg=(4.443, 0.028); model=4.42463013439 (-0.215211710698), Teff=(5642, 50.0); model=5787.92381877 (-4.25875217665), feh=(-0.27, 0.08); model=0.0 (-5.6953125): [1.0, 9.7, 0.0, 400, 0.1]\n"
     ]
    }
   ],
   "source": [
    "mod.obs.print_ascii(p=p)"
   ]
  },
  {
   "cell_type": "code",
   "execution_count": 13,
   "metadata": {
    "collapsed": false
   },
   "outputs": [
    {
     "name": "stdout",
     "output_type": "stream",
     "text": [
      "10000 loops, best of 3: 48.6 µs per loop\n"
     ]
    }
   ],
   "source": [
    "mod."
   ]
  },
  {
   "cell_type": "code",
   "execution_count": 5,
   "metadata": {
    "collapsed": false
   },
   "outputs": [
    {
     "data": {
      "text/plain": [
       "-12.000986578687158"
      ]
     },
     "execution_count": 5,
     "metadata": {},
     "output_type": "execute_result"
    }
   ],
   "source": [
    "mod.lnprior(p)"
   ]
  },
  {
   "cell_type": "code",
   "execution_count": 7,
   "metadata": {
    "collapsed": false
   },
   "outputs": [
    {
     "data": {
      "text/plain": [
       "6.0236231643156257"
      ]
     },
     "execution_count": 7,
     "metadata": {},
     "output_type": "execute_result"
    }
   ],
   "source": [
    "mod.prior('feh',0.0)"
   ]
  },
  {
   "cell_type": "code",
   "execution_count": 8,
   "metadata": {
    "collapsed": false
   },
   "outputs": [
    {
     "data": {
      "text/plain": [
       "-10.937561320066667"
      ]
     },
     "execution_count": 8,
     "metadata": {},
     "output_type": "execute_result"
    }
   ],
   "source": [
    "mod.prior('distance',400)"
   ]
  },
  {
   "cell_type": "code",
   "execution_count": 9,
   "metadata": {
    "collapsed": false
   },
   "outputs": [
    {
     "data": {
      "text/plain": [
       "1.0"
      ]
     },
     "execution_count": 9,
     "metadata": {},
     "output_type": "execute_result"
    }
   ],
   "source": [
    "mod.prior('AV',0.1)"
   ]
  },
  {
   "cell_type": "code",
   "execution_count": 6,
   "metadata": {
    "collapsed": false
   },
   "outputs": [
    {
     "data": {
      "text/plain": [
       "0.8809172437280051"
      ]
     },
     "execution_count": 6,
     "metadata": {},
     "output_type": "execute_result"
    }
   ],
   "source": [
    "mod.prior('age',9.7)"
   ]
  },
  {
   "cell_type": "code",
   "execution_count": 6,
   "metadata": {
    "collapsed": false
   },
   "outputs": [
    {
     "data": {
      "text/plain": [
       "0.06042284436470413"
      ]
     },
     "execution_count": 6,
     "metadata": {},
     "output_type": "execute_result"
    }
   ],
   "source": [
    "mod.prior('mass',1.0)"
   ]
  },
  {
   "cell_type": "code",
   "execution_count": 12,
   "metadata": {
    "collapsed": false
   },
   "outputs": [
    {
     "data": {
      "text/plain": [
       "{'AV': (0, 1.0),\n",
       " 'age': (9, 10.176091259055681),\n",
       " 'distance': (0, 3000.0),\n",
       " 'feh': (-2.5, 0.5),\n",
       " 'mass': None,\n",
       " 'q': (0.1, 1.0)}"
      ]
     },
     "execution_count": 12,
     "metadata": {},
     "output_type": "execute_result"
    }
   ],
   "source": [
    "mod._bounds"
   ]
  },
  {
   "cell_type": "code",
   "execution_count": 8,
   "metadata": {
    "collapsed": false
   },
   "outputs": [
    {
     "name": "stdout",
     "output_type": "stream",
     "text": [
      "(9, 10.176091259055681)\n",
      "None\n",
      "(0, 3000.0)\n",
      "(0, 1.0)\n"
     ]
    }
   ],
   "source": [
    "for prop in ['age','feh','distance','AV']:\n",
    "    print mod.bounds(prop)"
   ]
  },
  {
   "cell_type": "code",
   "execution_count": 20,
   "metadata": {
    "collapsed": false
   },
   "outputs": [
    {
     "name": "stdout",
     "output_type": "stream",
     "text": [
      "root\n",
      " ╚═  H=(11.5, 0.05) @(0.00, 0); model=11.23 (-14.6400966608)\n",
      "    ╚═  K=(11.0, 0.05) @(0.00, 0); model=11.17 (-5.9310254073)\n",
      "       ╚═  J=(12, 0.05) @(0.00, 0); model=11.58 (-35.8457671355)\n",
      "          ╠═ 0_0, logg=(4.5, 0.1); model=4.42463013439 (-0.284030832072), Teff=(5700, 200); model=5787.92381877 (-0.0966324738298): [1.0, 9.7, 0.0, 400, 0.1]\n",
      "          ╚═ 0_1: [0.5, 9.7, 0.0, 400, 0.1]\n"
     ]
    }
   ],
   "source": [
    "mod.obs.print_ascii(p=p)"
   ]
  },
  {
   "cell_type": "code",
   "execution_count": 7,
   "metadata": {
    "collapsed": false
   },
   "outputs": [
    {
     "data": {
      "text/plain": [
       "-inf"
      ]
     },
     "execution_count": 7,
     "metadata": {},
     "output_type": "execute_result"
    }
   ],
   "source": [
    "import numpy as np\n",
    "np.log(0)"
   ]
  },
  {
   "cell_type": "code",
   "execution_count": 8,
   "metadata": {
    "collapsed": false
   },
   "outputs": [
    {
     "data": {
      "text/plain": [
       "True"
      ]
     },
     "execution_count": 8,
     "metadata": {},
     "output_type": "execute_result"
    }
   ],
   "source": [
    "np.isinf(-np.inf)"
   ]
  },
  {
   "cell_type": "code",
   "execution_count": 17,
   "metadata": {
    "collapsed": false
   },
   "outputs": [
    {
     "data": {
      "text/plain": [
       "[3, 1, 20, 5, 10, 2]"
      ]
     },
     "execution_count": 17,
     "metadata": {},
     "output_type": "execute_result"
    }
   ],
   "source": [
    "l = [3,1,20,5,10,2]\n",
    "m = l[1:4]\n",
    "m.sort()\n",
    "m\n",
    "l"
   ]
  },
  {
   "cell_type": "code",
   "execution_count": 18,
   "metadata": {
    "collapsed": false
   },
   "outputs": [
    {
     "data": {
      "text/plain": [
       "[3, 1, 20, 5, 10, 2]"
      ]
     },
     "execution_count": 18,
     "metadata": {},
     "output_type": "execute_result"
    }
   ],
   "source": [
    "l"
   ]
  },
  {
   "cell_type": "code",
   "execution_count": 19,
   "metadata": {
    "collapsed": false,
    "scrolled": true
   },
   "outputs": [
    {
     "data": {
      "text/plain": [
       "[1, 2, 3, 5, 10, 20]"
      ]
     },
     "execution_count": 19,
     "metadata": {},
     "output_type": "execute_result"
    }
   ],
   "source": [
    "sorted(l)"
   ]
  },
  {
   "cell_type": "code",
   "execution_count": 11,
   "metadata": {
    "collapsed": true
   },
   "outputs": [],
   "source": [
    "import corner"
   ]
  },
  {
   "cell_type": "code",
   "execution_count": null,
   "metadata": {
    "collapsed": true
   },
   "outputs": [],
   "source": [
    "corner."
   ]
  }
 ],
 "metadata": {
  "kernelspec": {
   "display_name": "Python 2",
   "language": "python",
   "name": "python2"
  },
  "language_info": {
   "codemirror_mode": {
    "name": "ipython",
    "version": 2
   },
   "file_extension": ".py",
   "mimetype": "text/x-python",
   "name": "python",
   "nbconvert_exporter": "python",
   "pygments_lexer": "ipython2",
   "version": "2.7.10"
  }
 },
 "nbformat": 4,
 "nbformat_minor": 0
}
