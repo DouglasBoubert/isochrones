{
 "cells": [
  {
   "cell_type": "code",
   "execution_count": 7,
   "metadata": {
    "collapsed": false
   },
   "outputs": [],
   "source": [
    "from isochrones.dartmouth import Dartmouth_Isochrone\n",
    "from isochrones.starmodel_new import addmags"
   ]
  },
  {
   "cell_type": "code",
   "execution_count": 124,
   "metadata": {
    "collapsed": false
   },
   "outputs": [],
   "source": [
    "import numpy as np\n",
    "import logging\n",
    "\n",
    "from asciitree import LeftAligned, Traversal\n",
    "from asciitree.drawing import BoxStyle, BOX_DOUBLE, BOX_BLANK\n",
    "\n",
    "class NodeTraversal(Traversal):\n",
    "    def get_children(self, node):\n",
    "        return node.children\n",
    "    \n",
    "    def get_root(self, node):\n",
    "        return node.get_root()\n",
    "    \n",
    "    def get_text(self, node):\n",
    "        return node.label\n",
    "    \n",
    "class MyLeftAligned(LeftAligned):\n",
    "    traverse = NodeTraversal()\n",
    "\n",
    "    \n",
    "    \n",
    "def addmags(*mags):\n",
    "    \"\"\"\n",
    "    mags is either list of magnitudes or list of (mag, err) pairs\n",
    "    \"\"\"\n",
    "    tot = 0\n",
    "    uncs = []\n",
    "    for mag in mags:\n",
    "        try:\n",
    "            tot += 10**(-0.4*mag)\n",
    "        except:\n",
    "            m, dm = mag\n",
    "            f = 10**(-0.4*m)\n",
    "            tot += f\n",
    "            unc = f * (1 - 10**(-0.4*dm))\n",
    "            uncs.append(unc)\n",
    "    \n",
    "    totmag = -2.5*np.log10(tot)\n",
    "    if len(uncs) > 0:\n",
    "        f_unc = np.sqrt(np.array([u**2 for u in uncs]).sum())\n",
    "        return totmag, -2.5*np.log10(1 - f_unc/tot)\n",
    "    else:\n",
    "        return totmag \n",
    "    \n",
    "    \n",
    "class Node(object):\n",
    "    def __init__(self, label):\n",
    "\n",
    "        self.label = label\n",
    "        self.parent = None\n",
    "        self.children = []\n",
    "        self._leaves = None\n",
    "\n",
    "    @property\n",
    "    def is_root(self):\n",
    "        return self.parent is None\n",
    "\n",
    "    def get_root(self):\n",
    "        if self.is_root:\n",
    "            return self\n",
    "        else:\n",
    "            return self.parent.get_root()\n",
    "        \n",
    "    def print_ascii(self):\n",
    "        box_tr = MyLeftAligned(draw=BoxStyle(gfx=BOX_DOUBLE, horiz_len=1))\n",
    "        print box_tr(self)\n",
    "        \n",
    "    @property\n",
    "    def is_leaf(self):\n",
    "        return len(self.children)==0\n",
    "\n",
    "    def _clear_leaves(self):\n",
    "        self._leaves = None\n",
    "    \n",
    "    def _clear_all_leaves(self):\n",
    "        if not self.is_root:\n",
    "            self.parent._clear_all_leaves()\n",
    "        self._clear_leaves()\n",
    "        \n",
    "    def add_child(self, node):\n",
    "        node.parent = self\n",
    "        self.children.append(node)\n",
    "        self._clear_all_leaves()\n",
    "        \n",
    "    def remove_child(self, label):\n",
    "        \"\"\"\n",
    "        Removes node by label\n",
    "        \"\"\"\n",
    "        ind = None\n",
    "        for i,c in enumerate(self.children):\n",
    "            if c.label==label:\n",
    "                ind = i\n",
    "\n",
    "        if ind is None:\n",
    "            logging.warning('No child labeled {}.'.format(label))\n",
    "            return\n",
    "        self.children.pop(ind)\n",
    "        self._clear_all_leaves()\n",
    "    \n",
    "    def attach_to_parent(self, node):\n",
    "        # detach from current parent, if necessary\n",
    "        if self.parent is not None:\n",
    "            self.parent.remove_child(self.label)\n",
    "            \n",
    "        node.children += [self]\n",
    "        self.parent = node\n",
    "        self._clear_all_leaves()\n",
    "    \n",
    "    @property\n",
    "    def leaves(self):\n",
    "        if self._leaves is None:\n",
    "            self._leaves = self._get_leaves()\n",
    "        return self._leaves\n",
    "    \n",
    "    \n",
    "    def _get_leaves(self):\n",
    "        if self.is_leaf:\n",
    "            return [self]\n",
    "        else:\n",
    "            leaves = []\n",
    "            for c in self.children:\n",
    "                leaves += c._get_leaves()\n",
    "            return leaves\n",
    "        \n",
    "    @property\n",
    "    def leaf_labels(self):\n",
    "        return [l.label for l in J.leaves]\n",
    "        \n",
    "    def print_tree(self):\n",
    "        print(self.label)\n",
    "        \n",
    "\n",
    "    def __str__(self):\n",
    "        return self.label\n",
    "                \n",
    "    def __repr__(self):\n",
    "        if self.is_leaf:\n",
    "            s = \"<{} '{}', parent='{}'>\".format(self.__class__,\n",
    "                                                        self.label,\n",
    "                                                        self.parent)\n",
    "        else:\n",
    "            child_labels = [str(c) for c in self.children]\n",
    "            s = \"<{} '{}', parent='{}', children={}>\".format(self.__class__,\n",
    "                                                        self.label,\n",
    "                                                        self.parent,\n",
    "                                                        child_labels)\n",
    "        return s\n",
    "    \n",
    "class ObsNode(Node):\n",
    "    def __init__(self, instrument, band, value,\n",
    "                 separation=0., pa=0.,\n",
    "                 relative=False,\n",
    "                 reference=None):\n",
    "\n",
    "        self.instrument = instrument\n",
    "        self.band = band\n",
    "        self.value = value\n",
    "        self.relative = relative\n",
    "        self.reference = reference\n",
    "        \n",
    "        self.separation = separation\n",
    "        self.pa = pa\n",
    "        \n",
    "        self.children = []\n",
    "        self.parent = None\n",
    "        self._leaves = None\n",
    "        \n",
    "        #indices of underlying models, defining physical systems        \n",
    "        self._inds = None \n",
    "        self._n_params = None\n",
    "        self._Nstars = None\n",
    "        \n",
    "    def distance(self, other):\n",
    "        \"\"\"Coordinate distance from another ObsNode\n",
    "        \"\"\"\n",
    "        r0, pa0 = (self.separation, self.pa)\n",
    "        ra0 = r0*np.sin(pa0*np.pi/180)\n",
    "        dec0 = r0*np.cos(pa0*np.pi/180)\n",
    "        \n",
    "        r1, pa1 = (other.separation, other.pa)\n",
    "        ra1 = r1*np.sin(pa1*np.pi/180)\n",
    "        dec1 = r1*np.cos(pa1*np.pi/180)\n",
    "\n",
    "        dra = (ra1 - ra0)\n",
    "        ddec = (dec1 - dec0)\n",
    "        return np.sqrt(dra**2 + ddec**2)\n",
    "        \n",
    "    @property\n",
    "    def n_params(self):\n",
    "        if self._n_params is None:\n",
    "            self._n_params = 5 * len(self.leaves)\n",
    "        return self._n_params\n",
    "        \n",
    "    def _get_inds(self):\n",
    "        inds = [n.index for n in self.leaves]\n",
    "        inds = list(set(inds))\n",
    "        inds.sort()\n",
    "        return inds\n",
    "    \n",
    "    def _clear_leaves(self):\n",
    "        self._leaves = None\n",
    "        self._inds = None\n",
    "        self._n_params = None\n",
    "        self._Nstars = None\n",
    "        \n",
    "    @property\n",
    "    def Nstars(self):\n",
    "        \"\"\"\n",
    "        dictionary of number of stars per system\n",
    "        \"\"\"\n",
    "        if self._Nstars is None:\n",
    "            N = {}\n",
    "            for n in self.leaves:\n",
    "                if n.index not in N:\n",
    "                    N[n.index] = 1\n",
    "                else:\n",
    "                    N[n.index] += 1\n",
    "            self._Nstars = N\n",
    "        return self._Nstars\n",
    "        \n",
    "    @property\n",
    "    def inds(self):\n",
    "        if self._inds is None:\n",
    "            self._inds = self._get_inds()\n",
    "        return self._inds\n",
    "    \n",
    "    @property\n",
    "    def label(self):\n",
    "        return '{} {}={} @({:.2f}, {:.0f})'.format(self.instrument, self.band,\n",
    "                                self.value, self.separation, self.pa)\n",
    "\n",
    "    def get_system(self, ind):\n",
    "        if self.is_leaf:\n",
    "            return []\n",
    "        else:\n",
    "            return [l for l in self.leaves if l.index==ind]\n",
    "    \n",
    "    def add_model(self, ic, N=1, index=0):\n",
    "        \"\"\"\n",
    "        Should only be able to do this to a leaf node.\n",
    "        \"\"\"\n",
    "        existing = self.get_system(index)\n",
    "        initial_tag = 65 + len(existing) #chr(65) is 'A'\n",
    "        \n",
    "        for i in range(N):            \n",
    "            tag = chr(initial_tag+i)\n",
    "            self.add_child(ModelNode(ic, index=index, tag=tag))\n",
    "            \n",
    "    def model_mag(self, p):\n",
    "        tot = np.inf\n",
    "        for i,m in enumerate(self.leaves):\n",
    "            tot = addmags(tot, m.evaluate(p[i*5:(i+1)*5], self.band))\n",
    "        return tot\n",
    "            \n",
    "    def lnlike(self, p):\n",
    "        assert len(p) == self.n_params\n",
    "        \n",
    "        mag, dmag = self.value\n",
    "        if self.relative:\n",
    "            # If this *is* the reference, just return\n",
    "            if self.reference is None:\n",
    "                return 0\n",
    "            mod = self.model_mag(p) - self.reference.model_mag(p)\n",
    "        else:\n",
    "            mod = self.model_mag(p)\n",
    "\n",
    "        return -0.5*(mag - mod)**2 / dmag**2\n",
    "        \n",
    "class ModelNode(Node):\n",
    "    \"\"\"\n",
    "    These are always leaves; leaves are always these.\n",
    "\n",
    "    Index keeps track of which physical system node is in.\n",
    "    \"\"\"\n",
    "    def __init__(self, ic, index=0, tag='A'):\n",
    "        self._ic = ic\n",
    "        self.index = index\n",
    "        self.tag = tag\n",
    "        \n",
    "        self.children = []\n",
    "        self.parent = None\n",
    "\n",
    "    @property\n",
    "    def label(self):\n",
    "        return '{}_{}'.format(self.index, self.tag)\n",
    "        \n",
    "    @property\n",
    "    def ic(self):\n",
    "        if type(self._ic)==type:\n",
    "            self._ic = self._ic()\n",
    "        return self._ic        \n",
    "\n",
    "    def evaluate(self, p, band):\n",
    "        return self.ic.mag[band](*p)\n",
    "        "
   ]
  },
  {
   "cell_type": "code",
   "execution_count": 9,
   "metadata": {
    "collapsed": true
   },
   "outputs": [],
   "source": [
    "from isochrones.dartmouth import Dartmouth_Isochrone\n",
    "dar = Dartmouth_Isochrone()"
   ]
  },
  {
   "cell_type": "code",
   "execution_count": 125,
   "metadata": {
    "collapsed": false
   },
   "outputs": [],
   "source": [
    "class Source(object):\n",
    "    def __init__(self, mag, e_mag, separation=0., pa=0.,\n",
    "                relative=False, reference=False):\n",
    "        self.mag = mag\n",
    "        self.e_mag = e_mag\n",
    "        self.separation = separation\n",
    "        self.pa = pa\n",
    "        self.relative = relative\n",
    "        self.reference = reference\n",
    "\n",
    "        \n",
    "class Observation(object):\n",
    "    \"\"\"\n",
    "    Contains relevant information about imaging observation\n",
    "\n",
    "    name: identifying string (typically the instrument)\n",
    "    band: photometric bandpass\n",
    "    resolution: *approximate* angular resolution of instrument.\n",
    "          Used only to order Observation objects within the \n",
    "          observation tree.\n",
    "    sources: list of Source objects\n",
    "\n",
    "    \"\"\"\n",
    "    def __init__(self, name, band, resolution, sources=None,\n",
    "                relative=False):\n",
    "        self.name = name\n",
    "        self.band = band\n",
    "        self.resolution = resolution\n",
    "        if sources is None:\n",
    "            sources = []\n",
    "        self.sources = sources\n",
    "        \n",
    "    def add_source(self, source):\n",
    "        if not type(source)==Source:\n",
    "            raise TypeError('Can only add Source object.')\n",
    "        self.sources.append(source)\n",
    "        \n",
    "    def __str__(self):\n",
    "        return '{}-{}'.format(self.name, self.band)\n",
    "    \n",
    "    def __repr__(self):\n",
    "        return str(self)\n",
    "        \n",
    "class ObservationTree(Node):\n",
    "    \"\"\"Builds a tree of Nodes from a list of Observation objects\n",
    "    \n",
    "    Organizes Observations from smallest to largest resolution,\n",
    "    and at each stage attaches each source to the most probable\n",
    "    match from the previous Observation.\n",
    "    \"\"\"\n",
    "    def __init__(self, observations=None):\n",
    "        \n",
    "        if observations is None:\n",
    "            observations = []\n",
    "        \n",
    "        self.label = 'root'\n",
    "        self.parent = None\n",
    "\n",
    "        self._levels = []\n",
    "        self._observations = []\n",
    "        self._build_tree()\n",
    "\n",
    "        [self.add_observation(obs) for obs in observations]\n",
    "        \n",
    "    def add_observation(self, obs):\n",
    "        \"\"\"Adds an observation to observation list, keeping proper order        \n",
    "        \"\"\"\n",
    "        if len(self._observations)==0:\n",
    "            self._observations.append(obs)\n",
    "        else:\n",
    "            res = obs.resolution\n",
    "            ind = 0\n",
    "            for o in self._observations:\n",
    "                if res > o.resolution:\n",
    "                    break\n",
    "                ind += 1\n",
    "            self._observations.insert(ind, obs)\n",
    "        \n",
    "        self._build_tree()\n",
    "        \n",
    "    def _build_tree(self):\n",
    "        \"\"\"Constructs tree from [ordered] list of observations\n",
    "        \"\"\"\n",
    "        #reset leaf cache, children\n",
    "        self._clear_all_leaves()\n",
    "        self.children = []\n",
    "        self._levels = []\n",
    "        \n",
    "        for i,o in enumerate(self._observations):\n",
    "            self._levels.append([])\n",
    "            for s in o.sources:\n",
    "                ref_node = None\n",
    "                if s.relative:\n",
    "                    ref_node = ObsNode(o.name, o.band,\n",
    "                                             (o.sources[0].mag, \n",
    "                                              o.sources[0].e_mag),\n",
    "                                             relative=True,\n",
    "                                             ref_node=None)\n",
    "                    \n",
    "                node = ObsNode(o.name, o.band, \n",
    "                               (s.mag, s.e_mag),\n",
    "                               separation=s.separation, pa=s.pa,\n",
    "                               relative=s.relative,\n",
    "                               reference=ref_node)\n",
    "\n",
    "                # For first level, no need to choose parent\n",
    "                if i==0:\n",
    "                    parent = self\n",
    "                else:\n",
    "                    # Loop through nodes of level above, choose\n",
    "                    #  parent to be the closest one.\n",
    "                    d_min = np.inf\n",
    "                    for n in self._levels[i-1]:\n",
    "                        d = node.distance(n)\n",
    "                        if d < d_min:\n",
    "                            d_min = d\n",
    "                            parent = n\n",
    "                        \n",
    "                parent.add_child(node)\n",
    "                self._levels[i].append(node)\n",
    "        \n",
    "            "
   ]
  },
  {
   "cell_type": "code",
   "execution_count": 1,
   "metadata": {
    "collapsed": false
   },
   "outputs": [],
   "source": [
    "from isochrones.observation import Observation, Source, ObservationTree\n",
    "\n",
    "J = Observation('2mass', 'J', 2.8, [Source(10, 0.02)])\n",
    "H = Observation('2mass', 'H', 2.9, [Source(9.6, 0.02)])\n",
    "K = Observation('2mass', 'K', 3.0, [Source(9.4, 0.02)])\n",
    "UKJ = Observation('UKIRT', 'J', 1.0, [Source(11, 0.02),\n",
    "                                      Source(14.5, 0.02, 2., 280)], \n",
    "                  relative=True)\n",
    "NIRC2 = Observation('NIRC2','K', 0.1, [Source(0, 0.0),\n",
    "                                       Source(4.0, 0.03, 2.1, 274),\n",
    "                                      Source(1.5,0.03, 0.3, 123)],\n",
    "                   relative=True)\n",
    "\n",
    "tree = ObservationTree([UKJ,J,H,K,NIRC2])"
   ]
  },
  {
   "cell_type": "code",
   "execution_count": 34,
   "metadata": {
    "collapsed": false
   },
   "outputs": [
    {
     "name": "stdout",
     "output_type": "stream",
     "text": [
      "Overwriting example.obs\n"
     ]
    }
   ],
   "source": [
    "%%file example.obs\n",
    "name band resolution mag e_mag separation pa relative\n",
    "tmass J 2.8 10 0.02 0 0 False \n",
    "tmass H 2.9 9.6 0.02 0 0 False \n",
    "tmass K 3.0 9.4 0.02 0 0 False \n",
    "UKIRT J 1.0 11 0.02 0 0 True \n",
    "UKIRT J 1.0 14.5 0.02 2. 280 True \n",
    "nirc2 K 0.1 0 0 0 0 True \n",
    "nirc2 K 0.1 4.0 0.03 2.1 274 True \n",
    "nirc2 K 0.1 1.5 0.03 0.3 123 True"
   ]
  },
  {
   "cell_type": "code",
   "execution_count": 1,
   "metadata": {
    "collapsed": false
   },
   "outputs": [
    {
     "data": {
      "text/html": [
       "<div>\n",
       "<table border=\"1\" class=\"dataframe\">\n",
       "  <thead>\n",
       "    <tr style=\"text-align: right;\">\n",
       "      <th></th>\n",
       "      <th>name</th>\n",
       "      <th>band</th>\n",
       "      <th>resolution</th>\n",
       "      <th>mag</th>\n",
       "      <th>e_mag</th>\n",
       "      <th>separation</th>\n",
       "      <th>pa</th>\n",
       "      <th>relative</th>\n",
       "    </tr>\n",
       "  </thead>\n",
       "  <tbody>\n",
       "    <tr>\n",
       "      <th>0</th>\n",
       "      <td>tmass</td>\n",
       "      <td>J</td>\n",
       "      <td>2.8</td>\n",
       "      <td>10.0</td>\n",
       "      <td>0.02</td>\n",
       "      <td>0.0</td>\n",
       "      <td>0</td>\n",
       "      <td>False</td>\n",
       "    </tr>\n",
       "    <tr>\n",
       "      <th>1</th>\n",
       "      <td>tmass</td>\n",
       "      <td>H</td>\n",
       "      <td>2.9</td>\n",
       "      <td>9.6</td>\n",
       "      <td>0.02</td>\n",
       "      <td>0.0</td>\n",
       "      <td>0</td>\n",
       "      <td>False</td>\n",
       "    </tr>\n",
       "    <tr>\n",
       "      <th>2</th>\n",
       "      <td>tmass</td>\n",
       "      <td>K</td>\n",
       "      <td>3.0</td>\n",
       "      <td>9.4</td>\n",
       "      <td>0.02</td>\n",
       "      <td>0.0</td>\n",
       "      <td>0</td>\n",
       "      <td>False</td>\n",
       "    </tr>\n",
       "    <tr>\n",
       "      <th>3</th>\n",
       "      <td>UKIRT</td>\n",
       "      <td>J</td>\n",
       "      <td>1.0</td>\n",
       "      <td>11.0</td>\n",
       "      <td>0.02</td>\n",
       "      <td>0.0</td>\n",
       "      <td>0</td>\n",
       "      <td>True</td>\n",
       "    </tr>\n",
       "    <tr>\n",
       "      <th>4</th>\n",
       "      <td>UKIRT</td>\n",
       "      <td>J</td>\n",
       "      <td>1.0</td>\n",
       "      <td>14.5</td>\n",
       "      <td>0.02</td>\n",
       "      <td>2.0</td>\n",
       "      <td>280</td>\n",
       "      <td>True</td>\n",
       "    </tr>\n",
       "    <tr>\n",
       "      <th>5</th>\n",
       "      <td>nirc2</td>\n",
       "      <td>K</td>\n",
       "      <td>0.1</td>\n",
       "      <td>0.0</td>\n",
       "      <td>0.00</td>\n",
       "      <td>0.0</td>\n",
       "      <td>0</td>\n",
       "      <td>True</td>\n",
       "    </tr>\n",
       "    <tr>\n",
       "      <th>6</th>\n",
       "      <td>nirc2</td>\n",
       "      <td>K</td>\n",
       "      <td>0.1</td>\n",
       "      <td>4.0</td>\n",
       "      <td>0.03</td>\n",
       "      <td>2.1</td>\n",
       "      <td>274</td>\n",
       "      <td>True</td>\n",
       "    </tr>\n",
       "    <tr>\n",
       "      <th>7</th>\n",
       "      <td>nirc2</td>\n",
       "      <td>K</td>\n",
       "      <td>0.1</td>\n",
       "      <td>1.5</td>\n",
       "      <td>0.03</td>\n",
       "      <td>0.3</td>\n",
       "      <td>123</td>\n",
       "      <td>True</td>\n",
       "    </tr>\n",
       "  </tbody>\n",
       "</table>\n",
       "</div>"
      ],
      "text/plain": [
       "    name band  resolution   mag  e_mag  separation   pa relative\n",
       "0  tmass    J         2.8  10.0   0.02         0.0    0    False\n",
       "1  tmass    H         2.9   9.6   0.02         0.0    0    False\n",
       "2  tmass    K         3.0   9.4   0.02         0.0    0    False\n",
       "3  UKIRT    J         1.0  11.0   0.02         0.0    0     True\n",
       "4  UKIRT    J         1.0  14.5   0.02         2.0  280     True\n",
       "5  nirc2    K         0.1   0.0   0.00         0.0    0     True\n",
       "6  nirc2    K         0.1   4.0   0.03         2.1  274     True\n",
       "7  nirc2    K         0.1   1.5   0.03         0.3  123     True"
      ]
     },
     "execution_count": 1,
     "metadata": {},
     "output_type": "execute_result"
    }
   ],
   "source": [
    "import pandas as pd\n",
    "\n",
    "df = pd.read_table('example.obs', delim_whitespace=True)#, index_col=[0,1])\n",
    "df"
   ]
  },
  {
   "cell_type": "code",
   "execution_count": 2,
   "metadata": {
    "collapsed": false
   },
   "outputs": [],
   "source": [
    "from isochrones.observation import ObservationTree\n",
    "\n",
    "tree = ObservationTree.from_df(df)"
   ]
  },
  {
   "cell_type": "code",
   "execution_count": 3,
   "metadata": {
    "collapsed": false,
    "scrolled": true
   },
   "outputs": [
    {
     "name": "stdout",
     "output_type": "stream",
     "text": [
      "root\n",
      " ╚═ tmass K=(9.4, 0.02) @(0.00, 0)\n",
      "    ╚═ tmass H=(9.6, 0.02) @(0.00, 0)\n",
      "       ╚═ tmass J=(10.0, 0.02) @(0.00, 0)\n",
      "          ╠═ UKIRT J=(11.0, 0.02) @(0.00, 0)\n",
      "          ║  ╠═ nirc2 K=(0.0, 0.0) @(0.00, 0)\n",
      "          ║  ╚═ nirc2 K=(1.5, 0.03) @(0.30, 123)\n",
      "          ╚═ UKIRT J=(14.5, 0.02) @(2.00, 280)\n",
      "             ╚═ nirc2 K=(4.0, 0.03) @(2.10, 274)\n"
     ]
    }
   ],
   "source": [
    "tree.print_ascii()"
   ]
  },
  {
   "cell_type": "code",
   "execution_count": 5,
   "metadata": {
    "collapsed": false
   },
   "outputs": [
    {
     "name": "stdout",
     "output_type": "stream",
     "text": [
      "UKIRT J=(11.0, 0.02) @(0.00, 0)\n",
      " ╠═ nirc2 K=(0.0, 0.0) @(0.00, 0)\n",
      " ╚═ nirc2 K=(1.5, 0.03) @(0.30, 123)\n",
      "UKIRT J=(14.5, 0.02) @(2.00, 280)\n",
      " ╚═ nirc2 K=(4.0, 0.03) @(2.10, 274)\n"
     ]
    }
   ],
   "source": [
    "[t.print_ascii() for t in tree._levels[3]];"
   ]
  },
  {
   "cell_type": "code",
   "execution_count": 7,
   "metadata": {
    "collapsed": false
   },
   "outputs": [
    {
     "data": {
      "text/plain": [
       "<<class 'isochrones.observation.ObsNode'> 'UKIRT J=(11.0, 0.02) @(0.00, 0)', parent='None'>"
      ]
     },
     "execution_count": 7,
     "metadata": {},
     "output_type": "execute_result"
    }
   ],
   "source": [
    "tree._levels[3][1].reference"
   ]
  },
  {
   "cell_type": "code",
   "execution_count": 35,
   "metadata": {
    "collapsed": true
   },
   "outputs": [],
   "source": [
    "s = df.iloc[0]"
   ]
  },
  {
   "cell_type": "code",
   "execution_count": 43,
   "metadata": {
    "collapsed": false
   },
   "outputs": [
    {
     "name": "stdout",
     "output_type": "stream",
     "text": [
      "3    True\n",
      "4    True\n",
      "Name: relative, dtype: bool\n",
      "True\n",
      "5    True\n",
      "6    True\n",
      "7    True\n",
      "Name: relative, dtype: bool\n",
      "True\n",
      "1    False\n",
      "Name: relative, dtype: bool\n",
      "False\n",
      "0    False\n",
      "Name: relative, dtype: bool\n",
      "False\n",
      "2    False\n",
      "Name: relative, dtype: bool\n",
      "False\n"
     ]
    }
   ],
   "source": [
    "for _,g in df.groupby(['name','band']):\n",
    "    print g.relative\n",
    "    print g.relative.any()\n"
   ]
  },
  {
   "cell_type": "code",
   "execution_count": 2,
   "metadata": {
    "collapsed": false
   },
   "outputs": [
    {
     "name": "stdout",
     "output_type": "stream",
     "text": [
      "root\n",
      " ╚═ 2mass K=(9.4, 0.02) @(0.00, 0)\n",
      "    ╚═ 2mass H=(9.6, 0.02) @(0.00, 0)\n",
      "       ╚═ 2mass J=(10, 0.02) @(0.00, 0)\n",
      "          ╠═ UKIRT J=(11, 0.02) @(0.00, 0)\n",
      "          ║  ╠═ NIRC2 K=(0, 0.0) @(0.00, 0)\n",
      "          ║  ╚═ NIRC2 K=(1.5, 0.03) @(0.30, 123)\n",
      "          ╚═ UKIRT J=(14.5, 0.02) @(2.00, 280)\n",
      "             ╚═ NIRC2 K=(4.0, 0.03) @(2.10, 274)\n"
     ]
    }
   ],
   "source": [
    "tree.print_ascii()"
   ]
  },
  {
   "cell_type": "code",
   "execution_count": 390,
   "metadata": {
    "collapsed": false
   },
   "outputs": [],
   "source": [
    "J = ObsNode('2mass', 'J', (10, 0.02))\n",
    "H = ObsNode('2mass', 'H', (9.6, 0.02))\n",
    "K = ObsNode('2mass', 'K', (9.4, 0.02))\n",
    "UKJ = ObsNode('UKIRT', 'J', (11, 0.02), relative=True)\n",
    "UKJ_1 = ObsNode('UKIRT', 'J', (14.5, 0.02), relative=True, \n",
    "                reference=UKJ)"
   ]
  },
  {
   "cell_type": "code",
   "execution_count": 391,
   "metadata": {
    "collapsed": false
   },
   "outputs": [],
   "source": [
    "J.add_child(H)\n",
    "H.add_child(K)\n",
    "K.add_child(UKJ)\n",
    "K.add_child(UKJ_1)\n",
    "UKJ.add_model(dar, 2, index=0)\n",
    "UKJ_1.add_model(dar, 1, index=1)"
   ]
  },
  {
   "cell_type": "code",
   "execution_count": null,
   "metadata": {
    "collapsed": true
   },
   "outputs": [],
   "source": []
  },
  {
   "cell_type": "code",
   "execution_count": 392,
   "metadata": {
    "collapsed": false
   },
   "outputs": [
    {
     "data": {
      "text/plain": [
       "['0_A', '0_B', '1_A']"
      ]
     },
     "execution_count": 392,
     "metadata": {},
     "output_type": "execute_result"
    }
   ],
   "source": [
    "J.leaf_labels"
   ]
  },
  {
   "cell_type": "code",
   "execution_count": 384,
   "metadata": {
    "collapsed": false
   },
   "outputs": [
    {
     "data": {
      "text/plain": [
       "15"
      ]
     },
     "execution_count": 384,
     "metadata": {},
     "output_type": "execute_result"
    }
   ],
   "source": [
    "J.n_params"
   ]
  },
  {
   "cell_type": "code",
   "execution_count": 387,
   "metadata": {
    "collapsed": false
   },
   "outputs": [
    {
     "data": {
      "text/plain": [
       "10.1370287719259"
      ]
     },
     "execution_count": 387,
     "metadata": {},
     "output_type": "execute_result"
    }
   ],
   "source": [
    "p1 = [1.2, 9.5, 0.0, 200, 0.2]\n",
    "p2 = [0.5, 9.5, 0.0, 200, 0.2]\n",
    "p3 = [0.8, 9.8, -0.1, 500, 0.3]\n",
    "J.model_mag(p1 + p2 + p3)"
   ]
  },
  {
   "cell_type": "code",
   "execution_count": 388,
   "metadata": {
    "collapsed": false
   },
   "outputs": [
    {
     "data": {
      "text/plain": [
       "-23.471105419400402"
      ]
     },
     "execution_count": 388,
     "metadata": {},
     "output_type": "execute_result"
    }
   ],
   "source": [
    "J.lnlike(p1+p2+p3)"
   ]
  },
  {
   "cell_type": "code",
   "execution_count": 386,
   "metadata": {
    "collapsed": false
   },
   "outputs": [
    {
     "data": {
      "text/plain": [
       "(10, 0.02)"
      ]
     },
     "execution_count": 386,
     "metadata": {},
     "output_type": "execute_result"
    }
   ],
   "source": [
    "J.value"
   ]
  },
  {
   "cell_type": "code",
   "execution_count": 378,
   "metadata": {
    "collapsed": false
   },
   "outputs": [
    {
     "name": "stderr",
     "output_type": "stream",
     "text": [
      "WARNING:root:No child labeled 0_B.\n"
     ]
    },
    {
     "data": {
      "text/plain": [
       "['0_A', '1_A']"
      ]
     },
     "execution_count": 378,
     "metadata": {},
     "output_type": "execute_result"
    }
   ],
   "source": [
    "UKJ.remove_child('0_B')\n",
    "J.leaf_labels"
   ]
  },
  {
   "cell_type": "code",
   "execution_count": 380,
   "metadata": {
    "collapsed": false
   },
   "outputs": [
    {
     "data": {
      "text/plain": [
       "11.156594437834924"
      ]
     },
     "execution_count": 380,
     "metadata": {},
     "output_type": "execute_result"
    }
   ],
   "source": [
    "J.model_mag(p1 + p2)"
   ]
  },
  {
   "cell_type": "code",
   "execution_count": 355,
   "metadata": {
    "collapsed": false
   },
   "outputs": [
    {
     "data": {
      "text/plain": [
       "['0_A', '1_A']"
      ]
     },
     "execution_count": 355,
     "metadata": {},
     "output_type": "execute_result"
    }
   ],
   "source": [
    "[l.label for l in J.leaves]"
   ]
  },
  {
   "cell_type": "code",
   "execution_count": 356,
   "metadata": {
    "collapsed": true
   },
   "outputs": [],
   "source": [
    "UKJ_1.add_model(dar, 1, index=1)"
   ]
  },
  {
   "cell_type": "code",
   "execution_count": 357,
   "metadata": {
    "collapsed": false
   },
   "outputs": [
    {
     "data": {
      "text/plain": [
       "['0_A', '1_A', '1_B']"
      ]
     },
     "execution_count": 357,
     "metadata": {},
     "output_type": "execute_result"
    }
   ],
   "source": [
    "[l.label for l in J.leaves]"
   ]
  },
  {
   "cell_type": "code",
   "execution_count": null,
   "metadata": {
    "collapsed": true
   },
   "outputs": [],
   "source": []
  }
 ],
 "metadata": {
  "kernelspec": {
   "display_name": "Python 2",
   "language": "python",
   "name": "python2"
  },
  "language_info": {
   "codemirror_mode": {
    "name": "ipython",
    "version": 2
   },
   "file_extension": ".py",
   "mimetype": "text/x-python",
   "name": "python",
   "nbconvert_exporter": "python",
   "pygments_lexer": "ipython2",
   "version": "2.7.10"
  }
 },
 "nbformat": 4,
 "nbformat_minor": 0
}
