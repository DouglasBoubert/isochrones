{
 "cells": [
  {
   "cell_type": "code",
   "execution_count": 1,
   "metadata": {
    "collapsed": false
   },
   "outputs": [],
   "source": [
    "from isochrones.dartmouth import Dartmouth_Isochrone\n",
    "dar = Dartmouth_Isochrone()"
   ]
  },
  {
   "cell_type": "code",
   "execution_count": 2,
   "metadata": {
    "collapsed": false
   },
   "outputs": [
    {
     "name": "stdout",
     "output_type": "stream",
     "text": [
      "Overwriting example.obs\n"
     ]
    }
   ],
   "source": [
    "%%file example.obs\n",
    "name band resolution mag e_mag separation pa relative\n",
    "twomass J 2.8 10 0.02 0 0 False \n",
    "twomass H 2.9 9.6 0.02 0 0 False \n",
    "twomass K 3.0 9.4 0.02 0 0 False \n",
    "UKIRT J 1.0 11 0.02 0 0 True \n",
    "UKIRT J 1.0 14.5 0.02 2. 280 True \n",
    "nirc2 K 0.1 0 0 0 0 True \n",
    "nirc2 K 0.1 4.0 0.03 2.1 274 True \n",
    "nirc2 K 0.1 1.5 0.03 0.3 123 True\n"
   ]
  },
  {
   "cell_type": "code",
   "execution_count": 3,
   "metadata": {
    "collapsed": false
   },
   "outputs": [
    {
     "data": {
      "text/html": [
       "<div>\n",
       "<table border=\"1\" class=\"dataframe\">\n",
       "  <thead>\n",
       "    <tr style=\"text-align: right;\">\n",
       "      <th></th>\n",
       "      <th>name</th>\n",
       "      <th>band</th>\n",
       "      <th>resolution</th>\n",
       "      <th>mag</th>\n",
       "      <th>e_mag</th>\n",
       "      <th>separation</th>\n",
       "      <th>pa</th>\n",
       "      <th>relative</th>\n",
       "    </tr>\n",
       "  </thead>\n",
       "  <tbody>\n",
       "    <tr>\n",
       "      <th>0</th>\n",
       "      <td>twomass</td>\n",
       "      <td>J</td>\n",
       "      <td>2.8</td>\n",
       "      <td>10.0</td>\n",
       "      <td>0.02</td>\n",
       "      <td>0.0</td>\n",
       "      <td>0</td>\n",
       "      <td>False</td>\n",
       "    </tr>\n",
       "    <tr>\n",
       "      <th>1</th>\n",
       "      <td>twomass</td>\n",
       "      <td>H</td>\n",
       "      <td>2.9</td>\n",
       "      <td>9.6</td>\n",
       "      <td>0.02</td>\n",
       "      <td>0.0</td>\n",
       "      <td>0</td>\n",
       "      <td>False</td>\n",
       "    </tr>\n",
       "    <tr>\n",
       "      <th>2</th>\n",
       "      <td>twomass</td>\n",
       "      <td>K</td>\n",
       "      <td>3.0</td>\n",
       "      <td>9.4</td>\n",
       "      <td>0.02</td>\n",
       "      <td>0.0</td>\n",
       "      <td>0</td>\n",
       "      <td>False</td>\n",
       "    </tr>\n",
       "    <tr>\n",
       "      <th>3</th>\n",
       "      <td>UKIRT</td>\n",
       "      <td>J</td>\n",
       "      <td>1.0</td>\n",
       "      <td>11.0</td>\n",
       "      <td>0.02</td>\n",
       "      <td>0.0</td>\n",
       "      <td>0</td>\n",
       "      <td>True</td>\n",
       "    </tr>\n",
       "    <tr>\n",
       "      <th>4</th>\n",
       "      <td>UKIRT</td>\n",
       "      <td>J</td>\n",
       "      <td>1.0</td>\n",
       "      <td>14.5</td>\n",
       "      <td>0.02</td>\n",
       "      <td>2.0</td>\n",
       "      <td>280</td>\n",
       "      <td>True</td>\n",
       "    </tr>\n",
       "    <tr>\n",
       "      <th>5</th>\n",
       "      <td>nirc2</td>\n",
       "      <td>K</td>\n",
       "      <td>0.1</td>\n",
       "      <td>0.0</td>\n",
       "      <td>0.00</td>\n",
       "      <td>0.0</td>\n",
       "      <td>0</td>\n",
       "      <td>True</td>\n",
       "    </tr>\n",
       "    <tr>\n",
       "      <th>6</th>\n",
       "      <td>nirc2</td>\n",
       "      <td>K</td>\n",
       "      <td>0.1</td>\n",
       "      <td>4.0</td>\n",
       "      <td>0.03</td>\n",
       "      <td>2.1</td>\n",
       "      <td>274</td>\n",
       "      <td>True</td>\n",
       "    </tr>\n",
       "    <tr>\n",
       "      <th>7</th>\n",
       "      <td>nirc2</td>\n",
       "      <td>K</td>\n",
       "      <td>0.1</td>\n",
       "      <td>1.5</td>\n",
       "      <td>0.03</td>\n",
       "      <td>0.3</td>\n",
       "      <td>123</td>\n",
       "      <td>True</td>\n",
       "    </tr>\n",
       "  </tbody>\n",
       "</table>\n",
       "</div>"
      ],
      "text/plain": [
       "      name band  resolution   mag  e_mag  separation   pa relative\n",
       "0  twomass    J         2.8  10.0   0.02         0.0    0    False\n",
       "1  twomass    H         2.9   9.6   0.02         0.0    0    False\n",
       "2  twomass    K         3.0   9.4   0.02         0.0    0    False\n",
       "3    UKIRT    J         1.0  11.0   0.02         0.0    0     True\n",
       "4    UKIRT    J         1.0  14.5   0.02         2.0  280     True\n",
       "5    nirc2    K         0.1   0.0   0.00         0.0    0     True\n",
       "6    nirc2    K         0.1   4.0   0.03         2.1  274     True\n",
       "7    nirc2    K         0.1   1.5   0.03         0.3  123     True"
      ]
     },
     "execution_count": 3,
     "metadata": {},
     "output_type": "execute_result"
    }
   ],
   "source": [
    "import pandas as pd\n",
    "\n",
    "df = pd.read_table('example.obs', delim_whitespace=True)#, index_col=[0,1])\n",
    "df"
   ]
  },
  {
   "cell_type": "code",
   "execution_count": 4,
   "metadata": {
    "collapsed": false
   },
   "outputs": [
    {
     "name": "stdout",
     "output_type": "stream",
     "text": [
      "root\n",
      " ╚═ twomass K=(9.4, 0.02) @(0.00, 0)\n",
      "    ╚═ twomass H=(9.6, 0.02) @(0.00, 0)\n",
      "       ╚═ twomass J=(10.0, 0.02) @(0.00, 0)\n",
      "          ╠═ UKIRT J=(11.0, 0.02) @(0.00, 0)\n",
      "          ║  ╠═ nirc2 K=(0.0, 0.0) @(0.00, 0)\n",
      "          ║  ╚═ nirc2 K=(1.5, 0.03) @(0.30, 123)\n",
      "          ╚═ UKIRT J=(14.5, 0.02) @(2.00, 280)\n",
      "             ╚═ nirc2 K=(4.0, 0.03) @(2.10, 274)\n"
     ]
    }
   ],
   "source": [
    "from isochrones.observation import ObservationTree\n",
    "\n",
    "tree = ObservationTree.from_df(df)\n",
    "tree.print_ascii()"
   ]
  },
  {
   "cell_type": "code",
   "execution_count": 5,
   "metadata": {
    "collapsed": false,
    "scrolled": false
   },
   "outputs": [
    {
     "name": "stdout",
     "output_type": "stream",
     "text": [
      "root\n",
      " ╚═ twomass K=(9.4, 0.02) @(0.00, 0)\n",
      "    ╚═ twomass H=(9.6, 0.02) @(0.00, 0)\n",
      "       ╚═ twomass J=(10.0, 0.02) @(0.00, 0)\n",
      "          ╠═ UKIRT J=(11.0, 0.02) @(0.00, 0)\n",
      "          ║  ╠═ nirc2 K=(0.0, 0.0) @(0.00, 0)\n",
      "          ║  ║  ╠═ 0_0\n",
      "          ║  ║  ╚═ 0_1\n",
      "          ║  ╚═ nirc2 K=(1.5, 0.03) @(0.30, 123)\n",
      "          ║     ╚═ 0_2\n",
      "          ╚═ UKIRT J=(14.5, 0.02) @(2.00, 280)\n",
      "             ╚═ nirc2 K=(4.0, 0.03) @(2.10, 274)\n",
      "                ╚═ 1_0\n"
     ]
    }
   ],
   "source": [
    "tree.define_models(dar, N=(2,1,1), index=(0,0,1))\n",
    "tree.print_ascii()"
   ]
  },
  {
   "cell_type": "code",
   "execution_count": 6,
   "metadata": {
    "collapsed": false
   },
   "outputs": [],
   "source": [
    "pars = [1.0,0.9,0.8,9.5,0.0,200,0.1,0.6,9.3,0.1,300,0.2]\n",
    "pdict = tree.p2pardict(pars)"
   ]
  },
  {
   "cell_type": "code",
   "execution_count": 7,
   "metadata": {
    "collapsed": false,
    "scrolled": false
   },
   "outputs": [
    {
     "name": "stdout",
     "output_type": "stream",
     "text": [
      "root\n",
      " ╚═ twomass K=(9.4, 0.02) @(0.00, 0); model=9.02 (-179.188803283)\n",
      "    ╚═ twomass H=(9.6, 0.02) @(0.00, 0); model=9.08 (-336.430840387)\n",
      "       ╚═ twomass J=(10.0, 0.02) @(0.00, 0); model=9.49 (-329.553904114)\n",
      "          ╠═ UKIRT J=(11.0, 0.02) @(0.00, 0); model=9.52 (0)\n",
      "          ║  ╠═ nirc2 K=(0.0, 0.0) @(0.00, 0); model=9.34 (0)\n",
      "          ║  ║  ╠═ 0_0: [1.0, 9.5, 0.0, 200, 0.1]\n",
      "          ║  ║  ╚═ 0_1: [0.9, 9.5, 0.0, 200, 0.1]\n",
      "          ║  ╚═ nirc2 K=(1.5, 0.03) @(0.30, 123); model=10.69 (-13.2765501172)\n",
      "          ║     ╚═ 0_2: [0.8, 9.5, 0.0, 200, 0.1]\n",
      "          ╚═ UKIRT J=(14.5, 0.02) @(2.00, 280); model=13.44 (-139788.93486)\n",
      "             ╚═ nirc2 K=(4.0, 0.03) @(2.10, 274); model=12.57 (-327.263733329)\n",
      "                ╚═ 1_0: [0.6, 9.3, 0.1, 300, 0.2]\n"
     ]
    }
   ],
   "source": [
    "tree.print_ascii(pars)"
   ]
  },
  {
   "cell_type": "code",
   "execution_count": 8,
   "metadata": {
    "collapsed": true
   },
   "outputs": [],
   "source": [
    "tree.add_spectroscopy(Teff=(5700,50), logg=(4.4,0.2))"
   ]
  },
  {
   "cell_type": "code",
   "execution_count": 9,
   "metadata": {
    "collapsed": false,
    "scrolled": false
   },
   "outputs": [
    {
     "name": "stdout",
     "output_type": "stream",
     "text": [
      "root\n",
      " ╚═ twomass K=(9.4, 0.02) @(0.00, 0); model=9.02 (-179.188803283)\n",
      "    ╚═ twomass H=(9.6, 0.02) @(0.00, 0); model=9.08 (-336.430840387)\n",
      "       ╚═ twomass J=(10.0, 0.02) @(0.00, 0); model=9.49 (-329.553904114)\n",
      "          ╠═ UKIRT J=(11.0, 0.02) @(0.00, 0); model=9.52 (0)\n",
      "          ║  ╠═ nirc2 K=(0.0, 0.0) @(0.00, 0); model=9.34 (0)\n",
      "          ║  ║  ╠═ 0_0: [1.0, 9.5, 0.0, 200, 0.1]\n",
      "  logg=(4.4, 0.2) (model=4.47888353663)\n",
      "  Teff=(5700, 50) (model=5751.54872879)\n",
      "          ║  ║  ╚═ 0_1: [0.9, 9.5, 0.0, 200, 0.1]\n",
      "          ║  ╚═ nirc2 K=(1.5, 0.03) @(0.30, 123); model=10.69 (-13.2765501172)\n",
      "          ║     ╚═ 0_2: [0.8, 9.5, 0.0, 200, 0.1]\n",
      "          ╚═ UKIRT J=(14.5, 0.02) @(2.00, 280); model=13.44 (-139788.93486)\n",
      "             ╚═ nirc2 K=(4.0, 0.03) @(2.10, 274); model=12.57 (-327.263733329)\n",
      "                ╚═ 1_0: [0.6, 9.3, 0.1, 300, 0.2]\n"
     ]
    }
   ],
   "source": [
    "tree.print_ascii(pars)"
   ]
  },
  {
   "cell_type": "code",
   "execution_count": 25,
   "metadata": {
    "collapsed": false
   },
   "outputs": [
    {
     "data": {
      "text/plain": [
       "-140975.25792778895"
      ]
     },
     "execution_count": 25,
     "metadata": {},
     "output_type": "execute_result"
    }
   ],
   "source": [
    "tree.lnlike(pars)"
   ]
  },
  {
   "cell_type": "code",
   "execution_count": 26,
   "metadata": {
    "collapsed": true
   },
   "outputs": [],
   "source": [
    "tree.add_spectroscopy(Teff=(5700,50), logg=(4.5,0.2))"
   ]
  },
  {
   "cell_type": "code",
   "execution_count": 27,
   "metadata": {
    "collapsed": false
   },
   "outputs": [
    {
     "data": {
      "text/plain": [
       "-140975.18571894738"
      ]
     },
     "execution_count": 27,
     "metadata": {},
     "output_type": "execute_result"
    }
   ],
   "source": [
    "tree.lnlike(pars)"
   ]
  },
  {
   "cell_type": "code",
   "execution_count": 32,
   "metadata": {
    "collapsed": true
   },
   "outputs": [],
   "source": [
    "tree.add_parallax((4.8,0.5))"
   ]
  },
  {
   "cell_type": "code",
   "execution_count": 33,
   "metadata": {
    "collapsed": false
   },
   "outputs": [
    {
     "data": {
      "text/plain": [
       "-140975.26571894737"
      ]
     },
     "execution_count": 33,
     "metadata": {},
     "output_type": "execute_result"
    }
   ],
   "source": [
    "tree.lnlike(pars)"
   ]
  },
  {
   "cell_type": "code",
   "execution_count": 16,
   "metadata": {
    "collapsed": false
   },
   "outputs": [
    {
     "data": {
      "text/plain": [
       "{0: (5.0, 0.5)}"
      ]
     },
     "execution_count": 16,
     "metadata": {},
     "output_type": "execute_result"
    }
   ],
   "source": [
    "tree.parallax"
   ]
  },
  {
   "cell_type": "code",
   "execution_count": 15,
   "metadata": {
    "collapsed": false
   },
   "outputs": [
    {
     "name": "stdout",
     "output_type": "stream",
     "text": [
      "0 (5.0, 0.5)\n"
     ]
    }
   ],
   "source": [
    "for s,(val,err) in tree.parallax.items():\n",
    "    print s,(val,err)"
   ]
  },
  {
   "cell_type": "code",
   "execution_count": 8,
   "metadata": {
    "collapsed": false,
    "scrolled": true
   },
   "outputs": [
    {
     "name": "stdout",
     "output_type": "stream",
     "text": [
      "The slowest run took 35.24 times longer than the fastest. This could mean that an intermediate result is being cached \n",
      "1000000 loops, best of 3: 1.56 µs per loop\n"
     ]
    }
   ],
   "source": [
    "%timeit tree.get_leaf('0_0')"
   ]
  },
  {
   "cell_type": "code",
   "execution_count": 16,
   "metadata": {
    "collapsed": false,
    "scrolled": false
   },
   "outputs": [
    {
     "name": "stdout",
     "output_type": "stream",
     "text": [
      "The slowest run took 7.83 times longer than the fastest. This could mean that an intermediate result is being cached \n",
      "10000 loops, best of 3: 90.5 µs per loop\n"
     ]
    }
   ],
   "source": [
    "%timeit tree.get_leaf('0_0').evaluate([1.,9.8,0.0,200,0.3], 'Teff')"
   ]
  },
  {
   "cell_type": "code",
   "execution_count": 15,
   "metadata": {
    "collapsed": false
   },
   "outputs": [
    {
     "name": "stdout",
     "output_type": "stream",
     "text": [
      "10000 loops, best of 3: 85.2 µs per loop\n"
     ]
    }
   ],
   "source": [
    "%timeit dar.Teff(1,9.8,0.0)"
   ]
  },
  {
   "cell_type": "code",
   "execution_count": 13,
   "metadata": {
    "collapsed": false
   },
   "outputs": [
    {
     "data": {
      "text/plain": [
       "['0_0', '0_1', '0_2', '1_0']"
      ]
     },
     "execution_count": 13,
     "metadata": {},
     "output_type": "execute_result"
    }
   ],
   "source": [
    "tree.leaf_labels"
   ]
  },
  {
   "cell_type": "code",
   "execution_count": 17,
   "metadata": {
    "collapsed": false
   },
   "outputs": [
    {
     "data": {
      "text/plain": [
       "[0, 1]"
      ]
     },
     "execution_count": 17,
     "metadata": {},
     "output_type": "execute_result"
    }
   ],
   "source": [
    "tree.systems"
   ]
  },
  {
   "cell_type": "code",
   "execution_count": 7,
   "metadata": {
    "collapsed": false,
    "scrolled": true
   },
   "outputs": [
    {
     "name": "stdout",
     "output_type": "stream",
     "text": [
      "The slowest run took 26019.48 times longer than the fastest. This could mean that an intermediate result is being cached \n",
      "1 loops, best of 3: 61 µs per loop\n"
     ]
    }
   ],
   "source": [
    "%timeit tree.lnlike(pars)"
   ]
  },
  {
   "cell_type": "code",
   "execution_count": 9,
   "metadata": {
    "collapsed": false
   },
   "outputs": [
    {
     "name": "stdout",
     "output_type": "stream",
     "text": [
      "10000 loops, best of 3: 84.7 µs per loop\n"
     ]
    }
   ],
   "source": [
    "%timeit dar.mag['K'](1,9.5,0.0,200,0.2)"
   ]
  },
  {
   "cell_type": "code",
   "execution_count": 10,
   "metadata": {
    "collapsed": true
   },
   "outputs": [],
   "source": [
    "from configobj import ConfigObj"
   ]
  },
  {
   "cell_type": "code",
   "execution_count": 1,
   "metadata": {
    "collapsed": true
   },
   "outputs": [],
   "source": [
    "from isochrones.dartmouth import Dartmouth_Isochrone\n",
    "from isochrones.starmodel_new import StarModel"
   ]
  },
  {
   "cell_type": "code",
   "execution_count": 4,
   "metadata": {
    "collapsed": false
   },
   "outputs": [],
   "source": [
    "mod = StarModel(Dartmouth_Isochrone, J=(12,0.05), H=(11.5,0.05), K=(11.0,0.05),\n",
    "               Teff=(5700,200),logg=(4.5,0.1),N=2, index=[[0,1]])"
   ]
  },
  {
   "cell_type": "code",
   "execution_count": 5,
   "metadata": {
    "collapsed": false
   },
   "outputs": [
    {
     "name": "stdout",
     "output_type": "stream",
     "text": [
      "root\n",
      " ╚═  H=(11.5, 0.05) @(0.00, 0)\n",
      "    ╚═  K=(11.0, 0.05) @(0.00, 0)\n",
      "       ╚═  J=(12, 0.05) @(0.00, 0)\n",
      "          ╠═ 0_0, logg=(4.5, 0.1), Teff=(5700, 200)\n",
      "          ╚═ 1_0\n"
     ]
    }
   ],
   "source": [
    "mod.obs.print_ascii()"
   ]
  },
  {
   "cell_type": "code",
   "execution_count": 19,
   "metadata": {
    "collapsed": false
   },
   "outputs": [
    {
     "data": {
      "text/plain": [
       "-56.797552509524891"
      ]
     },
     "execution_count": 19,
     "metadata": {},
     "output_type": "execute_result"
    }
   ],
   "source": [
    "p = [1.0,0.5,9.7,0.0,400,0.1]\n",
    "#p = [1.0,9.7,0.0,400,0.1,0.5,9.5,0.1,200,0.05]\n",
    "mod.lnlike(p)"
   ]
  },
  {
   "cell_type": "code",
   "execution_count": 20,
   "metadata": {
    "collapsed": false
   },
   "outputs": [
    {
     "name": "stdout",
     "output_type": "stream",
     "text": [
      "root\n",
      " ╚═  H=(11.5, 0.05) @(0.00, 0); model=11.23 (-14.6400966608)\n",
      "    ╚═  K=(11.0, 0.05) @(0.00, 0); model=11.17 (-5.9310254073)\n",
      "       ╚═  J=(12, 0.05) @(0.00, 0); model=11.58 (-35.8457671355)\n",
      "          ╠═ 0_0, logg=(4.5, 0.1); model=4.42463013439 (-0.284030832072), Teff=(5700, 200); model=5787.92381877 (-0.0966324738298): [1.0, 9.7, 0.0, 400, 0.1]\n",
      "          ╚═ 0_1: [0.5, 9.7, 0.0, 400, 0.1]\n"
     ]
    }
   ],
   "source": [
    "mod.obs.print_ascii(p=p)"
   ]
  },
  {
   "cell_type": "code",
   "execution_count": 7,
   "metadata": {
    "collapsed": false
   },
   "outputs": [
    {
     "data": {
      "text/plain": [
       "-inf"
      ]
     },
     "execution_count": 7,
     "metadata": {},
     "output_type": "execute_result"
    }
   ],
   "source": [
    "import numpy as np\n",
    "np.log(0)"
   ]
  },
  {
   "cell_type": "code",
   "execution_count": 8,
   "metadata": {
    "collapsed": false
   },
   "outputs": [
    {
     "data": {
      "text/plain": [
       "True"
      ]
     },
     "execution_count": 8,
     "metadata": {},
     "output_type": "execute_result"
    }
   ],
   "source": [
    "np.isinf(-np.inf)"
   ]
  },
  {
   "cell_type": "code",
   "execution_count": 17,
   "metadata": {
    "collapsed": false
   },
   "outputs": [
    {
     "data": {
      "text/plain": [
       "[3, 1, 20, 5, 10, 2]"
      ]
     },
     "execution_count": 17,
     "metadata": {},
     "output_type": "execute_result"
    }
   ],
   "source": [
    "l = [3,1,20,5,10,2]\n",
    "m = l[1:4]\n",
    "m.sort()\n",
    "m\n",
    "l"
   ]
  },
  {
   "cell_type": "code",
   "execution_count": 18,
   "metadata": {
    "collapsed": false
   },
   "outputs": [
    {
     "data": {
      "text/plain": [
       "[3, 1, 20, 5, 10, 2]"
      ]
     },
     "execution_count": 18,
     "metadata": {},
     "output_type": "execute_result"
    }
   ],
   "source": [
    "l"
   ]
  },
  {
   "cell_type": "code",
   "execution_count": 19,
   "metadata": {
    "collapsed": false
   },
   "outputs": [
    {
     "data": {
      "text/plain": [
       "[1, 2, 3, 5, 10, 20]"
      ]
     },
     "execution_count": 19,
     "metadata": {},
     "output_type": "execute_result"
    }
   ],
   "source": [
    "sorted(l)"
   ]
  },
  {
   "cell_type": "code",
   "execution_count": null,
   "metadata": {
    "collapsed": true
   },
   "outputs": [],
   "source": []
  }
 ],
 "metadata": {
  "kernelspec": {
   "display_name": "Python 2",
   "language": "python",
   "name": "python2"
  },
  "language_info": {
   "codemirror_mode": {
    "name": "ipython",
    "version": 2
   },
   "file_extension": ".py",
   "mimetype": "text/x-python",
   "name": "python",
   "nbconvert_exporter": "python",
   "pygments_lexer": "ipython2",
   "version": "2.7.10"
  }
 },
 "nbformat": 4,
 "nbformat_minor": 0
}
