{
 "cells": [
  {
   "cell_type": "code",
   "execution_count": 1,
   "metadata": {
    "collapsed": false
   },
   "outputs": [],
   "source": [
    "from isochrones.dartmouth import Dartmouth_Isochrone\n",
    "dar = Dartmouth_Isochrone()"
   ]
  },
  {
   "cell_type": "code",
   "execution_count": 2,
   "metadata": {
    "collapsed": false
   },
   "outputs": [
    {
     "name": "stdout",
     "output_type": "stream",
     "text": [
      "Overwriting example.obs\n"
     ]
    }
   ],
   "source": [
    "%%file example.obs\n",
    "name band resolution mag e_mag separation pa relative\n",
    "tmass J 2.8 10 0.02 0 0 False \n",
    "tmass H 2.9 9.6 0.02 0 0 False \n",
    "tmass K 3.0 9.4 0.02 0 0 False \n",
    "UKIRT J 1.0 11 0.02 0 0 True \n",
    "UKIRT J 1.0 14.5 0.02 2. 280 True \n",
    "nirc2 K 0.1 0 0 0 0 True \n",
    "nirc2 K 0.1 4.0 0.03 2.1 274 True \n",
    "nirc2 K 0.1 1.5 0.03 0.3 123 True\n"
   ]
  },
  {
   "cell_type": "code",
   "execution_count": 3,
   "metadata": {
    "collapsed": false
   },
   "outputs": [
    {
     "data": {
      "text/html": [
       "<div>\n",
       "<table border=\"1\" class=\"dataframe\">\n",
       "  <thead>\n",
       "    <tr style=\"text-align: right;\">\n",
       "      <th></th>\n",
       "      <th>name</th>\n",
       "      <th>band</th>\n",
       "      <th>resolution</th>\n",
       "      <th>mag</th>\n",
       "      <th>e_mag</th>\n",
       "      <th>separation</th>\n",
       "      <th>pa</th>\n",
       "      <th>relative</th>\n",
       "    </tr>\n",
       "  </thead>\n",
       "  <tbody>\n",
       "    <tr>\n",
       "      <th>0</th>\n",
       "      <td>tmass</td>\n",
       "      <td>J</td>\n",
       "      <td>2.8</td>\n",
       "      <td>10.0</td>\n",
       "      <td>0.02</td>\n",
       "      <td>0.0</td>\n",
       "      <td>0</td>\n",
       "      <td>False</td>\n",
       "    </tr>\n",
       "    <tr>\n",
       "      <th>1</th>\n",
       "      <td>tmass</td>\n",
       "      <td>H</td>\n",
       "      <td>2.9</td>\n",
       "      <td>9.6</td>\n",
       "      <td>0.02</td>\n",
       "      <td>0.0</td>\n",
       "      <td>0</td>\n",
       "      <td>False</td>\n",
       "    </tr>\n",
       "    <tr>\n",
       "      <th>2</th>\n",
       "      <td>tmass</td>\n",
       "      <td>K</td>\n",
       "      <td>3.0</td>\n",
       "      <td>9.4</td>\n",
       "      <td>0.02</td>\n",
       "      <td>0.0</td>\n",
       "      <td>0</td>\n",
       "      <td>False</td>\n",
       "    </tr>\n",
       "    <tr>\n",
       "      <th>3</th>\n",
       "      <td>UKIRT</td>\n",
       "      <td>J</td>\n",
       "      <td>1.0</td>\n",
       "      <td>11.0</td>\n",
       "      <td>0.02</td>\n",
       "      <td>0.0</td>\n",
       "      <td>0</td>\n",
       "      <td>True</td>\n",
       "    </tr>\n",
       "    <tr>\n",
       "      <th>4</th>\n",
       "      <td>UKIRT</td>\n",
       "      <td>J</td>\n",
       "      <td>1.0</td>\n",
       "      <td>14.5</td>\n",
       "      <td>0.02</td>\n",
       "      <td>2.0</td>\n",
       "      <td>280</td>\n",
       "      <td>True</td>\n",
       "    </tr>\n",
       "    <tr>\n",
       "      <th>5</th>\n",
       "      <td>nirc2</td>\n",
       "      <td>K</td>\n",
       "      <td>0.1</td>\n",
       "      <td>0.0</td>\n",
       "      <td>0.00</td>\n",
       "      <td>0.0</td>\n",
       "      <td>0</td>\n",
       "      <td>True</td>\n",
       "    </tr>\n",
       "    <tr>\n",
       "      <th>6</th>\n",
       "      <td>nirc2</td>\n",
       "      <td>K</td>\n",
       "      <td>0.1</td>\n",
       "      <td>4.0</td>\n",
       "      <td>0.03</td>\n",
       "      <td>2.1</td>\n",
       "      <td>274</td>\n",
       "      <td>True</td>\n",
       "    </tr>\n",
       "    <tr>\n",
       "      <th>7</th>\n",
       "      <td>nirc2</td>\n",
       "      <td>K</td>\n",
       "      <td>0.1</td>\n",
       "      <td>1.5</td>\n",
       "      <td>0.03</td>\n",
       "      <td>0.3</td>\n",
       "      <td>123</td>\n",
       "      <td>True</td>\n",
       "    </tr>\n",
       "  </tbody>\n",
       "</table>\n",
       "</div>"
      ],
      "text/plain": [
       "    name band  resolution   mag  e_mag  separation   pa relative\n",
       "0  tmass    J         2.8  10.0   0.02         0.0    0    False\n",
       "1  tmass    H         2.9   9.6   0.02         0.0    0    False\n",
       "2  tmass    K         3.0   9.4   0.02         0.0    0    False\n",
       "3  UKIRT    J         1.0  11.0   0.02         0.0    0     True\n",
       "4  UKIRT    J         1.0  14.5   0.02         2.0  280     True\n",
       "5  nirc2    K         0.1   0.0   0.00         0.0    0     True\n",
       "6  nirc2    K         0.1   4.0   0.03         2.1  274     True\n",
       "7  nirc2    K         0.1   1.5   0.03         0.3  123     True"
      ]
     },
     "execution_count": 3,
     "metadata": {},
     "output_type": "execute_result"
    }
   ],
   "source": [
    "import pandas as pd\n",
    "\n",
    "df = pd.read_table('example.obs', delim_whitespace=True)#, index_col=[0,1])\n",
    "df"
   ]
  },
  {
   "cell_type": "code",
   "execution_count": 4,
   "metadata": {
    "collapsed": false
   },
   "outputs": [
    {
     "name": "stdout",
     "output_type": "stream",
     "text": [
      "root\n",
      " ╚═ tmass K=(9.4, 0.02) @(0.00, 0)\n",
      "    ╚═ tmass H=(9.6, 0.02) @(0.00, 0)\n",
      "       ╚═ tmass J=(10.0, 0.02) @(0.00, 0)\n",
      "          ╠═ UKIRT J=(11.0, 0.02) @(0.00, 0)\n",
      "          ║  ╠═ nirc2 K=(0.0, 0.0) @(0.00, 0)\n",
      "          ║  ╚═ nirc2 K=(1.5, 0.03) @(0.30, 123)\n",
      "          ╚═ UKIRT J=(14.5, 0.02) @(2.00, 280)\n",
      "             ╚═ nirc2 K=(4.0, 0.03) @(2.10, 274)\n"
     ]
    }
   ],
   "source": [
    "from isochrones.observation import ObservationTree\n",
    "\n",
    "tree = ObservationTree.from_df(df)\n",
    "tree.print_ascii()"
   ]
  },
  {
   "cell_type": "code",
   "execution_count": 5,
   "metadata": {
    "collapsed": false
   },
   "outputs": [
    {
     "name": "stdout",
     "output_type": "stream",
     "text": [
      "root\n",
      " ╚═ tmass K=(9.4, 0.02) @(0.00, 0)\n",
      "    ╚═ tmass H=(9.6, 0.02) @(0.00, 0)\n",
      "       ╚═ tmass J=(10.0, 0.02) @(0.00, 0)\n",
      "          ╠═ UKIRT J=(11.0, 0.02) @(0.00, 0)\n",
      "          ║  ╠═ nirc2 K=(0.0, 0.0) @(0.00, 0)\n",
      "          ║  ║  ╠═ 0_0\n",
      "          ║  ║  ╚═ 0_1\n",
      "          ║  ╚═ nirc2 K=(1.5, 0.03) @(0.30, 123)\n",
      "          ║     ╚═ 0_2\n",
      "          ╚═ UKIRT J=(14.5, 0.02) @(2.00, 280)\n",
      "             ╚═ nirc2 K=(4.0, 0.03) @(2.10, 274)\n",
      "                ╚═ 1_0\n"
     ]
    }
   ],
   "source": [
    "tree.define_models(dar, N=(2,1,1), index=(0,0,1))\n",
    "tree.print_ascii()"
   ]
  },
  {
   "cell_type": "code",
   "execution_count": null,
   "metadata": {
    "collapsed": true
   },
   "outputs": [],
   "source": []
  }
 ],
 "metadata": {
  "kernelspec": {
   "display_name": "Python 2",
   "language": "python",
   "name": "python2"
  },
  "language_info": {
   "codemirror_mode": {
    "name": "ipython",
    "version": 2
   },
   "file_extension": ".py",
   "mimetype": "text/x-python",
   "name": "python",
   "nbconvert_exporter": "python",
   "pygments_lexer": "ipython2",
   "version": "2.7.10"
  }
 },
 "nbformat": 4,
 "nbformat_minor": 0
}
