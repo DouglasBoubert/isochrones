{
 "metadata": {
  "name": "",
  "signature": "sha256:efde0dd77cf9fa34616fad435ef4c6d4df992abe0d9db327c8f160fa7013438d"
 },
 "nbformat": 3,
 "nbformat_minor": 0,
 "worksheets": [
  {
   "cells": [
    {
     "cell_type": "code",
     "collapsed": false,
     "input": [
      "%matplotlib inline\n",
      "\n",
      "from isochrones.dartmouth import Dartmouth_Isochrone\n",
      "from isochrones import StarModel\n",
      "\n",
      "dar = Dartmouth_Isochrone(minage=9)"
     ],
     "language": "python",
     "metadata": {},
     "outputs": []
    },
    {
     "cell_type": "code",
     "collapsed": false,
     "input": [
      "mod_sm = StarModel(dar, Teff=(5770,60), logg=(4.44,0.07), feh=(0.0,0.04))\n",
      "mod_phot = StarModel(dar, Teff=(5770,200), logg=(4.44,0.4), feh=(0.0,0.4))"
     ],
     "language": "python",
     "metadata": {},
     "outputs": []
    },
    {
     "cell_type": "code",
     "collapsed": false,
     "input": [
      "mod_sm.fit_mcmc()\n",
      "mod_phot.fit_mcmc()"
     ],
     "language": "python",
     "metadata": {},
     "outputs": []
    },
    {
     "cell_type": "code",
     "collapsed": false,
     "input": [
      "mod_sm.triangle(params=['mass','radius','age']);"
     ],
     "language": "python",
     "metadata": {},
     "outputs": []
    },
    {
     "cell_type": "code",
     "collapsed": false,
     "input": [
      "mod_phot.triangle(params=['mass','radius','age']);"
     ],
     "language": "python",
     "metadata": {},
     "outputs": []
    },
    {
     "cell_type": "code",
     "collapsed": false,
     "input": [],
     "language": "python",
     "metadata": {},
     "outputs": []
    }
   ],
   "metadata": {}
  }
 ]
}