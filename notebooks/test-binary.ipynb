{
 "metadata": {
  "name": "",
  "signature": "sha256:ce0b130b1ed9e253a9979f8897ed25d0b82bedc7835b0d611b687ca17b37e0c4"
 },
 "nbformat": 3,
 "nbformat_minor": 0,
 "worksheets": [
  {
   "cells": [
    {
     "cell_type": "code",
     "collapsed": false,
     "input": [
      "%matplotlib inline\n",
      "\n",
      "import numpy as np\n",
      "import matplotlib.pyplot as plt\n",
      "\n",
      "from isochrones.dartmouth import Dartmouth_Isochrone\n",
      "from isochrones.starmodel import BinaryStarModel, StarModel\n",
      "from isochrones.starmodel import TripleStarModel\n",
      "\n",
      "dar = Dartmouth_Isochrone()"
     ],
     "language": "python",
     "metadata": {},
     "outputs": [],
     "prompt_number": 6
    },
    {
     "cell_type": "markdown",
     "metadata": {},
     "source": [
      "Example: A known EB KIC 6778289, or WISE J192824.57+421508.1 (http://keplerebs.villanova.edu/overview/?k=6778289)"
     ]
    },
    {
     "cell_type": "code",
     "collapsed": false,
     "input": [
      "mags = dict( W1=(11.808,0.022), W2=(11.834,0.021), W3=(11.675,0.170), \n",
      "            J=(12.119,0.021), H=(11.913,0.017), K=(11.873,0.019))\n",
      "\n",
      "mod1 = StarModel(dar, maxAV=0.5, **mags)\n",
      "mod2 = BinaryStarModel(dar, maxAV=0.5, **mags)\n",
      "mod3 = TripleStarModel(dar, maxAV=0.5, **mags)"
     ],
     "language": "python",
     "metadata": {},
     "outputs": [],
     "prompt_number": 2
    },
    {
     "cell_type": "code",
     "collapsed": false,
     "input": [
      "mod1.fit_mcmc()\n",
      "mod2.fit_mcmc()\n",
      "mod3.fit_mcmc()"
     ],
     "language": "python",
     "metadata": {},
     "outputs": []
    },
    {
     "cell_type": "code",
     "collapsed": false,
     "input": [
      "mod2.triangle_plots(extent=0.99);"
     ],
     "language": "python",
     "metadata": {},
     "outputs": []
    },
    {
     "cell_type": "code",
     "collapsed": false,
     "input": [
      "mod1.triangle_plots();"
     ],
     "language": "python",
     "metadata": {},
     "outputs": []
    },
    {
     "cell_type": "code",
     "collapsed": false,
     "input": [
      "mod3.triangle_plots();"
     ],
     "language": "python",
     "metadata": {},
     "outputs": []
    },
    {
     "cell_type": "code",
     "collapsed": false,
     "input": [],
     "language": "python",
     "metadata": {},
     "outputs": []
    }
   ],
   "metadata": {}
  }
 ]
}