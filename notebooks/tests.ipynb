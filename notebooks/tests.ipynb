{
 "cells": [
  {
   "cell_type": "code",
   "execution_count": 1,
   "metadata": {},
   "outputs": [],
   "source": [
    "from isochrones.query import Query, TwoMASS, WISE, Tycho2"
   ]
  },
  {
   "cell_type": "code",
   "execution_count": 2,
   "metadata": {
    "collapsed": true
   },
   "outputs": [],
   "source": [
    "ra=45.03433035439128; dec=0.23539164875137225;\n",
    "pmra=43.75231341609215; pmdec=-7.6419899883511482;\n",
    "epoch=2015."
   ]
  },
  {
   "cell_type": "code",
   "execution_count": 3,
   "metadata": {
    "collapsed": true
   },
   "outputs": [],
   "source": [
    "q = Query(ra, dec, pmra=pmra, pmdec=pmdec, epoch=epoch)"
   ]
  },
  {
   "cell_type": "code",
   "execution_count": 4,
   "metadata": {
    "collapsed": true
   },
   "outputs": [],
   "source": [
    "tm = TwoMASS(q)\n",
    "w = WISE(q)\n",
    "tyc = Tycho2(q)"
   ]
  },
  {
   "cell_type": "code",
   "execution_count": 5,
   "metadata": {},
   "outputs": [
    {
     "data": {
      "text/plain": [
       "b'03000819+0014074'"
      ]
     },
     "execution_count": 5,
     "metadata": {},
     "output_type": "execute_result"
    }
   ],
   "source": [
    "tm.get_id()"
   ]
  },
  {
   "cell_type": "code",
   "execution_count": 6,
   "metadata": {
    "collapsed": true
   },
   "outputs": [],
   "source": [
    "from astroquery.vizier import Vizier\n"
   ]
  },
  {
   "cell_type": "code",
   "execution_count": 20,
   "metadata": {},
   "outputs": [],
   "source": [
    "from astropy.coordinates import SkyCoord\n",
    "import astropy.units as u\n",
    "c = SkyCoord(ra, dec, unit='deg')\n",
    "table = Vizier(columns=['*', '_r', '_RAJ2000', '_DEJ2000']).query_region(c, \n",
    "                        catalog='2mass', radius=1*u.arcsec)[0]"
   ]
  },
  {
   "cell_type": "code",
   "execution_count": 18,
   "metadata": {},
   "outputs": [
    {
     "data": {
      "text/html": [
       "&lt;Table masked=True length=1&gt;\n",
       "<table id=\"table4644405992\" class=\"table-striped table-bordered table-condensed\">\n",
       "<thead><tr><th>_r</th><th>_RAJ2000</th><th>_DEJ2000</th><th>RAJ2000</th><th>DEJ2000</th><th>_2MASS</th><th>Jmag</th><th>e_Jmag</th><th>Hmag</th><th>e_Hmag</th><th>Kmag</th><th>e_Kmag</th><th>Qflg</th><th>Rflg</th><th>Bflg</th><th>Cflg</th><th>Xflg</th><th>Aflg</th></tr></thead>\n",
       "<thead><tr><th>arcs</th><th>deg</th><th>deg</th><th>deg</th><th>deg</th><th></th><th>mag</th><th>mag</th><th>mag</th><th>mag</th><th>mag</th><th>mag</th><th></th><th></th><th></th><th></th><th></th><th></th></tr></thead>\n",
       "<thead><tr><th>float64</th><th>float64</th><th>float64</th><th>float64</th><th>float64</th><th>bytes17</th><th>float32</th><th>float32</th><th>float32</th><th>float32</th><th>float32</th><th>float32</th><th>bytes3</th><th>bytes3</th><th>bytes3</th><th>bytes3</th><th>uint8</th><th>uint8</th></tr></thead>\n",
       "<tr><td>0.636</td><td>45.034161</td><td>0.235408</td><td>45.034161</td><td>0.235408</td><td>03000819+0014074</td><td>6.606</td><td>0.023</td><td>6.133</td><td>0.024</td><td>6.019</td><td>0.020</td><td>AAA</td><td>111</td><td>111</td><td>000</td><td>0</td><td>0</td></tr>\n",
       "</table>"
      ],
      "text/plain": [
       "<Table masked=True length=1>\n",
       "   _r    _RAJ2000   _DEJ2000   RAJ2000   ...  Bflg   Cflg   Xflg  Aflg\n",
       "  arcs     deg        deg        deg     ...                          \n",
       "float64  float64    float64    float64   ... bytes3 bytes3 uint8 uint8\n",
       "------- ---------- ---------- ---------- ... ------ ------ ----- -----\n",
       "  0.636  45.034161   0.235408  45.034161 ...    111    000     0     0"
      ]
     },
     "execution_count": 18,
     "metadata": {},
     "output_type": "execute_result"
    }
   ],
   "source": [
    "table"
   ]
  },
  {
   "cell_type": "code",
   "execution_count": 1,
   "metadata": {
    "collapsed": true
   },
   "outputs": [],
   "source": [
    "from isochrones.tests.test_query import test_queries"
   ]
  },
  {
   "cell_type": "code",
   "execution_count": 2,
   "metadata": {},
   "outputs": [],
   "source": [
    "test_queries()"
   ]
  },
  {
   "cell_type": "code",
   "execution_count": 1,
   "metadata": {},
   "outputs": [
    {
     "name": "stderr",
     "output_type": "stream",
     "text": [
      "WARNING:root:You have a wrong/corrupted/outdated Dartmouth triangulation! Delete /Users/tdm/.isochrones/dartmouth.tri and try re-importing to download afresh.\n"
     ]
    }
   ],
   "source": [
    "from isochrones import StarModel\n",
    "from isochrones.dartmouth import Dartmouth_Isochrone\n",
    "dar = Dartmouth_Isochrone()"
   ]
  },
  {
   "cell_type": "code",
   "execution_count": 2,
   "metadata": {},
   "outputs": [],
   "source": [
    "dirname = '../isochrones/tests/star4'\n",
    "\n",
    "mod = StarModel.from_ini(dar, folder=dirname)"
   ]
  },
  {
   "cell_type": "code",
   "execution_count": 3,
   "metadata": {},
   "outputs": [
    {
     "name": "stdout",
     "output_type": "stream",
     "text": [
      "root\n",
      " ╠═ twomass H=(10.91, 0.02) @(0.00, 0 [4.00])\n",
      " ║  ╚═ twomass J=(11.25, 0.02) @(0.00, 0 [4.00])\n",
      " ║     ╚═ twomass K=(10.87, 0.01) @(0.00, 0 [4.00])\n",
      " ║        ╠═ Lick delta-H=(0.00, 0.01) @(0.00, 0 [0.50])\n",
      " ║        ║  ╚═ Lick delta-K=(0.00, 0.01) @(0.00, 0 [0.50])\n",
      " ║        ║     ╚═ 0_0, Teff=[5465.0, 109.0], feh=[0.02, 0.15], logg=[4.449, 0.085]\n",
      " ║        ╚═ Lick delta-H=(4.34, 0.01) @(3.84, 53 [0.50])\n",
      " ║           ╚═ Lick delta-K=(4.11, 0.06) @(3.84, 53 [0.50])\n",
      " ║              ╚═ 0_1\n",
      " ╚═ Lick delta-H=(7.49, 0.01) @(12.07, 256 [0.50])\n",
      "    ╚═ 0_2\n"
     ]
    }
   ],
   "source": [
    "mod.print_ascii()"
   ]
  },
  {
   "cell_type": "code",
   "execution_count": 4,
   "metadata": {},
   "outputs": [
    {
     "data": {
      "text/plain": [
       "{0: 3}"
      ]
     },
     "execution_count": 4,
     "metadata": {},
     "output_type": "execute_result"
    }
   ],
   "source": [
    "mod.obs.Nstars"
   ]
  },
  {
   "cell_type": "code",
   "execution_count": 5,
   "metadata": {},
   "outputs": [
    {
     "data": {
      "text/plain": [
       "[0]"
      ]
     },
     "execution_count": 5,
     "metadata": {},
     "output_type": "execute_result"
    }
   ],
   "source": [
    "mod.obs.systems"
   ]
  },
  {
   "cell_type": "code",
   "execution_count": 6,
   "metadata": {},
   "outputs": [
    {
     "data": {
      "text/plain": [
       "-232348.56573438906"
      ]
     },
     "execution_count": 6,
     "metadata": {},
     "output_type": "execute_result"
    }
   ],
   "source": [
    "mod.lnlike([1.0, 0.8, 0.5, 9.4, 0.0, 100, 0.2] )"
   ]
  },
  {
   "cell_type": "code",
   "execution_count": 1,
   "metadata": {},
   "outputs": [
    {
     "name": "stderr",
     "output_type": "stream",
     "text": [
      "WARNING:root:You have a wrong/corrupted/outdated Dartmouth triangulation! Delete /Users/tdm/.isochrones/dartmouth.tri and try re-importing to download afresh.\n"
     ]
    }
   ],
   "source": [
    "from isochrones.tests.test_ini import test_ini"
   ]
  },
  {
   "cell_type": "code",
   "execution_count": 2,
   "metadata": {},
   "outputs": [],
   "source": [
    "test_ini()"
   ]
  },
  {
   "cell_type": "code",
   "execution_count": 4,
   "metadata": {},
   "outputs": [],
   "source": [
    "from isochrones import StarModel\n",
    "mod = StarModel.from_ini('dartmouth', folder='../isochrones/tests/star2')"
   ]
  },
  {
   "cell_type": "code",
   "execution_count": 5,
   "metadata": {},
   "outputs": [
    {
     "data": {
      "text/plain": [
       "6"
      ]
     },
     "execution_count": 5,
     "metadata": {},
     "output_type": "execute_result"
    }
   ],
   "source": [
    "mod.n_params"
   ]
  },
  {
   "cell_type": "code",
   "execution_count": null,
   "metadata": {
    "collapsed": true
   },
   "outputs": [],
   "source": []
  }
 ],
 "metadata": {
  "kernelspec": {
   "display_name": "Python 3",
   "language": "python",
   "name": "python3"
  },
  "language_info": {
   "codemirror_mode": {
    "name": "ipython",
    "version": 3
   },
   "file_extension": ".py",
   "mimetype": "text/x-python",
   "name": "python",
   "nbconvert_exporter": "python",
   "pygments_lexer": "ipython3",
   "version": "3.6.2"
  }
 },
 "nbformat": 4,
 "nbformat_minor": 1
}
