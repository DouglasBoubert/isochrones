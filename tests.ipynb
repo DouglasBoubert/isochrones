{
 "metadata": {
  "name": "",
  "signature": "sha256:82740456d0940679e564f17cd821c57fa7afdd2a49c4390ab6335ad5befb6daa"
 },
 "nbformat": 3,
 "nbformat_minor": 0,
 "worksheets": [
  {
   "cells": [
    {
     "cell_type": "code",
     "collapsed": false,
     "input": [
      "import pandas\n",
      "import numpy as np\n",
      "import isochrones as iso\n",
      "from isochrones import dartmouth\n",
      "reload(iso)\n",
      "reload(dartmouth)\n",
      "from scipy.interpolate import LinearNDInterpolator as interpnd"
     ],
     "language": "python",
     "metadata": {},
     "outputs": [],
     "prompt_number": 1
    },
    {
     "cell_type": "code",
     "collapsed": false,
     "input": [
      "import setup_dartmouth as setdar\n",
      "reload(setdar)"
     ],
     "language": "python",
     "metadata": {},
     "outputs": [
      {
       "metadata": {},
       "output_type": "pyout",
       "prompt_number": 2,
       "text": [
        "<module 'setup_dartmouth' from 'setup_dartmouth.pyc'>"
       ]
      }
     ],
     "prompt_number": 2
    },
    {
     "cell_type": "code",
     "collapsed": false,
     "input": [
      "import pandas as pd\n",
      "df = pd.read_hdf(dartmouth.MASTERFILE,'all')"
     ],
     "language": "python",
     "metadata": {},
     "outputs": [],
     "prompt_number": 4
    },
    {
     "cell_type": "code",
     "collapsed": false,
     "input": [
      "reload(dartmouth.iso)\n",
      "reload(dartmouth)"
     ],
     "language": "python",
     "metadata": {},
     "outputs": [
      {
       "metadata": {},
       "output_type": "pyout",
       "prompt_number": 61,
       "text": [
        "<module 'isochrones.dartmouth' from 'isochrones/dartmouth.pyc'>"
       ]
      }
     ],
     "prompt_number": 61
    },
    {
     "cell_type": "code",
     "collapsed": false,
     "input": [
      "dar = dartmouth.Dartmouth_Isochrone()"
     ],
     "language": "python",
     "metadata": {},
     "outputs": [],
     "prompt_number": 2
    },
    {
     "cell_type": "code",
     "collapsed": false,
     "input": [
      "dar.isofit(J=(3.55,0.02),K=(3.21,0.02))"
     ],
     "language": "python",
     "metadata": {},
     "outputs": [
      {
       "metadata": {},
       "output_type": "pyout",
       "prompt_number": 60,
       "text": [
        "{'M': array(1.0282141254948682),\n",
        " 'R': 0.97562515726271026,\n",
        " 'Teff': 6215.676070067766,\n",
        " 'age': 9.1635912598041109,\n",
        " 'logL': array(0.10658053421025096),\n",
        " 'logg': array(4.471945733453488),\n",
        " 'mag': {'B': array(5.039512922905379),\n",
        "  'D51': array(4.643941171700436),\n",
        "  'H': array(3.2827234646234933),\n",
        "  'I': array(3.925963709814968),\n",
        "  'J': array(3.550000443000874),\n",
        "  'K': array(3.2575235578792654),\n",
        "  'Kepler': array(4.321870855254288),\n",
        "  'R': array(4.215447646719168),\n",
        "  'U': array(5.010407869984569),\n",
        "  'V': array(4.519365339003239),\n",
        "  'g': array(4.731895260753764),\n",
        "  'i': array(4.321576062669649),\n",
        "  'r': array(4.387679773311723),\n",
        "  'z': array(4.341579371905762)}}"
       ]
      }
     ],
     "prompt_number": 60
    },
    {
     "cell_type": "code",
     "collapsed": false,
     "input": [
      "ev = dar.evtrack(1.5)"
     ],
     "language": "python",
     "metadata": {},
     "outputs": [],
     "prompt_number": 110
    },
    {
     "cell_type": "code",
     "collapsed": false,
     "input": [
      "ev = dar.evtrack(1.5,dage=0.02)\n",
      "plot((ev['Teff']),ev['logL'],'.')"
     ],
     "language": "python",
     "metadata": {},
     "outputs": [
      {
       "metadata": {},
       "output_type": "pyout",
       "prompt_number": 32,
       "text": [
        "[<matplotlib.lines.Line2D at 0x11d98ab50>]"
       ]
      },
      {
       "metadata": {},
       "output_type": "display_data",
       "png": "[encoded data removed]",
       "text": [
        "<matplotlib.figure.Figure at 0x10ddf8050>"
       ]
      }
     ],
     "prompt_number": 32
    },
    {
     "cell_type": "code",
     "collapsed": false,
     "input": [
      "print dar.mag['J'](1,9.7,0)\n",
      "print dar.mag['K'](1,9.7,0)"
     ],
     "language": "python",
     "metadata": {},
     "outputs": [
      {
       "output_type": "stream",
       "stream": "stdout",
       "text": [
        "3.55208770292\n",
        "3.21032309903\n"
       ]
      }
     ],
     "prompt_number": 35
    },
    {
     "cell_type": "code",
     "collapsed": false,
     "input": [
      "np.log10(5e9)"
     ],
     "language": "python",
     "metadata": {},
     "outputs": [
      {
       "metadata": {},
       "output_type": "pyout",
       "prompt_number": 16,
       "text": [
        "9.6989700043360187"
       ]
      }
     ],
     "prompt_number": 16
    },
    {
     "cell_type": "code",
     "collapsed": false,
     "input": [
      "pts"
     ],
     "language": "python",
     "metadata": {},
     "outputs": [
      {
       "metadata": {},
       "output_type": "pyout",
       "prompt_number": 137,
       "text": [
        "array([[  0.113315  ,   9.        ,  -1.        ],\n",
        "       [  0.12468   ,   9.        ,  -1.        ],\n",
        "       [  0.140813  ,   9.        ,  -1.        ],\n",
        "       ..., \n",
        "       [  0.971481  ,  10.17609126,   0.5       ],\n",
        "       [  0.971484  ,  10.17609126,   0.5       ],\n",
        "       [  0.971485  ,  10.17609126,   0.5       ]])"
       ]
      }
     ],
     "prompt_number": 137
    },
    {
     "cell_type": "code",
     "collapsed": false,
     "input": [
      "df[['M','age','feh']][-10:]"
     ],
     "language": "python",
     "metadata": {},
     "outputs": [
      {
       "html": [
        "<div style=\"max-height:1000px;max-width:1500px;overflow:auto;\">\n",
        "<table border=\"1\" class=\"dataframe\">\n",
        "  <thead>\n",
        "    <tr style=\"text-align: right;\">\n",
        "      <th></th>\n",
        "      <th>M</th>\n",
        "      <th>age</th>\n",
        "      <th>feh</th>\n",
        "    </tr>\n",
        "  </thead>\n",
        "  <tbody>\n",
        "    <tr>\n",
        "      <th>159978</th>\n",
        "      <td> 0.971465</td>\n",
        "      <td> 15</td>\n",
        "      <td> 0.5</td>\n",
        "    </tr>\n",
        "    <tr>\n",
        "      <th>159979</th>\n",
        "      <td> 0.971467</td>\n",
        "      <td> 15</td>\n",
        "      <td> 0.5</td>\n",
        "    </tr>\n",
        "    <tr>\n",
        "      <th>159980</th>\n",
        "      <td> 0.971470</td>\n",
        "      <td> 15</td>\n",
        "      <td> 0.5</td>\n",
        "    </tr>\n",
        "    <tr>\n",
        "      <th>159981</th>\n",
        "      <td> 0.971472</td>\n",
        "      <td> 15</td>\n",
        "      <td> 0.5</td>\n",
        "    </tr>\n",
        "    <tr>\n",
        "      <th>159982</th>\n",
        "      <td> 0.971475</td>\n",
        "      <td> 15</td>\n",
        "      <td> 0.5</td>\n",
        "    </tr>\n",
        "    <tr>\n",
        "      <th>159983</th>\n",
        "      <td> 0.971477</td>\n",
        "      <td> 15</td>\n",
        "      <td> 0.5</td>\n",
        "    </tr>\n",
        "    <tr>\n",
        "      <th>159984</th>\n",
        "      <td> 0.971479</td>\n",
        "      <td> 15</td>\n",
        "      <td> 0.5</td>\n",
        "    </tr>\n",
        "    <tr>\n",
        "      <th>159985</th>\n",
        "      <td> 0.971481</td>\n",
        "      <td> 15</td>\n",
        "      <td> 0.5</td>\n",
        "    </tr>\n",
        "    <tr>\n",
        "      <th>159986</th>\n",
        "      <td> 0.971484</td>\n",
        "      <td> 15</td>\n",
        "      <td> 0.5</td>\n",
        "    </tr>\n",
        "    <tr>\n",
        "      <th>159987</th>\n",
        "      <td> 0.971485</td>\n",
        "      <td> 15</td>\n",
        "      <td> 0.5</td>\n",
        "    </tr>\n",
        "  </tbody>\n",
        "</table>\n",
        "<p>10 rows \u00d7 3 columns</p>\n",
        "</div>"
       ],
       "metadata": {},
       "output_type": "pyout",
       "prompt_number": 144,
       "text": [
        "               M  age  feh\n",
        "159978  0.971465   15  0.5\n",
        "159979  0.971467   15  0.5\n",
        "159980  0.971470   15  0.5\n",
        "159981  0.971472   15  0.5\n",
        "159982  0.971475   15  0.5\n",
        "159983  0.971477   15  0.5\n",
        "159984  0.971479   15  0.5\n",
        "159985  0.971481   15  0.5\n",
        "159986  0.971484   15  0.5\n",
        "159987  0.971485   15  0.5\n",
        "\n",
        "[10 rows x 3 columns]"
       ]
      }
     ],
     "prompt_number": 144
    },
    {
     "cell_type": "code",
     "collapsed": false,
     "input": [
      "len(df)"
     ],
     "language": "python",
     "metadata": {},
     "outputs": [
      {
       "metadata": {},
       "output_type": "pyout",
       "prompt_number": 141,
       "text": [
        "159988"
       ]
      }
     ],
     "prompt_number": 141
    },
    {
     "cell_type": "code",
     "collapsed": false,
     "input": [
      "len(df['M'])"
     ],
     "language": "python",
     "metadata": {},
     "outputs": [
      {
       "metadata": {},
       "output_type": "pyout",
       "prompt_number": 142,
       "text": [
        "159988"
       ]
      }
     ],
     "prompt_number": 142
    },
    {
     "cell_type": "code",
     "collapsed": false,
     "input": [
      "df.reset_index(inplace=True)"
     ],
     "language": "python",
     "metadata": {},
     "outputs": [],
     "prompt_number": 143
    },
    {
     "cell_type": "code",
     "collapsed": false,
     "input": [
      "import isochrones.isochrones as iso\n",
      "reload(iso)\n",
      "reload(dartmouth)"
     ],
     "language": "python",
     "metadata": {},
     "outputs": [
      {
       "metadata": {},
       "output_type": "pyout",
       "prompt_number": 24,
       "text": [
        "<module 'isochrones.dartmouth' from 'isochrones/dartmouth.pyc'>"
       ]
      }
     ],
     "prompt_number": 24
    },
    {
     "cell_type": "code",
     "collapsed": false,
     "input": [
      "mod = iso.StarModel(dar,Teff=(5860,100),logg=(4.40,0.15),feh=(0.0,0.1))\n",
      "mod.fit_mcmc(nburn=50,niter=100)\n",
      "hist(mod.sampler.flatchain[:,0])\n",
      "figure()\n",
      "hist(mod.sampler.flatchain[:,1])\n",
      "figure()\n",
      "hist(mod.sampler.flatchain[:,2])"
     ],
     "language": "python",
     "metadata": {},
     "outputs": [],
     "prompt_number": 12
    },
    {
     "cell_type": "code",
     "collapsed": false,
     "input": [
      "koi98 = {'J':(11.2,0.04),'K':(10.99,0.04),'i':(11.97,0.04)}\n",
      "comp98 = {'J':(11.55,0.04),'K':(11.432,0.04),'i':(12.73,0.04)}\n",
      "koi98_spec = {'Teff':(6395,60),'logg':(4.11,.1),'feh':(0.12,0.06)}\n",
      "mod = iso.StarModel(dar,**koi98_spec)\n",
      "mod.fit_mcmc()\n",
      "hist(mod.sampler.flatchain[:,0])\n",
      "figure()\n",
      "hist(mod.sampler.flatchain[:,1])\n",
      "figure()\n",
      "hist(mod.sampler.flatchain[:,2])\n",
      "figure()\n",
      "hist(mod.sampler.flatchain[:,3])\n",
      "figure()\n",
      "hist(mod.sampler.flatchain[:,4])"
     ],
     "language": "python",
     "metadata": {},
     "outputs": [
      {
       "metadata": {},
       "output_type": "pyout",
       "prompt_number": 27,
       "text": [
        "(array([  7909.,  21594.,  21330.,  21425.,  21278.,  23609.,  21053.,\n",
        "         21085.,  20261.,  20456.]),\n",
        " array([-0.07723632,  0.03048713,  0.13821059,  0.24593405,  0.3536575 ,\n",
        "         0.46138096,  0.56910442,  0.67682788,  0.78455133,  0.89227479,\n",
        "         0.99999825]),\n",
        " <a list of 10 Patch objects>)"
       ]
      },
      {
       "metadata": {},
       "output_type": "display_data",
       "png": "[encoded data removed]",
       "text": [
        "<matplotlib.figure.Figure at 0x12452dc10>"
       ]
      },
      {
       "metadata": {},
       "output_type": "display_data",
       "png": "[encoded data removed]",
       "text": [
        "<matplotlib.figure.Figure at 0x10dec3610>"
       ]
      },
      {
       "metadata": {},
       "output_type": "display_data",
       "png": "[encoded data removed]",
       "text": [
        "<matplotlib.figure.Figure at 0x12427d410>"
       ]
      },
      {
       "metadata": {},
       "output_type": "display_data",
       "png": "[encoded data removed]",
       "text": [
        "<matplotlib.figure.Figure at 0x1123f1bd0>"
       ]
      },
      {
       "metadata": {},
       "output_type": "display_data",
       "png": "[encoded data removed]",
       "text": [
        "<matplotlib.figure.Figure at 0x116c845d0>"
       ]
      }
     ],
     "prompt_number": 27
    },
    {
     "cell_type": "code",
     "collapsed": false,
     "input": [
      "mod.sampler.flatchain[:,0].mean(),mod.sampler.flatchain[:,0].std()"
     ],
     "language": "python",
     "metadata": {},
     "outputs": [
      {
       "metadata": {},
       "output_type": "pyout",
       "prompt_number": 28,
       "text": [
        "(1.3196219687636535, 0.099507270328401232)"
       ]
      }
     ],
     "prompt_number": 28
    },
    {
     "cell_type": "code",
     "collapsed": false,
     "input": [
      "print mod.loglike((1,9.7,0.0))\n",
      "print mod.loglike((1,9.7,-0.01))\n",
      "print mod.loglike((1,9.7,0.01))"
     ],
     "language": "python",
     "metadata": {},
     "outputs": [
      {
       "output_type": "stream",
       "stream": "stdout",
       "text": [
        "-0.00911115826498\n",
        "-0.0306007502625\n",
        "-0.0216473756187\n"
       ]
      }
     ],
     "prompt_number": 106
    },
    {
     "cell_type": "code",
     "collapsed": false,
     "input": [],
     "language": "python",
     "metadata": {},
     "outputs": []
    }
   ],
   "metadata": {}
  }
 ]
}